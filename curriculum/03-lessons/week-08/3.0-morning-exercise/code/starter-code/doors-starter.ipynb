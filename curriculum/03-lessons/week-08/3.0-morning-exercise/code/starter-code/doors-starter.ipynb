{
 "cells": [
  {
   "cell_type": "markdown",
   "metadata": {},
   "source": [
    "# Let's make a deal!\n",
    "So, we saw yesterday an interesting paradox delivered in the context of a game show.  Now, let's write code to confirm our paradox.\n",
    "\n",
    "Write code to simulate the game show (with three doors).\n",
    "\n",
    "You will need to use the Python function `raw_input` to get input from the user (the player of the game) and `random.randint` to initialize the door with the car behind it.  Print the results to the user like:\n",
    "\n",
    "Unopened doors:\n",
    "```\n",
    "***\n",
    "123\n",
    "```\n",
    "\n",
    "Door number two opened:\n",
    "```\n",
    "*G*\n",
    "123\n",
    "```"
   ]
  },
  {
   "cell_type": "code",
   "execution_count": 51,
   "metadata": {
    "collapsed": false
   },
   "outputs": [],
   "source": [
    "from random import randint"
   ]
  },
  {
   "cell_type": "code",
   "execution_count": 52,
   "metadata": {
    "collapsed": false
   },
   "outputs": [
    {
     "name": "stdout",
     "output_type": "stream",
     "text": [
      "Answer:  1\n",
      "\n",
      "['*', '*', '*']\n",
      "[1, 2, 3]\n",
      "\n",
      "Guess a door #\n"
     ]
    }
   ],
   "source": [
    "cardoor = randint(1,3)\n",
    "doors = [\"*\",\"*\",\"*\"]\n",
    "doorInts = [1,2,3]\n",
    "\n",
    "print \"Answer: \", cardoor\n",
    "print\n",
    "print doors\n",
    "print doorInts\n",
    "print\n",
    "print \"Guess a door #\""
   ]
  },
  {
   "cell_type": "code",
   "execution_count": 53,
   "metadata": {
    "collapsed": false
   },
   "outputs": [
    {
     "name": "stdout",
     "output_type": "stream",
     "text": [
      "--> 3\n"
     ]
    }
   ],
   "source": [
    "guess = raw_input('--> ')"
   ]
  },
  {
   "cell_type": "code",
   "execution_count": 54,
   "metadata": {
    "collapsed": false
   },
   "outputs": [
    {
     "name": "stdout",
     "output_type": "stream",
     "text": [
      "['*', '*', 'G']\n",
      "[1, 2, 3]\n",
      "Wrong Door!\n"
     ]
    }
   ],
   "source": [
    "guess = int(guess)\n",
    "if guess == cardoor:\n",
    "    doors[guess - 1]  = 'C'\n",
    "    print doors\n",
    "    print doorInts\n",
    "    print \"You've won a brand new car!\"\n",
    "else:\n",
    "    doors[guess - 1]  = 'G'\n",
    "    print doors\n",
    "    print doorInts\n",
    "    print \"Wrong Door!\""
   ]
  },
  {
   "cell_type": "code",
   "execution_count": 55,
   "metadata": {
    "collapsed": false
   },
   "outputs": [
    {
     "name": "stdout",
     "output_type": "stream",
     "text": [
      "Change doors?\n"
     ]
    }
   ],
   "source": [
    "print \"Change doors?\""
   ]
  },
  {
   "cell_type": "code",
   "execution_count": 56,
   "metadata": {
    "collapsed": false
   },
   "outputs": [
    {
     "name": "stdout",
     "output_type": "stream",
     "text": [
      "--> 2\n"
     ]
    }
   ],
   "source": [
    "guess = raw_input('--> ')"
   ]
  },
  {
   "cell_type": "code",
   "execution_count": 58,
   "metadata": {
    "collapsed": false
   },
   "outputs": [
    {
     "name": "stdout",
     "output_type": "stream",
     "text": [
      "['*', 'G', 'G']\n",
      "[1, 2, 3]\n",
      "Wrong Door!\n",
      "You lose.\n"
     ]
    }
   ],
   "source": [
    "guess = int(guess)\n",
    "if guess == cardoor:\n",
    "    doors[guess - 1]  = 'C'\n",
    "    print doors\n",
    "    print doorInts\n",
    "    print \"You've won a brand new car!\"\n",
    "else:\n",
    "    doors[guess - 1]  = 'G'\n",
    "    print doors\n",
    "    print doorInts\n",
    "    print \"Wrong Door!\"\n",
    "    print \"You lose.\""
   ]
  },
  {
   "cell_type": "code",
   "execution_count": null,
   "metadata": {
    "collapsed": true
   },
   "outputs": [],
   "source": []
  }
 ],
 "metadata": {
  "anaconda-cloud": {},
  "kernelspec": {
   "display_name": "Python [Root]",
   "language": "python",
   "name": "Python [Root]"
  },
  "language_info": {
   "codemirror_mode": {
    "name": "ipython",
    "version": 2
   },
   "file_extension": ".py",
   "mimetype": "text/x-python",
   "name": "python",
   "nbconvert_exporter": "python",
   "pygments_lexer": "ipython2",
   "version": "2.7.12"
  }
 },
 "nbformat": 4,
 "nbformat_minor": 0
}
