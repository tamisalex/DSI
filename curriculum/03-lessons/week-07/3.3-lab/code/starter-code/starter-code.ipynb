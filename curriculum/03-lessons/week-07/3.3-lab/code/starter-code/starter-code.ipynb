{
 "cells": [
  {
   "cell_type": "code",
   "execution_count": 34,
   "metadata": {
    "collapsed": false
   },
   "outputs": [],
   "source": [
    "%matplotlib inline \n",
    "\n",
    "import pandas as pd\n",
    "import numpy as np\n",
    "from sklearn import cluster, metrics\n",
    "from sklearn.ensemble import ExtraTreesClassifier\n",
    "from sklearn.neighbors import KNeighborsClassifier\n",
    "from sklearn.preprocessing import LabelEncoder\n",
    "from sklearn.metrics import accuracy_score,classification_report,confusion_matrix\n",
    "from sklearn.cluster import KMeans\n",
    "from scipy.cluster.hierarchy import dendrogram, linkage, cophenet, fcluster\n",
    "from scipy.spatial.distance import pdist\n",
    "import matplotlib.pyplot as plt\n",
    "import matplotlib\n",
    "matplotlib.style.use('ggplot') "
   ]
  },
  {
   "cell_type": "markdown",
   "metadata": {},
   "source": [
    "## 1. Format the Data"
   ]
  },
  {
   "cell_type": "code",
   "execution_count": 7,
   "metadata": {
    "collapsed": false
   },
   "outputs": [
    {
     "data": {
      "text/html": [
       "<div>\n",
       "<table border=\"1\" class=\"dataframe\">\n",
       "  <thead>\n",
       "    <tr style=\"text-align: right;\">\n",
       "      <th></th>\n",
       "      <th>Airport</th>\n",
       "      <th>Year</th>\n",
       "      <th>Departure Cancellations</th>\n",
       "      <th>Arrival Cancellations</th>\n",
       "      <th>Departure Diversions</th>\n",
       "      <th>Arrival Diversions</th>\n",
       "    </tr>\n",
       "  </thead>\n",
       "  <tbody>\n",
       "    <tr>\n",
       "      <th>0</th>\n",
       "      <td>ABQ</td>\n",
       "      <td>2004</td>\n",
       "      <td>242</td>\n",
       "      <td>235</td>\n",
       "      <td>71</td>\n",
       "      <td>46</td>\n",
       "    </tr>\n",
       "    <tr>\n",
       "      <th>1</th>\n",
       "      <td>ABQ</td>\n",
       "      <td>2005</td>\n",
       "      <td>221</td>\n",
       "      <td>190</td>\n",
       "      <td>61</td>\n",
       "      <td>33</td>\n",
       "    </tr>\n",
       "    <tr>\n",
       "      <th>2</th>\n",
       "      <td>ABQ</td>\n",
       "      <td>2006</td>\n",
       "      <td>392</td>\n",
       "      <td>329</td>\n",
       "      <td>71</td>\n",
       "      <td>124</td>\n",
       "    </tr>\n",
       "    <tr>\n",
       "      <th>3</th>\n",
       "      <td>ABQ</td>\n",
       "      <td>2007</td>\n",
       "      <td>366</td>\n",
       "      <td>304</td>\n",
       "      <td>107</td>\n",
       "      <td>45</td>\n",
       "    </tr>\n",
       "    <tr>\n",
       "      <th>4</th>\n",
       "      <td>ABQ</td>\n",
       "      <td>2008</td>\n",
       "      <td>333</td>\n",
       "      <td>300</td>\n",
       "      <td>79</td>\n",
       "      <td>42</td>\n",
       "    </tr>\n",
       "  </tbody>\n",
       "</table>\n",
       "</div>"
      ],
      "text/plain": [
       "  Airport  Year  Departure Cancellations  Arrival Cancellations  \\\n",
       "0     ABQ  2004                      242                    235   \n",
       "1     ABQ  2005                      221                    190   \n",
       "2     ABQ  2006                      392                    329   \n",
       "3     ABQ  2007                      366                    304   \n",
       "4     ABQ  2008                      333                    300   \n",
       "\n",
       "   Departure Diversions  Arrival Diversions  \n",
       "0                    71                  46  \n",
       "1                    61                  33  \n",
       "2                    71                 124  \n",
       "3                   107                  45  \n",
       "4                    79                  42  "
      ]
     },
     "execution_count": 7,
     "metadata": {},
     "output_type": "execute_result"
    }
   ],
   "source": [
    "df = pd.read_csv(\"../../assets/datasets/airport2.csv\")\n",
    "df.head()"
   ]
  },
  {
   "cell_type": "markdown",
   "metadata": {},
   "source": [
    "Convert the class labels, in this case the airports, to numeric. *Remember*, we've truncated the airport dataset for simplicty to make this part easy! "
   ]
  },
  {
   "cell_type": "code",
   "execution_count": 11,
   "metadata": {
    "collapsed": false
   },
   "outputs": [
    {
     "data": {
      "text/html": [
       "<div>\n",
       "<table border=\"1\" class=\"dataframe\">\n",
       "  <thead>\n",
       "    <tr style=\"text-align: right;\">\n",
       "      <th></th>\n",
       "      <th>Airport</th>\n",
       "      <th>Year</th>\n",
       "      <th>Departure Cancellations</th>\n",
       "      <th>Arrival Cancellations</th>\n",
       "      <th>Departure Diversions</th>\n",
       "      <th>Arrival Diversions</th>\n",
       "    </tr>\n",
       "  </thead>\n",
       "  <tbody>\n",
       "    <tr>\n",
       "      <th>0</th>\n",
       "      <td>0</td>\n",
       "      <td>2004</td>\n",
       "      <td>242</td>\n",
       "      <td>235</td>\n",
       "      <td>71</td>\n",
       "      <td>46</td>\n",
       "    </tr>\n",
       "    <tr>\n",
       "      <th>1</th>\n",
       "      <td>0</td>\n",
       "      <td>2005</td>\n",
       "      <td>221</td>\n",
       "      <td>190</td>\n",
       "      <td>61</td>\n",
       "      <td>33</td>\n",
       "    </tr>\n",
       "    <tr>\n",
       "      <th>2</th>\n",
       "      <td>0</td>\n",
       "      <td>2006</td>\n",
       "      <td>392</td>\n",
       "      <td>329</td>\n",
       "      <td>71</td>\n",
       "      <td>124</td>\n",
       "    </tr>\n",
       "    <tr>\n",
       "      <th>3</th>\n",
       "      <td>0</td>\n",
       "      <td>2007</td>\n",
       "      <td>366</td>\n",
       "      <td>304</td>\n",
       "      <td>107</td>\n",
       "      <td>45</td>\n",
       "    </tr>\n",
       "    <tr>\n",
       "      <th>4</th>\n",
       "      <td>0</td>\n",
       "      <td>2008</td>\n",
       "      <td>333</td>\n",
       "      <td>300</td>\n",
       "      <td>79</td>\n",
       "      <td>42</td>\n",
       "    </tr>\n",
       "  </tbody>\n",
       "</table>\n",
       "</div>"
      ],
      "text/plain": [
       "   Airport  Year  Departure Cancellations  Arrival Cancellations  \\\n",
       "0        0  2004                      242                    235   \n",
       "1        0  2005                      221                    190   \n",
       "2        0  2006                      392                    329   \n",
       "3        0  2007                      366                    304   \n",
       "4        0  2008                      333                    300   \n",
       "\n",
       "   Departure Diversions  Arrival Diversions  \n",
       "0                    71                  46  \n",
       "1                    61                  33  \n",
       "2                    71                 124  \n",
       "3                   107                  45  \n",
       "4                    79                  42  "
      ]
     },
     "execution_count": 11,
     "metadata": {},
     "output_type": "execute_result"
    }
   ],
   "source": [
    "le = LabelEncoder()\n",
    "df[\"Airport\"] = le.fit_transform(df[\"Airport\"])\n",
    "df.head()"
   ]
  },
  {
   "cell_type": "markdown",
   "metadata": {},
   "source": [
    "## 2. Plot the data"
   ]
  },
  {
   "cell_type": "code",
   "execution_count": 31,
   "metadata": {
    "collapsed": false
   },
   "outputs": [
    {
     "data": {
      "text/plain": [
       "array([0, 1, 2])"
      ]
     },
     "execution_count": 31,
     "metadata": {},
     "output_type": "execute_result"
    }
   ],
   "source": [
    "df.Airport.unique()"
   ]
  },
  {
   "cell_type": "code",
   "execution_count": null,
   "metadata": {
    "collapsed": true
   },
   "outputs": [],
   "source": []
  },
  {
   "cell_type": "code",
   "execution_count": null,
   "metadata": {
    "collapsed": true
   },
   "outputs": [],
   "source": []
  },
  {
   "cell_type": "markdown",
   "metadata": {},
   "source": [
    "## 3.  Perform a K-Means Clustering "
   ]
  },
  {
   "cell_type": "markdown",
   "metadata": {},
   "source": [
    "#### 3.1 Split the dataset into the attribute data and class labels"
   ]
  },
  {
   "cell_type": "code",
   "execution_count": 13,
   "metadata": {
    "collapsed": false
   },
   "outputs": [],
   "source": [
    "y = df[\"Airport\"]\n",
    "X = df.iloc[:,1:]"
   ]
  },
  {
   "cell_type": "markdown",
   "metadata": {},
   "source": [
    "#### 3.2 Conduct the k-means clustering"
   ]
  },
  {
   "cell_type": "code",
   "execution_count": 40,
   "metadata": {
    "collapsed": false
   },
   "outputs": [
    {
     "data": {
      "text/plain": [
       "KMeans(copy_x=True, init='k-means++', max_iter=300, n_clusters=3, n_init=10,\n",
       "    n_jobs=1, precompute_distances='auto', random_state=None, tol=0.0001,\n",
       "    verbose=0)"
      ]
     },
     "execution_count": 40,
     "metadata": {},
     "output_type": "execute_result"
    }
   ],
   "source": [
    "kcluster = KMeans(n_clusters=3)\n",
    "kcluster.fit(X)"
   ]
  },
  {
   "cell_type": "markdown",
   "metadata": {},
   "source": [
    "#### 3.3 Compute the labels and centroids"
   ]
  },
  {
   "cell_type": "code",
   "execution_count": 41,
   "metadata": {
    "collapsed": false
   },
   "outputs": [
    {
     "name": "stdout",
     "output_type": "stream",
     "text": [
      "[1 1 1 1 1 1 1 1 1 1 1 1 1 1 1 1 1 1 1 1 1 1 0 2 0 0 0 0 0 0 1 1 0]\n",
      "[[  2008.625        6646.75         7472.25          908.875         900.5       ]\n",
      " [  2009.29166667    471.875         526.66666667    140.375\n",
      "      98.08333333]\n",
      " [  2005.          13837.          14480.            790.           1080.        ]]\n"
     ]
    }
   ],
   "source": [
    "labels = kcluster.labels_\n",
    "centroids = kcluster.cluster_centers_\n",
    "print labels\n",
    "print centroids"
   ]
  },
  {
   "cell_type": "code",
   "execution_count": 42,
   "metadata": {
    "collapsed": false
   },
   "outputs": [
    {
     "data": {
      "text/plain": [
       "0.87758503272260813"
      ]
     },
     "execution_count": 42,
     "metadata": {},
     "output_type": "execute_result"
    }
   ],
   "source": [
    "metrics.silhouette_score(X, labels, metric=\"euclidean\")"
   ]
  },
  {
   "cell_type": "markdown",
   "metadata": {},
   "source": [
    "#### 3.4 Format the resulting predicted \"y\" variables and check the accuracy score, classification report, and confusion matrix"
   ]
  },
  {
   "cell_type": "code",
   "execution_count": 43,
   "metadata": {
    "collapsed": false
   },
   "outputs": [
    {
     "data": {
      "text/plain": [
       "array([1, 1, 1, 1, 1, 1, 1, 1, 1, 1, 1, 1, 1, 1, 1, 1, 1, 1, 1, 1, 1, 1, 0,\n",
       "       2, 0, 0, 0, 0, 0, 0, 1, 1, 0], dtype=int32)"
      ]
     },
     "execution_count": 43,
     "metadata": {},
     "output_type": "execute_result"
    }
   ],
   "source": [
    "labels"
   ]
  },
  {
   "cell_type": "code",
   "execution_count": 44,
   "metadata": {
    "collapsed": false
   },
   "outputs": [
    {
     "data": {
      "text/plain": [
       "array([0, 0, 0, 0, 0, 0, 0, 0, 0, 0, 0, 1, 1, 1, 1, 1, 1, 1, 1, 1, 1, 1, 2,\n",
       "       2, 2, 2, 2, 2, 2, 2, 2, 2, 2])"
      ]
     },
     "execution_count": 44,
     "metadata": {},
     "output_type": "execute_result"
    }
   ],
   "source": [
    "y.ravel()"
   ]
  },
  {
   "cell_type": "code",
   "execution_count": 45,
   "metadata": {
    "collapsed": false
   },
   "outputs": [
    {
     "data": {
      "text/plain": [
       "0.36363636363636365"
      ]
     },
     "execution_count": 45,
     "metadata": {},
     "output_type": "execute_result"
    }
   ],
   "source": [
    "accuracy_score(y,labels)"
   ]
  },
  {
   "cell_type": "code",
   "execution_count": 46,
   "metadata": {
    "collapsed": false
   },
   "outputs": [
    {
     "data": {
      "text/plain": [
       "array([[ 0, 11,  0],\n",
       "       [ 0, 11,  0],\n",
       "       [ 8,  2,  1]])"
      ]
     },
     "execution_count": 46,
     "metadata": {},
     "output_type": "execute_result"
    }
   ],
   "source": [
    "confusion_matrix(y,labels)"
   ]
  },
  {
   "cell_type": "code",
   "execution_count": 48,
   "metadata": {
    "collapsed": false
   },
   "outputs": [
    {
     "name": "stdout",
     "output_type": "stream",
     "text": [
      "             precision    recall  f1-score   support\n",
      "\n",
      "          0       0.00      0.00      0.00        11\n",
      "          1       0.46      1.00      0.63        11\n",
      "          2       1.00      0.09      0.17        11\n",
      "\n",
      "avg / total       0.49      0.36      0.27        33\n",
      "\n"
     ]
    }
   ],
   "source": [
    "print classification_report(y,labels)"
   ]
  },
  {
   "cell_type": "markdown",
   "metadata": {},
   "source": [
    "**Question**: What are we understand from this these performance metrics? "
   ]
  },
  {
   "cell_type": "markdown",
   "metadata": {},
   "source": [
    "## 4. Extra Trees Classifier"
   ]
  },
  {
   "cell_type": "code",
   "execution_count": 52,
   "metadata": {
    "collapsed": false
   },
   "outputs": [
    {
     "data": {
      "text/plain": [
       "ExtraTreesClassifier(bootstrap=False, class_weight=None, criterion='gini',\n",
       "           max_depth=None, max_features='auto', max_leaf_nodes=None,\n",
       "           min_samples_leaf=1, min_samples_split=2,\n",
       "           min_weight_fraction_leaf=0.0, n_estimators=10, n_jobs=1,\n",
       "           oob_score=False, random_state=None, verbose=0, warm_start=False)"
      ]
     },
     "execution_count": 52,
     "metadata": {},
     "output_type": "execute_result"
    }
   ],
   "source": [
    "forest = ExtraTreesClassifier()\n",
    "forest.fit(X,y)"
   ]
  },
  {
   "cell_type": "code",
   "execution_count": 53,
   "metadata": {
    "collapsed": false
   },
   "outputs": [],
   "source": [
    "importances = forest.feature_importances_"
   ]
  },
  {
   "cell_type": "code",
   "execution_count": 55,
   "metadata": {
    "collapsed": false
   },
   "outputs": [
    {
     "name": "stdout",
     "output_type": "stream",
     "text": [
      "Feature ranking:\n",
      "1. feature 1 (0.291367)\n",
      "2. feature 3 (0.244322)\n",
      "3. feature 2 (0.232335)\n",
      "4. feature 4 (0.180099)\n",
      "5. feature 0 (0.051878)\n"
     ]
    },
    {
     "data": {
      "image/png": "[encoded data removed]",
      "text/plain": [
       "<matplotlib.figure.Figure at 0x1181733d0>"
      ]
     },
     "metadata": {},
     "output_type": "display_data"
    }
   ],
   "source": [
    "std = np.std([tree.feature_importances_ for tree in forest.estimators_],\n",
    "             axis=0)\n",
    "indices = np.argsort(importances)[::-1]\n",
    "\n",
    "# Print the feature ranking\n",
    "print(\"Feature ranking:\")\n",
    "\n",
    "for f in range(X.shape[1]):\n",
    "    print(\"%d. feature %d (%f)\" % (f + 1, indices[f], importances[indices[f]]))\n",
    "\n",
    "# Plot the feature importances of the forest\n",
    "plt.figure()\n",
    "plt.title(\"Feature importances\")\n",
    "plt.bar(range(X.shape[1]), importances[indices],\n",
    "       color=\"r\", yerr=std[indices], align=\"center\")\n",
    "plt.xticks(range(X.shape[1]), indices)\n",
    "plt.xlim([-1, X.shape[1]])\n",
    "plt.show()"
   ]
  },
  {
   "cell_type": "markdown",
   "metadata": {},
   "source": [
    "## 5. KNN Classifier"
   ]
  },
  {
   "cell_type": "code",
   "execution_count": null,
   "metadata": {
    "collapsed": true
   },
   "outputs": [],
   "source": []
  },
  {
   "cell_type": "code",
   "execution_count": null,
   "metadata": {
    "collapsed": true
   },
   "outputs": [],
   "source": []
  },
  {
   "cell_type": "code",
   "execution_count": null,
   "metadata": {
    "collapsed": true
   },
   "outputs": [],
   "source": []
  },
  {
   "cell_type": "markdown",
   "metadata": {},
   "source": [
    "## 6. Hierarchical Clustering"
   ]
  },
  {
   "cell_type": "markdown",
   "metadata": {},
   "source": [
    "#### 6.1 Create the linkage for clustering"
   ]
  },
  {
   "cell_type": "code",
   "execution_count": 58,
   "metadata": {
    "collapsed": false
   },
   "outputs": [
    {
     "data": {
      "text/plain": [
       "array([[  1.30000000e+01,   1.40000000e+01,   1.65831240e+01,\n",
       "          2.00000000e+00],\n",
       "       [  6.00000000e+00,   8.00000000e+00,   1.95192213e+01,\n",
       "          2.00000000e+00],\n",
       "       [  4.00000000e+00,   7.00000000e+00,   2.35372046e+01,\n",
       "          2.00000000e+00],\n",
       "       [  0.00000000e+00,   9.00000000e+00,   2.81247222e+01,\n",
       "          2.00000000e+00],\n",
       "       [  1.70000000e+01,   2.00000000e+01,   2.99666481e+01,\n",
       "          2.00000000e+00],\n",
       "       [  1.00000000e+00,   3.40000000e+01,   3.18799833e+01,\n",
       "          3.00000000e+00],\n",
       "       [  1.80000000e+01,   1.90000000e+01,   3.26802693e+01,\n",
       "          2.00000000e+00],\n",
       "       [  1.60000000e+01,   3.30000000e+01,   3.62537354e+01,\n",
       "          3.00000000e+00],\n",
       "       [  1.00000000e+01,   3.50000000e+01,   4.44147123e+01,\n",
       "          3.00000000e+00],\n",
       "       [  2.10000000e+01,   3.70000000e+01,   5.47783412e+01,\n",
       "          3.00000000e+00],\n",
       "       [  5.00000000e+00,   3.80000000e+01,   5.70233870e+01,\n",
       "          4.00000000e+00],\n",
       "       [  3.00000000e+00,   4.10000000e+01,   6.18209781e+01,\n",
       "          4.00000000e+00],\n",
       "       [  1.10000000e+01,   1.20000000e+01,   6.86148672e+01,\n",
       "          2.00000000e+00],\n",
       "       [  3.60000000e+01,   4.30000000e+01,   8.15332243e+01,\n",
       "          6.00000000e+00],\n",
       "       [  1.50000000e+01,   4.40000000e+01,   1.22174875e+02,\n",
       "          5.00000000e+00],\n",
       "       [  2.00000000e+00,   4.70000000e+01,   1.34922694e+02,\n",
       "          6.00000000e+00],\n",
       "       [  3.90000000e+01,   4.60000000e+01,   1.48965041e+02,\n",
       "          8.00000000e+00],\n",
       "       [  4.20000000e+01,   4.90000000e+01,   1.90141076e+02,\n",
       "          1.10000000e+01],\n",
       "       [  4.00000000e+01,   4.50000000e+01,   1.93656052e+02,\n",
       "          5.00000000e+00],\n",
       "       [  2.40000000e+01,   2.90000000e+01,   1.97484177e+02,\n",
       "          2.00000000e+00],\n",
       "       [  4.80000000e+01,   5.10000000e+01,   3.77175548e+02,\n",
       "          1.10000000e+01],\n",
       "       [  2.60000000e+01,   3.20000000e+01,   5.34058986e+02,\n",
       "          2.00000000e+00],\n",
       "       [  2.50000000e+01,   5.20000000e+01,   5.89988700e+02,\n",
       "          3.00000000e+00],\n",
       "       [  5.00000000e+01,   5.30000000e+01,   7.99655437e+02,\n",
       "          2.20000000e+01],\n",
       "       [  2.70000000e+01,   5.40000000e+01,   8.30716759e+02,\n",
       "          3.00000000e+00],\n",
       "       [  3.00000000e+01,   3.10000000e+01,   9.39711658e+02,\n",
       "          2.00000000e+00],\n",
       "       [  2.20000000e+01,   2.80000000e+01,   9.52901359e+02,\n",
       "          2.00000000e+00],\n",
       "       [  5.50000000e+01,   5.70000000e+01,   2.42537440e+03,\n",
       "          6.00000000e+00],\n",
       "       [  5.90000000e+01,   6.00000000e+01,   4.52784248e+03,\n",
       "          8.00000000e+00],\n",
       "       [  5.60000000e+01,   5.80000000e+01,   7.22776415e+03,\n",
       "          2.40000000e+01],\n",
       "       [  2.30000000e+01,   6.10000000e+01,   1.33901868e+04,\n",
       "          9.00000000e+00],\n",
       "       [  6.20000000e+01,   6.30000000e+01,   3.78686171e+04,\n",
       "          3.30000000e+01]])"
      ]
     },
     "execution_count": 58,
     "metadata": {},
     "output_type": "execute_result"
    }
   ],
   "source": [
    "Z = linkage(X, 'ward')\n",
    "Z"
   ]
  },
  {
   "cell_type": "code",
   "execution_count": 59,
   "metadata": {
    "collapsed": false
   },
   "outputs": [
    {
     "data": {
      "text/plain": [
       "0.89007511488629476"
      ]
     },
     "execution_count": 59,
     "metadata": {},
     "output_type": "execute_result"
    }
   ],
   "source": [
    "c, coph_dists = cophenet(Z, pdist(X))\n",
    "c"
   ]
  },
  {
   "cell_type": "code",
   "execution_count": null,
   "metadata": {
    "collapsed": true
   },
   "outputs": [],
   "source": []
  },
  {
   "cell_type": "markdown",
   "metadata": {},
   "source": [
    "#### 6.2 Plot the Denrogram"
   ]
  },
  {
   "cell_type": "code",
   "execution_count": 60,
   "metadata": {
    "collapsed": false
   },
   "outputs": [
    {
     "data": {
      "image/png": "[encoded data removed]",
      "text/plain": [
       "<matplotlib.figure.Figure at 0x1181609d0>"
      ]
     },
     "metadata": {},
     "output_type": "display_data"
    }
   ],
   "source": [
    "# calculate full dendrogram\n",
    "plt.figure(figsize=(25, 10))\n",
    "plt.title('Hierarchical Clustering Dendrogram')\n",
    "plt.xlabel('sample index')\n",
    "plt.ylabel('distance')\n",
    "dendrogram(\n",
    "    Z,\n",
    "    leaf_rotation=90.,  # rotates the x axis labels\n",
    "    leaf_font_size=8.,  # font size for the x axis labels\n",
    ")\n",
    "plt.show()"
   ]
  },
  {
   "cell_type": "code",
   "execution_count": null,
   "metadata": {
    "collapsed": true
   },
   "outputs": [],
   "source": []
  },
  {
   "cell_type": "markdown",
   "metadata": {},
   "source": [
    "## Extra Trees Classifier"
   ]
  },
  {
   "cell_type": "code",
   "execution_count": null,
   "metadata": {
    "collapsed": true
   },
   "outputs": [],
   "source": []
  },
  {
   "cell_type": "code",
   "execution_count": null,
   "metadata": {
    "collapsed": true
   },
   "outputs": [],
   "source": []
  },
  {
   "cell_type": "markdown",
   "metadata": {},
   "source": [
    "## KNN Classifier"
   ]
  },
  {
   "cell_type": "code",
   "execution_count": null,
   "metadata": {
    "collapsed": true
   },
   "outputs": [],
   "source": []
  },
  {
   "cell_type": "code",
   "execution_count": null,
   "metadata": {
    "collapsed": true
   },
   "outputs": [],
   "source": []
  },
  {
   "cell_type": "code",
   "execution_count": null,
   "metadata": {
    "collapsed": true
   },
   "outputs": [],
   "source": []
  },
  {
   "cell_type": "code",
   "execution_count": null,
   "metadata": {
    "collapsed": true
   },
   "outputs": [],
   "source": []
  }
 ],
 "metadata": {
  "anaconda-cloud": {},
  "kernelspec": {
   "display_name": "Python [Root]",
   "language": "python",
   "name": "Python [Root]"
  },
  "language_info": {
   "codemirror_mode": {
    "name": "ipython",
    "version": 2
   },
   "file_extension": ".py",
   "mimetype": "text/x-python",
   "name": "python",
   "nbconvert_exporter": "python",
   "pygments_lexer": "ipython2",
   "version": "2.7.12"
  }
 },
 "nbformat": 4,
 "nbformat_minor": 0
}
