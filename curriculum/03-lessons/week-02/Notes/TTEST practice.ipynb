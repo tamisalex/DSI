{
 "cells": [
  {
   "cell_type": "code",
   "execution_count": 25,
   "metadata": {
    "collapsed": false
   },
   "outputs": [],
   "source": [
    "from scipy import stats\n",
    "from scipy.stats import norm\n",
    "\n",
    "standardNorm = norm\n",
    "\n",
    "#first argument is mean, second is stddev\n",
    "nonStandardNorm = norm(0.1,1)\n",
    "standardNorm2 = norm\n",
    "\n",
    "standardValues = standardNorm.rvs(size = 5)\n",
    "nonStandardValues = nonStandardNorm.rvs(size = 5)\n",
    "standardValues2 = standardNorm2.rvs(size = 5)\n",
    "\n",
    "\n",
    "\n",
    "#null hypothesis is there is no difference\n",
    "#a low p value means you reject the null difference,because low p value means verylittle overlap ofthe distributions"
   ]
  },
  {
   "cell_type": "code",
   "execution_count": 26,
   "metadata": {
    "collapsed": false
   },
   "outputs": [
    {
     "name": "stdout",
     "output_type": "stream",
     "text": [
      "0.919964039021\n"
     ]
    }
   ],
   "source": [
    "pValue = stats.ttest_ind(standardValues,nonStandardValues).pvalue\n",
    "print pValue"
   ]
  },
  {
   "cell_type": "code",
   "execution_count": 27,
   "metadata": {
    "collapsed": false
   },
   "outputs": [
    {
     "name": "stdout",
     "output_type": "stream",
     "text": [
      "0.900789078688\n"
     ]
    }
   ],
   "source": [
    "pValue2 = stats.ttest_ind(standardValues,standardValues2).pvalue\n",
    "print pValue2"
   ]
  },
  {
   "cell_type": "code",
   "execution_count": 28,
   "metadata": {
    "collapsed": true
   },
   "outputs": [],
   "source": [
    "# a higher p value means that the two distributions overlap more"
   ]
  },
  {
   "cell_type": "code",
   "execution_count": 29,
   "metadata": {
    "collapsed": false
   },
   "outputs": [
    {
     "name": "stdout",
     "output_type": "stream",
     "text": [
      "0.151939217353\n",
      "0.900789078688\n"
     ]
    }
   ],
   "source": [
    "nonStandardNorm = norm(1.0,1)\n",
    "nonStandardValues = nonStandardNorm.rvs(size = 5)\n",
    "\n",
    "pValue = stats.ttest_ind(standardValues,nonStandardValues).pvalue\n",
    "print pValue\n",
    "pValue2 = stats.ttest_ind(standardValues,standardValues2).pvalue\n",
    "print pValue2"
   ]
  },
  {
   "cell_type": "code",
   "execution_count": 33,
   "metadata": {
    "collapsed": false
   },
   "outputs": [
    {
     "name": "stdout",
     "output_type": "stream",
     "text": [
      "0.00416653253515\n",
      "0.859362937254\n"
     ]
    }
   ],
   "source": [
    "nonStandardNorm = norm(0.1,1)\n",
    "standardValues = standardNorm.rvs(size = 500)\n",
    "nonStandardValues = nonStandardNorm.rvs(size = 500)\n",
    "standardValues2 = standardNorm2.rvs(size = 500)\n",
    "\n",
    "pValue = stats.ttest_ind(standardValues,nonStandardValues).pvalue\n",
    "print pValue\n",
    "pValue2 = stats.ttest_ind(standardValues,standardValues2).pvalue\n",
    "print pValue2"
   ]
  },
  {
   "cell_type": "code",
   "execution_count": null,
   "metadata": {
    "collapsed": true
   },
   "outputs": [],
   "source": []
  },
  {
   "cell_type": "code",
   "execution_count": null,
   "metadata": {
    "collapsed": true
   },
   "outputs": [],
   "source": []
  }
 ],
 "metadata": {
  "kernelspec": {
   "display_name": "Python 2",
   "language": "python",
   "name": "python2"
  },
  "language_info": {
   "codemirror_mode": {
    "name": "ipython",
    "version": 2
   },
   "file_extension": ".py",
   "mimetype": "text/x-python",
   "name": "python",
   "nbconvert_exporter": "python",
   "pygments_lexer": "ipython2",
   "version": "2.7.11"
  }
 },
 "nbformat": 4,
 "nbformat_minor": 0
}
