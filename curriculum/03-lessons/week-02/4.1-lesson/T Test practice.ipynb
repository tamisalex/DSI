{
 "cells": [
  {
   "cell_type": "code",
   "execution_count": 11,
   "metadata": {
    "collapsed": false
   },
   "outputs": [
    {
     "name": "stdout",
     "output_type": "stream",
     "text": [
      "Ttest_1sampResult(statistic=-1.0528113012260027, pvalue=0.34062316900678546)\n"
     ]
    }
   ],
   "source": [
    "from scipy import stats\n",
    "import numpy as np\n",
    "import scipy as sp\n",
    "\n",
    "data = [175,183,146,234,199,153]\n",
    "mean = np.mean(data)\n",
    "\n",
    "sample1 = stats.ttest_1samp(data, 195.5)\n",
    "\n",
    "print sample1"
   ]
  },
  {
   "cell_type": "code",
   "execution_count": 10,
   "metadata": {
    "collapsed": false
   },
   "outputs": [
    {
     "name": "stdout",
     "output_type": "stream",
     "text": [
      "The t stat is -1.053 and the p-value is 0.341\n"
     ]
    }
   ],
   "source": [
    "print \"The t stat is %.3f and the p-value is %.3f\" % (sample1)"
   ]
  },
  {
   "cell_type": "code",
   "execution_count": 14,
   "metadata": {
    "collapsed": false
   },
   "outputs": [
    {
     "name": "stdout",
     "output_type": "stream",
     "text": [
      "156.666666667 129.333333333\n",
      "Ttest_indResult(statistic=2.8109237977833477, pvalue=0.019260082934979175)\n"
     ]
    }
   ],
   "source": [
    "male = [175,183,146,134,149,153]\n",
    "female = [126,143,118,126,151,182]\n",
    "print np.mean(male),np.mean(female)\n",
    "\n",
    "sample2 = stats.ttest_ind(male,female,equal_var=False)\n",
    "\n",
    "print sample2"
   ]
  },
  {
   "cell_type": "code",
   "execution_count": 15,
   "metadata": {
    "collapsed": false
   },
   "outputs": [
    {
     "name": "stdout",
     "output_type": "stream",
     "text": [
      "132.666666667 128.0\n"
     ]
    }
   ],
   "source": [
    "female = [126,143,118,126,151,132]\n",
    "femaleAfterZumba = [124,132,121,126,141,124]\n",
    "\n",
    "print np.mean(female), np.mean(femaleAfterZumba)"
   ]
  },
  {
   "cell_type": "code",
   "execution_count": 16,
   "metadata": {
    "collapsed": false
   },
   "outputs": [
    {
     "name": "stdout",
     "output_type": "stream",
     "text": [
      "Ttest_relResult(statistic=1.9759510292817286, pvalue=0.10512089957443901)\n"
     ]
    }
   ],
   "source": [
    "pairedTest = stats.ttest_rel(female, femaleAfterZumba)\n",
    "print pairedTest"
   ]
  },
  {
   "cell_type": "code",
   "execution_count": 17,
   "metadata": {
    "collapsed": false
   },
   "outputs": [
    {
     "name": "stdout",
     "output_type": "stream",
     "text": [
      "Ttest_relResult(statistic=-1.9759510292817286, pvalue=0.10512089957443901)\n"
     ]
    }
   ],
   "source": [
    "pairedTest = stats.ttest_rel(femaleAfterZumba, female)\n",
    "print pairedTest"
   ]
  },
  {
   "cell_type": "code",
   "execution_count": null,
   "metadata": {
    "collapsed": true
   },
   "outputs": [],
   "source": []
  }
 ],
 "metadata": {
  "kernelspec": {
   "display_name": "Python 2",
   "language": "python",
   "name": "python2"
  },
  "language_info": {
   "codemirror_mode": {
    "name": "ipython",
    "version": 2
   },
   "file_extension": ".py",
   "mimetype": "text/x-python",
   "name": "python",
   "nbconvert_exporter": "python",
   "pygments_lexer": "ipython2",
   "version": "2.7.11"
  }
 },
 "nbformat": 4,
 "nbformat_minor": 0
}
