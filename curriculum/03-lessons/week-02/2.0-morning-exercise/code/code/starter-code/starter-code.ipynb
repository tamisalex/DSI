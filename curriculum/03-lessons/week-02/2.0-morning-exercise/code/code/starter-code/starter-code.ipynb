{
 "cells": [
  {
   "cell_type": "code",
   "execution_count": 2,
   "metadata": {
    "collapsed": true
   },
   "outputs": [],
   "source": [
    "myList1 = range(0,100)"
   ]
  },
  {
   "cell_type": "code",
   "execution_count": 3,
   "metadata": {
    "collapsed": false
   },
   "outputs": [
    {
     "name": "stdout",
     "output_type": "stream",
     "text": [
      "[0, 2, 4, 6, 8, 10, 12, 14, 16, 18, 20, 22, 24, 26, 28, 30, 32, 34, 36, 38, 40, 42, 44, 46, 48, 50, 52, 54, 56, 58, 60, 62, 64, 66, 68, 70, 72, 74, 76, 78, 80, 82, 84, 86, 88, 90, 92, 94, 96, 98, 100, 102, 104, 106, 108, 110, 112, 114, 116, 118, 120, 122, 124, 126, 128, 130, 132, 134, 136, 138, 140, 142, 144, 146, 148, 150, 152, 154, 156, 158, 160, 162, 164, 166, 168, 170, 172, 174, 176, 178, 180, 182, 184, 186, 188, 190, 192, 194, 196, 198]\n"
     ]
    }
   ],
   "source": [
    "# below is an example of list comprehension being used in a function\n",
    "# that takes a constant integer (c) as a parameter and list of integers\n",
    "# called myList1\n",
    "# note similar to map(lambda x: c*x,myList1), but simpler! \n",
    "\n",
    "def ntimesSet(c,myList1):\n",
    "    return [c*x for x in myList1]\n",
    "print ntimesSet(2,myList1)"
   ]
  },
  {
   "cell_type": "code",
   "execution_count": 7,
   "metadata": {
    "collapsed": false
   },
   "outputs": [
    {
     "name": "stdout",
     "output_type": "stream",
     "text": [
      "[11, 5, 24, 44, 7, 26, 3, 38, 4, 13, 39, 50, 43, 13, 13, 22, 50, 13]\n"
     ]
    }
   ],
   "source": [
    "# write a function that will take 3 parameters a list\n",
    "# someList which will be a list of integers\n",
    "# c which will be an integer\n",
    "# n which will be an integer\n",
    "# filter out values greater than n in someList using list comprehension\n",
    "# and then multiply each value in the remaining array by c\n",
    "\n",
    "import numpy as np\n",
    "list1 = np.random.randint(0,100,40)\n",
    "\n",
    "# do not manually check list by index for np.nan, \n",
    "# use list1 as your testcase\n",
    "\n",
    "def filterAndMultiplyList(someList, c, n):\n",
    "    return [c*x for x in someList if x <= n]\n",
    "\n",
    "print filterAndMultiplyList(someList = list1, c = 2, n = 50)"
   ]
  },
  {
   "cell_type": "code",
   "execution_count": 13,
   "metadata": {
    "collapsed": false
   },
   "outputs": [
    {
     "name": "stdout",
     "output_type": "stream",
     "text": [
      "[24, 44, 58, 94, 26, 60, 38, 96, 4, 82, 50, 22, 64, 70, 52, 92, 50, 62]\n"
     ]
    }
   ],
   "source": [
    "# this function which will only return even numbers in list \n",
    "# using list comprehension\n",
    "# function will take one parameter called nums which is a list of integers\n",
    "# function will return only the even numbers from the original parameter nums\n",
    "\n",
    "def getEvenNums(aList):\n",
    "    return [x for x in aList if x % 2 == 0]\n",
    "\n",
    "evenNums = getEvenNums(list1)\n",
    "print evenNums"
   ]
  },
  {
   "cell_type": "code",
   "execution_count": 14,
   "metadata": {
    "collapsed": false
   },
   "outputs": [
    {
     "name": "stdout",
     "output_type": "stream",
     "text": [
      "[71, 11, 5, 57, 95, 51, 53, 87, 63, 53, 7, 3, 13, 65, 39, 87, 43, 13, 13, 59, 81, 13]\n"
     ]
    }
   ],
   "source": [
    "# get all the oddNums in the list, given now that you have all evenNums\n",
    "# using list comprehension \n",
    "\n",
    "def getOddNums(aList):\n",
    "    return [x for x in aList if x % 2 == 1]\n",
    "\n",
    "oddNums = getOddNums(list1)\n",
    "print oddNums"
   ]
  },
  {
   "cell_type": "code",
   "execution_count": 23,
   "metadata": {
    "collapsed": false
   },
   "outputs": [
    {
     "name": "stdout",
     "output_type": "stream",
     "text": [
      "Probability of select even num is 0.45%\n"
     ]
    }
   ],
   "source": [
    "# write a function that will return a probability given two parameters\n",
    "# one parameter called x (events matched) and the other n (total events)\n",
    "\n",
    "# calculate the probability that if I randomly select a number in myList1\n",
    "# that number will be even, use your getProbability function for your final\n",
    "# call your final probability probabilityEvenNum\n",
    "\n",
    "def getProbability(x,n):\n",
    "    return x/float(n)\n",
    "\n",
    "def getProbabilityOfEvenNum(aList):\n",
    "    return getProbability(len(getEvenNums(aList)),len(aList))\n",
    "\n",
    "probabilityEvenNum = getProbabilityOfEvenNum(list1)\n",
    "\n",
    "print \"Probability of select even num is {}%\".format(probabilityEvenNum)"
   ]
  },
  {
   "cell_type": "code",
   "execution_count": 27,
   "metadata": {
    "collapsed": false
   },
   "outputs": [
    {
     "name": "stdout",
     "output_type": "stream",
     "text": [
      "Probability of select even num is 0.55%\n"
     ]
    }
   ],
   "source": [
    "# get the probability of randomly selecting an odd number, now that you\n",
    "# have probabilityEvenNum defined, get the probability of getting an odd number\n",
    "# WITHOUT using list comprehension, NOR any type of looping. \n",
    "# HINT: X = {a,b}. P(X = a) + P(X = b) = 1\n",
    "\n",
    "def getProbabilityOfOddNum(aList):\n",
    "    return getProbability(len(getOddNums(aList)),len(aList))\n",
    "\n",
    "probOddNums = getProbabilityOfOddNum(list1)\n",
    "\n",
    "print \"Probability of select even num is {}%\".format(probOddNums)"
   ]
  },
  {
   "cell_type": "code",
   "execution_count": 35,
   "metadata": {
    "collapsed": false
   },
   "outputs": [
    {
     "data": {
      "text/plain": [
       "0.79"
      ]
     },
     "execution_count": 35,
     "metadata": {},
     "output_type": "execute_result"
    }
   ],
   "source": [
    "# write a function called getCumalativeProb which takes in two parameters.\n",
    "# first parameter is called nums. And you can assume will be a of integers\n",
    "# second parameter is called q, and will be an integer as well\n",
    "# the function will return the P( x > q ) or that if a number is randomly\n",
    "# selected from that list it will be greater than q\n",
    "# HINT: use list comprehension to filter through list\n",
    "# P( X > n ) = 1 - P( X <= n )\n",
    "\n",
    "def getCumalativeProb(nums,q):\n",
    "    return len([x for x in nums if x > q ])/float(len(nums))\n",
    "\n",
    "set1 = range(0,100)\n",
    "getCumalativeProb(set1,20)"
   ]
  },
  {
   "cell_type": "code",
   "execution_count": null,
   "metadata": {
    "collapsed": true
   },
   "outputs": [],
   "source": []
  },
  {
   "cell_type": "code",
   "execution_count": null,
   "metadata": {
    "collapsed": true
   },
   "outputs": [],
   "source": []
  }
 ],
 "metadata": {
  "kernelspec": {
   "display_name": "Python 2",
   "language": "python",
   "name": "python2"
  },
  "language_info": {
   "codemirror_mode": {
    "name": "ipython",
    "version": 2
   },
   "file_extension": ".py",
   "mimetype": "text/x-python",
   "name": "python",
   "nbconvert_exporter": "python",
   "pygments_lexer": "ipython2",
   "version": "2.7.11"
  }
 },
 "nbformat": 4,
 "nbformat_minor": 0
}
