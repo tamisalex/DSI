{
 "cells": [
  {
   "cell_type": "code",
   "execution_count": null,
   "metadata": {
    "collapsed": true
   },
   "outputs": [],
   "source": [
    "import spacy\n",
    "from spacy.en import English\n",
    "import datetime"
   ]
  },
  {
   "cell_type": "code",
   "execution_count": null,
   "metadata": {
    "collapsed": false
   },
   "outputs": [],
   "source": [
    "!pwd\n",
    "!pip install spacy\n",
    "!pip install datetime"
   ]
  },
  {
   "cell_type": "code",
   "execution_count": null,
   "metadata": {
    "collapsed": false
   },
   "outputs": [],
   "source": [
    "def structure_file(string):\n",
    "    string_split = string.split(\"|\") # list of length 4\n",
    "    \n",
    "    first_name = string_split[0]\n",
    "    last_name  = string_split[1] # \"bilind|27\".split(\"|\") => [\"bilind\",\"27\"]\n",
    "    \n",
    "    age = int(string_split[2])\n",
    "    \n",
    "    emails = string_split[3].split(\",\")\n",
    "    email_1 = emails[0]\n",
    "    email_2 = emails[1]\n",
    "    emails = [email_1,email_2]\n",
    "    \n",
    "    dob = get_dob_from_string(string_split[4])\n",
    "    \n",
    "    final_obj = { \n",
    "        \"first_name\" : first_name,\n",
    "        \"last_name\"  : last_name,\n",
    "        \"age\" : age, \n",
    "        \"emails\" : emails,\n",
    "        \"dob\" : dob\n",
    "    }\n",
    "    \n",
    "    # df[\"dob\"] = df.dob.apply(get_dob_from_string)\n",
    "    \n",
    "    # df[\"lease_month\"] = df.lease_date.apply(get_month_from_string)\n",
    "    # dob[\"season\"] = df.lease_month.apply(bin_month_on_season)\n",
    "    \n",
    "    return final_obj\n",
    "\n",
    "def get_dob_from_string(dob): \n",
    "    return datetime.datetime.strptime(dob,\"%Y-%m-%d\").date()\n",
    "def get_month_from_string(dob): \n",
    "    return datetime.datetime.strptime(dob,\"%Y-%m-%d\").month\n",
    "def bin_month_on_season(month):\n",
    "    if month in [1,2,3]:\n",
    "        return 1\n",
    "    elif month in [4,5,6]:\n",
    "        return 2\n",
    "    elif month in [7,8,9]:\n",
    "        return 3\n",
    "    else:\n",
    "        return 4"
   ]
  },
  {
   "cell_type": "code",
   "execution_count": null,
   "metadata": {
    "collapsed": true
   },
   "outputs": [],
   "source": [
    "sentence_1 = \"Bilind|Hajer|27|bilind07@gmail.com,bhajer3@gatech.edu|1989-03-03\"\n",
    "sentence_2 = \"John|Smith|24|JS12@gmail.com,jSmith3@gatech.edu|1991-04-23\"\n",
    "sentence_3 = \"Sarah|Adams|22|sarah22@gmail.com,sAdams3@gatech.edu|1993-05-23\"\n",
    "sentence_4 = \"Rob|Adams|24|rob24@gmail.com,rAdams3@gatech.edu|1991-05-23\"\n",
    "textfile = [sentence_1,sentence_2,sentence_3,sentence_4] # \"2010-05-31"
   ]
  },
  {
   "cell_type": "code",
   "execution_count": null,
   "metadata": {
    "collapsed": false
   },
   "outputs": [],
   "source": [
    "textfile_structured = map(structure_file,textfile)\n",
    "#textfile_structured = map(lambda line: structure_file(line),textfile)"
   ]
  },
  {
   "cell_type": "code",
   "execution_count": null,
   "metadata": {
    "collapsed": false
   },
   "outputs": [],
   "source": [
    "for obj in textfile_structured:\n",
    "    print(obj)"
   ]
  },
  {
   "cell_type": "code",
   "execution_count": null,
   "metadata": {
    "collapsed": true
   },
   "outputs": [],
   "source": [
    "# give me only student's bilind's record\n",
    "student = filter(\n",
    "    lambda obj: obj[\"first_name\"].lower() == \"bilind\",\n",
    "    textfile_structured\n",
    ")"
   ]
  },
  {
   "cell_type": "code",
   "execution_count": null,
   "metadata": {
    "collapsed": false
   },
   "outputs": [],
   "source": [
    "print(student[0][\"first_name\"])"
   ]
  },
  {
   "cell_type": "code",
   "execution_count": null,
   "metadata": {
    "collapsed": false
   },
   "outputs": [],
   "source": [
    "for record in student:\n",
    "    print record[\"first_name\"]"
   ]
  },
  {
   "cell_type": "code",
   "execution_count": null,
   "metadata": {
    "collapsed": false
   },
   "outputs": [],
   "source": [
    "student_24_over = filter(\n",
    "    lambda obj: obj[\"age\"] >= 24,\n",
    "    textfile_structured\n",
    ")"
   ]
  },
  {
   "cell_type": "code",
   "execution_count": null,
   "metadata": {
    "collapsed": false
   },
   "outputs": [],
   "source": [
    "\"h\" in \"contains\""
   ]
  },
  {
   "cell_type": "code",
   "execution_count": null,
   "metadata": {
    "collapsed": false
   },
   "outputs": [],
   "source": [
    "\"adams\" in 'rAdams3@gatech.edu'.lower()"
   ]
  },
  {
   "cell_type": "code",
   "execution_count": null,
   "metadata": {
    "collapsed": true
   },
   "outputs": [],
   "source": [
    "def check_name_adams(obj):\n",
    "     return \"adams\" in obj[\"emails\"][0].lower() or \"adams\" in obj[\"emails\"][1].lower()"
   ]
  },
  {
   "cell_type": "code",
   "execution_count": null,
   "metadata": {
    "collapsed": true
   },
   "outputs": [],
   "source": [
    "def check_age_bounds(obj,lower_bound,upper_bound):\n",
    "    return obj[\"age\"] >= lower_bound and obj[\"age\"] <= upper_bound"
   ]
  },
  {
   "cell_type": "code",
   "execution_count": null,
   "metadata": {
    "collapsed": true
   },
   "outputs": [],
   "source": [
    "students_who_meet_age = filter(lambda obj: check_age_bounds(obj,22,24), textfile_structured)"
   ]
  },
  {
   "cell_type": "code",
   "execution_count": null,
   "metadata": {
    "collapsed": false
   },
   "outputs": [],
   "source": [
    "for record in students_who_meet_age:\n",
    "    print record\n",
    "\n",
    "print len(students_who_meet_age)"
   ]
  },
  {
   "cell_type": "code",
   "execution_count": null,
   "metadata": {
    "collapsed": true
   },
   "outputs": [],
   "source": [
    "students_born_after_1991 = filter(lambda obj: obj[\"dob\"] >= datetime.date(1991, 1, 1),textfile_structured )"
   ]
  },
  {
   "cell_type": "code",
   "execution_count": null,
   "metadata": {
    "collapsed": true
   },
   "outputs": [],
   "source": [
    "# df[ df.dob >= datetime.date(1991, 1, 1) ]"
   ]
  },
  {
   "cell_type": "code",
   "execution_count": null,
   "metadata": {
    "collapsed": false
   },
   "outputs": [],
   "source": [
    "for record in students_born_after_1991:\n",
    "    print(record)"
   ]
  },
  {
   "cell_type": "code",
   "execution_count": null,
   "metadata": {
    "collapsed": false
   },
   "outputs": [],
   "source": [
    "new_sentence = \"Hi, my name is Bilind, I like to play video games, watch tv, to eat food, to sleep\""
   ]
  },
  {
   "cell_type": "code",
   "execution_count": 21,
   "metadata": {
    "collapsed": false
   },
   "outputs": [
    {
     "name": "stdout",
     "output_type": "stream",
     "text": [
      "9.09090909091\n"
     ]
    }
   ],
   "source": [
    "def get_even_numbers(list1):\n",
    "    cardinality = len(list1)\n",
    "    even_nums = filter(lambda x: x % 2 == 0, list1)\n",
    "    probability = (float(len(even_nums))/cardinality)*100\n",
    "    return probability\n",
    "my_list = [1,2,3,55,55,55,55,55,55,55,55]\n",
    "print get_even_numbers(my_list)"
   ]
  },
  {
   "cell_type": "code",
   "execution_count": 23,
   "metadata": {
    "collapsed": false
   },
   "outputs": [
    {
     "name": "stdout",
     "output_type": "stream",
     "text": [
      "9.09090909091\n"
     ]
    }
   ],
   "source": [
    "def get_even_numbers(list1):\n",
    "    cardinality = len(list1)\n",
    "    even_nums = []\n",
    "    for x in list1:\n",
    "        if( x % 2 == 0):\n",
    "            even_nums.append(x)\n",
    "    probability = (float(len(even_nums))/cardinality)*100\n",
    "    return probability\n",
    "my_list = [1,2,3,55,55,55,55,55,55,55,55]\n",
    "print get_even_numbers(my_list)"
   ]
  },
  {
   "cell_type": "code",
   "execution_count": 24,
   "metadata": {
    "collapsed": false
   },
   "outputs": [
    {
     "name": "stdout",
     "output_type": "stream",
     "text": [
      "33.3333333333\n"
     ]
    }
   ],
   "source": [
    "def map_numbers(num):\n",
    "    if( num % 2 == 0):\n",
    "        return 1\n",
    "    return 0\n",
    "\n",
    "def get_even_numbers(list1):\n",
    "    cardinality = len(list1)\n",
    "    even_nums = sum(map(lambda x: map_numbers(x), list1))\n",
    "    #print( type(even_nums) )\n",
    "    #print( even_nums )\n",
    "    probability = (float(even_nums)/cardinality)*100\n",
    "    return probability\n",
    "\n",
    "my_list = [1,2,3]\n",
    "print get_even_numbers(my_list)"
   ]
  },
  {
   "cell_type": "code",
   "execution_count": null,
   "metadata": {
    "collapsed": true
   },
   "outputs": [],
   "source": []
  }
 ],
 "metadata": {
  "kernelspec": {
   "display_name": "Python 2",
   "language": "python",
   "name": "python2"
  },
  "language_info": {
   "codemirror_mode": {
    "name": "ipython",
    "version": 2
   },
   "file_extension": ".py",
   "mimetype": "text/x-python",
   "name": "python",
   "nbconvert_exporter": "python",
   "pygments_lexer": "ipython2",
   "version": "2.7.11"
  }
 },
 "nbformat": 4,
 "nbformat_minor": 0
}
