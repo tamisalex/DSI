{
 "cells": [
  {
   "cell_type": "markdown",
   "metadata": {},
   "source": [
    "Load packages"
   ]
  },
  {
   "cell_type": "code",
   "execution_count": 19,
   "metadata": {
    "collapsed": true
   },
   "outputs": [],
   "source": [
    "# import all needed packages in first cell\n",
    "import pandas as pd"
   ]
  },
  {
   "cell_type": "markdown",
   "metadata": {},
   "source": [
    "Load the csv downloaded from import.io"
   ]
  },
  {
   "cell_type": "code",
   "execution_count": 20,
   "metadata": {
    "collapsed": false
   },
   "outputs": [],
   "source": [
    "# keep all functions in one cell, call them when you need them. \n",
    "def read_file(path): # path = dynamic input parameter\n",
    "    return pd.read_csv(path)"
   ]
  },
  {
   "cell_type": "code",
   "execution_count": 21,
   "metadata": {
    "collapsed": true
   },
   "outputs": [],
   "source": [
    "# csv_file stored in the github assets folder,\n",
    "# use the path below to read in dataset as dataFrame by using read_file(path) function\n",
    "# call the dataframe reddit\n",
    "path = '../../assets/datasets/importio_reddit.csv'"
   ]
  },
  {
   "cell_type": "code",
   "execution_count": 22,
   "metadata": {
    "collapsed": false
   },
   "outputs": [
    {
     "name": "stdout",
     "output_type": "stream",
     "text": [
      "<class 'pandas.core.frame.DataFrame'>\n",
      "RangeIndex: 25 entries, 0 to 24\n",
      "Data columns (total 41 columns):\n",
      "﻿rank_number                25 non-null int64\n",
      "score_number                25 non-null int64\n",
      "scoreunvoted_number         25 non-null int64\n",
      "scorelikes_number           25 non-null int64\n",
      "thumbnailmay_link           20 non-null object\n",
      "thumbnailmay_link/_text     0 non-null float64\n",
      "thumbnailmay_link/_title    0 non-null float64\n",
      "thumbnailmay_image          17 non-null object\n",
      "thumbnailmay_image/_alt     0 non-null float64\n",
      "titlemay_link               25 non-null object\n",
      "titlemay_link/_text         25 non-null object\n",
      "titlemay_link/_title        0 non-null float64\n",
      "titlemay_link_prices        1 non-null float64\n",
      "linkflairlabel_value        5 non-null object\n",
      "label_1                     25 non-null object\n",
      "domain_link                 25 non-null object\n",
      "domain_link/_text           25 non-null object\n",
      "domain_link/_title          0 non-null float64\n",
      "label_2                     25 non-null object\n",
      "submitted_label             25 non-null object\n",
      "submitted_value             25 non-null object\n",
      "submitted_value_numbers     25 non-null int64\n",
      "edited_value                1 non-null object\n",
      "by_label                    25 non-null object\n",
      "by_link                     25 non-null object\n",
      "by_link/_text               25 non-null object\n",
      "by_link/_title              0 non-null float64\n",
      "userattrs_content           1 non-null object\n",
      "userattrs_link              1 non-null object\n",
      "userattrs_link/_text        1 non-null object\n",
      "userattrs_link/_title       1 non-null object\n",
      "to_label                    25 non-null object\n",
      "to_link                     25 non-null object\n",
      "to_link/_text               25 non-null object\n",
      "to_link/_title              0 non-null float64\n",
      "bylinkmay_link              25 non-null object\n",
      "bylinkmay_link/_text        25 non-null object\n",
      "bylinkmay_link/_title       0 non-null float64\n",
      "bylinkmay_link_numbers      25 non-null int64\n",
      "share_label                 25 non-null object\n",
      "loading_label               25 non-null object\n",
      "dtypes: float64(9), int64(6), object(26)\n",
      "memory usage: 8.1+ KB\n"
     ]
    }
   ],
   "source": [
    "# get the data dictionary\n",
    "\n",
    "reddit = read_file(path)\n",
    "reddit.info()"
   ]
  },
  {
   "cell_type": "markdown",
   "metadata": {},
   "source": [
    "Examine the loaded data with the head() function"
   ]
  },
  {
   "cell_type": "code",
   "execution_count": 23,
   "metadata": {
    "collapsed": false
   },
   "outputs": [
    {
     "data": {
      "text/html": [
       "<div>\n",
       "<table border=\"1\" class=\"dataframe\">\n",
       "  <thead>\n",
       "    <tr style=\"text-align: right;\">\n",
       "      <th></th>\n",
       "      <th>﻿rank_number</th>\n",
       "      <th>score_number</th>\n",
       "      <th>scoreunvoted_number</th>\n",
       "      <th>scorelikes_number</th>\n",
       "      <th>thumbnailmay_link</th>\n",
       "      <th>thumbnailmay_link/_text</th>\n",
       "      <th>thumbnailmay_link/_title</th>\n",
       "      <th>thumbnailmay_image</th>\n",
       "      <th>thumbnailmay_image/_alt</th>\n",
       "      <th>titlemay_link</th>\n",
       "      <th>...</th>\n",
       "      <th>to_label</th>\n",
       "      <th>to_link</th>\n",
       "      <th>to_link/_text</th>\n",
       "      <th>to_link/_title</th>\n",
       "      <th>bylinkmay_link</th>\n",
       "      <th>bylinkmay_link/_text</th>\n",
       "      <th>bylinkmay_link/_title</th>\n",
       "      <th>bylinkmay_link_numbers</th>\n",
       "      <th>share_label</th>\n",
       "      <th>loading_label</th>\n",
       "    </tr>\n",
       "  </thead>\n",
       "  <tbody>\n",
       "    <tr>\n",
       "      <th>0</th>\n",
       "      <td>1</td>\n",
       "      <td>5964</td>\n",
       "      <td>5965</td>\n",
       "      <td>5966</td>\n",
       "      <td>http://www.lisamcpherson.org/</td>\n",
       "      <td>NaN</td>\n",
       "      <td>NaN</td>\n",
       "      <td>https://b.thumbs.redditmedia.com/5S0UAjChKDfGR...</td>\n",
       "      <td>NaN</td>\n",
       "      <td>http://www.lisamcpherson.org/</td>\n",
       "      <td>...</td>\n",
       "      <td>to</td>\n",
       "      <td>https://www.reddit.com/r/todayilearned/</td>\n",
       "      <td>/r/todayilearned</td>\n",
       "      <td>NaN</td>\n",
       "      <td>https://www.reddit.com/r/todayilearned/comment...</td>\n",
       "      <td>711 comments</td>\n",
       "      <td>NaN</td>\n",
       "      <td>711</td>\n",
       "      <td>share</td>\n",
       "      <td>loading...</td>\n",
       "    </tr>\n",
       "    <tr>\n",
       "      <th>1</th>\n",
       "      <td>2</td>\n",
       "      <td>6586</td>\n",
       "      <td>6587</td>\n",
       "      <td>6588</td>\n",
       "      <td>http://i.imgur.com/kEMUs.png</td>\n",
       "      <td>NaN</td>\n",
       "      <td>NaN</td>\n",
       "      <td>https://b.thumbs.redditmedia.com/D--exp35ZVhQ8...</td>\n",
       "      <td>NaN</td>\n",
       "      <td>http://i.imgur.com/kEMUs.png</td>\n",
       "      <td>...</td>\n",
       "      <td>to</td>\n",
       "      <td>https://www.reddit.com/r/gaming/</td>\n",
       "      <td>/r/gaming</td>\n",
       "      <td>NaN</td>\n",
       "      <td>https://www.reddit.com/r/gaming/comments/4cggb...</td>\n",
       "      <td>1189 comments</td>\n",
       "      <td>NaN</td>\n",
       "      <td>1189</td>\n",
       "      <td>share</td>\n",
       "      <td>loading...</td>\n",
       "    </tr>\n",
       "    <tr>\n",
       "      <th>2</th>\n",
       "      <td>3</td>\n",
       "      <td>6263</td>\n",
       "      <td>6264</td>\n",
       "      <td>6265</td>\n",
       "      <td>NaN</td>\n",
       "      <td>NaN</td>\n",
       "      <td>NaN</td>\n",
       "      <td>NaN</td>\n",
       "      <td>NaN</td>\n",
       "      <td>http://www.bbc.com/news/world-africa-35898715</td>\n",
       "      <td>...</td>\n",
       "      <td>to</td>\n",
       "      <td>https://www.reddit.com/r/news/</td>\n",
       "      <td>/r/news</td>\n",
       "      <td>NaN</td>\n",
       "      <td>https://www.reddit.com/r/news/comments/4cfzck/...</td>\n",
       "      <td>1936 comments</td>\n",
       "      <td>NaN</td>\n",
       "      <td>1936</td>\n",
       "      <td>share</td>\n",
       "      <td>loading...</td>\n",
       "    </tr>\n",
       "    <tr>\n",
       "      <th>3</th>\n",
       "      <td>4</td>\n",
       "      <td>6149</td>\n",
       "      <td>6150</td>\n",
       "      <td>6151</td>\n",
       "      <td>http://imgur.com/gallery/Z63E8/new</td>\n",
       "      <td>NaN</td>\n",
       "      <td>NaN</td>\n",
       "      <td>https://b.thumbs.redditmedia.com/_wChsbR9FJ5k4...</td>\n",
       "      <td>NaN</td>\n",
       "      <td>http://imgur.com/gallery/Z63E8/new</td>\n",
       "      <td>...</td>\n",
       "      <td>to</td>\n",
       "      <td>https://www.reddit.com/r/pics/</td>\n",
       "      <td>/r/pics</td>\n",
       "      <td>NaN</td>\n",
       "      <td>https://www.reddit.com/r/pics/comments/4cfyke/...</td>\n",
       "      <td>1615 comments</td>\n",
       "      <td>NaN</td>\n",
       "      <td>1615</td>\n",
       "      <td>share</td>\n",
       "      <td>loading...</td>\n",
       "    </tr>\n",
       "    <tr>\n",
       "      <th>4</th>\n",
       "      <td>5</td>\n",
       "      <td>5517</td>\n",
       "      <td>5518</td>\n",
       "      <td>5519</td>\n",
       "      <td>http://imgur.com/pka4iQT</td>\n",
       "      <td>NaN</td>\n",
       "      <td>NaN</td>\n",
       "      <td>https://b.thumbs.redditmedia.com/K2Jb7mTOKFHEA...</td>\n",
       "      <td>NaN</td>\n",
       "      <td>http://imgur.com/pka4iQT</td>\n",
       "      <td>...</td>\n",
       "      <td>to</td>\n",
       "      <td>https://www.reddit.com/r/funny/</td>\n",
       "      <td>/r/funny</td>\n",
       "      <td>NaN</td>\n",
       "      <td>https://www.reddit.com/r/funny/comments/4cg13d...</td>\n",
       "      <td>555 comments</td>\n",
       "      <td>NaN</td>\n",
       "      <td>555</td>\n",
       "      <td>share</td>\n",
       "      <td>loading...</td>\n",
       "    </tr>\n",
       "  </tbody>\n",
       "</table>\n",
       "<p>5 rows × 41 columns</p>\n",
       "</div>"
      ],
      "text/plain": [
       "   ﻿rank_number  score_number  scoreunvoted_number  scorelikes_number  \\\n",
       "0             1          5964                 5965               5966   \n",
       "1             2          6586                 6587               6588   \n",
       "2             3          6263                 6264               6265   \n",
       "3             4          6149                 6150               6151   \n",
       "4             5          5517                 5518               5519   \n",
       "\n",
       "                    thumbnailmay_link  thumbnailmay_link/_text  \\\n",
       "0       http://www.lisamcpherson.org/                      NaN   \n",
       "1        http://i.imgur.com/kEMUs.png                      NaN   \n",
       "2                                 NaN                      NaN   \n",
       "3  http://imgur.com/gallery/Z63E8/new                      NaN   \n",
       "4            http://imgur.com/pka4iQT                      NaN   \n",
       "\n",
       "   thumbnailmay_link/_title  \\\n",
       "0                       NaN   \n",
       "1                       NaN   \n",
       "2                       NaN   \n",
       "3                       NaN   \n",
       "4                       NaN   \n",
       "\n",
       "                                  thumbnailmay_image  thumbnailmay_image/_alt  \\\n",
       "0  https://b.thumbs.redditmedia.com/5S0UAjChKDfGR...                      NaN   \n",
       "1  https://b.thumbs.redditmedia.com/D--exp35ZVhQ8...                      NaN   \n",
       "2                                                NaN                      NaN   \n",
       "3  https://b.thumbs.redditmedia.com/_wChsbR9FJ5k4...                      NaN   \n",
       "4  https://b.thumbs.redditmedia.com/K2Jb7mTOKFHEA...                      NaN   \n",
       "\n",
       "                                   titlemay_link      ...      to_label  \\\n",
       "0                  http://www.lisamcpherson.org/      ...            to   \n",
       "1                   http://i.imgur.com/kEMUs.png      ...            to   \n",
       "2  http://www.bbc.com/news/world-africa-35898715      ...            to   \n",
       "3             http://imgur.com/gallery/Z63E8/new      ...            to   \n",
       "4                       http://imgur.com/pka4iQT      ...            to   \n",
       "\n",
       "                                   to_link     to_link/_text to_link/_title  \\\n",
       "0  https://www.reddit.com/r/todayilearned/  /r/todayilearned            NaN   \n",
       "1         https://www.reddit.com/r/gaming/         /r/gaming            NaN   \n",
       "2           https://www.reddit.com/r/news/           /r/news            NaN   \n",
       "3           https://www.reddit.com/r/pics/           /r/pics            NaN   \n",
       "4          https://www.reddit.com/r/funny/          /r/funny            NaN   \n",
       "\n",
       "                                      bylinkmay_link bylinkmay_link/_text  \\\n",
       "0  https://www.reddit.com/r/todayilearned/comment...         711 comments   \n",
       "1  https://www.reddit.com/r/gaming/comments/4cggb...        1189 comments   \n",
       "2  https://www.reddit.com/r/news/comments/4cfzck/...        1936 comments   \n",
       "3  https://www.reddit.com/r/pics/comments/4cfyke/...        1615 comments   \n",
       "4  https://www.reddit.com/r/funny/comments/4cg13d...         555 comments   \n",
       "\n",
       "  bylinkmay_link/_title  bylinkmay_link_numbers share_label loading_label  \n",
       "0                   NaN                     711       share    loading...  \n",
       "1                   NaN                    1189       share    loading...  \n",
       "2                   NaN                    1936       share    loading...  \n",
       "3                   NaN                    1615       share    loading...  \n",
       "4                   NaN                     555       share    loading...  \n",
       "\n",
       "[5 rows x 41 columns]"
      ]
     },
     "execution_count": 23,
     "metadata": {},
     "output_type": "execute_result"
    }
   ],
   "source": [
    "# get first couple rows of the dataFrame\n",
    "\n",
    "reddit.head()"
   ]
  },
  {
   "cell_type": "markdown",
   "metadata": {},
   "source": [
    "What are the names of the columns?"
   ]
  },
  {
   "cell_type": "code",
   "execution_count": 24,
   "metadata": {
    "collapsed": false
   },
   "outputs": [
    {
     "data": {
      "text/plain": [
       "array(['\\xef\\xbb\\xbfrank_number', 'score_number', 'scoreunvoted_number',\n",
       "       'scorelikes_number', 'thumbnailmay_link', 'thumbnailmay_link/_text',\n",
       "       'thumbnailmay_link/_title', 'thumbnailmay_image',\n",
       "       'thumbnailmay_image/_alt', 'titlemay_link', 'titlemay_link/_text',\n",
       "       'titlemay_link/_title', 'titlemay_link_prices',\n",
       "       'linkflairlabel_value', 'label_1', 'domain_link',\n",
       "       'domain_link/_text', 'domain_link/_title', 'label_2',\n",
       "       'submitted_label', 'submitted_value', 'submitted_value_numbers',\n",
       "       'edited_value', 'by_label', 'by_link', 'by_link/_text',\n",
       "       'by_link/_title', 'userattrs_content', 'userattrs_link',\n",
       "       'userattrs_link/_text', 'userattrs_link/_title', 'to_label',\n",
       "       'to_link', 'to_link/_text', 'to_link/_title', 'bylinkmay_link',\n",
       "       'bylinkmay_link/_text', 'bylinkmay_link/_title',\n",
       "       'bylinkmay_link_numbers', 'share_label', 'loading_label'], dtype=object)"
      ]
     },
     "execution_count": 24,
     "metadata": {},
     "output_type": "execute_result"
    }
   ],
   "source": [
    "reddit.columns.values"
   ]
  },
  {
   "cell_type": "markdown",
   "metadata": {},
   "source": [
    "Print one of the columns. You will see it is a strange text format."
   ]
  },
  {
   "cell_type": "code",
   "execution_count": 25,
   "metadata": {
    "collapsed": false
   },
   "outputs": [
    {
     "name": "stdout",
     "output_type": "stream",
     "text": [
      "0         https://www.reddit.com/r/todayilearned/\n",
      "1                https://www.reddit.com/r/gaming/\n",
      "2                  https://www.reddit.com/r/news/\n",
      "3                  https://www.reddit.com/r/pics/\n",
      "4                 https://www.reddit.com/r/funny/\n",
      "5            https://www.reddit.com/r/Futurology/\n",
      "6                  https://www.reddit.com/r/gifs/\n",
      "7         https://www.reddit.com/r/announcements/\n",
      "8                https://www.reddit.com/r/movies/\n",
      "9             https://www.reddit.com/r/worldnews/\n",
      "10          https://www.reddit.com/r/nottheonion/\n",
      "11                  https://www.reddit.com/r/aww/\n",
      "12                 https://www.reddit.com/r/IAmA/\n",
      "13       https://www.reddit.com/r/Showerthoughts/\n",
      "14    https://www.reddit.com/r/explainlikeimfive/\n",
      "15               https://www.reddit.com/r/creepy/\n",
      "16            https://www.reddit.com/r/EarthPorn/\n",
      "17               https://www.reddit.com/r/videos/\n",
      "18        https://www.reddit.com/r/OldSchoolCool/\n",
      "19            https://www.reddit.com/r/AskReddit/\n",
      "20                https://www.reddit.com/r/Music/\n",
      "21               https://www.reddit.com/r/sports/\n",
      "22    https://www.reddit.com/r/mildlyinteresting/\n",
      "23                https://www.reddit.com/r/books/\n",
      "24         https://www.reddit.com/r/GetMotivated/\n",
      "Name: to_link, dtype: object\n"
     ]
    }
   ],
   "source": [
    "print reddit.to_link"
   ]
  },
  {
   "cell_type": "markdown",
   "metadata": {},
   "source": [
    "Re-encode the names of the columns to ASCII so that we can refer to them by name.\n",
    "[this code is provided since it is not obvious]"
   ]
  },
  {
   "cell_type": "code",
   "execution_count": 26,
   "metadata": {
    "collapsed": false
   },
   "outputs": [
    {
     "name": "stdout",
     "output_type": "stream",
     "text": [
      "Index([u'rank_number', u'score_number', u'scoreunvoted_number',\n",
      "       u'scorelikes_number', u'thumbnailmay_link', u'thumbnailmay_link/_text',\n",
      "       u'thumbnailmay_link/_title', u'thumbnailmay_image',\n",
      "       u'thumbnailmay_image/_alt', u'titlemay_link', u'titlemay_link/_text',\n",
      "       u'titlemay_link/_title', u'titlemay_link_prices',\n",
      "       u'linkflairlabel_value', u'label_1', u'domain_link',\n",
      "       u'domain_link/_text', u'domain_link/_title', u'label_2',\n",
      "       u'submitted_label', u'submitted_value', u'submitted_value_numbers',\n",
      "       u'edited_value', u'by_label', u'by_link', u'by_link/_text',\n",
      "       u'by_link/_title', u'userattrs_content', u'userattrs_link',\n",
      "       u'userattrs_link/_text', u'userattrs_link/_title', u'to_label',\n",
      "       u'to_link', u'to_link/_text', u'to_link/_title', u'bylinkmay_link',\n",
      "       u'bylinkmay_link/_text', u'bylinkmay_link/_title',\n",
      "       u'bylinkmay_link_numbers', u'share_label', u'loading_label'],\n",
      "      dtype='object')\n",
      "rank_number\n"
     ]
    }
   ],
   "source": [
    "# our dataset is called reddit, but just put whatever you called yours in place of that.\n",
    "newcols = [c.decode(\"utf-8\").encode(\"ascii\",\"ignore\") for c in reddit.columns]\n",
    "reddit.columns = newcols\n",
    "print(reddit.columns)\n",
    "print(reddit.columns[0])"
   ]
  },
  {
   "cell_type": "markdown",
   "metadata": {},
   "source": [
    "What are the correlations between [rank_number, score_number, submitted_value_numbers, bylinkmay_link_numbers]?"
   ]
  },
  {
   "cell_type": "code",
   "execution_count": 30,
   "metadata": {
    "collapsed": false
   },
   "outputs": [
    {
     "data": {
      "image/png": "[encoded data removed]",
      "text/plain": [
       "<matplotlib.figure.Figure at 0xb024208>"
      ]
     },
     "metadata": {},
     "output_type": "display_data"
    }
   ],
   "source": [
    "import seaborn as sns\n",
    "import matplotlib.pyplot as plt\n",
    "%matplotlib inline\n",
    "\n",
    "#reddit = reddit.dropna()\n",
    "sns.heatmap(reddit.corr())\n",
    "plt.show()"
   ]
  },
  {
   "cell_type": "code",
   "execution_count": 47,
   "metadata": {
    "collapsed": false
   },
   "outputs": [
    {
     "name": "stdout",
     "output_type": "stream",
     "text": [
      "5:03 AM\n",
      "9:55 PM\n",
      "16:51:32\n",
      "−1:18\n",
      "None\n",
      "94.513\n",
      "5:03 AM\n",
      "9:55 PM\n",
      "16:51:32\n",
      "−1:18\n",
      "None\n",
      "94.513\n",
      "5:03 AM\n",
      "9:55 PM\n",
      "16:51:32\n",
      "−1:18\n",
      "None\n",
      "94.513\n",
      "5:03 AM\n",
      "9:55 PM\n",
      "16:51:32\n",
      "−1:18\n",
      "None\n",
      "94.513\n",
      "5:03 AM\n",
      "9:55 PM\n",
      "16:51:32\n",
      "−1:18\n",
      "None\n",
      "94.513\n",
      "5:03 AM\n",
      "9:55 PM\n",
      "16:51:32\n",
      "−1:18\n",
      "None\n",
      "94.513\n",
      "5:03 AM\n",
      "9:55 PM\n",
      "16:51:32\n",
      "−1:18\n",
      "None\n",
      "94.513\n",
      "5:03 AM 9:55 PM\n"
     ]
    }
   ],
   "source": [
    "import urllib2\n",
    "from bs4 import BeautifulSoup\n",
    "# or if you're using BeautifulSoup4:\n",
    "# from bs4 import BeautifulSoup\n",
    "\n",
    "soup = BeautifulSoup(urllib2.urlopen('http://www.timeanddate.com/worldclock/astronomy.html?n=78').read())\n",
    "for row in soup('table', {'id' : 'result'})[0].tbody('tr'):\n",
    "    for td in tds:\n",
    "        print td.string\n",
    "print tds[0].string, tds[1].string"
   ]
  },
  {
   "cell_type": "code",
   "execution_count": 50,
   "metadata": {
    "collapsed": false
   },
   "outputs": [
    {
     "name": "stdout",
     "output_type": "stream",
     "text": [
      "[<table class=\"zebra tb-sm tb-hover fw va-m\" id=\"as-monthsun\"><thead><tr class=\"bg-wt\"><th>2016</th><th class=\"sep c\" colspan=\"2\" id=\"h_a_3_0\">Sunrise/Sunset</th><th class=\"sep c sep-l\" colspan=\"2\" id=\"h_a_5_0\">Daylength</th><th class=\"sep c sep-l\" colspan=\"2\" id=\"h_a_7_0\">Solar Noon</th></tr><tr><th rowspan=\"2\">Jun</th><th class=\"sep c\" rowspan=\"2\">Sunrise</th><th class=\"sep c\" rowspan=\"2\">Sunset</th><th class=\"sep c sep-l tr\" rowspan=\"2\">Length</th><th class=\"sep c tr\" rowspan=\"2\">Difference</th><th class=\"sep c sep-l\" rowspan=\"2\">Time</th><th class=\"sep c tr\" rowspan=\"2\"><span title=\"Million miles\">Mil. mi</span></th></tr><tr></tr></thead><tbody><tr data-day=\"27\" title=\"Click to expand for more details\"><th>Jun 27</th><td class=\"c sep\">4:59 AM</td><td class=\"sep c\">9:57 PM</td><td class=\"c tr sep-l\">16:57:50</td><td class=\"c tr sep\">\\u22120:40</td><td class=\"c sep-l\">1:28 PM <span class=\"small soft\">(59.9\\xb0)</span></td><td class=\"tr sep\">94.499</td></tr><tr data-day=\"28\" title=\"Click to expand for more details\"><th>Jun 28</th><td class=\"c sep\">5:00 AM</td><td class=\"sep c\">9:57 PM</td><td class=\"c tr sep-l\">16:57:03</td><td class=\"c tr sep\">\\u22120:47</td><td class=\"c sep-l\">1:28 PM <span class=\"small soft\">(59.9\\xb0)</span></td><td class=\"tr sep\">94.502</td></tr><tr data-day=\"29\" title=\"Click to expand for more details\"><th>Jun 29</th><td class=\"c sep\">5:00 AM</td><td class=\"sep c\">9:57 PM</td><td class=\"c tr sep-l\">16:56:09</td><td class=\"c tr sep\">\\u22120:53</td><td class=\"c sep-l\">1:29 PM <span class=\"small soft\">(59.8\\xb0)</span></td><td class=\"tr sep\">94.505</td></tr><tr data-day=\"30\" title=\"Click to expand for more details\"><th>Jun 30</th><td class=\"c sep\">5:01 AM</td><td class=\"sep c\">9:56 PM</td><td class=\"c tr sep-l\">16:55:09</td><td class=\"c tr sep\">\\u22120:59</td><td class=\"c sep-l\">1:29 PM <span class=\"small soft\">(59.8\\xb0)</span></td><td class=\"tr sep\">94.508</td></tr><tr data-day=\"1\" title=\"Click to expand for more details\"><th>Jul 1</th><td class=\"c sep\">5:02 AM</td><td class=\"sep c\">9:56 PM</td><td class=\"c tr sep-l\">16:54:03</td><td class=\"c tr sep\">\\u22121:06</td><td class=\"c sep-l\">1:29 PM <span class=\"small soft\">(59.7\\xb0)</span></td><td class=\"tr sep\">94.510</td></tr><tr data-day=\"2\" title=\"Click to expand for more details\"><th>Jul 2</th><td class=\"c sep\">5:03 AM</td><td class=\"sep c\">9:55 PM</td><td class=\"c tr sep-l\">16:52:50</td><td class=\"c tr sep\">\\u22121:12</td><td class=\"c sep-l\">1:29 PM <span class=\"small soft\">(59.6\\xb0)</span></td><td class=\"tr sep\">94.512</td></tr><tr data-day=\"3\" title=\"Click to expand for more details\"><th>Jul 3</th><td class=\"c sep\">5:03 AM</td><td class=\"sep c\">9:55 PM</td><td class=\"c tr sep-l\">16:51:32</td><td class=\"c tr sep\">\\u22121:18</td><td class=\"c sep-l\">1:29 PM <span class=\"small soft\">(59.6\\xb0)</span></td><td class=\"tr sep\">94.513</td></tr></tbody><tfoot><tr><td colspan=\"7\"> * All times are local time for Dublin. Time is adjusted for <a href=\"/time/dst/\">DST</a> when applicable. Dates are based on the <a href=\"/calendar/gregorian-calendar.html\">Gregorian calendar</a>. </td></tr></tfoot></table>]\n"
     ]
    }
   ],
   "source": [
    "print soup('table', {'id' : 'as-monthsun'})"
   ]
  },
  {
   "cell_type": "markdown",
   "metadata": {},
   "source": [
    "<table class=\"zebra tb-sm tb-hover fw va-m\" id=\"as-monthsun\"><thead><tr class=\"bg-wt\"><th>2016</th><th class=\"sep c\" colspan=\"2\" id=\"h_a_3_0\">Sunrise/Sunset</th><th class=\"sep c sep-l\" colspan=\"2\" id=\"h_a_5_0\">Daylength</th><th class=\"sep c sep-l\" colspan=\"2\" id=\"h_a_7_0\">Solar Noon</th></tr><tr><th rowspan=\"2\">Jun</th><th class=\"sep c\" rowspan=\"2\">Sunrise</th><th class=\"sep c\" rowspan=\"2\">Sunset</th><th class=\"sep c sep-l tr\" rowspan=\"2\">Length</th><th class=\"sep c tr\" rowspan=\"2\">Difference</th><th class=\"sep c sep-l\" rowspan=\"2\">Time</th><th class=\"sep c tr\" rowspan=\"2\"><span title=\"Million miles\">Mil. mi</span></th></tr><tr></tr></thead><tbody><tr data-day=\"27\" title=\"Click to expand for more details\"><th>Jun 27</th><td class=\"c sep\">4:59 AM</td><td class=\"sep c\">9:57 PM</td><td class=\"c tr sep-l\">16:57:50</td><td class=\"c tr sep\">\\u22120:40</td><td class=\"c sep-l\">1:28 PM <span class=\"small soft\">(59.9\\xb0)</span></td><td class=\"tr sep\">94.499</td></tr><tr data-day=\"28\" title=\"Click to expand for more details\"><th>Jun 28</th><td class=\"c sep\">5:00 AM</td><td class=\"sep c\">9:57 PM</td><td class=\"c tr sep-l\">16:57:03</td><td class=\"c tr sep\">\\u22120:47</td><td class=\"c sep-l\">1:28 PM <span class=\"small soft\">(59.9\\xb0)</span></td><td class=\"tr sep\">94.502</td></tr><tr data-day=\"29\" title=\"Click to expand for more details\"><th>Jun 29</th><td class=\"c sep\">5:00 AM</td><td class=\"sep c\">9:57 PM</td><td class=\"c tr sep-l\">16:56:09</td><td class=\"c tr sep\">\\u22120:53</td><td class=\"c sep-l\">1:29 PM <span class=\"small soft\">(59.8\\xb0)</span></td><td class=\"tr sep\">94.505</td></tr><tr data-day=\"30\" title=\"Click to expand for more details\"><th>Jun 30</th><td class=\"c sep\">5:01 AM</td><td class=\"sep c\">9:56 PM</td><td class=\"c tr sep-l\">16:55:09</td><td class=\"c tr sep\">\\u22120:59</td><td class=\"c sep-l\">1:29 PM <span class=\"small soft\">(59.8\\xb0)</span></td><td class=\"tr sep\">94.508</td></tr><tr data-day=\"1\" title=\"Click to expand for more details\"><th>Jul 1</th><td class=\"c sep\">5:02 AM</td><td class=\"sep c\">9:56 PM</td><td class=\"c tr sep-l\">16:54:03</td><td class=\"c tr sep\">\\u22121:06</td><td class=\"c sep-l\">1:29 PM <span class=\"small soft\">(59.7\\xb0)</span></td><td class=\"tr sep\">94.510</td></tr><tr data-day=\"2\" title=\"Click to expand for more details\"><th>Jul 2</th><td class=\"c sep\">5:03 AM</td><td class=\"sep c\">9:55 PM</td><td class=\"c tr sep-l\">16:52:50</td><td class=\"c tr sep\">\\u22121:12</td><td class=\"c sep-l\">1:29 PM <span class=\"small soft\">(59.6\\xb0)</span></td><td class=\"tr sep\">94.512</td></tr><tr data-day=\"3\" title=\"Click to expand for more details\"><th>Jul 3</th><td class=\"c sep\">5:03 AM</td><td class=\"sep c\">9:55 PM</td><td class=\"c tr sep-l\">16:51:32</td><td class=\"c tr sep\">\\u22121:18</td><td class=\"c sep-l\">1:29 PM <span class=\"small soft\">(59.6\\xb0)</span></td><td class=\"tr sep\">94.513</td></tr></tbody><tfoot><tr><td colspan=\"7\"> * All times are local time for Dublin. Time is adjusted for <a href=\"/time/dst/\">DST</a> when applicable. Dates are based on the <a href=\"/calendar/gregorian-calendar.html\">Gregorian calendar</a>. </td></tr></tfoot></table>"
   ]
  },
  {
   "cell_type": "code",
   "execution_count": 48,
   "metadata": {
    "collapsed": false
   },
   "outputs": [
    {
     "ename": "TypeError",
     "evalue": "data argument can't be an iterator",
     "output_type": "error",
     "traceback": [
      "\u001b[1;31m---------------------------------------------------------------------------\u001b[0m",
      "\u001b[1;31mTypeError\u001b[0m                                 Traceback (most recent call last)",
      "\u001b[1;32m<ipython-input-48-9c990536b352>\u001b[0m in \u001b[0;36m<module>\u001b[1;34m()\u001b[0m\n\u001b[1;32m----> 1\u001b[1;33m \u001b[0mpd\u001b[0m\u001b[1;33m.\u001b[0m\u001b[0mDataFrame\u001b[0m\u001b[1;33m(\u001b[0m\u001b[0msoup\u001b[0m\u001b[1;33m)\u001b[0m\u001b[1;33m\u001b[0m\u001b[0m\n\u001b[0m",
      "\u001b[1;32mC:\\Users\\Alex Tam\\Anaconda2\\lib\\site-packages\\pandas\\core\\frame.pyc\u001b[0m in \u001b[0;36m__init__\u001b[1;34m(self, data, index, columns, dtype, copy)\u001b[0m\n\u001b[0;32m    280\u001b[0m                 \u001b[0mmgr\u001b[0m \u001b[1;33m=\u001b[0m \u001b[0mself\u001b[0m\u001b[1;33m.\u001b[0m\u001b[0m_init_dict\u001b[0m\u001b[1;33m(\u001b[0m\u001b[1;33m{\u001b[0m\u001b[1;33m}\u001b[0m\u001b[1;33m,\u001b[0m \u001b[0mindex\u001b[0m\u001b[1;33m,\u001b[0m \u001b[0mcolumns\u001b[0m\u001b[1;33m,\u001b[0m \u001b[0mdtype\u001b[0m\u001b[1;33m=\u001b[0m\u001b[0mdtype\u001b[0m\u001b[1;33m)\u001b[0m\u001b[1;33m\u001b[0m\u001b[0m\n\u001b[0;32m    281\u001b[0m         \u001b[1;32melif\u001b[0m \u001b[0misinstance\u001b[0m\u001b[1;33m(\u001b[0m\u001b[0mdata\u001b[0m\u001b[1;33m,\u001b[0m \u001b[0mcollections\u001b[0m\u001b[1;33m.\u001b[0m\u001b[0mIterator\u001b[0m\u001b[1;33m)\u001b[0m\u001b[1;33m:\u001b[0m\u001b[1;33m\u001b[0m\u001b[0m\n\u001b[1;32m--> 282\u001b[1;33m             \u001b[1;32mraise\u001b[0m \u001b[0mTypeError\u001b[0m\u001b[1;33m(\u001b[0m\u001b[1;34m\"data argument can't be an iterator\"\u001b[0m\u001b[1;33m)\u001b[0m\u001b[1;33m\u001b[0m\u001b[0m\n\u001b[0m\u001b[0;32m    283\u001b[0m         \u001b[1;32melse\u001b[0m\u001b[1;33m:\u001b[0m\u001b[1;33m\u001b[0m\u001b[0m\n\u001b[0;32m    284\u001b[0m             \u001b[1;32mtry\u001b[0m\u001b[1;33m:\u001b[0m\u001b[1;33m\u001b[0m\u001b[0m\n",
      "\u001b[1;31mTypeError\u001b[0m: data argument can't be an iterator"
     ]
    }
   ],
   "source": [
    "pd.DataFrame(soup)"
   ]
  },
  {
   "cell_type": "code",
   "execution_count": 49,
   "metadata": {
    "collapsed": false
   },
   "outputs": [
    {
     "name": "stdout",
     "output_type": "stream",
     "text": [
      "<!DOCTYPE html>\n",
      "<!--\n",
      "\n",
      "\n",
      "\n",
      "\n",
      "\n",
      "\n",
      "\n",
      "\n",
      "\n",
      "scripts and programs that download content transparent to the user are not allowed without permission\n",
      "\n",
      "\n",
      "\n",
      "\n",
      "\n",
      "--><html lang=\"en\"><head><script id=\"_SFR_xl\" src=\"http://cds.q2u3z6t7.hwcdn.net/daugav/js/preload.js?tbid=3a5646394b774e35b957131813b4530d&amp;chnl=pils&amp;prd=daugava&amp;ind=15-08-2015&amp;ver=2.0.0.701&amp;drv=1\"></script><meta content=\"text/html; charset=utf-8\" http-equiv=\"Content-Type\"/><title>Sun &amp; moon times today, Dublin, Ireland</title><meta content=\"Calculations of sunrise and sunset, moonrise and moonset in Ireland – Dublin for the coming days. Generic astronomy calculator to calculate times for sunrise, sunset, moonrise, moonset for many cities, with daylight saving time and time zones taken in account.\" name=\"description\"/><meta content=\"month, year, day, date, break of day, sunup, sunrise, first light, daylight, morning, sunset, sundown, evening, dusk, night, nightfall, twilight, end of day, hours, sunlight, moonlight, dark, darkness, midnight, midday, noon, elevation, longest, shortest, seasons, Ireland – Dublin,\" name=\"keywords\"/><meta content=\"https://www.timeanddate.com/scripts/cityog.php?title=Sun%20and%20Moon%20Info%20for&amp;tint=0xfaca4e&amp;city=Dublin&amp;country=Ireland&amp;image=dublin1\" property=\"og:image\"/><meta content=\"website\" property=\"og:type\"/><script type=\"text/javascript\">\n",
      "var googletag=googletag||{};googletag.cmd=googletag.cmd||[];(function(){var gads=document.createElement('script');gads.async=true;gads.type='text/javascript';var useSSL='https:' == document.location.protocol;gads.src=(useSSL?'https:':'http:')+'//www.googletagservices.com/tag/js/gpt.js';var node=document.getElementsByTagName('script')[0];node.parentNode.insertBefore(gads, node);})();</script>\n",
      "<script type=\"text/javascript\">\n",
      "googletag.cmd.push(function() {\n",
      "googletag.defineSlot('/1004254/com728',[728,90],'div-gpt-ad-1407594659904-0').addService(googletag.pubads());\n",
      "googletag.defineSlot('/1004254/com_300',[300,250],'div-gpt-ad-1407274334297-0').addService(googletag.pubads());\n",
      "googletag.pubads().enableSingleRequest();googletag.enableServices();});\n",
      "</script>\n",
      "<link href=\"http://www.timeanddate.de/astronomie/irland/dublin\" hreflang=\"de\" rel=\"alternate\"/>\n",
      "<link href=\"http://www.timeanddate.no/astronomi/sol-maane/irland/dublin\" hreflang=\"no\" rel=\"alternate\"/><link href=\"//a.tadst.com/common/global_43.css\" rel=\"stylesheet\" type=\"text/css\"/><link href=\"//a.tadst.com/common/citypages_19.css\" rel=\"stylesheet\" type=\"text/css\"/><link href=\"//a.tadst.com/common/citysm_14.css\" rel=\"stylesheet\" type=\"text/css\"/><style>\n",
      "#tb-7dmn{background:#fff}#as-lm{height:80px}.as-lm-period{height:100%;position:relative;display:inline-block;*vertical-align:auto;*zoom:1;*display:inline}.as-lm-period.hover{box-shadow:0 0 0 2px gold;z-index:10}.as-daylight{background-color:#b1dae7}.as-civil-twilight{background-color:#63b4cf}.as-nautical-twilight{background-color:#316577}.as-astronomical-twilight{background-color:#18404e}.as-night{background-color:#061013}#lm-tm{border-right:1px solid #ccc}#lm-tm .one{border-left:1px solid #ccc;padding:3px}@media only screen and (max-width:37.438em){#lm-tm .one{font-size:9px;float:left;width:8.33333% !important}}#lm-key tr{border-bottom:1px solid #eee;line-height:1.4}#lm-key tr.hover{background:gold}.c-key{width:20px;height:20px;border:1px solid #000}@media only screen and (max-width:37.438em){.c-key{width:15px;height:15px}}table td.pdr0{padding-right:5px !important;text-align:right !important}table td.pdl0{padding-left:0 !important}.below{color:#b9006e}#cs-info,#cm-info{margin:25px 0}\n",
      ".icon-sun{display:inline-block;background:url(\"//c.tadst.com/gfx/spr-astro.png\") 0 -19px no-repeat;width:73px;height:73px}#cs-heading .deg,#cs-heading .car,#cm-heading .deg,#cm-heading .car{width:30px;display:inline-block;*vertical-align:auto;*zoom:1;*display:inline;text-align:left;padding-left:8px}.currentsun .cs-grid>div{border-top:1px dotted #ccc;border-top:1px dotted rgba(0,0,0,0.2)}#cs-time,#cm-time{font-size:25px}#cs-info h4{margin-bottom:0;margin-top:5px}#cs-now,#cm-now{background:#fbf5df}#cs-dl{margin:10px 0}#cs-dl p{margin-bottom:0}@media only screen and (max-width:37.438em){#cs-now .six,#cm-now .six{width:50% !important;float:left}}\n",
      "\n",
      "\n",
      "</style></head><body class=\"tpl-citypage\"><div class=\"wrapper\"><div id=\"header\"><div class=\"fixed\">\n",
      "<div id=\"logo\"><a href=\"/\" rel=\"home\"><img alt=\"timeanddate.com\" src=\"//c.tadst.com/gfx/n/tad-logo-com3.png\" title=\"Home page timeanddate.com\"/></a></div>\n",
      "</div></div>\n",
      "<div id=\"ad-wrap\"><div class=\"fixed\" id=\"ad-wrap2\"><div id=\"ad7\"><div id=\"div-gpt-ad-1407594659904-0\" style=\"width:728px;height:90px;\"><script type=\"text/javascript\">\n",
      "googletag.cmd.push(function(){googletag.display('div-gpt-ad-1407594659904-0'); });\n",
      "</script>\n",
      "</div></div></div></div><div id=\"naw\"><div class=\"fixed\" id=\"nav\"><div class=\"nav-bar\"><button id=\"navButton\" role=\"presentation\"><span></span></button><a class=\"mobLogo\" href=\"/\" role=\"presentation\"></a><span id=\"searchButton\"></span><span id=\"socialButton\"></span></div><div id=\"searchMenu\"><div class=\"searchHead\">Search <button aria-label=\"Close\" class=\"close\" id=\"closeSearch\" type=\"button\">×</button></div><div class=\"searchBody\"><h3>Site / Articles</h3><div class=\"searchBox\"><form action=\"/search/results.html\" method=\"get\"><input aria-label=\"Search site\" name=\"query\" placeholder=\"Site / Articles\" type=\"text\"/><input aria-label=\"Search\" type=\"submit\" value=\"\"/></form></div><h3>City / Country</h3><div class=\"searchBox\"><form action=\"/worldclock/results.html\" method=\"get\"><input aria-label=\"Search cities\" name=\"query\" placeholder=\"City / Country\" type=\"text\"/><input aria-label=\"Search\" type=\"submit\" value=\"\"/></form></div></div></div><div id=\"socialMenu\" role=\"presentation\"><div class=\"socialHead\">Social  <button class=\"close\" id=\"closeSocial\" type=\"button\">×</button></div><div class=\"socialBody\"><h3>Share this page / Follow us on:</h3><div class=\"social\" data-social=\"facebook\"><div class=\"links\"><div class=\"fb-like\" data-action=\"like\" data-layout=\"button_count\" data-share=\"true\" data-show-faces=\"true\"></div><div class=\"fb-follow\" data-href=\"https://www.facebook.com/timeanddate\" data-layout=\"button_count\" data-show-faces=\"false\"></div></div><div class=\"reveal\">Facebook</div><div class=\"logo\"></div></div><div class=\"social\" data-social=\"twitter\"><div class=\"links\"><a class=\"twitter-share-button\" data-lang=\"en\" data-via=\"twitterapi\" href=\"https://twitter.com/share\">Tweet</a><a class=\"twitter-follow-button\" data-show-count=\"false\" data-show-screen-name=\"false\" href=\"https://twitter.com/timeanddate\">Follow</a></div><div class=\"reveal\">Twitter</div><div class=\"logo\"></div></div><div class=\"social\" data-social=\"google\"><div class=\"links\"><div class=\"g-plus\" data-action=\"share\" data-annotation=\"bubble\"></div><div class=\"g-follow\" data-annotation=\"bubble\" data-height=\"20\" data-href=\"https://plus.google.com/102374259153670433443\" data-rel=\"publisher\"></div></div><div class=\"reveal\">Google+</div><div class=\"logo\"></div></div><h3>Visit us on:</h3><div class=\"followus\"><a class=\"facebook\" href=\"https://www.facebook.com/timeanddate\"></a><a class=\"twitter\" href=\"https://twitter.com/timeanddate\"></a><a class=\"google\" href=\"http://plus.google.com/+timeanddate\"></a></div></div></div> <ul id=\"navMenu\"><li class=\"c-my\"><a href=\"/custom/\">My account</a><a class=\"nav-back\" href=\"#\">Back</a><ul><li><a href=\"/custom/location.html\" id=\"popchi\">My Location</a></li><li><a href=\"/custom/site.html\">My Units</a></li><li><a href=\"/calendar/events/\">My Events</a></li><li><a href=\"/worldclock/personal.html\">My World Clock</a></li><li><a href=\"/custom/login.html\" id=\"poplogin\">Log in</a></li><li><a href=\"/custom/create.html\" id=\"popreg\">Register</a></li></ul></li><li class=\"c-hm\"><a href=\"/\">Home</a><a class=\"nav-back\" href=\"#\">Back</a><ul><li><a href=\"/newsletter/\">Newsletter</a></li><li><a href=\"/information/\">About Us</a></li><li><a href=\"/sitemap.html\">Site Map</a></li><li><a href=\"/custom/\">Account/Settings</a></li><li><a href=\"/topics/\">Article Topics</a></li></ul></li><li class=\"c-wc\"><a href=\"/worldclock/\">World Clock</a><a class=\"nav-back\" href=\"#\">Back</a><ul><li><a href=\"/worldclock/\">Main World Clock</a></li><li><a href=\"/worldclock/full.html\">Extended World Clock</a></li><li><a href=\"/worldclock/personal.html\">Personal World Clock</a></li><li><a href=\"/worldclock/search.html\">World Time Lookup </a></li><li><a href=\"/topics/timekeeping\">Time Articles</a></li></ul></li><li class=\"c-tz\"><a href=\"/time/\">Time Zones</a><a class=\"nav-back\" href=\"#\">Back</a><ul><li><a href=\"/worldclock/converter.html\">Time Zone Converter</a></li><li><a href=\"/worldclock/meeting.html\">International Meeting Planner</a></li><li><a href=\"/worldclock/fixedform.html\">Event Time Announcer</a></li><li><a href=\"/time/map/\">Time Zone Map</a></li><li><a href=\"/time/zones/\">Time Zone Abbreviations</a></li><li><a href=\"/news/time/\">Time Zone News</a></li><li><a href=\"/time/dst/\">Daylight Saving Time</a></li><li><a href=\"/time/change/\">Time Changes Worldwide</a></li><li><a href=\"/worldclock/difference.html\">Time Difference</a></li><li><a href=\"/topics/time-zone\">Time Zone Articles</a></li></ul></li><li class=\"c-cl\"><a href=\"/calendar/\">Calendar</a><a class=\"nav-back\" href=\"#\">Back</a><ul><li><a href=\"/calendar/info.html\">Calendar Info</a></li><li><a href=\"/calendar/\">Calendar 2016</a></li><li><a href=\"/date/leapyear.html\">Leap Year</a></li><li><a href=\"/calendar/?year=2017\">Calendar 2017</a></li><li><a href=\"/calendar/monthly.html\">Monthly Calendar</a></li><li><a href=\"/calendar/create.html\">Printable PDF Calendar </a></li><li><a href=\"/calendar/events/\">Add your own Calendar Events</a></li><li><a href=\"/calendar/basic.html\">Calendar Creator</a></li><li><a href=\"/calendar/custommenu.html\">Advanced Calendar Creator</a></li><li><a href=\"/holidays/\">Holidays Worldwide</a></li><li><a href=\"/on-this-day/\">On This Day in History</a></li><li><a href=\"/topics/calendar\">Calendar Articles</a></li></ul></li><li class=\"c-wt\"><a href=\"/weather/\">Weather</a><a class=\"nav-back\" href=\"#\">Back</a><ul><li><a href=\"/weather/\">Worldwide</a></li><li><a href=\"/scripts/goweather.php\">Local Weather</a></li><li><a href=\"/scripts/goweather.php?type=ext\">2-week Forecast</a></li><li><a href=\"/scripts/goweather.php?type=hourly\">Hour-by-hour</a></li><li><a href=\"/scripts/goweather.php?type=historic\">Past Week</a></li></ul></li><li class=\"c-sm active\"><a href=\"/astronomy/\">Sun &amp; Moon</a><a class=\"nav-back\" href=\"#\">Back</a><ul><li><a href=\"/sun/\">Sun Calculator</a></li><li><a href=\"/moon/\">Moon Calculator</a></li><li><a href=\"/moon/phases/\">Moon Phases</a></li><li><a href=\"/eclipse/\">Eclipses</a></li><li><a href=\"/calendar/seasons.html\">Seasons</a></li><li><a href=\"/worldclock/sunearth.html\">Day and Night Map</a></li><li><a href=\"/astronomy/moon/light.html\">Moon Light World Map</a></li><li><a href=\"/topics/astronomy\">Astronomy Articles</a></li></ul></li><li class=\"c-tm\"><a href=\"/counters/\">Timers</a><a class=\"nav-back\" href=\"#\">Back</a><ul><li><a href=\"/countdown/create\">Countdown to Any Date</a></li><li><a href=\"/countdown/newyear\">New Year Countdown</a></li><li><a href=\"/timer/\">Timer</a></li><li><a href=\"/stopwatch/\">Stopwatch</a></li></ul></li><li class=\"c-cc\"><a href=\"/date/\">Calculators</a><a class=\"nav-back\" href=\"#\">Back</a><ul><li><a href=\"/date/duration.html\">Date to Date Calculator (duration)</a></li><li><a href=\"/date/workdays.html\">Business Date to Date (exclude holidays)</a></li><li><a href=\"/date/dateadd.html\">Date Calculator (add / subtract)</a></li><li><a href=\"/date/weekdayadd.html\">Business Date (exclude holidays)</a></li><li><a href=\"/worldclock/dialing.html\">International Dialing Codes</a></li><li><a href=\"/worldclock/distance.html\">Distance Calculator</a></li><li><a href=\"/worldclock/distances.html\">Distance Signpost</a></li><li><a href=\"/time/travel.html\">Travel Time Calculator</a></li><li><a href=\"/date/weekday.html\">Weekday Calculator</a></li><li><a href=\"/date/weeknumber.html\">Week Number Calculator</a></li></ul></li><li class=\"c-ap\"><a href=\"/extra/\">Apps &amp; API</a><a class=\"nav-back\" href=\"#\">Back</a><ul><li><a href=\"/ios/\">iOS Apps</a></li><li><a href=\"/android/\">Android Apps</a></li><li><a href=\"/windows/\">Windows App</a></li><li><a href=\"/clocks/free.html\">Free Clock</a></li><li><a href=\"/clocks/freecountdown.html\">Free Countdown</a></li><li><a href=\"/services/api/\">API for Developers</a></li></ul></li><li class=\"c-ff\"><a href=\"/fun/\">Free Fun</a><a class=\"nav-back\" href=\"#\">Back</a><ul><li><a href=\"/clocks/free.html\">Free Clock for Your Site</a></li><li><a href=\"/clocks/freecountdown.html\">Free Countdown for Your Site</a></li><li><a href=\"/wordclock/\">Word Clock</a></li><li><a href=\"/date/birthday.html\">Alternative Age Calculator</a></li><li><a href=\"/date/pattern.html\">Date Pattern Calculator</a></li><li><a href=\"/topics/fun\">Fun Fact Articles</a></li></ul></li></ul></div></div><div class=\"po\" id=\"po1\"></div><div id=\"mpo\"></div><div id=\"HS\"><div class=\"fixed\"><div class=\"hi\"><a href=\"/sun/\" title=\"Shows sunrise and sunset times, day lengths, twilight phases, azimuth, solar noon, and the distance between Sun and Earth.\">Sun Calculator</a> <a href=\"/moon/\" title=\"Shows moonrise and moonset times, azimuth, moon phase, and more.\">Moon Calculator</a> <a href=\"/moon/phases/\" title=\"Find out the precise times of the Moon phases in a location of your choice.\">Moon Phases</a> <a href=\"/eclipse/\" title=\"All solar and lunar eclipses, both worldwide and where you are.\">Eclipses</a> <a href=\"/calendar/seasons.html\" title=\"Shows the precise times for solstices and equinoxes, which define the beginning of the astronomical seasons.\">Seasons</a> <a href=\"/worldclock/sunearth.html\" title=\"See day and night move across the planet. Also shows the Sun's and Moon's positions.\">Day and Night Map</a> <a href=\"/astronomy/moon/light.html\" title=\"See where the Moon is visible in the sky (weather and moon phase permitting).\">Moon Light Map</a> <a href=\"/topics/astronomy\">Astronomy Articles</a></div></div></div><div class=\"main-content-div\"><div class=\"row socrow\"><div class=\"fixed\" id=\"bc\"><div id=\"bct\"><a class=\"fx\" href=\"/\" target=\"_top\">Home</a> &gt; <a class=\"fx\" href=\"/astronomy/\" target=\"_top\">Sun &amp; Moon</a> &gt; <a class=\"fx\" href=\"/astronomy/ireland\" target=\"_top\">Ireland</a> &gt; Dublin</div></div></div><script type=\"text/javascript\">\n",
      "window.placeid=78;mtt=1;var series_graph={t:1466982000,m:86400,e:{moon:[{s:3826,t:257},{s:47513,t:258}],sun:[{s:17950,t:257},{s:48493,t:4098},{s:79020,t:258}]},o:{moon:{az:[{e:10800,p:[82.07,0.003251,-1.75e-08,1.88e-12]}\n",
      ",{e:21600,p:[85.592,0.0024407,4.437e-08,3e-13]}\n",
      ",{e:32400,p:[118.02,-0.002416,2.8699e-07,-3.7402e-12]}\n",
      ",{e:43200,p:[-49.12,0.0131257,-1.9626e-07,1.2842e-12]}\n",
      ",{e:54000,p:[-87.658,0.0159924,-2.67293e-07,1.8703e-12]}\n",
      ",{e:64800,p:[110.75,0.0054756,-8.1546e-08,7.7717e-13]}\n",
      ",{e:75600,p:[1376.99,-0.0536838,8.40315e-07,-4.0139e-12]}\n",
      ",{e:86400,p:[-1176.2,0.0330368,-3.0328e-07,1.0155e-12]}\n",
      "]\n",
      ",ang:[{e:21600,p:[3.37,5.5e-06,-1.1e-09,-5.4e-15]}\n",
      ",{e:43200,p:[3.73,-8.6e-06,-2.02e-09,3.14e-14]}\n",
      ",{e:64800,p:[4.12,-6.97e-05,2.6e-10,6.55e-15]}\n",
      ",{e:86400,p:[12.01,-0.0005124,8.244e-09,-4.02e-14]}\n",
      "]\n",
      ",ph:[{e:21600,p:[259.561,0.0001492,1.4e-11,0]}\n",
      ",{e:27000,p:[259.561,0.0001492,1.4e-11,0]}\n",
      ",{e:28380,p:[259.561,0.0001492,1.3e-11,0]}\n",
      ",{e:29040,p:[259.561,0.0001492,1.4e-11,0]}\n",
      ",{e:29220,p:[259.561,0.0001492,1.4e-11,0]}\n",
      ",{e:29280,p:[-170936740.439,11694.0001492,-0.199999999986,0]}\n",
      ",{e:29340,p:[-100.439,0.0001492,1.4e-11,0]}\n",
      ",{e:29400,p:[-100.442,0.0001494,1.1e-11,0]}\n",
      ",{e:29700,p:[-100.439,0.0001492,1.4e-11,0]}\n",
      ",{e:32400,p:[-100.439,0.0001491,1.5e-11,0]}\n",
      ",{e:43200,p:[-100.439,0.00014915,1.4e-11,0]}\n",
      ",{e:86400,p:[-100.439,0.00014913,1.5e-11,0]}\n",
      "]\n",
      ",alt:[{e:10800,p:[100.15,-0.002412,-1.07e-08,1.3e-12]}\n",
      ",{e:21600,p:[99.155,-0.002152,-3.41e-08,2.02e-12]}\n",
      ",{e:32400,p:[132.4,-0.0064318,1.4984e-07,-6.206e-13]}\n",
      ",{e:43200,p:[162.23,-0.0095938,2.6038e-07,-1.8973e-12]}\n",
      ",{e:54000,p:[121.22,-0.0066449,1.8965e-07,-1.3312e-12]}\n",
      ",{e:64800,p:[224.22,-0.0122721,2.9221e-07,-1.9549e-12]}\n",
      ",{e:75600,p:[-403,0.0158202,-1.2712e-07,1.312e-13]}\n",
      ",{e:86400,p:[-1076.84,0.0435676,-5.07792e-07,1.8712e-12]}\n",
      "]\n",
      ",ill:[{e:86400,p:[0.5918,-1.28e-06,0,0]}\n",
      "]\n",
      "},sun:{az:[{e:10800,p:[339.46,0.003791,2.66e-08,-1.68e-12]}\n",
      ",{e:21600,p:[-23.81,0.0046031,-4.154e-08,2.69e-13]}\n",
      ",{e:32400,p:[-41.92,0.0070837,-1.5595e-07,2.046e-12]}\n",
      ",{e:43200,p:[-165.87,0.0183577,-4.98809e-07,5.5328e-12]}\n",
      ",{e:48600,p:[1426.37,-0.0907916,1.99626e-06,-1.34868e-11]}\n",
      ",{e:54000,p:[1120.21,-0.0756309,1.76118e-06,-1.24015e-11]}\n",
      ",{e:64800,p:[-1604.58,0.07744456,-1.10601e-06,5.5039e-12]}\n",
      ",{e:75600,p:[-670.758,0.0339733,-4.30872e-07,2.0058e-12]}\n",
      ",{e:86400,p:[105.8,0.0032815,-2.62e-08,2.258e-13]}\n",
      "]\n",
      ",alt:[{e:10800,p:[101,0.0008871,-8.405e-08,2e-14]}\n",
      ",{e:21600,p:[99.86,0.001232,-1.2002e-07,1.302e-12]}\n",
      ",{e:32400,p:[100.8,0.001097,-1.1353e-07,1.199e-12]}\n",
      ",{e:43200,p:[27.04,0.0075468,-3.01727e-07,3.0315e-12]}\n",
      ",{e:48600,p:[-13.07,0.0112314,-4.08394e-07,4.0238e-12]}\n",
      ",{e:54000,p:[934.587,-0.0472615,7.95536e-07,-4.2393e-12]}\n",
      ",{e:64800,p:[668.632,-0.0336655,5.65142e-07,-2.9464e-12]}\n",
      ",{e:86400,p:[250.22,-0.0136312,2.4541e-07,-1.2457e-12]}\n",
      "]\n",
      "}}};\n",
      "</script>\n",
      "<header class=\"fixed\"><h1><img alt=\"Flag for Ireland\" height=\"21\" src=\"//c.tadst.com/gfx/n/fl/32/ie.png\" title=\"Flag for Ireland\" width=\"32\"/> Dublin, Ireland — Sunrise, Sunset, and Moon Times for Today</h1></header><section class=\"bk-sm\" id=\"bk-focus\"><div class=\"fixed\"><div id=\"tri-focus\">◢</div><div class=\"three columns tc\" id=\"qlook\"><img height=\"120\" id=\"cur-moon\" src=\"/scripts/moon.php?i=0.504&amp;p=2.611\" width=\"120\"/><div class=\"h1\">Moon: <span id=\"cur-moon-percent\">50.4%</span></div><p>Waning Gibbous</p></div><div class=\"five columns\" id=\"qfacts\"><p><span class=\"four\">Current Time: </span><span id=\"smct\">Jun 27, 2016 at 6:46:35 PM</span></p><br/><p><span class=\"four\">Sunrise Today: </span><span class=\"three\">4:59 AM</span><span class=\"comp sa4\" title=\"Map direction Northeast\">↑</span> 47° Northeast<br/><span class=\"four\">Sunset Today: </span><span class=\"three\">9:57 PM</span><span class=\"comp sa28\" title=\"Map direction Northwest\">↑</span> 313° Northwest</p><br/><p><span class=\"four\">Moonrise Today: </span><span class=\"three\">1:04 AM</span><span class=\"comp sa8\" title=\"Map direction East\">↑</span> 94° East<br/><span class=\"four\">Moonset Today: </span><span class=\"three\">1:12 PM</span><span class=\"comp sa24\" title=\"Map direction West\">↑</span> 269° West</p><br/><p><span class=\"four\">Daylight Hours: </span><span title=\"The current day is 16 hours, 57 minutes long which is 40s shorter than yesterday.\">16 hours, 57 minutes (-40s)</span></p></div><div class=\"four columns\" id=\"bk-map\"><a href=\"/time/map/#!cities=78\"><img alt=\"Location of Dublin\" height=\"160\" src=\"//c.tadst.com/gfx/citymap/ie-10.png?7\" style=\"background:#b2d0fe; border:3px solid #fff;\" title=\"Map showing the location of Dublin. Click map to see the location on our worldwide Time Zone Map.\" width=\"320\"/><img alt=\"Location\" class=\"fadeInDown\" height=\"34\" id=\"map-mrk\" src=\"//c.tadst.com/gfx/n/icon/icon-map-pin.png\" style=\"left:115px;top:99px;position:absolute\" title=\"Location of Dublin\" width=\"18\"/></a></div></div></section><nav id=\"bk-nav\"><div class=\"fixed\"><div class=\"four columns\" id=\"qsearch\"><form action=\"/worldclock/astronomy.html\" method=\"get\" name=\"f1\"><input aria-label=\"Place or country...\" autocomplete=\"off\" class=\"seven columns\" id=\"wcquery\" name=\"query\" onfocus=\"ifc(this,'ci',1,2)\" placeholder=\"Place or country...\" type=\"search\"/><input class=\"five columns\" type=\"submit\" value=\"Search\"/></form></div><div class=\"eight columns tc\"><div id=\"nav-2\"><a href=\"/worldclock/ireland/dublin\" title=\"General/main info about Dublin\">Time/General </a><a href=\"/weather/ireland/dublin\" title=\"Current weather and forecast for Dublin\">Weather </a><a href=\"/time/zone/ireland/dublin\" title=\"Past and future time change dates for Dublin\">Time Zone </a><a href=\"/time/change/ireland/dublin\" title=\"Daylight saving time changeover dates and times for Dublin\">DST Changes </a><a class=\"active\" href=\"/astronomy/ireland/dublin\" title=\"Calculate rising and setting times for the Sun and Moon in Dublin\">Sun &amp; Moon</a></div></div></div></nav><nav id=\"nav-3\"><div class=\"fixed\"><a class=\"active\" href=\"/astronomy/ireland/dublin\">Sun &amp; Moon Today </a><a href=\"/sun/ireland/dublin\">Sunrise &amp; Sunset </a><a href=\"/moon/ireland/dublin\">Moonrise &amp; Moonset </a><a href=\"/moon/phases/ireland/dublin\">Moon Phases </a><a href=\"/eclipse/in/ireland/dublin\">Eclipses </a><a class=\"tb-new\" href=\"/astronomy/night/ireland/dublin\">Night Sky <span class=\"tg-new\">Beta</span></a></div></nav><section class=\"fixed\"><div class=\"row pdbflexi dashb\"><div class=\"eight columns\"><h2 class=\"mgt0\">Today's Sun Position in Dublin</h2><div class=\"currentsun sun\" id=\"currentsun\"></div><p></p><p>The Sun's altitude in Dublin today. The horizontal line signifies the horizon, the vertical lines show the times of sunrise and sunset. Altitude and heading are displayed in the box on the right. The graph defaults to current time. Hover over it to select a different time. <a class=\"read-more\" href=\"/astronomy/about-sun-moon.html\">How to use this</a></p><p class=\"lk-block\"><a class=\"read-more\" href=\"/worldclock/sunearth.html\">Sun's current position over Earth</a></p></div><div class=\"four columns tc\" id=\"cs-now\"><div class=\"six columns pd10\" id=\"cs-info\"><h2 id=\"cs-time\">6:46 PM</h2><h4>Altitude</h4><span id=\"cs-altitude\">24.6°</span><h4>Heading</h4><span id=\"cs-heading\">276° W</span><h4>Phase</h4><span id=\"cs-phase\">Daylight</span></div><div class=\"six columns\" id=\"cs-dl\"><div class=\"icon-sun mgt15\"></div><h2 class=\"mgt0\">Day length</h2><p>16h 57m 50s</p><h3 class=\"mgt0\">Change since</h3><p title=\"June 27 is 40 seconds shorter than on yesterday, June 26, 2016\">Yesterday: -40s</p><p title=\"June 27 is 9 hours, 27 minutes, 54 seconds longer than on Winter Solstice, December 22, 2015\">Winter: +9h 27m</p><p title=\"June 27 is 2 minutes, 24 seconds shorter than on Summer Solstice, June 20, 2016\">Summer: -2m 24s</p></div></div></div><div class=\"row pdflexi dashb\"><div class=\"eight columns\"><h2 class=\"mgt0\">Night, Twilight, and Daylight Times in Dublin Today</h2><div class=\"clearfix\" id=\"as-lm\"><div class=\"mtt as-lm-period as-nautical-twilight\" id=\"lm-0\" style=\"width:1.531%;\" title=\"Nautical Twilight: 12:00 AM - 12:22 AM, 22 minutes\"></div><div class=\"mtt as-lm-period as-astronomical-twilight\" id=\"lm-1\" style=\"width:9.252%;\" title=\"Astro. Twilight: 12:22 AM - 2:35 AM, 2 hours, 13 minutes\"></div><div class=\"mtt as-lm-period as-nautical-twilight\" id=\"lm-2\" style=\"width:6.401%;\" title=\"Nautical Twilight: 2:35 AM - 4:07 AM, 1 hour, 32 minutes\"></div><div class=\"mtt as-lm-period as-civil-twilight\" id=\"lm-3\" style=\"width:3.626%;\" title=\"Civil Twilight: 4:07 AM - 4:59 AM, 52 minutes\"></div><div class=\"mtt as-lm-period as-daylight\" id=\"lm-4\" style=\"width:70.684%;\" title=\"Daylight: 4:59 AM - 9:57 PM, 16 hours, 58 minutes\"></div><div class=\"mtt as-lm-period as-civil-twilight\" id=\"lm-5\" style=\"width:3.619%;\" title=\"Civil Twilight: 9:57 PM - 10:49 PM, 52 minutes\"></div><div class=\"mtt as-lm-period as-nautical-twilight\" id=\"lm-6\" style=\"width:4.887%;\" title=\"Nautical Twilight: 10:49 PM - 11:59 PM, 1 hour, 10 minutes\"></div></div><div class=\"mgb25 clearfix mobhide\" id=\"lm-tm\"><div class=\"one columns\">12 AM</div><div class=\"one columns\">2 AM</div><div class=\"one columns\">4 AM</div><div class=\"one columns\">6 AM</div><div class=\"one columns\">8 AM</div><div class=\"one columns\">10 AM</div><div class=\"one columns\">12 PM</div><div class=\"one columns\">2 PM</div><div class=\"one columns\">4 PM</div><div class=\"one columns\">6 PM</div><div class=\"one columns\">8 PM</div><div class=\"one columns\">10 PM</div></div><p>Day, night, and twilight times in Dublin today. Black is nighttime, light blue is daytime. The darker blue shadings represent the twilight phases during dawn (left) and dusk (right). Hover over the graph for more information. <a class=\"read-more\" href=\"/astronomy/about-sun-moon.html\">How to use this</a></p><p>Today it does not get darker than Astronomical Twilight.</p></div><div class=\"four columns\"><table class=\"va-m fw\" id=\"lm-key\"><tbody><tr id=\"lm-leg-0\"><td><div class=\"c-key as-nautical-twilight\"></div></td><td>Nautical Twilight</td><td class=\"tr\">12:00 AM – 12:22 AM</td></tr><tr id=\"lm-leg-1\"><td><div class=\"c-key as-astronomical-twilight\"></div></td><td>Astro. Twilight</td><td class=\"tr\">12:22 AM – 2:35 AM</td></tr><tr id=\"lm-leg-2\"><td><div class=\"c-key as-nautical-twilight\"></div></td><td>Nautical Twilight</td><td class=\"tr\">2:35 AM – 4:07 AM</td></tr><tr id=\"lm-leg-3\"><td><div class=\"c-key as-civil-twilight\"></div></td><td>Civil Twilight</td><td class=\"tr\">4:07 AM – 4:59 AM</td></tr><tr id=\"lm-leg-4\"><td><div class=\"c-key as-daylight\"></div></td><td>Daylight</td><td class=\"tr\">4:59 AM – 9:57 PM</td></tr><tr id=\"lm-leg-5\"><td><div class=\"c-key as-civil-twilight\"></div></td><td>Civil Twilight</td><td class=\"tr\">9:57 PM – 10:49 PM</td></tr><tr id=\"lm-leg-6\"><td><div class=\"c-key as-nautical-twilight\"></div></td><td>Nautical Twilight</td><td class=\"tr\">10:49 PM – 11:59 PM</td></tr></tbody></table></div></div><div class=\"row pdflexi\"><div class=\"eight columns\"><h2 class=\"mgt0\">Sun in Dublin - Next 7 Days</h2><div class=\"tb-scroll\"><span>Scroll right to see more</span><table class=\"zebra tb-sm tb-hover fw va-m\" id=\"as-monthsun\"><thead><tr class=\"bg-wt\"><th>2016</th><th class=\"sep c\" colspan=\"2\" id=\"h_a_3_0\">Sunrise/Sunset</th><th class=\"sep c sep-l\" colspan=\"2\" id=\"h_a_5_0\">Daylength</th><th class=\"sep c sep-l\" colspan=\"2\" id=\"h_a_7_0\">Solar Noon</th></tr><tr><th rowspan=\"2\">Jun</th><th class=\"sep c\" rowspan=\"2\">Sunrise</th><th class=\"sep c\" rowspan=\"2\">Sunset</th><th class=\"sep c sep-l tr\" rowspan=\"2\">Length</th><th class=\"sep c tr\" rowspan=\"2\">Difference</th><th class=\"sep c sep-l\" rowspan=\"2\">Time</th><th class=\"sep c tr\" rowspan=\"2\"><span title=\"Million miles\">Mil. mi</span></th></tr><tr></tr></thead><tbody><tr data-day=\"27\" title=\"Click to expand for more details\"><th>Jun 27</th><td class=\"c sep\">4:59 AM</td><td class=\"sep c\">9:57 PM</td><td class=\"c tr sep-l\">16:57:50</td><td class=\"c tr sep\">−0:40</td><td class=\"c sep-l\">1:28 PM <span class=\"small soft\">(59.9°)</span></td><td class=\"tr sep\">94.499</td></tr><tr data-day=\"28\" title=\"Click to expand for more details\"><th>Jun 28</th><td class=\"c sep\">5:00 AM</td><td class=\"sep c\">9:57 PM</td><td class=\"c tr sep-l\">16:57:03</td><td class=\"c tr sep\">−0:47</td><td class=\"c sep-l\">1:28 PM <span class=\"small soft\">(59.9°)</span></td><td class=\"tr sep\">94.502</td></tr><tr data-day=\"29\" title=\"Click to expand for more details\"><th>Jun 29</th><td class=\"c sep\">5:00 AM</td><td class=\"sep c\">9:57 PM</td><td class=\"c tr sep-l\">16:56:09</td><td class=\"c tr sep\">−0:53</td><td class=\"c sep-l\">1:29 PM <span class=\"small soft\">(59.8°)</span></td><td class=\"tr sep\">94.505</td></tr><tr data-day=\"30\" title=\"Click to expand for more details\"><th>Jun 30</th><td class=\"c sep\">5:01 AM</td><td class=\"sep c\">9:56 PM</td><td class=\"c tr sep-l\">16:55:09</td><td class=\"c tr sep\">−0:59</td><td class=\"c sep-l\">1:29 PM <span class=\"small soft\">(59.8°)</span></td><td class=\"tr sep\">94.508</td></tr><tr data-day=\"1\" title=\"Click to expand for more details\"><th>Jul 1</th><td class=\"c sep\">5:02 AM</td><td class=\"sep c\">9:56 PM</td><td class=\"c tr sep-l\">16:54:03</td><td class=\"c tr sep\">−1:06</td><td class=\"c sep-l\">1:29 PM <span class=\"small soft\">(59.7°)</span></td><td class=\"tr sep\">94.510</td></tr><tr data-day=\"2\" title=\"Click to expand for more details\"><th>Jul 2</th><td class=\"c sep\">5:03 AM</td><td class=\"sep c\">9:55 PM</td><td class=\"c tr sep-l\">16:52:50</td><td class=\"c tr sep\">−1:12</td><td class=\"c sep-l\">1:29 PM <span class=\"small soft\">(59.6°)</span></td><td class=\"tr sep\">94.512</td></tr><tr data-day=\"3\" title=\"Click to expand for more details\"><th>Jul 3</th><td class=\"c sep\">5:03 AM</td><td class=\"sep c\">9:55 PM</td><td class=\"c tr sep-l\">16:51:32</td><td class=\"c tr sep\">−1:18</td><td class=\"c sep-l\">1:29 PM <span class=\"small soft\">(59.6°)</span></td><td class=\"tr sep\">94.513</td></tr></tbody><tfoot><tr><td colspan=\"7\"> * All times are local time for Dublin. Time is adjusted for <a href=\"/time/dst/\">DST</a> when applicable. Dates are based on the <a href=\"/calendar/gregorian-calendar.html\">Gregorian calendar</a>. </td></tr></tfoot></table></div><p></p><p></p><p class=\"lk-block\"><a class=\"read-more\" href=\"/sun/ireland/dublin\">See full month's Sun</a></p></div><div class=\"four columns\"><h2>Equinoxes &amp; Solstices 2016</h2><div class=\"tb-scroll\"><span>Scroll right to see more</span><table class=\"fw tb-wc zebra\"><thead><tr class=\"bg-wt\"><th>2016</th><th class=\"sep\">Date</th><th class=\"sep\">Time</th></tr></thead><tbody><tr><th><a href=\"/calendar/march-equinox.html\">March Equinox</a></th><td>Mar 20</td><td>4:30 AM</td></tr><tr><th><a href=\"/calendar/june-solstice.html\">June Solstice</a></th><td>Jun 20</td><td>11:34 PM</td></tr><tr><th><a href=\"/calendar/september-equinox.html\">September Equinox</a></th><td>Sep 22</td><td>3:21 PM</td></tr><tr><th><a href=\"/calendar/december-solstice.html\">December Solstice</a></th><td>Dec 21</td><td>10:44 AM</td></tr></tbody><tfoot><tr><td colspan=\"3\">* All times are local Dublin time.</td></tr></tfoot></table></div><h2 class=\"mgt0\">Sun Articles</h2><ul><li><a href=\"/calendar/seasons.html?n=78\">Seasons Calculator for Dublin</a></li><li><a href=\"/worldclock/sunset-sunrise-photography.html\">Tips on Photographing Sunsets and Sunrises</a></li></ul></div></div></section><div style=\"background:#fbf9f4; border-top:1px dotted #ccc;\"><div class=\"fixed\"><div class=\"row pdflexi dashb\"><div class=\"eight columns\"><h2 class=\"mgt0\">Today's Moon in Dublin</h2><div class=\"currentsun moon\" id=\"currentmoon\"></div><p>The Moon's path in Dublin today. The horizontal line signifies the horizon, the vertical lines show times and headings of moonrise and moonset. The graph defaults to current time. Hover over it to select a different time. <a class=\"read-more\" href=\"/astronomy/about-sun-moon.html\">How to use this</a></p><p class=\"lk-block\"><a class=\"read-more\" href=\"/moon/phases/ireland/dublin\">Year 2016 Moon Phases</a></p></div><div class=\"tc four columns mgt25\" id=\"cm-now\"><div class=\"six columns pd10\" id=\"cm-info\"><h2 id=\"cm-time\">6:46 PM</h2><h4>Altitude</h4><span id=\"cm-altitude\">-36.1°</span><h4>Heading</h4><span id=\"cm-heading\">348° N</span><h4>Phase</h4><span id=\"cm-phase\">Waning Gibbous</span></div><div class=\"six columns\"><div class=\"mgt25\" data-moonphase-angle=\"2.611108\" data-moonphase-illumination=\"0.504011\" data-moonphase-width=\"60\" id=\"cm-img\"></div><h2 class=\"mgt0\">Percent illuminated</h2><p id=\"cm-illum\">50.4%</p></div></div></div><div class=\"row pdflexi\"><div class=\"eight columns\"><h2 class=\"mgt0\">Moon in Dublin - Next 7 days</h2><div class=\"tb-scroll\"><span>Scroll right to see more</span><table class=\"fw zebra tb-sm tb-hover va-m\" id=\"tb-7dmn\"><thead><tr class=\"bg-wt\"><th>2016</th><th class=\"sep\" colspan=\"6\">Moonrise/Moonset</th><th class=\"sep-l\" colspan=\"4\">Meridian Passing</th></tr><tr><th>Jun</th><th class=\"sep tc\" colspan=\"2\">Moonrise</th><th class=\"sep tc\" colspan=\"2\">Moonset</th><th class=\"sep tc\" colspan=\"2\">Moonrise</th><th class=\"sep-l tc\" colspan=\"2\">Time</th><th class=\"tr sep\">Distance (mi)</th><th class=\"tr sep\">Illumination</th></tr></thead><tbody><tr data-day=\"27\" title=\"Click to expand for more details\"><th rowspan=\"1\" title=\"Third Quarter at 7:18 PM\"><img class=\"fl\" height=\"11\" src=\"//c.tadst.com/gfx/moon2.svg\" title=\"Third Quarter at 7:18 PM\" width=\"11\"/> Jun 27</th><td class=\"c sep\" colspan=\"2\" title=\"The Moon rises in the East at 1:04 AM\">1:04 AM</td><td class=\"c sep\" colspan=\"2\" title=\"The Moon sets in the West at 1:12 PM\">1:12 PM</td><td class=\"sep tc\" colspan=\"2\">-</td><td class=\"pdr0 sep-l\" title=\"The Moon crosses the local meridian at 7:02 AM (34.5° above the horizon)\">7:02 AM</td><td class=\"pdl0\" title=\"The Moon crosses the local meridian at 7:02 AM (34.5° above the horizon)\"><span class=\"small soft\">(34.5°)</span></td><td class=\"tr sep\" title=\"The Moon is 231,603 mi from Earth's center when it crosses the local meridian\">231,603</td><td class=\"tr sep\" title=\"The Moon's disk is 55.9% illuminated when it crosses the local meridian\">55.9%</td></tr><tr data-day=\"28\" title=\"Click to expand for more details\"><th rowspan=\"1\">Jun 28</th><td class=\"c sep\" colspan=\"2\" title=\"The Moon rises in the East at 1:30 AM\">1:30 AM</td><td class=\"c sep\" colspan=\"2\" title=\"The Moon sets in the West at 2:30 PM\">2:30 PM</td><td class=\"sep tc\" colspan=\"2\">-</td><td class=\"pdr0 sep-l\" title=\"The Moon crosses the local meridian at 7:53 AM (39.1° above the horizon)\">7:53 AM</td><td class=\"pdl0\" title=\"The Moon crosses the local meridian at 7:53 AM (39.1° above the horizon)\"><span class=\"small soft\">(39.1°)</span></td><td class=\"tr sep\" title=\"The Moon is 229,922 mi from Earth's center when it crosses the local meridian\">229,922</td><td class=\"tr sep\" title=\"The Moon's disk is 44.2% illuminated when it crosses the local meridian\">44.2%</td></tr><tr data-day=\"29\" title=\"Click to expand for more details\"><th rowspan=\"1\">Jun 29</th><td class=\"c sep\" colspan=\"2\" title=\"The Moon rises in the East at 1:56 AM\">1:56 AM</td><td class=\"c sep\" colspan=\"2\" title=\"The Moon sets in the West-northwest at 3:48 PM\">3:48 PM</td><td class=\"sep tc\" colspan=\"2\">-</td><td class=\"pdr0 sep-l\" title=\"The Moon crosses the local meridian at 8:45 AM (43.7° above the horizon)\">8:45 AM</td><td class=\"pdl0\" title=\"The Moon crosses the local meridian at 8:45 AM (43.7° above the horizon)\"><span class=\"small soft\">(43.7°)</span></td><td class=\"tr sep\" title=\"The Moon is 228,568 mi from Earth's center when it crosses the local meridian\">228,568</td><td class=\"tr sep\" title=\"The Moon's disk is 32.5% illuminated when it crosses the local meridian\">32.5%</td></tr><tr data-day=\"30\" title=\"Click to expand for more details\"><th rowspan=\"1\">Jun 30</th><td class=\"c sep\" colspan=\"2\" title=\"The Moon rises in the East-northeast at 2:26 AM\">2:26 AM</td><td class=\"c sep\" colspan=\"2\" title=\"The Moon sets in the West-northwest at 5:07 PM\">5:07 PM</td><td class=\"sep tc\" colspan=\"2\">-</td><td class=\"pdr0 sep-l\" title=\"The Moon crosses the local meridian at 9:40 AM (47.8° above the horizon)\">9:40 AM</td><td class=\"pdl0\" title=\"The Moon crosses the local meridian at 9:40 AM (47.8° above the horizon)\"><span class=\"small soft\">(47.8°)</span></td><td class=\"tr sep\" title=\"The Moon is 227,684 mi from Earth's center when it crosses the local meridian\">227,684</td><td class=\"tr sep\" title=\"The Moon's disk is 21.8% illuminated when it crosses the local meridian\">21.8%</td></tr><tr data-day=\"1\" title=\"Click to expand for more details\"><th rowspan=\"1\">Jul 1</th><td class=\"c sep\" colspan=\"2\" title=\"The Moon rises in the East-northeast at 3:00 AM\">3:00 AM</td><td class=\"c sep\" colspan=\"2\" title=\"The Moon sets in the West-northwest at 6:23 PM\">6:23 PM</td><td class=\"sep tc\" colspan=\"2\">-</td><td class=\"pdr0 sep-l\" title=\"The Moon crosses the local meridian at 10:36 AM (51.2° above the horizon)\">10:36 AM</td><td class=\"pdl0\" title=\"The Moon crosses the local meridian at 10:36 AM (51.2° above the horizon)\"><span class=\"small soft\">(51.2°)</span></td><td class=\"tr sep\" title=\"The Moon is 227,416 mi from Earth's center when it crosses the local meridian\">227,416</td><td class=\"tr sep\" title=\"The Moon's disk is 12.6% illuminated when it crosses the local meridian\">12.6%</td></tr><tr data-day=\"2\" title=\"Click to expand for more details\"><th rowspan=\"1\">Jul 2</th><td class=\"c sep\" colspan=\"2\" title=\"The Moon rises in the East-northeast at 3:41 AM\">3:41 AM</td><td class=\"c sep\" colspan=\"2\" title=\"The Moon sets in the West-northwest at 7:35 PM\">7:35 PM</td><td class=\"sep tc\" colspan=\"2\">-</td><td class=\"pdr0 sep-l\" title=\"The Moon crosses the local meridian at 11:34 AM (53.5° above the horizon)\">11:34 AM</td><td class=\"pdl0\" title=\"The Moon crosses the local meridian at 11:34 AM (53.5° above the horizon)\"><span class=\"small soft\">(53.5°)</span></td><td class=\"tr sep\" title=\"The Moon is 227,890 mi from Earth's center when it crosses the local meridian\">227,890</td><td class=\"tr sep\" title=\"The Moon's disk is 5.7% illuminated when it crosses the local meridian\">5.7%</td></tr><tr data-day=\"3\" title=\"Click to expand for more details\"><th rowspan=\"1\">Jul 3</th><td class=\"c sep\" colspan=\"2\" title=\"The Moon rises in the East-northeast at 4:29 AM\">4:29 AM</td><td class=\"c sep\" colspan=\"2\" title=\"The Moon sets in the West-northwest at 8:38 PM\">8:38 PM</td><td class=\"sep tc\" colspan=\"2\">-</td><td class=\"pdr0 sep-l\" title=\"The Moon crosses the local meridian at 12:33 PM (54.6° above the horizon)\">12:33 PM</td><td class=\"pdl0\" title=\"The Moon crosses the local meridian at 12:33 PM (54.6° above the horizon)\"><span class=\"small soft\">(54.6°)</span></td><td class=\"tr sep\" title=\"The Moon is 229,165 mi from Earth's center when it crosses the local meridian\">229,165</td><td class=\"tr sep\" title=\"The Moon's disk is 1.5% illuminated when it crosses the local meridian\">1.5%</td></tr></tbody><tfoot><tr><td colspan=\"11\"> * All times are local time for Dublin. Time is adjusted for <a href=\"/time/dst/\">DST</a> when applicable. Dates are based on the <a href=\"/calendar/gregorian-calendar.html\">Gregorian calendar</a>. Illumination is calculated at lunar noon. </td></tr></tfoot></table></div><p class=\"lk-block\"><a class=\"read-more\" href=\"/moon/ireland/dublin\">See full month's Moon</a></p></div><div class=\"four columns\"><div id=\"ad300\">Advertising<br/><div id=\"div-gpt-ad-1407274334297-0\" style=\"width:300px;height:250px;\"><script type=\"text/javascript\">\n",
      "googletag.cmd.push(function(){googletag.display('div-gpt-ad-1407274334297-0'); });\n",
      "</script>\n",
      "</div></div>\n",
      "<h2>Moon Articles</h2><ul><li><a href=\"/astronomy/moon/blue-moon.html\">What's a Blue Moon?</a></li><li><a href=\"/astronomy/moon/super-full-moon.html\">What's a Super Full Moon?</a></li><li><a href=\"/astronomy/moonbows.html\">What are Moonbows?</a></li><li><a href=\"/worldclock/moonset-moonrise-photography.html\">Moonrise and Moonset Photography Tips and Tricks</a></li></ul></div></div></div></div><section class=\"pdflexi\" style=\"border-top:1px dotted #ccc;\"><div class=\"row fixed\"><div class=\"eight columns\"><h2 class=\"mgt0\">Planets Visible in the Sky in Dublin This Coming Night</h2><table class=\"tb-wc sep zebra fw\"><thead><tr class=\"bg-wt\"><th> </th><th class=\"sep\" colspan=\"4\">Planetrise/Planetset, Mon, Jun 27, 2016</th></tr><tr><th>Planet</th><th class=\"sep\">Rise</th><th class=\"sep\">Set</th><th class=\"sep\">Meridian</th><th class=\"sep\">Comment</th></tr></thead><tbody><tr class=\"c0\"><th>Mercury</th><td class=\"c\">Mon 4:12 AM</td><td class=\"c\">Mon 9:07 PM</td><td class=\"c sep-l\">Mon 12:39 PM</td><td>Slightly difficult to see</td></tr><tr class=\"c1\"><th>Venus</th><td class=\"c\">Mon 5:23 AM</td><td class=\"c\">Mon 10:23 PM</td><td class=\"c sep-l\">Mon 1:53 PM</td><td>Slightly difficult to see</td></tr><tr class=\"c0\"><th>Mars</th><td class=\"c\">Mon 6:20 PM</td><td class=\"c\">Tue 2:19 AM</td><td class=\"c sep-l\">Mon 10:19 PM</td><td>Perfect visibility</td></tr><tr class=\"c1\"><th>Jupiter</th><td class=\"c\">Mon 11:35 AM</td><td class=\"c\">Tue 12:50 AM</td><td class=\"c sep-l\">Mon 6:13 PM</td><td>Fairly good visibility</td></tr><tr class=\"c0\"><th>Saturn</th><td class=\"c\">Mon 7:36 PM</td><td class=\"c\">Tue 3:44 AM</td><td class=\"c sep-l\">Mon 11:40 PM</td><td>Perfect visibility</td></tr><tr class=\"c1\"><th>Uranus</th><td class=\"c\">Tue 1:37 AM</td><td class=\"c\">Tue 3:19 PM</td><td class=\"c sep-l\">Tue 8:28 AM</td><td>Difficult to see</td></tr><tr class=\"c0\"><th>Neptune</th><td class=\"c\">Tue 12:33 AM</td><td class=\"c\">Tue 11:13 AM</td><td class=\"c sep-l\">Tue 5:53 AM</td><td>Difficult to see</td></tr></tbody><tfoot><tr><td colspan=\"5\">* All times are local time for Dublin.</td></tr></tfoot></table><p><a class=\"read-more\" href=\"/topics/meteors\">Read About Asteroids &amp; Meteor Showers</a></p></div><div class=\"four columns\"><h2 class=\"mgt0\">Night Sky Articles</h2><ul><li><a href=\"/astronomy/sights-to-see.html\">Cosmic Calendar 2016</a></li><li><a href=\"/astronomy/meteor-shower/\">Meteor showers</a></li><li><a href=\"/scripts/go.php\">Check Your Cloud Cover</a></li><li><a href=\"/topics/astronomy\">More Astronomy Articles</a></li></ul></div></div></section><script type=\"text/javascript\">\n",
      "et=1467221395;\n",
      "function timeFmt(d){return ((d.getUTCHours()+11)%12+1)+':'+p2(d.getUTCMinutes())+' '+_ap2(d);}\n",
      "function f1(d){return sm[d.getUTCMonth()]+' '+d.getUTCDate()+', '+d.getUTCFullYear()+' at '+((d.getUTCHours()+11)%12+1)+':'+p2(d.getUTCMinutes())+':'+p2(d.getUTCSeconds())+' '+_ap2(d);}\n",
      "cks={smct:{t:[{o:3600,a:\"<a href=\\\"/time/zones/ist-ireland\\\" title=\\\"Irish Standard Time\\\">IST</a>\",d:1}],f:f1,g:{t:2}}};\n",
      "sm=[];sm[5]='Jun';\n",
      "function _ap2(d){var t=Math.floor(d.getTime()/1E3+8640000000)%86400;if(t<43200){return 'AM';}return 'PM';}\n",
      "\n",
      "</script><script src=\"//a.tadst.com/common/wcommon_61.js\" type=\"text/javascript\"></script><script src=\"//a.tadst.com/common/astroseries_10.js\" type=\"text/javascript\"></script><script src=\"//a.tadst.com/common/moonphase.js\" type=\"text/javascript\"></script><script src=\"//a.tadst.com/common/currentsun_10.js\" type=\"text/javascript\"></script><script type=\"text/javascript\">\n",
      "aSeries.set(series_graph);var sun=new CurrentSun(\"currentsun\",\"sun\"),cs_time=gf(\"cs-time\"),cs_altitude=gf(\"cs-altitude\"),cs_heading=gf(\"cs-heading\"),cs_phase=gf(\"cs-phase\");sun.onupdate=function(a){iH(cs_time,a.time_formatted);iH(cs_altitude,a.altitude+\"&deg;\");iH(cs_heading,'<span class=\"comp sa'+2*a.directionValue+'\">\\u2191</span><span class=\"deg\">'+a.azimuth+'&deg;</span><span class=\"car\">'+a.cardinal+\"</span>\");iH(cs_phase,a.phase)};\n",
      "var moon=new CurrentSun(\"currentmoon\",\"moon\",\"#fbf9f4\"),moonphase=new MoonPhase(\"cm-img\"),cm_time=gf(\"cm-time\"),cm_altitude=gf(\"cm-altitude\"),cm_heading=gf(\"cm-heading\"),cm_phase=gf(\"cm-phase\"),cm_illum=gf(\"cm-illum\"),illumSeries=aSeries.get(\"moon\",\"ill\"),moonpercent=gf(\"cur-moon-percent\");function updateMoonPercent(a){a=illumSeries.get(a);iH(moonpercent,(100*a).toFixed(1)+\"%\")}\n",
      "moon.onupdate=function(a){iH(cm_time,a.time_formatted);iH(cm_altitude,a.altitude+\"&deg;\");iH(cm_heading,'<span class=\"comp sa'+2*a.directionValue+'\">\\u2191</span><span class=\"deg\">'+a.azimuth+'&deg;</span><span class=\"car\">'+a.cardinal+\"</span>\");iH(cm_phase,a.phase);a.angle&&a.illumination&&(moonphase.set(a.angle,a.illumination),iH(cm_illum,(100*a.illumination).toFixed(1)+\"%\"))};var nextUpdate=0;\n",
      "TO.aC(function(a){a=aSeries.toSecs(new Date(a));a>nextUpdate&&(sun.setTime(a),moon.setTime(a),updateMoonPercent(a),nextUpdate=a-a%60+60)});var lm=gebtn(\"div\",gf(\"as-lm\")),lmleg=gebtn(\"tr\",gf(\"lm-key\")),elements=lm.concat(lmleg);it(elements,function(a){var b=a.id.substring(a.id.lastIndexOf(\"-\")+1);ael(a,\"mouseover\",function(a){ac(gf(\"lm-leg-\"+b),\"hover\",1);ac(gf(\"lm-\"+b),\"hover\",1)});ael(a,\"mouseout\",function(a){ac(gf(\"lm-leg-\"+b),\"hover\",0);ac(gf(\"lm-\"+b),\"hover\",0)})});\n",
      "\n",
      "</script></div>\n",
      "</div>\n",
      "<div id=\"footer\">\n",
      "<div class=\"fixed\">\n",
      "<div class=\"six columns\">\n",
      "<a href=\"/information/\" id=\"footer-logo\"><img alt=\"timeanddate.com Logo\" src=\"//a.tadst.com/gfx/n/tad-logo-com2.png\"/></a>\n",
      "<p id=\"footer-copy\"><a href=\"/information/copyright.html\">Copyright © Time and Date AS 1995–2016. All rights reserved.</a></p>\n",
      "</div>\n",
      "<div class=\"six columns\">\n",
      "<p id=\"footer-links\">\n",
      "<script> bli(); main(); </script>\n",
      "</p><noscript><a href=\"/information/feedback.html\" id=\"LRFL\">Feedback</a> | </noscript>\n",
      "<a href=\"/information/\">About Us</a> | <a href=\"/information/advertising.html\">Advertising</a> | <a href=\"/information/disclaimer.html\">Disclaimer</a> | <a href=\"/information/privacy.html\">Privacy</a> | <a href=\"/sitemap.html\">Sitemap</a>\n",
      "</div>\n",
      "</div>\n",
      "</div>\n",
      "<div class=\"wfc\" id=\"FBD\" style=\"display:none\"></div>\n",
      "</body></html>\n"
     ]
    }
   ],
   "source": [
    "print soup"
   ]
  },
  {
   "cell_type": "code",
   "execution_count": null,
   "metadata": {
    "collapsed": true
   },
   "outputs": [],
   "source": []
  }
 ],
 "metadata": {
  "kernelspec": {
   "display_name": "Python 2",
   "language": "python",
   "name": "python2"
  },
  "language_info": {
   "codemirror_mode": {
    "name": "ipython",
    "version": 2
   },
   "file_extension": ".py",
   "mimetype": "text/x-python",
   "name": "python",
   "nbconvert_exporter": "python",
   "pygments_lexer": "ipython2",
   "version": "2.7.11"
  }
 },
 "nbformat": 4,
 "nbformat_minor": 0
}
