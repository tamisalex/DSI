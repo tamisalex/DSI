{
 "cells": [
  {
   "cell_type": "code",
   "execution_count": 1,
   "metadata": {
    "collapsed": false
   },
   "outputs": [
    {
     "name": "stdout",
     "output_type": "stream",
     "text": [
      "[[ 1.          0.9997348   0.99985247 ...,  0.99975169  0.99982538\n",
      "   0.984179  ]\n",
      " [ 0.9997348   1.          0.99996466 ...,  0.99953791  0.99990988\n",
      "   0.98141087]\n",
      " [ 0.99985247  0.99996466  1.         ...,  0.99975481  0.99998275\n",
      "   0.98296805]\n",
      " ..., \n",
      " [ 0.99975169  0.99953791  0.99975481 ...,  1.          0.99985158\n",
      "   0.98679025]\n",
      " [ 0.99982538  0.99990988  0.99998275 ...,  0.99985158  1.          0.9838677 ]\n",
      " [ 0.984179    0.98141087  0.98296805 ...,  0.98679025  0.9838677   1.        ]]\n"
     ]
    }
   ],
   "source": [
    "import numpy as np\n",
    "import pandas as pd\n",
    "\n",
    "#Read in Breast Cancer Dataset\n",
    "df = pd.read_csv(\"https://archive.ics.uci.edu/ml/machine-learning-databases/breast-cancer-wisconsin/wdbc.data\", header=None)\n",
    "\n",
    "#Obtain the first 10 features, which are the mean figures in the dataset\n",
    "data_df   = df[list(df.columns[2:12])]\n",
    "target_df = df[1]\n",
    "\n",
    "#Convert DataFrame to Numpy Array\n",
    "data = data_df.as_matrix(columns=None)\n",
    "\n",
    "#Perform Pearson correlation coefficients using Numpy\n",
    "print(np.corrcoef(data))\n"
   ]
  },
  {
   "cell_type": "code",
   "execution_count": null,
   "metadata": {
    "collapsed": true
   },
   "outputs": [],
   "source": []
  }
 ],
 "metadata": {
  "kernelspec": {
   "display_name": "Python 2",
   "language": "python",
   "name": "python2"
  },
  "language_info": {
   "codemirror_mode": {
    "name": "ipython",
    "version": 2
   },
   "file_extension": ".py",
   "mimetype": "text/x-python",
   "name": "python",
   "nbconvert_exporter": "python",
   "pygments_lexer": "ipython2",
   "version": "2.7.11"
  }
 },
 "nbformat": 4,
 "nbformat_minor": 0
}
