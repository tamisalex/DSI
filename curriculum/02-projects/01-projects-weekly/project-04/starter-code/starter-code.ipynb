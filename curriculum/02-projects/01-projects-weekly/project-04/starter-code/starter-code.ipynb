{
 "cells": [
  {
   "cell_type": "markdown",
   "metadata": {},
   "source": [
    "# Project 4"
   ]
  },
  {
   "cell_type": "markdown",
   "metadata": {},
   "source": [
    "In this project, you wil implement the natural language processing and logistic regression techniques that you've used this week. "
   ]
  },
  {
   "cell_type": "markdown",
   "metadata": {},
   "source": [
    "#### Step 1: Load the Python libraries that you will need for this project. "
   ]
  },
  {
   "cell_type": "code",
   "execution_count": 35,
   "metadata": {
    "collapsed": true
   },
   "outputs": [],
   "source": [
    "import numpy as np\n",
    "import pandas as pd\n",
    "import statsmodels.api as sm\n",
    "import matplotlib.pyplot as plt\n",
    "from patsy import dmatrices\n",
    "from sklearn.linear_model import LogisticRegression\n",
    "import os\n",
    "import nltk\n",
    "import re\n",
    "\n",
    "%matplotlib inline"
   ]
  },
  {
   "cell_type": "markdown",
   "metadata": {},
   "source": [
    "#### Step 2: Read in and examine the scraped data"
   ]
  },
  {
   "cell_type": "code",
   "execution_count": 74,
   "metadata": {
    "collapsed": false
   },
   "outputs": [
    {
     "data": {
      "text/html": [
       "<div>\n",
       "<table border=\"1\" class=\"dataframe\">\n",
       "  <thead>\n",
       "    <tr style=\"text-align: right;\">\n",
       "      <th></th>\n",
       "      <th>﻿jobtitlelink_link</th>\n",
       "      <th>jobtitlelink_link/_text</th>\n",
       "      <th>jobtitlelink_link/_title</th>\n",
       "      <th>savejob_label</th>\n",
       "      <th>label</th>\n",
       "      <th>morelikethis_link</th>\n",
       "      <th>morelikethis_link/_text</th>\n",
       "      <th>morelikethis_link/_title</th>\n",
       "      <th>col_description</th>\n",
       "      <th>salary_label</th>\n",
       "      <th>...</th>\n",
       "      <th>seriesgrade_value</th>\n",
       "      <th>locations_label</th>\n",
       "      <th>col_content</th>\n",
       "      <th>multiple_label</th>\n",
       "      <th>openperiod_label</th>\n",
       "      <th>openperiod_value</th>\n",
       "      <th>col_flag</th>\n",
       "      <th>col_value</th>\n",
       "      <th>col_value_dates</th>\n",
       "      <th>row_descriptions</th>\n",
       "    </tr>\n",
       "  </thead>\n",
       "  <tbody>\n",
       "    <tr>\n",
       "      <th>0</th>\n",
       "      <td>https://www.usajobs.gov/GetJob/ViewDetail/4316...</td>\n",
       "      <td>Senior Social Science Analyst</td>\n",
       "      <td>Senior Social Science Analyst 431614500</td>\n",
       "      <td>Save Job</td>\n",
       "      <td>|</td>\n",
       "      <td>https://www.usajobs.gov/Search/MoreLikeThis/?j...</td>\n",
       "      <td>More Like This</td>\n",
       "      <td>More Like This 431614500</td>\n",
       "      <td>...develops and refines a data analysis plan t...</td>\n",
       "      <td>Salary:</td>\n",
       "      <td>...</td>\n",
       "      <td>PE-0101-2A/2A</td>\n",
       "      <td>Location(s):</td>\n",
       "      <td>District of Columbia, District of Columbia</td>\n",
       "      <td>NaN</td>\n",
       "      <td>Open Period:</td>\n",
       "      <td>3/3/2016 to 3/18/2016</td>\n",
       "      <td>Announcement Number:</td>\n",
       "      <td>GAO-16-ARM-0101-05-DE</td>\n",
       "      <td>NaN</td>\n",
       "      <td>Department: Legislative Branch; Agency: Govern...</td>\n",
       "    </tr>\n",
       "    <tr>\n",
       "      <th>1</th>\n",
       "      <td>https://www.usajobs.gov/GetJob/ViewDetail/4328...</td>\n",
       "      <td>Operations Research Analyst, GS-1515-13, Censu...</td>\n",
       "      <td>Operations Research Analyst, GS-1515-13, Censu...</td>\n",
       "      <td>Save Job</td>\n",
       "      <td>|</td>\n",
       "      <td>https://www.usajobs.gov/Search/MoreLikeThis/?j...</td>\n",
       "      <td>More Like This</td>\n",
       "      <td>More Like This 432826100</td>\n",
       "      <td>...answers to questions and important data on ...</td>\n",
       "      <td>Salary:</td>\n",
       "      <td>...</td>\n",
       "      <td>GS-1515-13/13</td>\n",
       "      <td>Location(s):</td>\n",
       "      <td>Multiple Locations (2)</td>\n",
       "      <td>Multiple Locations</td>\n",
       "      <td>Open Period:</td>\n",
       "      <td>3/15/2016 to 3/23/2016</td>\n",
       "      <td>Announcement Number:</td>\n",
       "      <td>DIR-2016-0006</td>\n",
       "      <td>NaN</td>\n",
       "      <td>Department: Department Of Commerce; Agency: Bu...</td>\n",
       "    </tr>\n",
       "    <tr>\n",
       "      <th>2</th>\n",
       "      <td>https://www.usajobs.gov/GetJob/ViewDetail/4319...</td>\n",
       "      <td>Assistant Director, Fossil, Transmission, Biom...</td>\n",
       "      <td>Assistant Director, Fossil, Transmission, Biom...</td>\n",
       "      <td>Save Job</td>\n",
       "      <td>|</td>\n",
       "      <td>https://www.usajobs.gov/Search/MoreLikeThis/?j...</td>\n",
       "      <td>More Like This</td>\n",
       "      <td>More Like This 431957000</td>\n",
       "      <td>...the following seven areas of engineering sc...</td>\n",
       "      <td>Salary:</td>\n",
       "      <td>...</td>\n",
       "      <td>EJ-0801-04/04</td>\n",
       "      <td>Location(s):</td>\n",
       "      <td>District of Columbia, District of Columbia</td>\n",
       "      <td>NaN</td>\n",
       "      <td>Open Period:</td>\n",
       "      <td>3/8/2016 to 3/28/2016</td>\n",
       "      <td>Announcement Number:</td>\n",
       "      <td>DOE-HQ-LP-16-00588-EXC</td>\n",
       "      <td>NaN</td>\n",
       "      <td>Department: Department Of Energy; Agency: Depa...</td>\n",
       "    </tr>\n",
       "    <tr>\n",
       "      <th>3</th>\n",
       "      <td>https://www.usajobs.gov/GetJob/ViewDetail/4328...</td>\n",
       "      <td>Student Trainee (General Engineer Trainee/Phys...</td>\n",
       "      <td>Student Trainee (General Engineer Trainee/Phys...</td>\n",
       "      <td>Save Job</td>\n",
       "      <td>|</td>\n",
       "      <td>https://www.usajobs.gov/Search/MoreLikeThis/?j...</td>\n",
       "      <td>More Like This</td>\n",
       "      <td>More Like This 432890300</td>\n",
       "      <td>...position is located in the Science and Tech...</td>\n",
       "      <td>Salary:</td>\n",
       "      <td>...</td>\n",
       "      <td>GS-0899/1399-05/05</td>\n",
       "      <td>Location(s):</td>\n",
       "      <td>District of Columbia, District of Columbia</td>\n",
       "      <td>NaN</td>\n",
       "      <td>Open Period:</td>\n",
       "      <td>3/16/2016 to 3/22/2016</td>\n",
       "      <td>Announcement Number:</td>\n",
       "      <td>DHSHQ16-1584604-ST</td>\n",
       "      <td>NaN</td>\n",
       "      <td>Department: Department Of Homeland Security; A...</td>\n",
       "    </tr>\n",
       "    <tr>\n",
       "      <th>4</th>\n",
       "      <td>https://www.usajobs.gov/GetJob/ViewDetail/4225...</td>\n",
       "      <td>Interdisciplinary Mathematical Statistician/Su...</td>\n",
       "      <td>Interdisciplinary Mathematical Statistician/Su...</td>\n",
       "      <td>Save Job</td>\n",
       "      <td>|</td>\n",
       "      <td>https://www.usajobs.gov/Search/MoreLikeThis/?j...</td>\n",
       "      <td>More Like This</td>\n",
       "      <td>More Like This 422559200</td>\n",
       "      <td>...and opportunities; comparing data from diff...</td>\n",
       "      <td>Salary:</td>\n",
       "      <td>...</td>\n",
       "      <td>GS-1529/1530-13/13</td>\n",
       "      <td>Location(s):</td>\n",
       "      <td>Multiple Locations (2)</td>\n",
       "      <td>Multiple Locations</td>\n",
       "      <td>Open Period:</td>\n",
       "      <td>11/25/2015 to 11/25/2016</td>\n",
       "      <td>Announcement Number:</td>\n",
       "      <td>BOC-2016-0126</td>\n",
       "      <td>NaN</td>\n",
       "      <td>Department: Department Of Commerce; Agency: Bu...</td>\n",
       "    </tr>\n",
       "  </tbody>\n",
       "</table>\n",
       "<p>5 rows × 23 columns</p>\n",
       "</div>"
      ],
      "text/plain": [
       "                                  ﻿jobtitlelink_link  \\\n",
       "0  https://www.usajobs.gov/GetJob/ViewDetail/4316...   \n",
       "1  https://www.usajobs.gov/GetJob/ViewDetail/4328...   \n",
       "2  https://www.usajobs.gov/GetJob/ViewDetail/4319...   \n",
       "3  https://www.usajobs.gov/GetJob/ViewDetail/4328...   \n",
       "4  https://www.usajobs.gov/GetJob/ViewDetail/4225...   \n",
       "\n",
       "                             jobtitlelink_link/_text  \\\n",
       "0                      Senior Social Science Analyst   \n",
       "1  Operations Research Analyst, GS-1515-13, Censu...   \n",
       "2  Assistant Director, Fossil, Transmission, Biom...   \n",
       "3  Student Trainee (General Engineer Trainee/Phys...   \n",
       "4  Interdisciplinary Mathematical Statistician/Su...   \n",
       "\n",
       "                            jobtitlelink_link/_title savejob_label label  \\\n",
       "0            Senior Social Science Analyst 431614500      Save Job     |   \n",
       "1  Operations Research Analyst, GS-1515-13, Censu...      Save Job     |   \n",
       "2  Assistant Director, Fossil, Transmission, Biom...      Save Job     |   \n",
       "3  Student Trainee (General Engineer Trainee/Phys...      Save Job     |   \n",
       "4  Interdisciplinary Mathematical Statistician/Su...      Save Job     |   \n",
       "\n",
       "                                   morelikethis_link morelikethis_link/_text  \\\n",
       "0  https://www.usajobs.gov/Search/MoreLikeThis/?j...          More Like This   \n",
       "1  https://www.usajobs.gov/Search/MoreLikeThis/?j...          More Like This   \n",
       "2  https://www.usajobs.gov/Search/MoreLikeThis/?j...          More Like This   \n",
       "3  https://www.usajobs.gov/Search/MoreLikeThis/?j...          More Like This   \n",
       "4  https://www.usajobs.gov/Search/MoreLikeThis/?j...          More Like This   \n",
       "\n",
       "   morelikethis_link/_title  \\\n",
       "0  More Like This 431614500   \n",
       "1  More Like This 432826100   \n",
       "2  More Like This 431957000   \n",
       "3  More Like This 432890300   \n",
       "4  More Like This 422559200   \n",
       "\n",
       "                                     col_description salary_label  \\\n",
       "0  ...develops and refines a data analysis plan t...      Salary:   \n",
       "1  ...answers to questions and important data on ...      Salary:   \n",
       "2  ...the following seven areas of engineering sc...      Salary:   \n",
       "3  ...position is located in the Science and Tech...      Salary:   \n",
       "4  ...and opportunities; comparing data from diff...      Salary:   \n",
       "\n",
       "                         ...                           seriesgrade_value  \\\n",
       "0                        ...                               PE-0101-2A/2A   \n",
       "1                        ...                               GS-1515-13/13   \n",
       "2                        ...                               EJ-0801-04/04   \n",
       "3                        ...                          GS-0899/1399-05/05   \n",
       "4                        ...                          GS-1529/1530-13/13   \n",
       "\n",
       "  locations_label                                 col_content  \\\n",
       "0    Location(s):  District of Columbia, District of Columbia   \n",
       "1    Location(s):                      Multiple Locations (2)   \n",
       "2    Location(s):  District of Columbia, District of Columbia   \n",
       "3    Location(s):  District of Columbia, District of Columbia   \n",
       "4    Location(s):                      Multiple Locations (2)   \n",
       "\n",
       "       multiple_label openperiod_label          openperiod_value  \\\n",
       "0                 NaN     Open Period:     3/3/2016 to 3/18/2016   \n",
       "1  Multiple Locations     Open Period:    3/15/2016 to 3/23/2016   \n",
       "2                 NaN     Open Period:     3/8/2016 to 3/28/2016   \n",
       "3                 NaN     Open Period:    3/16/2016 to 3/22/2016   \n",
       "4  Multiple Locations     Open Period:  11/25/2015 to 11/25/2016   \n",
       "\n",
       "               col_flag               col_value col_value_dates  \\\n",
       "0  Announcement Number:   GAO-16-ARM-0101-05-DE             NaN   \n",
       "1  Announcement Number:           DIR-2016-0006             NaN   \n",
       "2  Announcement Number:  DOE-HQ-LP-16-00588-EXC             NaN   \n",
       "3  Announcement Number:      DHSHQ16-1584604-ST             NaN   \n",
       "4  Announcement Number:           BOC-2016-0126             NaN   \n",
       "\n",
       "                                    row_descriptions  \n",
       "0  Department: Legislative Branch; Agency: Govern...  \n",
       "1  Department: Department Of Commerce; Agency: Bu...  \n",
       "2  Department: Department Of Energy; Agency: Depa...  \n",
       "3  Department: Department Of Homeland Security; A...  \n",
       "4  Department: Department Of Commerce; Agency: Bu...  \n",
       "\n",
       "[5 rows x 23 columns]"
      ]
     },
     "execution_count": 74,
     "metadata": {},
     "output_type": "execute_result"
    }
   ],
   "source": [
    "jobs = pd.read_csv(\"your_data_here\")\n",
    "jobs.head()"
   ]
  },
  {
   "cell_type": "markdown",
   "metadata": {},
   "source": [
    "### Intro: Write a problem statement / aim for this project"
   ]
  },
  {
   "cell_type": "markdown",
   "metadata": {},
   "source": [
    "Hint: We want to understand which attributes affect salaries in data science"
   ]
  },
  {
   "cell_type": "markdown",
   "metadata": {},
   "source": [
    "### Part 1: Data Wrangling"
   ]
  },
  {
   "cell_type": "markdown",
   "metadata": {},
   "source": [
    "#### 1. Delete the unnecessary rows in the data"
   ]
  },
  {
   "cell_type": "code",
   "execution_count": null,
   "metadata": {
    "collapsed": true
   },
   "outputs": [],
   "source": []
  },
  {
   "cell_type": "markdown",
   "metadata": {},
   "source": [
    "#### 1.1 Rename the columns for easier reading"
   ]
  },
  {
   "cell_type": "code",
   "execution_count": null,
   "metadata": {
    "collapsed": true
   },
   "outputs": [],
   "source": []
  },
  {
   "cell_type": "markdown",
   "metadata": {},
   "source": [
    "#### 1.2 Tokenize the position's descriptions"
   ]
  },
  {
   "cell_type": "code",
   "execution_count": null,
   "metadata": {
    "collapsed": true
   },
   "outputs": [],
   "source": []
  },
  {
   "cell_type": "markdown",
   "metadata": {},
   "source": [
    "#### 1.3 Search for position descriptions that include \"data\""
   ]
  },
  {
   "cell_type": "markdown",
   "metadata": {},
   "source": [
    "Search the tokenized sentances for \"data\"; Use '1' if the description has \"data\" and '0' if it doesn't.  **Hint**: Write a function and loop through the *description* column"
   ]
  },
  {
   "cell_type": "code",
   "execution_count": null,
   "metadata": {
    "collapsed": true
   },
   "outputs": [],
   "source": []
  },
  {
   "cell_type": "markdown",
   "metadata": {},
   "source": [
    "Apply the function and delete the old \"description\" column"
   ]
  },
  {
   "cell_type": "code",
   "execution_count": null,
   "metadata": {
    "collapsed": true
   },
   "outputs": [],
   "source": []
  },
  {
   "cell_type": "markdown",
   "metadata": {},
   "source": [
    "#### 1.4: Wrangle the *salary* data and compute a mean salary for each position"
   ]
  },
  {
   "cell_type": "markdown",
   "metadata": {},
   "source": [
    "Break Apart the Salary Range into two columns "
   ]
  },
  {
   "cell_type": "code",
   "execution_count": null,
   "metadata": {
    "collapsed": true
   },
   "outputs": [],
   "source": []
  },
  {
   "cell_type": "markdown",
   "metadata": {},
   "source": [
    "and join the new ranges to the original dataframe"
   ]
  },
  {
   "cell_type": "code",
   "execution_count": null,
   "metadata": {
    "collapsed": true
   },
   "outputs": [],
   "source": []
  },
  {
   "cell_type": "markdown",
   "metadata": {},
   "source": [
    "Convert the new ranges back to numeric"
   ]
  },
  {
   "cell_type": "code",
   "execution_count": null,
   "metadata": {
    "collapsed": true
   },
   "outputs": [],
   "source": []
  },
  {
   "cell_type": "markdown",
   "metadata": {},
   "source": [
    "Calculate the Mean Salary and append it to the Dataframe"
   ]
  },
  {
   "cell_type": "code",
   "execution_count": null,
   "metadata": {
    "collapsed": true
   },
   "outputs": [],
   "source": []
  },
  {
   "cell_type": "markdown",
   "metadata": {},
   "source": [
    "## Part 2: Exploratory Data Analysis"
   ]
  },
  {
   "cell_type": "markdown",
   "metadata": {},
   "source": [
    "#### 1. Convert the Categorical Data to Numeric for EDA"
   ]
  },
  {
   "cell_type": "code",
   "execution_count": null,
   "metadata": {
    "collapsed": true
   },
   "outputs": [],
   "source": [
    "def workclass_to_numeric(x):\n",
    "    if x=='Philadelphia, Pennsylvania':\n",
    "        return 1\n",
    "    if x=='Concord, Massachusetts':\n",
    "        return 2\n",
    "    if x=='Greenbelt, Maryland':\n",
    "        return 3\n",
    "    if x=='Sacramento, California':\n",
    "        return 4\n",
    "    if x=='Oakland, California':\n",
    "        return 5\n",
    "    if x=='Pullman, Washington':\n",
    "        return 6\n",
    "\n",
    "    \n",
    "Etc."
   ]
  },
  {
   "cell_type": "markdown",
   "metadata": {},
   "source": [
    "#### 1.2 Run a basic description of the data"
   ]
  },
  {
   "cell_type": "code",
   "execution_count": null,
   "metadata": {
    "collapsed": true
   },
   "outputs": [],
   "source": []
  },
  {
   "cell_type": "markdown",
   "metadata": {},
   "source": [
    "#### 1.3 Plot the Data"
   ]
  },
  {
   "cell_type": "code",
   "execution_count": null,
   "metadata": {
    "collapsed": true
   },
   "outputs": [],
   "source": []
  },
  {
   "cell_type": "markdown",
   "metadata": {},
   "source": [
    "## Part 3: Logistic Regression"
   ]
  },
  {
   "cell_type": "markdown",
   "metadata": {
    "collapsed": true
   },
   "source": [
    "#### 1. Define the variables that we will use in our regression analysis"
   ]
  },
  {
   "cell_type": "code",
   "execution_count": null,
   "metadata": {
    "collapsed": true
   },
   "outputs": [],
   "source": []
  },
  {
   "cell_type": "markdown",
   "metadata": {},
   "source": [
    "#### 1.2 Transform \"Y\" into a 1-Dimensional Array for SciKit-Learn"
   ]
  },
  {
   "cell_type": "code",
   "execution_count": null,
   "metadata": {
    "collapsed": true
   },
   "outputs": [],
   "source": []
  },
  {
   "cell_type": "markdown",
   "metadata": {},
   "source": [
    "#### 1.3 Conduct the Regression"
   ]
  },
  {
   "cell_type": "code",
   "execution_count": null,
   "metadata": {
    "collapsed": true
   },
   "outputs": [],
   "source": []
  },
  {
   "cell_type": "markdown",
   "metadata": {},
   "source": [
    "#### 1.4 How can we judge the accuracy of this analysis? "
   ]
  },
  {
   "cell_type": "code",
   "execution_count": null,
   "metadata": {
    "collapsed": true
   },
   "outputs": [],
   "source": []
  },
  {
   "cell_type": "markdown",
   "metadata": {},
   "source": [
    "#### 1.5 Examine the coefficients to see our correlations"
   ]
  },
  {
   "cell_type": "code",
   "execution_count": null,
   "metadata": {
    "collapsed": true
   },
   "outputs": [],
   "source": []
  }
 ],
 "metadata": {
  "kernelspec": {
   "display_name": "Python 3",
   "language": "python",
   "name": "python3"
  },
  "language_info": {
   "codemirror_mode": {
    "name": "ipython",
    "version": 3
   },
   "file_extension": ".py",
   "mimetype": "text/x-python",
   "name": "python",
   "nbconvert_exporter": "python",
   "pygments_lexer": "ipython3",
   "version": "3.5.1"
  }
 },
 "nbformat": 4,
 "nbformat_minor": 0
}
