{
 "cells": [
  {
   "cell_type": "markdown",
   "metadata": {
    "focus": false,
    "id": "69b9a648-bcc7-490d-9f9b-ea244d156bd6"
   },
   "source": [
    "# Web Scraping for Indeed.com & Predicting Salaries"
   ]
  },
  {
   "cell_type": "markdown",
   "metadata": {
    "focus": false,
    "id": "34681254-c802-462f-829d-8894d0772d08"
   },
   "source": [
    "In this project, we will practice two major skills: collecting data by scraping a website and then building a binary predictor with Logistic Regression.\n",
    "\n",
    "We are going to collect salary information on data science jobs in a variety of markets. Then using the location, title and summary of the job we will attempt to predict the salary of the job. For job posting sites, this would be extraordinarily useful. While most listings DO NOT come with salary information (as you will see in this exercise), being to able extrapolate or predict the expected salaries from other listings can help guide negotiations.\n",
    "\n",
    "Normally, we could use regression for this task; however, we will convert this problem into classification and use Logistic Regression.\n",
    "\n",
    "- Question: Why would we want this to be a classification problem?\n",
    "- Answer: While more precision may be better, there is a fair amount of natural variance in job salaries - predicting a range be may be useful.\n",
    "\n",
    "Therefore, the first part of the assignment will be focused on scraping Indeed.com. In the second, we'll focus on using listings with salary information to build a model and predict additional salaries."
   ]
  },
  {
   "cell_type": "markdown",
   "metadata": {
    "focus": false,
    "id": "a948d79c-5527-4c0d-ab23-f5d43ce72056"
   },
   "source": [
    "### Scraping job listings from Indeed.com"
   ]
  },
  {
   "cell_type": "markdown",
   "metadata": {
    "focus": true,
    "id": "7203e0c9-e437-4802-a6ad-7dc464f94436"
   },
   "source": [
    "We will be scraping job listings from Indeed.com using BeautifulSoup. Luckily, Indeed.com is a simple text page where we can easily find relevant entries.\n",
    "\n",
    "First, look at the source of an Indeed.com page: (http://www.indeed.com/jobs?q=data+scientist+%2420%2C000&l=New+York&start=10\")\n",
    "\n",
    "Notice, each job listing is underneath a `div` tag with a class name of `result`. We can use BeautifulSoup to extract those. "
   ]
  },
  {
   "cell_type": "markdown",
   "metadata": {
    "focus": false,
    "id": "9732c901-ae26-4160-8376-42e22dd327df"
   },
   "source": [
    "#### Setup a request (using `requests`) to the URL below. Use BeautifulSoup to parse the page and extract all results (HINT: Look for div tags with class name result)"
   ]
  },
  {
   "cell_type": "code",
   "execution_count": 26,
   "metadata": {
    "collapsed": false,
    "focus": false,
    "id": "e915023e-6b0d-4982-af2a-b1e0355f4927"
   },
   "outputs": [],
   "source": [
    "URL = \"http://www.indeed.com/jobs?q=data+scientist+%2420%2C000&l=New+York&start=0\"\n",
    "#URL = \"http://www.indeed.com/jobs?as_and=data+scientist&as_phr=&as_any=&as_not=&as_ttl=&as_cmp=&jt=all&st=jobsite&salary=%2420%2C000%2B&radius=25&l=New+York&fromage=any&limit=50&sort=&psf=advsrch\""
   ]
  },
  {
   "cell_type": "code",
   "execution_count": 27,
   "metadata": {
    "collapsed": true,
    "focus": false,
    "id": "2efefc73-064a-482d-b3b5-ddf5508cb4ec"
   },
   "outputs": [],
   "source": [
    "import requests\n",
    "import bs4\n",
    "import urllib2\n",
    "from bs4 import BeautifulSoup"
   ]
  },
  {
   "cell_type": "code",
   "execution_count": 41,
   "metadata": {
    "collapsed": false
   },
   "outputs": [],
   "source": [
    "## YOUR CODE HERE\n",
    "\n",
    "title=[]\n",
    "company=[]\n",
    "location=[]\n",
    "salary=[]\n",
    "summary=[]\n",
    "\n",
    "def scraper(URL):\n",
    "    dom = BeautifulSoup(requests.get(URL).text,\"lxml\")\n",
    "\n",
    "    jobDivs = dom.find_all(\"div\", {\"class\":\"result\",\"class\":\"row\"})\n",
    "\n",
    "    for div in jobDivs:\n",
    "        divSoup = BeautifulSoup(unicode.join(u'\\n',map(unicode,div)),\"lxml\")\n",
    "\n",
    "        #get title\n",
    "        title.append(divSoup.find(\"a\",{\"data-tn-element\":\"jobTitle\"})['title'])\n",
    "\n",
    "        #get company\n",
    "        company1 = divSoup.find(\"a\",{\"data-tn-element\":\"companyName\"})\n",
    "        company2 = divSoup.find(\"span\",{\"class\":\"company\"}).string\n",
    "        company3 = divSoup.find(\"span\",{\"itemprop\":\"name\"})\n",
    "        if(company1 != None):\n",
    "            #print \"1: \",company1.contents[-1].strip()\n",
    "            company.append(company1.contents[-1].strip())\n",
    "        elif(company2 != None):\n",
    "            #print \"2: \",company2.strip()\n",
    "            company.append(company2.strip())\n",
    "        elif(company3 != None):\n",
    "            if(company3.string != None):\n",
    "                #print \"3a: \",company3.string.strip()\n",
    "                company.append(company3.string.strip())\n",
    "            else:\n",
    "                #print \"3b: \",company3.contents[-1].string.strip()\n",
    "                if(company3.contents[-1].string != None):\n",
    "                    company.append(company3.contents[-1].string.strip())\n",
    "                else:\n",
    "                    company.append(\"What:\" + company3.contents[-1].text)\n",
    "                    \n",
    "        else:\n",
    "            print \"N/A\"\n",
    "\n",
    "        #get location \n",
    "        locationString = divSoup.find(\"span\",{\"class\":\"location\"}).string\n",
    "        if (locationString == None):\n",
    "            locationString = divSoup.find(\"span\",{\"itemprop\":\"addressLocality\"}).contents[0].strip()\n",
    "        location.append(locationString)\n",
    "\n",
    "        #get salary\n",
    "\n",
    "        salaryItem = divSoup.find(\"span\",{\"class\":\"location\"}).findNextSibling(\"div\")\n",
    "        if (salaryItem != None):\n",
    "            salary.append(salaryItem.text)\n",
    "        else:\n",
    "            salary.append(\"N/A\")\n",
    "\n",
    "        #get summary\n",
    "\n",
    "        #print divSoup.find(\"span\",{\"class\":\"summary\"}).text\n",
    "        #summary.append(divSoup.find(\"span\",{\"class\":\"summary\"}).text)\n",
    "\n"
   ]
  },
  {
   "cell_type": "markdown",
   "metadata": {
    "focus": false,
    "id": "34070e89-9521-4b45-90c8-57a6599aac68"
   },
   "source": [
    "Now, to scale up our scraping, we need to accumulate more results. We can do this by examining the URL above.\n",
    "\n",
    "- \"http://www.indeed.com/jobs?q=data+scientist+%2420%2C000&l=New+York&start=10\"\n",
    "\n",
    "There are two query parameters here we can alter to collect more results, the `l=New+York` and the `start=10`. The first controls the location of the results (so we can try a different city). The second controls where in the results to start and gives 10 results (thus, we can keep incrementing by 10 to go further in the list)."
   ]
  },
  {
   "cell_type": "markdown",
   "metadata": {
    "focus": false,
    "id": "e8beed7c-3e42-40c0-810f-5f67f8f885a0"
   },
   "source": [
    "#### Complete the following code to collect results from multiple cities and starting points. \n",
    "- Enter your city below to add it to the search\n",
    "- Remember to convert your salary to U.S. Dollars to match the other cities if the currency is different"
   ]
  },
  {
   "cell_type": "code",
   "execution_count": 42,
   "metadata": {
    "collapsed": false,
    "focus": false,
    "id": "04b0f9af-540e-402f-8292-81748707c676"
   },
   "outputs": [],
   "source": [
    "max_results_per_city = 100\n",
    "\n",
    "for city in set(['New+York', 'Chicago', 'San+Francisco', 'Austin', \"Atlanta\"]):\n",
    "    for start in range(0, max_results_per_city, 10):\n",
    "        url_template = \"http://www.indeed.com/jobs?q=data+scientist+%2420%2C000&l=\"+ city +\"&start=\" + str(start)\n",
    "        scraper(url_template)"
   ]
  },
  {
   "cell_type": "markdown",
   "metadata": {
    "focus": false,
    "id": "20339c09-5032-4e27-91be-286e9b46cd13"
   },
   "source": [
    "#### Use the functions you wrote above to parse out the 4 fields - location, title, company and salary. Create a dataframe from the results with those 4 columns."
   ]
  },
  {
   "cell_type": "code",
   "execution_count": 43,
   "metadata": {
    "collapsed": false,
    "focus": false,
    "id": "6e259594-1c52-436b-ab9e-527e071941c1"
   },
   "outputs": [],
   "source": [
    "import pandas as pd"
   ]
  },
  {
   "cell_type": "code",
   "execution_count": 47,
   "metadata": {
    "collapsed": false
   },
   "outputs": [
    {
     "data": {
      "text/html": [
       "<div>\n",
       "<table border=\"1\" class=\"dataframe\">\n",
       "  <thead>\n",
       "    <tr style=\"text-align: right;\">\n",
       "      <th></th>\n",
       "      <th>company</th>\n",
       "      <th>location</th>\n",
       "      <th>salary</th>\n",
       "      <th>title</th>\n",
       "    </tr>\n",
       "  </thead>\n",
       "  <tbody>\n",
       "    <tr>\n",
       "      <th>0</th>\n",
       "      <td>Workday</td>\n",
       "      <td>San Francisco, CA</td>\n",
       "      <td>N/A</td>\n",
       "      <td>Data Scientist</td>\n",
       "    </tr>\n",
       "    <tr>\n",
       "      <th>1</th>\n",
       "      <td>Apple</td>\n",
       "      <td>San Francisco, CA</td>\n",
       "      <td>N/A</td>\n",
       "      <td>Software Engineer, iTunes- Big Data Play Activity</td>\n",
       "    </tr>\n",
       "    <tr>\n",
       "      <th>2</th>\n",
       "      <td>Acumen, LLC</td>\n",
       "      <td>Burlingame, CA</td>\n",
       "      <td>N/A</td>\n",
       "      <td>Data and Policy Analyst - Statistical Programmer</td>\n",
       "    </tr>\n",
       "    <tr>\n",
       "      <th>3</th>\n",
       "      <td>Zynga</td>\n",
       "      <td>San Francisco, CA</td>\n",
       "      <td>N/A</td>\n",
       "      <td>Data Scientist</td>\n",
       "    </tr>\n",
       "    <tr>\n",
       "      <th>4</th>\n",
       "      <td>Ayasdi</td>\n",
       "      <td>Menlo Park, CA 94025</td>\n",
       "      <td>N/A</td>\n",
       "      <td>Data Scientist (Healthcare)</td>\n",
       "    </tr>\n",
       "    <tr>\n",
       "      <th>5</th>\n",
       "      <td>Cloudmellow</td>\n",
       "      <td>San Francisco, CA</td>\n",
       "      <td>N/A</td>\n",
       "      <td>Data Scientists,San Francisco, CA</td>\n",
       "    </tr>\n",
       "    <tr>\n",
       "      <th>6</th>\n",
       "      <td>Apple</td>\n",
       "      <td>San Francisco, CA 94114</td>\n",
       "      <td>N/A</td>\n",
       "      <td>Data Scientist, Siri Search Team</td>\n",
       "    </tr>\n",
       "    <tr>\n",
       "      <th>7</th>\n",
       "      <td>OnboardIQ</td>\n",
       "      <td>San Francisco, CA</td>\n",
       "      <td>N/A</td>\n",
       "      <td>Algorithm and Data Scientist (Machine Learning)</td>\n",
       "    </tr>\n",
       "    <tr>\n",
       "      <th>8</th>\n",
       "      <td>Komodo Health</td>\n",
       "      <td>San Francisco, CA</td>\n",
       "      <td>N/A</td>\n",
       "      <td>Data Scientist</td>\n",
       "    </tr>\n",
       "    <tr>\n",
       "      <th>9</th>\n",
       "      <td>ZestFinance</td>\n",
       "      <td>San Francisco, CA</td>\n",
       "      <td>N/A</td>\n",
       "      <td>Sr. Machine Learning Modeler / Data Scientist</td>\n",
       "    </tr>\n",
       "    <tr>\n",
       "      <th>10</th>\n",
       "      <td>Arka</td>\n",
       "      <td>San Francisco, CA</td>\n",
       "      <td>N/A</td>\n",
       "      <td>Sr. Data Scientist</td>\n",
       "    </tr>\n",
       "    <tr>\n",
       "      <th>11</th>\n",
       "      <td>Pinterest</td>\n",
       "      <td>San Francisco, CA 94103</td>\n",
       "      <td>N/A</td>\n",
       "      <td>Data Scientist, Analytics</td>\n",
       "    </tr>\n",
       "    <tr>\n",
       "      <th>12</th>\n",
       "      <td>Bridgelux</td>\n",
       "      <td>San Francisco, CA 94133</td>\n",
       "      <td>N/A</td>\n",
       "      <td>Data Scientist</td>\n",
       "    </tr>\n",
       "    <tr>\n",
       "      <th>13</th>\n",
       "      <td>Roche</td>\n",
       "      <td>Pleasanton, CA</td>\n",
       "      <td>N/A</td>\n",
       "      <td>Data Scientist (Epidemiology &amp; Health Economic...</td>\n",
       "    </tr>\n",
       "    <tr>\n",
       "      <th>14</th>\n",
       "      <td>Collabera</td>\n",
       "      <td>San Francisco, CA</td>\n",
       "      <td>N/A</td>\n",
       "      <td>Data Scientist</td>\n",
       "    </tr>\n",
       "    <tr>\n",
       "      <th>15</th>\n",
       "      <td>Collabera</td>\n",
       "      <td>San Francisco, CA</td>\n",
       "      <td>N/A</td>\n",
       "      <td>Data Scientist</td>\n",
       "    </tr>\n",
       "    <tr>\n",
       "      <th>16</th>\n",
       "      <td>Apple</td>\n",
       "      <td>San Francisco, CA</td>\n",
       "      <td>N/A</td>\n",
       "      <td>Software Engineer, iTunes- Big Data Play Activity</td>\n",
       "    </tr>\n",
       "    <tr>\n",
       "      <th>17</th>\n",
       "      <td>Pinterest</td>\n",
       "      <td>San Francisco, CA 94103</td>\n",
       "      <td>N/A</td>\n",
       "      <td>Data Scientist, Discovery Science</td>\n",
       "    </tr>\n",
       "    <tr>\n",
       "      <th>18</th>\n",
       "      <td>Amazon Web Services, Inc.</td>\n",
       "      <td>San Francisco, CA</td>\n",
       "      <td>N/A</td>\n",
       "      <td>Data Scientist</td>\n",
       "    </tr>\n",
       "    <tr>\n",
       "      <th>19</th>\n",
       "      <td>Quizlet</td>\n",
       "      <td>San Francisco, CA</td>\n",
       "      <td>N/A</td>\n",
       "      <td>Data Scientist</td>\n",
       "    </tr>\n",
       "    <tr>\n",
       "      <th>20</th>\n",
       "      <td>The Nielsen Company</td>\n",
       "      <td>San Francisco, CA</td>\n",
       "      <td>N/A</td>\n",
       "      <td>Data Scientist</td>\n",
       "    </tr>\n",
       "    <tr>\n",
       "      <th>21</th>\n",
       "      <td>Twitch</td>\n",
       "      <td>San Francisco, CA</td>\n",
       "      <td>N/A</td>\n",
       "      <td>Data Scientist</td>\n",
       "    </tr>\n",
       "    <tr>\n",
       "      <th>22</th>\n",
       "      <td>Code for America</td>\n",
       "      <td>San Francisco, CA</td>\n",
       "      <td>N/A</td>\n",
       "      <td>Code for America Fellow- Data Scientist</td>\n",
       "    </tr>\n",
       "    <tr>\n",
       "      <th>23</th>\n",
       "      <td>Bugcrowd</td>\n",
       "      <td>San Francisco, CA</td>\n",
       "      <td>N/A</td>\n",
       "      <td>Data Scientist</td>\n",
       "    </tr>\n",
       "    <tr>\n",
       "      <th>24</th>\n",
       "      <td>Workday</td>\n",
       "      <td>San Francisco, CA 94105</td>\n",
       "      <td>N/A</td>\n",
       "      <td>Data Scientist</td>\n",
       "    </tr>\n",
       "    <tr>\n",
       "      <th>25</th>\n",
       "      <td>Salesforce</td>\n",
       "      <td>San Francisco, CA</td>\n",
       "      <td>N/A</td>\n",
       "      <td>Senior Manager, Data Scientist</td>\n",
       "    </tr>\n",
       "    <tr>\n",
       "      <th>26</th>\n",
       "      <td>AstraZeneca</td>\n",
       "      <td>Redwood City, CA</td>\n",
       "      <td>N/A</td>\n",
       "      <td>Data Scientist</td>\n",
       "    </tr>\n",
       "    <tr>\n",
       "      <th>27</th>\n",
       "      <td>Acumen, LLC</td>\n",
       "      <td>Burlingame, CA</td>\n",
       "      <td>N/A</td>\n",
       "      <td>Data and Policy Analyst - Statistical Programmer</td>\n",
       "    </tr>\n",
       "    <tr>\n",
       "      <th>28</th>\n",
       "      <td>Roche</td>\n",
       "      <td>Pleasanton, CA</td>\n",
       "      <td>N/A</td>\n",
       "      <td>Data Scientist (Epidemiology &amp; Health Economic...</td>\n",
       "    </tr>\n",
       "    <tr>\n",
       "      <th>29</th>\n",
       "      <td>Workday</td>\n",
       "      <td>San Francisco, CA</td>\n",
       "      <td>N/A</td>\n",
       "      <td>Data Scientist</td>\n",
       "    </tr>\n",
       "    <tr>\n",
       "      <th>...</th>\n",
       "      <td>...</td>\n",
       "      <td>...</td>\n",
       "      <td>...</td>\n",
       "      <td>...</td>\n",
       "    </tr>\n",
       "    <tr>\n",
       "      <th>720</th>\n",
       "      <td>Allstate Insurance</td>\n",
       "      <td>Chicago, IL</td>\n",
       "      <td>N/A</td>\n",
       "      <td>Machine Learning Engineer - Connected Car</td>\n",
       "    </tr>\n",
       "    <tr>\n",
       "      <th>721</th>\n",
       "      <td>Modis</td>\n",
       "      <td>Northbrook, IL</td>\n",
       "      <td>\\n$45 an hour</td>\n",
       "      <td>Statistical Data Analyst // Exciting Long-term...</td>\n",
       "    </tr>\n",
       "    <tr>\n",
       "      <th>722</th>\n",
       "      <td>National Futures Association</td>\n",
       "      <td>Chicago, IL 60606</td>\n",
       "      <td>N/A</td>\n",
       "      <td>Quantitative Analyst</td>\n",
       "    </tr>\n",
       "    <tr>\n",
       "      <th>723</th>\n",
       "      <td>LoyaltyOne</td>\n",
       "      <td>Chicago, IL</td>\n",
       "      <td>N/A</td>\n",
       "      <td>Senior Data Scientist</td>\n",
       "    </tr>\n",
       "    <tr>\n",
       "      <th>724</th>\n",
       "      <td>Robert Bosch LLC</td>\n",
       "      <td>Mount Prospect, IL</td>\n",
       "      <td>N/A</td>\n",
       "      <td>Big Data Scientist/Analyst with Bosch in Mt. P...</td>\n",
       "    </tr>\n",
       "    <tr>\n",
       "      <th>725</th>\n",
       "      <td>Pearson</td>\n",
       "      <td>Chicago, IL</td>\n",
       "      <td>N/A</td>\n",
       "      <td>Senior Statistical Analyst (Chicago)</td>\n",
       "    </tr>\n",
       "    <tr>\n",
       "      <th>726</th>\n",
       "      <td>Hirewell</td>\n",
       "      <td>Chicago, IL</td>\n",
       "      <td>N/A</td>\n",
       "      <td>Data Scientist</td>\n",
       "    </tr>\n",
       "    <tr>\n",
       "      <th>727</th>\n",
       "      <td>Geneva Trading</td>\n",
       "      <td>Chicago, IL 60611</td>\n",
       "      <td>N/A</td>\n",
       "      <td>Data Scientist</td>\n",
       "    </tr>\n",
       "    <tr>\n",
       "      <th>728</th>\n",
       "      <td>Raise</td>\n",
       "      <td>Chicago, IL</td>\n",
       "      <td>N/A</td>\n",
       "      <td>Data Engineer</td>\n",
       "    </tr>\n",
       "    <tr>\n",
       "      <th>729</th>\n",
       "      <td>Northwestern University</td>\n",
       "      <td>Evanston, IL</td>\n",
       "      <td>N/A</td>\n",
       "      <td>Temporary - Part-time Research Analyst</td>\n",
       "    </tr>\n",
       "    <tr>\n",
       "      <th>730</th>\n",
       "      <td>Millward Brown</td>\n",
       "      <td>Lisle, IL</td>\n",
       "      <td>N/A</td>\n",
       "      <td>Sr. Data Science Consultant</td>\n",
       "    </tr>\n",
       "    <tr>\n",
       "      <th>731</th>\n",
       "      <td>The Smart Cube, Chicago</td>\n",
       "      <td>Chicago, IL 60603</td>\n",
       "      <td>N/A</td>\n",
       "      <td>Analyst - Strategy and Procurement Research</td>\n",
       "    </tr>\n",
       "    <tr>\n",
       "      <th>732</th>\n",
       "      <td>Allstate Insurance</td>\n",
       "      <td>Northbrook, IL</td>\n",
       "      <td>N/A</td>\n",
       "      <td>Data Science Manager</td>\n",
       "    </tr>\n",
       "    <tr>\n",
       "      <th>733</th>\n",
       "      <td>Catalina Marketing</td>\n",
       "      <td>Chicago, IL</td>\n",
       "      <td>N/A</td>\n",
       "      <td>Senior Analyst, Data Science</td>\n",
       "    </tr>\n",
       "    <tr>\n",
       "      <th>734</th>\n",
       "      <td>Gallup</td>\n",
       "      <td>Chicago, IL</td>\n",
       "      <td>N/A</td>\n",
       "      <td>Data Scientist – Predictive Analytics</td>\n",
       "    </tr>\n",
       "    <tr>\n",
       "      <th>735</th>\n",
       "      <td>Allstate Insurance</td>\n",
       "      <td>Chicago, IL</td>\n",
       "      <td>N/A</td>\n",
       "      <td>Machine Learning Engineer - Connected Car</td>\n",
       "    </tr>\n",
       "    <tr>\n",
       "      <th>736</th>\n",
       "      <td>Modis</td>\n",
       "      <td>Northbrook, IL</td>\n",
       "      <td>\\n$45 an hour</td>\n",
       "      <td>Statistical Data Analyst // Exciting Long-term...</td>\n",
       "    </tr>\n",
       "    <tr>\n",
       "      <th>737</th>\n",
       "      <td>Euromonitor International</td>\n",
       "      <td>Chicago, IL 60604</td>\n",
       "      <td>N/A</td>\n",
       "      <td>Research Associate/Analyst - Chicago</td>\n",
       "    </tr>\n",
       "    <tr>\n",
       "      <th>738</th>\n",
       "      <td>United Airlines</td>\n",
       "      <td>Chicago, IL</td>\n",
       "      <td>N/A</td>\n",
       "      <td>Senior Analyst - Statistics and Operations Res...</td>\n",
       "    </tr>\n",
       "    <tr>\n",
       "      <th>739</th>\n",
       "      <td>Workbridge Associates</td>\n",
       "      <td>Chicago, IL</td>\n",
       "      <td>N/A</td>\n",
       "      <td>Lead Data Scientist</td>\n",
       "    </tr>\n",
       "    <tr>\n",
       "      <th>740</th>\n",
       "      <td>Illinois Technology Association</td>\n",
       "      <td>Chicago, IL</td>\n",
       "      <td>N/A</td>\n",
       "      <td>GrubHub - Data Engineer</td>\n",
       "    </tr>\n",
       "    <tr>\n",
       "      <th>741</th>\n",
       "      <td>T3 Trading Group LLC</td>\n",
       "      <td>Chicago, IL</td>\n",
       "      <td>N/A</td>\n",
       "      <td>Statistical Pairs Trading Position</td>\n",
       "    </tr>\n",
       "    <tr>\n",
       "      <th>742</th>\n",
       "      <td>General Dynamics - Information Technology</td>\n",
       "      <td>Chicago, IL</td>\n",
       "      <td>N/A</td>\n",
       "      <td>Principal Statistician</td>\n",
       "    </tr>\n",
       "    <tr>\n",
       "      <th>743</th>\n",
       "      <td>DTS</td>\n",
       "      <td>Chicago, IL</td>\n",
       "      <td>N/A</td>\n",
       "      <td>Data Scientist</td>\n",
       "    </tr>\n",
       "    <tr>\n",
       "      <th>744</th>\n",
       "      <td>The Boston Consulting Group</td>\n",
       "      <td>Chicago, IL 60654</td>\n",
       "      <td>N/A</td>\n",
       "      <td>Senior Knowledge Analyst - Data Engineering</td>\n",
       "    </tr>\n",
       "    <tr>\n",
       "      <th>745</th>\n",
       "      <td>kCura Corporation</td>\n",
       "      <td>Chicago, IL</td>\n",
       "      <td>N/A</td>\n",
       "      <td>Director, Business Analytics</td>\n",
       "    </tr>\n",
       "    <tr>\n",
       "      <th>746</th>\n",
       "      <td>The Nielsen Company</td>\n",
       "      <td>Evanston, IL</td>\n",
       "      <td>N/A</td>\n",
       "      <td>Research Statistician</td>\n",
       "    </tr>\n",
       "    <tr>\n",
       "      <th>747</th>\n",
       "      <td>Allstate Insurance</td>\n",
       "      <td>Northbrook, IL</td>\n",
       "      <td>N/A</td>\n",
       "      <td>Data Science Manager</td>\n",
       "    </tr>\n",
       "    <tr>\n",
       "      <th>748</th>\n",
       "      <td>Catalina Marketing</td>\n",
       "      <td>Chicago, IL</td>\n",
       "      <td>N/A</td>\n",
       "      <td>Senior Analyst, Data Science</td>\n",
       "    </tr>\n",
       "    <tr>\n",
       "      <th>749</th>\n",
       "      <td>Gallup</td>\n",
       "      <td>Chicago, IL</td>\n",
       "      <td>N/A</td>\n",
       "      <td>Data Scientist – Predictive Analytics</td>\n",
       "    </tr>\n",
       "  </tbody>\n",
       "</table>\n",
       "<p>750 rows × 4 columns</p>\n",
       "</div>"
      ],
      "text/plain": [
       "                                       company                 location  \\\n",
       "0                                      Workday        San Francisco, CA   \n",
       "1                                        Apple        San Francisco, CA   \n",
       "2                                  Acumen, LLC           Burlingame, CA   \n",
       "3                                        Zynga        San Francisco, CA   \n",
       "4                                       Ayasdi     Menlo Park, CA 94025   \n",
       "5                                  Cloudmellow        San Francisco, CA   \n",
       "6                                        Apple  San Francisco, CA 94114   \n",
       "7                                    OnboardIQ        San Francisco, CA   \n",
       "8                                Komodo Health        San Francisco, CA   \n",
       "9                                  ZestFinance        San Francisco, CA   \n",
       "10                                        Arka        San Francisco, CA   \n",
       "11                                   Pinterest  San Francisco, CA 94103   \n",
       "12                                   Bridgelux  San Francisco, CA 94133   \n",
       "13                                       Roche           Pleasanton, CA   \n",
       "14                                   Collabera        San Francisco, CA   \n",
       "15                                   Collabera        San Francisco, CA   \n",
       "16                                       Apple        San Francisco, CA   \n",
       "17                                   Pinterest  San Francisco, CA 94103   \n",
       "18                   Amazon Web Services, Inc.        San Francisco, CA   \n",
       "19                                     Quizlet        San Francisco, CA   \n",
       "20                         The Nielsen Company        San Francisco, CA   \n",
       "21                                      Twitch        San Francisco, CA   \n",
       "22                            Code for America        San Francisco, CA   \n",
       "23                                    Bugcrowd        San Francisco, CA   \n",
       "24                                     Workday  San Francisco, CA 94105   \n",
       "25                                  Salesforce        San Francisco, CA   \n",
       "26                                 AstraZeneca         Redwood City, CA   \n",
       "27                                 Acumen, LLC           Burlingame, CA   \n",
       "28                                       Roche           Pleasanton, CA   \n",
       "29                                     Workday        San Francisco, CA   \n",
       "..                                         ...                      ...   \n",
       "720                         Allstate Insurance              Chicago, IL   \n",
       "721                                      Modis           Northbrook, IL   \n",
       "722               National Futures Association        Chicago, IL 60606   \n",
       "723                                 LoyaltyOne              Chicago, IL   \n",
       "724                           Robert Bosch LLC       Mount Prospect, IL   \n",
       "725                                    Pearson              Chicago, IL   \n",
       "726                                   Hirewell              Chicago, IL   \n",
       "727                             Geneva Trading        Chicago, IL 60611   \n",
       "728                                      Raise              Chicago, IL   \n",
       "729                    Northwestern University             Evanston, IL   \n",
       "730                             Millward Brown                Lisle, IL   \n",
       "731                    The Smart Cube, Chicago        Chicago, IL 60603   \n",
       "732                         Allstate Insurance           Northbrook, IL   \n",
       "733                         Catalina Marketing              Chicago, IL   \n",
       "734                                     Gallup              Chicago, IL   \n",
       "735                         Allstate Insurance              Chicago, IL   \n",
       "736                                      Modis           Northbrook, IL   \n",
       "737                  Euromonitor International        Chicago, IL 60604   \n",
       "738                            United Airlines              Chicago, IL   \n",
       "739                      Workbridge Associates              Chicago, IL   \n",
       "740            Illinois Technology Association              Chicago, IL   \n",
       "741                       T3 Trading Group LLC              Chicago, IL   \n",
       "742  General Dynamics - Information Technology              Chicago, IL   \n",
       "743                                        DTS              Chicago, IL   \n",
       "744                The Boston Consulting Group        Chicago, IL 60654   \n",
       "745                          kCura Corporation              Chicago, IL   \n",
       "746                        The Nielsen Company             Evanston, IL   \n",
       "747                         Allstate Insurance           Northbrook, IL   \n",
       "748                         Catalina Marketing              Chicago, IL   \n",
       "749                                     Gallup              Chicago, IL   \n",
       "\n",
       "            salary                                              title  \n",
       "0              N/A                                     Data Scientist  \n",
       "1              N/A  Software Engineer, iTunes- Big Data Play Activity  \n",
       "2              N/A   Data and Policy Analyst - Statistical Programmer  \n",
       "3              N/A                                     Data Scientist  \n",
       "4              N/A                        Data Scientist (Healthcare)  \n",
       "5              N/A                  Data Scientists,San Francisco, CA  \n",
       "6              N/A                   Data Scientist, Siri Search Team  \n",
       "7              N/A    Algorithm and Data Scientist (Machine Learning)  \n",
       "8              N/A                                     Data Scientist  \n",
       "9              N/A      Sr. Machine Learning Modeler / Data Scientist  \n",
       "10             N/A                                 Sr. Data Scientist  \n",
       "11             N/A                          Data Scientist, Analytics  \n",
       "12             N/A                                     Data Scientist  \n",
       "13             N/A  Data Scientist (Epidemiology & Health Economic...  \n",
       "14             N/A                                     Data Scientist  \n",
       "15             N/A                                     Data Scientist  \n",
       "16             N/A  Software Engineer, iTunes- Big Data Play Activity  \n",
       "17             N/A                  Data Scientist, Discovery Science  \n",
       "18             N/A                                     Data Scientist  \n",
       "19             N/A                                     Data Scientist  \n",
       "20             N/A                                     Data Scientist  \n",
       "21             N/A                                     Data Scientist  \n",
       "22             N/A            Code for America Fellow- Data Scientist  \n",
       "23             N/A                                     Data Scientist  \n",
       "24             N/A                                     Data Scientist  \n",
       "25             N/A                     Senior Manager, Data Scientist  \n",
       "26             N/A                                     Data Scientist  \n",
       "27             N/A   Data and Policy Analyst - Statistical Programmer  \n",
       "28             N/A  Data Scientist (Epidemiology & Health Economic...  \n",
       "29             N/A                                     Data Scientist  \n",
       "..             ...                                                ...  \n",
       "720            N/A          Machine Learning Engineer - Connected Car  \n",
       "721  \\n$45 an hour  Statistical Data Analyst // Exciting Long-term...  \n",
       "722            N/A                               Quantitative Analyst  \n",
       "723            N/A                              Senior Data Scientist  \n",
       "724            N/A  Big Data Scientist/Analyst with Bosch in Mt. P...  \n",
       "725            N/A               Senior Statistical Analyst (Chicago)  \n",
       "726            N/A                                     Data Scientist  \n",
       "727            N/A                                     Data Scientist  \n",
       "728            N/A                                      Data Engineer  \n",
       "729            N/A             Temporary - Part-time Research Analyst  \n",
       "730            N/A                        Sr. Data Science Consultant  \n",
       "731            N/A        Analyst - Strategy and Procurement Research  \n",
       "732            N/A                               Data Science Manager  \n",
       "733            N/A                       Senior Analyst, Data Science  \n",
       "734            N/A              Data Scientist – Predictive Analytics  \n",
       "735            N/A          Machine Learning Engineer - Connected Car  \n",
       "736  \\n$45 an hour  Statistical Data Analyst // Exciting Long-term...  \n",
       "737            N/A               Research Associate/Analyst - Chicago  \n",
       "738            N/A  Senior Analyst - Statistics and Operations Res...  \n",
       "739            N/A                                Lead Data Scientist  \n",
       "740            N/A                            GrubHub - Data Engineer  \n",
       "741            N/A                 Statistical Pairs Trading Position  \n",
       "742            N/A                             Principal Statistician  \n",
       "743            N/A                                     Data Scientist  \n",
       "744            N/A        Senior Knowledge Analyst - Data Engineering  \n",
       "745            N/A                       Director, Business Analytics  \n",
       "746            N/A                              Research Statistician  \n",
       "747            N/A                               Data Science Manager  \n",
       "748            N/A                       Senior Analyst, Data Science  \n",
       "749            N/A              Data Scientist – Predictive Analytics  \n",
       "\n",
       "[750 rows x 4 columns]"
      ]
     },
     "execution_count": 47,
     "metadata": {},
     "output_type": "execute_result"
    }
   ],
   "source": [
    "pd.DataFrame({'title':title, 'company':company, 'location':location, 'salary':salary})"
   ]
  },
  {
   "cell_type": "markdown",
   "metadata": {
    "focus": false,
    "id": "ff98ce64-78a7-441f-a675-63464e32c834"
   },
   "source": [
    "Lastly, we need to clean up salary data. \n",
    "1. Some of the salaries are not yearly but hourly, these will be useful to us for now\n",
    "2. The salaries are given as text and usually with ranges.\n",
    "\n",
    "#### Filter out the salaries that are not yearly (filter those that refer to hour)"
   ]
  },
  {
   "cell_type": "code",
   "execution_count": 8,
   "metadata": {
    "collapsed": false,
    "focus": false,
    "id": "58533e57-f86b-494a-b841-e7b59c6229c6"
   },
   "outputs": [],
   "source": [
    "## YOUR CODE HERE"
   ]
  },
  {
   "cell_type": "markdown",
   "metadata": {
    "focus": false,
    "id": "7d4bc860-b214-4f75-9cd0-b234830b1ec2"
   },
   "source": [
    "#### Write a function that takes a salary string and converts it to a number, averaging a salary range if necessary"
   ]
  },
  {
   "cell_type": "code",
   "execution_count": 9,
   "metadata": {
    "collapsed": true,
    "focus": false,
    "id": "a0f701e0-80bd-40ba-9101-4535860c0968"
   },
   "outputs": [],
   "source": [
    "## YOUR CODE HERE"
   ]
  },
  {
   "cell_type": "markdown",
   "metadata": {
    "collapsed": false,
    "focus": false,
    "id": "43e71edd-210e-42b1-9336-70a931f048af"
   },
   "source": [
    "### Save your results as a CSV"
   ]
  },
  {
   "cell_type": "code",
   "execution_count": 14,
   "metadata": {
    "collapsed": true,
    "focus": false,
    "id": "783fd153-28ac-47ab-bfca-27e7c1de95b4"
   },
   "outputs": [],
   "source": [
    "## YOUR CODE HERE"
   ]
  },
  {
   "cell_type": "markdown",
   "metadata": {
    "focus": false,
    "id": "04563b69-f7b6-466f-9d65-fc62c9ddee6a"
   },
   "source": [
    "## Predicting salaries using Logistic Regression"
   ]
  },
  {
   "cell_type": "markdown",
   "metadata": {
    "focus": false,
    "id": "243e949e-2742-40af-872e-fec475fd306c"
   },
   "source": [
    "#### Load in the the data of scraped salaries"
   ]
  },
  {
   "cell_type": "code",
   "execution_count": 12,
   "metadata": {
    "collapsed": false,
    "focus": false,
    "id": "588f9845-6143-4bcc-bfd1-85d45b79303d"
   },
   "outputs": [],
   "source": [
    "## YOUR CODE HERE"
   ]
  },
  {
   "cell_type": "markdown",
   "metadata": {
    "focus": false,
    "id": "c7631f51-07f2-4c79-a093-3e9bc7849a48"
   },
   "source": [
    "#### We want to predict a binary variable - whether the salary was low or high. Compute the median salary and create a new binary variable that is true when the salary is high (above the median)"
   ]
  },
  {
   "cell_type": "code",
   "execution_count": 15,
   "metadata": {
    "collapsed": true,
    "focus": false,
    "id": "c20d2498-151c-44c3-a453-3a333c79a0ac"
   },
   "outputs": [],
   "source": [
    "## YOUR CODE HERE"
   ]
  },
  {
   "cell_type": "markdown",
   "metadata": {
    "focus": false,
    "id": "a7afb2c0-d41e-4779-8216-91cd8dd4473f"
   },
   "source": [
    "#### Thought experiment: What is the baseline accuracy for this model?"
   ]
  },
  {
   "cell_type": "code",
   "execution_count": 16,
   "metadata": {
    "collapsed": true,
    "focus": false,
    "id": "87a17d3d-b7f4-4747-9f75-f9af1d18a174"
   },
   "outputs": [],
   "source": [
    "## YOUR CODE HERE"
   ]
  },
  {
   "cell_type": "markdown",
   "metadata": {
    "focus": false,
    "id": "4fb29de2-5b98-474c-a4ad-5170b72b9aea"
   },
   "source": [
    "#### Create a Logistic Regression model to predict High/Low salary using statsmodel. Start by ONLY using the location as a feature. Display the coefficients and write a short summary of what they mean."
   ]
  },
  {
   "cell_type": "code",
   "execution_count": 17,
   "metadata": {
    "collapsed": false,
    "focus": false,
    "id": "ddbc6159-6854-4ca7-857f-bfecdaf6d9c2"
   },
   "outputs": [],
   "source": [
    "## YOUR CODE HERE"
   ]
  },
  {
   "cell_type": "markdown",
   "metadata": {
    "focus": false,
    "id": "0ef04f32-419c-4bf2-baf7-48201f03df89"
   },
   "source": [
    "#### Create a few new variables in your dataframe to represent interesting features of a job title.\n",
    "- For example, create a feature that represents whether 'Senior' is in the title \n",
    "- or whether 'Manager' is in the title. \n",
    "- Then build a new Logistic Regression model with these features. Do they add any value? \n"
   ]
  },
  {
   "cell_type": "code",
   "execution_count": 18,
   "metadata": {
    "collapsed": false,
    "focus": false,
    "id": "068dc1cf-7fd7-4f27-a1f1-7f0a5a221d29"
   },
   "outputs": [],
   "source": [
    "## YOUR CODE HERE"
   ]
  },
  {
   "cell_type": "markdown",
   "metadata": {
    "focus": false,
    "id": "9c9274ef-c9f5-4d56-b286-ecc8709eff9f"
   },
   "source": [
    "#### Rebuild this model with scikit-learn.\n",
    "- You can either create the dummy features manually or use the `dmatrix` function from `patsy`\n",
    "- Remember to scale the feature variables as well!\n"
   ]
  },
  {
   "cell_type": "code",
   "execution_count": 19,
   "metadata": {
    "collapsed": false,
    "focus": false,
    "id": "b76f65cd-cd3a-4e91-af55-12880be7b057"
   },
   "outputs": [],
   "source": [
    "## YOUR CODE HERE"
   ]
  },
  {
   "cell_type": "markdown",
   "metadata": {
    "focus": false,
    "id": "9367beff-72ba-4768-a0ba-a50b335de61d"
   },
   "source": [
    "#### Use cross-validation in scikit-learn to evaluate the model above. \n",
    "- Evaluate the accuracy, AUC, precision and recall of the model. \n",
    "- Discuss the differences and explain when you want a high-recall or a high-precision model in this scenario."
   ]
  },
  {
   "cell_type": "code",
   "execution_count": 20,
   "metadata": {
    "collapsed": false,
    "focus": false,
    "id": "269b9e7c-60b5-4a06-8255-881d7395bc1b"
   },
   "outputs": [],
   "source": [
    "## YOUR CODE HERE"
   ]
  },
  {
   "cell_type": "markdown",
   "metadata": {
    "focus": false,
    "id": "8c22664b-92e4-4fc2-b7ac-fbac865845d3"
   },
   "source": [
    "#### Compare L1 and L2 regularization for this logistic regression model. What effect does this have on the coefficients learned?"
   ]
  },
  {
   "cell_type": "code",
   "execution_count": 21,
   "metadata": {
    "collapsed": false,
    "focus": false,
    "id": "172fd952-5012-4630-81f4-1206da6eb820"
   },
   "outputs": [],
   "source": [
    "## YOUR CODE HERE"
   ]
  },
  {
   "cell_type": "code",
   "execution_count": 22,
   "metadata": {
    "collapsed": false,
    "focus": false,
    "id": "56cc8854-d722-411d-a6c7-e86310710f67"
   },
   "outputs": [],
   "source": [
    "## YOUR CODE HERE"
   ]
  },
  {
   "cell_type": "markdown",
   "metadata": {
    "focus": false,
    "id": "fead9b5b-7316-405d-87fd-e144dff0cbeb"
   },
   "source": [
    "#### Continue to incorporate other text features from the title or summary that you believe will predict the salary and examine their coefficients"
   ]
  },
  {
   "cell_type": "markdown",
   "metadata": {
    "focus": false,
    "id": "12d5edeb-a272-43a0-9977-d951f12fedfb"
   },
   "source": [
    "#### Take ~100 scraped entries with salaries. Convert them to use with your model and predict the salary - which entries have the highest predicted salaries?"
   ]
  },
  {
   "cell_type": "markdown",
   "metadata": {
    "focus": false,
    "id": "3be94357-e551-4094-b784-2df039216d33"
   },
   "source": [
    "### BONUS "
   ]
  },
  {
   "cell_type": "markdown",
   "metadata": {
    "focus": false,
    "id": "db045898-1d2d-4af2-8e79-437c4c7546b4"
   },
   "source": [
    "#### Bonus: Use Count Vectorizer from scikit-learn to create features from the text summaries. \n",
    "- Examine using count or binary features in the model\n",
    "- Re-evaluate the logistic regression model using these. Does this improve the model performance? \n",
    "- What text features are the most valuable? "
   ]
  },
  {
   "cell_type": "code",
   "execution_count": 23,
   "metadata": {
    "collapsed": false,
    "focus": false,
    "id": "4239e458-28bd-4675-8db3-c1d9c02b9854"
   },
   "outputs": [],
   "source": [
    "## YOUR CODE HERE"
   ]
  },
  {
   "cell_type": "code",
   "execution_count": 24,
   "metadata": {
    "collapsed": false,
    "focus": false,
    "id": "fec80936-37bc-4922-89bd-b5d615566c9c"
   },
   "outputs": [],
   "source": [
    "## YOUR CODE HERE"
   ]
  },
  {
   "cell_type": "markdown",
   "metadata": {
    "focus": false,
    "id": "d42b9fd8-39d5-416a-b40b-7410e6396c11"
   },
   "source": [
    "#### Re-test L1 and L2 regularization. You can use LogisticRegressionCV to find the optimal reguarlization parameters. \n",
    "- Re-test what text features are most valuable.  \n",
    "- How do L1 and L2 change the coefficients?"
   ]
  },
  {
   "cell_type": "code",
   "execution_count": 25,
   "metadata": {
    "collapsed": false,
    "focus": false,
    "id": "7570e237-c8cc-4e26-b569-7aee10627e79"
   },
   "outputs": [],
   "source": [
    "## YOUR CODE HERE"
   ]
  },
  {
   "cell_type": "code",
   "execution_count": null,
   "metadata": {
    "collapsed": true,
    "focus": false,
    "id": "e3a0c83d-e3b8-4bed-b864-7e795b34a3d4"
   },
   "outputs": [],
   "source": []
  }
 ],
 "metadata": {
  "kernelspec": {
   "display_name": "Python 2",
   "language": "python",
   "name": "python2"
  },
  "language_info": {
   "codemirror_mode": {
    "name": "ipython",
    "version": 2
   },
   "file_extension": ".py",
   "mimetype": "text/x-python",
   "name": "python",
   "nbconvert_exporter": "python",
   "pygments_lexer": "ipython2",
   "version": "2.7.11"
  }
 },
 "nbformat": 4,
 "nbformat_minor": 0
}
