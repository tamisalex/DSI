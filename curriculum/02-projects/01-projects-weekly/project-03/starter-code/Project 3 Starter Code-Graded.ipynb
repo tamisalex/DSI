{
 "cells": [
  {
   "cell_type": "markdown",
   "metadata": {},
   "source": [
    "# Getting started\n",
    "\n",
    "Once you've chosen your scenario, download the data from [the Iowa website](https://data.iowa.gov/Economy/Iowa-Liquor-Sales/m3tr-qhgy) in csv format. Start by loading the data with pandas. You may need to parse the date columns appropriately."
   ]
  },
  {
   "cell_type": "code",
   "execution_count": 7,
   "metadata": {
    "collapsed": false
   },
   "outputs": [],
   "source": [
    "%matplotlib inline\n",
    "#MG Why did you comment %matplotlib inline out?  I can't see the plots without this.\n",
    "import pandas as pd\n",
    "import numpy as np"
   ]
  },
  {
   "cell_type": "code",
   "execution_count": 8,
   "metadata": {
    "collapsed": false
   },
   "outputs": [
    {
     "name": "stdout",
     "output_type": "stream",
     "text": [
      "<class 'pandas.core.frame.DataFrame'>\n",
      "Int64Index: 269258 entries, 0 to 270954\n",
      "Data columns (total 18 columns):\n",
      "Date                     269258 non-null datetime64[ns]\n",
      "Store Number             269258 non-null int64\n",
      "City                     269258 non-null object\n",
      "Zip Code                 269258 non-null object\n",
      "County Number            269258 non-null float64\n",
      "County                   269258 non-null object\n",
      "Category                 269258 non-null float64\n",
      "Category Name            269258 non-null object\n",
      "Vendor Number            269258 non-null int64\n",
      "Item Number              269258 non-null int64\n",
      "Item Description         269258 non-null object\n",
      "Bottle Volume (ml)       269258 non-null int64\n",
      "State Bottle Cost        269258 non-null float64\n",
      "State Bottle Retail      269258 non-null float64\n",
      "Bottles Sold             269258 non-null int64\n",
      "Sale (Dollars)           269258 non-null float64\n",
      "Volume Sold (Liters)     269258 non-null float64\n",
      "Volume Sold (Gallons)    269258 non-null float64\n",
      "dtypes: datetime64[ns](1), float64(7), int64(5), object(5)\n",
      "memory usage: 39.0+ MB\n"
     ]
    },
    {
     "data": {
      "text/html": [
       "<div>\n",
       "<table border=\"1\" class=\"dataframe\">\n",
       "  <thead>\n",
       "    <tr style=\"text-align: right;\">\n",
       "      <th></th>\n",
       "      <th>Date</th>\n",
       "      <th>Store Number</th>\n",
       "      <th>City</th>\n",
       "      <th>Zip Code</th>\n",
       "      <th>County Number</th>\n",
       "      <th>County</th>\n",
       "      <th>Category</th>\n",
       "      <th>Category Name</th>\n",
       "      <th>Vendor Number</th>\n",
       "      <th>Item Number</th>\n",
       "      <th>Item Description</th>\n",
       "      <th>Bottle Volume (ml)</th>\n",
       "      <th>State Bottle Cost</th>\n",
       "      <th>State Bottle Retail</th>\n",
       "      <th>Bottles Sold</th>\n",
       "      <th>Sale (Dollars)</th>\n",
       "      <th>Volume Sold (Liters)</th>\n",
       "      <th>Volume Sold (Gallons)</th>\n",
       "    </tr>\n",
       "  </thead>\n",
       "  <tbody>\n",
       "    <tr>\n",
       "      <th>0</th>\n",
       "      <td>2015-11-04</td>\n",
       "      <td>3717</td>\n",
       "      <td>SUMNER</td>\n",
       "      <td>50674</td>\n",
       "      <td>9.0</td>\n",
       "      <td>Bremer</td>\n",
       "      <td>1051100.0</td>\n",
       "      <td>APRICOT BRANDIES</td>\n",
       "      <td>55</td>\n",
       "      <td>54436</td>\n",
       "      <td>Mr. Boston Apricot Brandy</td>\n",
       "      <td>750</td>\n",
       "      <td>4.50</td>\n",
       "      <td>6.75</td>\n",
       "      <td>12</td>\n",
       "      <td>81.00</td>\n",
       "      <td>9.00</td>\n",
       "      <td>2.38</td>\n",
       "    </tr>\n",
       "    <tr>\n",
       "      <th>1</th>\n",
       "      <td>2016-03-02</td>\n",
       "      <td>2614</td>\n",
       "      <td>DAVENPORT</td>\n",
       "      <td>52807</td>\n",
       "      <td>82.0</td>\n",
       "      <td>Scott</td>\n",
       "      <td>1011100.0</td>\n",
       "      <td>BLENDED WHISKIES</td>\n",
       "      <td>395</td>\n",
       "      <td>27605</td>\n",
       "      <td>Tin Cup</td>\n",
       "      <td>750</td>\n",
       "      <td>13.75</td>\n",
       "      <td>20.63</td>\n",
       "      <td>2</td>\n",
       "      <td>41.26</td>\n",
       "      <td>1.50</td>\n",
       "      <td>0.40</td>\n",
       "    </tr>\n",
       "    <tr>\n",
       "      <th>2</th>\n",
       "      <td>2016-02-11</td>\n",
       "      <td>2106</td>\n",
       "      <td>CEDAR FALLS</td>\n",
       "      <td>50613</td>\n",
       "      <td>7.0</td>\n",
       "      <td>Black Hawk</td>\n",
       "      <td>1011200.0</td>\n",
       "      <td>STRAIGHT BOURBON WHISKIES</td>\n",
       "      <td>65</td>\n",
       "      <td>19067</td>\n",
       "      <td>Jim Beam</td>\n",
       "      <td>1000</td>\n",
       "      <td>12.59</td>\n",
       "      <td>18.89</td>\n",
       "      <td>24</td>\n",
       "      <td>453.36</td>\n",
       "      <td>24.00</td>\n",
       "      <td>6.34</td>\n",
       "    </tr>\n",
       "    <tr>\n",
       "      <th>3</th>\n",
       "      <td>2016-02-03</td>\n",
       "      <td>2501</td>\n",
       "      <td>AMES</td>\n",
       "      <td>50010</td>\n",
       "      <td>85.0</td>\n",
       "      <td>Story</td>\n",
       "      <td>1071100.0</td>\n",
       "      <td>AMERICAN COCKTAILS</td>\n",
       "      <td>395</td>\n",
       "      <td>59154</td>\n",
       "      <td>1800 Ultimate Margarita</td>\n",
       "      <td>1750</td>\n",
       "      <td>9.50</td>\n",
       "      <td>14.25</td>\n",
       "      <td>6</td>\n",
       "      <td>85.50</td>\n",
       "      <td>10.50</td>\n",
       "      <td>2.77</td>\n",
       "    </tr>\n",
       "    <tr>\n",
       "      <th>4</th>\n",
       "      <td>2015-08-18</td>\n",
       "      <td>3654</td>\n",
       "      <td>BELMOND</td>\n",
       "      <td>50421</td>\n",
       "      <td>99.0</td>\n",
       "      <td>Wright</td>\n",
       "      <td>1031080.0</td>\n",
       "      <td>VODKA 80 PROOF</td>\n",
       "      <td>297</td>\n",
       "      <td>35918</td>\n",
       "      <td>Five O'clock Vodka</td>\n",
       "      <td>1750</td>\n",
       "      <td>7.20</td>\n",
       "      <td>10.80</td>\n",
       "      <td>12</td>\n",
       "      <td>129.60</td>\n",
       "      <td>21.00</td>\n",
       "      <td>5.55</td>\n",
       "    </tr>\n",
       "    <tr>\n",
       "      <th>5</th>\n",
       "      <td>2015-04-20</td>\n",
       "      <td>2569</td>\n",
       "      <td>CEDAR RAPIDS</td>\n",
       "      <td>52402</td>\n",
       "      <td>57.0</td>\n",
       "      <td>Linn</td>\n",
       "      <td>1041100.0</td>\n",
       "      <td>AMERICAN DRY GINS</td>\n",
       "      <td>205</td>\n",
       "      <td>31473</td>\n",
       "      <td>New Amsterdam Gin</td>\n",
       "      <td>1750</td>\n",
       "      <td>13.32</td>\n",
       "      <td>19.98</td>\n",
       "      <td>6</td>\n",
       "      <td>119.88</td>\n",
       "      <td>10.50</td>\n",
       "      <td>2.77</td>\n",
       "    </tr>\n",
       "    <tr>\n",
       "      <th>6</th>\n",
       "      <td>2015-08-05</td>\n",
       "      <td>2596</td>\n",
       "      <td>OTTUMWA</td>\n",
       "      <td>52501</td>\n",
       "      <td>90.0</td>\n",
       "      <td>Wapello</td>\n",
       "      <td>1051010.0</td>\n",
       "      <td>AMERICAN GRAPE BRANDIES</td>\n",
       "      <td>85</td>\n",
       "      <td>52806</td>\n",
       "      <td>Korbel Brandy</td>\n",
       "      <td>750</td>\n",
       "      <td>6.66</td>\n",
       "      <td>9.99</td>\n",
       "      <td>3</td>\n",
       "      <td>29.97</td>\n",
       "      <td>2.25</td>\n",
       "      <td>0.59</td>\n",
       "    </tr>\n",
       "    <tr>\n",
       "      <th>7</th>\n",
       "      <td>2015-06-25</td>\n",
       "      <td>3456</td>\n",
       "      <td>CLEAR LAKE</td>\n",
       "      <td>50428</td>\n",
       "      <td>17.0</td>\n",
       "      <td>Cerro Gordo</td>\n",
       "      <td>1012100.0</td>\n",
       "      <td>CANADIAN WHISKIES</td>\n",
       "      <td>65</td>\n",
       "      <td>10628</td>\n",
       "      <td>Canadian Club Whisky</td>\n",
       "      <td>1750</td>\n",
       "      <td>15.75</td>\n",
       "      <td>23.63</td>\n",
       "      <td>2</td>\n",
       "      <td>47.26</td>\n",
       "      <td>3.50</td>\n",
       "      <td>0.92</td>\n",
       "    </tr>\n",
       "    <tr>\n",
       "      <th>8</th>\n",
       "      <td>2016-01-04</td>\n",
       "      <td>4757</td>\n",
       "      <td>BONDURANT</td>\n",
       "      <td>50035</td>\n",
       "      <td>77.0</td>\n",
       "      <td>Polk</td>\n",
       "      <td>1032080.0</td>\n",
       "      <td>IMPORTED VODKA</td>\n",
       "      <td>370</td>\n",
       "      <td>34006</td>\n",
       "      <td>Absolut Swedish Vodka 80 Prf</td>\n",
       "      <td>750</td>\n",
       "      <td>11.49</td>\n",
       "      <td>17.24</td>\n",
       "      <td>4</td>\n",
       "      <td>68.96</td>\n",
       "      <td>3.00</td>\n",
       "      <td>0.79</td>\n",
       "    </tr>\n",
       "    <tr>\n",
       "      <th>9</th>\n",
       "      <td>2015-11-10</td>\n",
       "      <td>4346</td>\n",
       "      <td>SHELLSBURG</td>\n",
       "      <td>52332</td>\n",
       "      <td>6.0</td>\n",
       "      <td>Benton</td>\n",
       "      <td>1081315.0</td>\n",
       "      <td>CINNAMON SCHNAPPS</td>\n",
       "      <td>65</td>\n",
       "      <td>82610</td>\n",
       "      <td>Dekuyper Hot Damn!</td>\n",
       "      <td>1000</td>\n",
       "      <td>7.62</td>\n",
       "      <td>11.43</td>\n",
       "      <td>2</td>\n",
       "      <td>22.86</td>\n",
       "      <td>2.00</td>\n",
       "      <td>0.53</td>\n",
       "    </tr>\n",
       "  </tbody>\n",
       "</table>\n",
       "</div>"
      ],
      "text/plain": [
       "        Date  Store Number          City Zip Code  County Number       County  \\\n",
       "0 2015-11-04          3717        SUMNER    50674            9.0       Bremer   \n",
       "1 2016-03-02          2614     DAVENPORT    52807           82.0        Scott   \n",
       "2 2016-02-11          2106   CEDAR FALLS    50613            7.0   Black Hawk   \n",
       "3 2016-02-03          2501          AMES    50010           85.0        Story   \n",
       "4 2015-08-18          3654       BELMOND    50421           99.0       Wright   \n",
       "5 2015-04-20          2569  CEDAR RAPIDS    52402           57.0         Linn   \n",
       "6 2015-08-05          2596       OTTUMWA    52501           90.0      Wapello   \n",
       "7 2015-06-25          3456    CLEAR LAKE    50428           17.0  Cerro Gordo   \n",
       "8 2016-01-04          4757     BONDURANT    50035           77.0         Polk   \n",
       "9 2015-11-10          4346    SHELLSBURG    52332            6.0       Benton   \n",
       "\n",
       "    Category              Category Name  Vendor Number  Item Number  \\\n",
       "0  1051100.0           APRICOT BRANDIES             55        54436   \n",
       "1  1011100.0           BLENDED WHISKIES            395        27605   \n",
       "2  1011200.0  STRAIGHT BOURBON WHISKIES             65        19067   \n",
       "3  1071100.0         AMERICAN COCKTAILS            395        59154   \n",
       "4  1031080.0             VODKA 80 PROOF            297        35918   \n",
       "5  1041100.0          AMERICAN DRY GINS            205        31473   \n",
       "6  1051010.0    AMERICAN GRAPE BRANDIES             85        52806   \n",
       "7  1012100.0          CANADIAN WHISKIES             65        10628   \n",
       "8  1032080.0             IMPORTED VODKA            370        34006   \n",
       "9  1081315.0          CINNAMON SCHNAPPS             65        82610   \n",
       "\n",
       "               Item Description  Bottle Volume (ml)  State Bottle Cost  \\\n",
       "0     Mr. Boston Apricot Brandy                 750               4.50   \n",
       "1                       Tin Cup                 750              13.75   \n",
       "2                      Jim Beam                1000              12.59   \n",
       "3       1800 Ultimate Margarita                1750               9.50   \n",
       "4            Five O'clock Vodka                1750               7.20   \n",
       "5             New Amsterdam Gin                1750              13.32   \n",
       "6                 Korbel Brandy                 750               6.66   \n",
       "7          Canadian Club Whisky                1750              15.75   \n",
       "8  Absolut Swedish Vodka 80 Prf                 750              11.49   \n",
       "9            Dekuyper Hot Damn!                1000               7.62   \n",
       "\n",
       "   State Bottle Retail  Bottles Sold  Sale (Dollars)  Volume Sold (Liters)  \\\n",
       "0                 6.75            12           81.00                  9.00   \n",
       "1                20.63             2           41.26                  1.50   \n",
       "2                18.89            24          453.36                 24.00   \n",
       "3                14.25             6           85.50                 10.50   \n",
       "4                10.80            12          129.60                 21.00   \n",
       "5                19.98             6          119.88                 10.50   \n",
       "6                 9.99             3           29.97                  2.25   \n",
       "7                23.63             2           47.26                  3.50   \n",
       "8                17.24             4           68.96                  3.00   \n",
       "9                11.43             2           22.86                  2.00   \n",
       "\n",
       "   Volume Sold (Gallons)  \n",
       "0                   2.38  \n",
       "1                   0.40  \n",
       "2                   6.34  \n",
       "3                   2.77  \n",
       "4                   5.55  \n",
       "5                   2.77  \n",
       "6                   0.59  \n",
       "7                   0.92  \n",
       "8                   0.79  \n",
       "9                   0.53  "
      ]
     },
     "execution_count": 8,
     "metadata": {},
     "output_type": "execute_result"
    }
   ],
   "source": [
    "## Load the data into a DataFrame\n",
    "df = pd.read_csv('../assets/Iowa_Liquor_sales_sample_10pct.csv')\n",
    "df = df.dropna()\n",
    "#df = df[df[\"Zip Code\"] != 56201]\n",
    "\n",
    "\n",
    "## Transform the dates if needed, e.g.\n",
    "df[\"Date\"] = pd.to_datetime(df[\"Date\"], format=\"%m/%d/%Y\")\n",
    "\n",
    "def stripDollarSign(string):\n",
    "    return float(string.strip(\"$\")) #MG Cool.  I had forgotten about this.\n",
    "\n",
    "df[\"State Bottle Cost\"] = df[\"State Bottle Cost\"].apply(stripDollarSign)\n",
    "df[\"State Bottle Retail\"] = df[\"State Bottle Retail\"].apply(stripDollarSign)\n",
    "df[\"Sale (Dollars)\"] = df[\"Sale (Dollars)\"].apply(stripDollarSign)\n",
    "\n",
    "df.info()\n",
    "df.head(10)"
   ]
  },
  {
   "cell_type": "markdown",
   "metadata": {},
   "source": [
    "# Explore the data\n",
    "\n",
    "Perform some exploratory statistical analysis and make some plots, such as histograms of transaction totals, bottles sold, etc."
   ]
  },
  {
   "cell_type": "code",
   "execution_count": 9,
   "metadata": {
    "collapsed": true
   },
   "outputs": [],
   "source": [
    "import seaborn as sns\n",
    "import matplotlib.pyplot as plt"
   ]
  },
  {
   "cell_type": "code",
   "execution_count": 10,
   "metadata": {
    "collapsed": false
   },
   "outputs": [
    {
     "data": {
      "text/plain": [
       "<matplotlib.axes._subplots.AxesSubplot at 0x1185ad050>"
      ]
     },
     "execution_count": 10,
     "metadata": {},
     "output_type": "execute_result"
    },
    {
     "data": {
      "image/png": "[encoded data removed]",
      "text/plain": [
       "<matplotlib.figure.Figure at 0x121d56510>"
      ]
     },
     "metadata": {},
     "output_type": "display_data"
    }
   ],
   "source": [
    "sns.heatmap(df.corr())"
   ]
  },
  {
   "cell_type": "markdown",
   "metadata": {},
   "source": [
    "## Record your findings\n",
    "\n",
    "Be sure to write out anything observations from your exploratory analysis."
   ]
  },
  {
   "cell_type": "markdown",
   "metadata": {},
   "source": [
    "# Mine the data\n",
    "Now you are ready to compute the variables you will use for your regression from the data. For example, you may want to\n",
    "compute total sales per store from Jan to March of 2015, mean price per bottle, etc. Refer to the readme for more ideas appropriate to your scenario.\n",
    "\n",
    "Pandas is your friend for this task. Take a look at the operations [here](http://pandas.pydata.org/pandas-docs/stable/groupby.html) for ideas on how to make the best use of pandas and feel free to search for blog and Stack Overflow posts to help you group data by certain variables and compute sums, means, etc. You may find it useful to create a new data frame to house this summary data."
   ]
  },
  {
   "cell_type": "markdown",
   "metadata": {},
   "source": [
    "# Refine the data\n",
    "Look for any statistical relationships, correlations, or other relevant properties of the dataset."
   ]
  },
  {
   "cell_type": "code",
   "execution_count": 12,
   "metadata": {
    "collapsed": false
   },
   "outputs": [
    {
     "data": {
      "text/html": [
       "<div>\n",
       "<table border=\"1\" class=\"dataframe\">\n",
       "  <thead>\n",
       "    <tr style=\"text-align: right;\">\n",
       "      <th></th>\n",
       "      <th>Date</th>\n",
       "      <th>Store Number</th>\n",
       "      <th>City</th>\n",
       "      <th>Zip Code</th>\n",
       "      <th>County Number</th>\n",
       "      <th>County</th>\n",
       "      <th>Category</th>\n",
       "      <th>Category Name</th>\n",
       "      <th>Vendor Number</th>\n",
       "      <th>Item Number</th>\n",
       "      <th>...</th>\n",
       "      <th>County_Wapello</th>\n",
       "      <th>County_Warren</th>\n",
       "      <th>County_Washington</th>\n",
       "      <th>County_Wayne</th>\n",
       "      <th>County_Webster</th>\n",
       "      <th>County_Winnebago</th>\n",
       "      <th>County_Winneshiek</th>\n",
       "      <th>County_Woodbury</th>\n",
       "      <th>County_Worth</th>\n",
       "      <th>County_Wright</th>\n",
       "    </tr>\n",
       "  </thead>\n",
       "  <tbody>\n",
       "    <tr>\n",
       "      <th>0</th>\n",
       "      <td>2015-11-04</td>\n",
       "      <td>3717</td>\n",
       "      <td>SUMNER</td>\n",
       "      <td>50674</td>\n",
       "      <td>9.0</td>\n",
       "      <td>Bremer</td>\n",
       "      <td>1051100.0</td>\n",
       "      <td>APRICOT BRANDIES</td>\n",
       "      <td>55</td>\n",
       "      <td>54436</td>\n",
       "      <td>...</td>\n",
       "      <td>0.0</td>\n",
       "      <td>0.0</td>\n",
       "      <td>0.0</td>\n",
       "      <td>0.0</td>\n",
       "      <td>0.0</td>\n",
       "      <td>0.0</td>\n",
       "      <td>0.0</td>\n",
       "      <td>0.0</td>\n",
       "      <td>0.0</td>\n",
       "      <td>0.0</td>\n",
       "    </tr>\n",
       "    <tr>\n",
       "      <th>1</th>\n",
       "      <td>2016-03-02</td>\n",
       "      <td>2614</td>\n",
       "      <td>DAVENPORT</td>\n",
       "      <td>52807</td>\n",
       "      <td>82.0</td>\n",
       "      <td>Scott</td>\n",
       "      <td>1011100.0</td>\n",
       "      <td>BLENDED WHISKIES</td>\n",
       "      <td>395</td>\n",
       "      <td>27605</td>\n",
       "      <td>...</td>\n",
       "      <td>0.0</td>\n",
       "      <td>0.0</td>\n",
       "      <td>0.0</td>\n",
       "      <td>0.0</td>\n",
       "      <td>0.0</td>\n",
       "      <td>0.0</td>\n",
       "      <td>0.0</td>\n",
       "      <td>0.0</td>\n",
       "      <td>0.0</td>\n",
       "      <td>0.0</td>\n",
       "    </tr>\n",
       "    <tr>\n",
       "      <th>2</th>\n",
       "      <td>2016-02-11</td>\n",
       "      <td>2106</td>\n",
       "      <td>CEDAR FALLS</td>\n",
       "      <td>50613</td>\n",
       "      <td>7.0</td>\n",
       "      <td>Black Hawk</td>\n",
       "      <td>1011200.0</td>\n",
       "      <td>STRAIGHT BOURBON WHISKIES</td>\n",
       "      <td>65</td>\n",
       "      <td>19067</td>\n",
       "      <td>...</td>\n",
       "      <td>0.0</td>\n",
       "      <td>0.0</td>\n",
       "      <td>0.0</td>\n",
       "      <td>0.0</td>\n",
       "      <td>0.0</td>\n",
       "      <td>0.0</td>\n",
       "      <td>0.0</td>\n",
       "      <td>0.0</td>\n",
       "      <td>0.0</td>\n",
       "      <td>0.0</td>\n",
       "    </tr>\n",
       "    <tr>\n",
       "      <th>3</th>\n",
       "      <td>2016-02-03</td>\n",
       "      <td>2501</td>\n",
       "      <td>AMES</td>\n",
       "      <td>50010</td>\n",
       "      <td>85.0</td>\n",
       "      <td>Story</td>\n",
       "      <td>1071100.0</td>\n",
       "      <td>AMERICAN COCKTAILS</td>\n",
       "      <td>395</td>\n",
       "      <td>59154</td>\n",
       "      <td>...</td>\n",
       "      <td>0.0</td>\n",
       "      <td>0.0</td>\n",
       "      <td>0.0</td>\n",
       "      <td>0.0</td>\n",
       "      <td>0.0</td>\n",
       "      <td>0.0</td>\n",
       "      <td>0.0</td>\n",
       "      <td>0.0</td>\n",
       "      <td>0.0</td>\n",
       "      <td>0.0</td>\n",
       "    </tr>\n",
       "    <tr>\n",
       "      <th>4</th>\n",
       "      <td>2015-08-18</td>\n",
       "      <td>3654</td>\n",
       "      <td>BELMOND</td>\n",
       "      <td>50421</td>\n",
       "      <td>99.0</td>\n",
       "      <td>Wright</td>\n",
       "      <td>1031080.0</td>\n",
       "      <td>VODKA 80 PROOF</td>\n",
       "      <td>297</td>\n",
       "      <td>35918</td>\n",
       "      <td>...</td>\n",
       "      <td>0.0</td>\n",
       "      <td>0.0</td>\n",
       "      <td>0.0</td>\n",
       "      <td>0.0</td>\n",
       "      <td>0.0</td>\n",
       "      <td>0.0</td>\n",
       "      <td>0.0</td>\n",
       "      <td>0.0</td>\n",
       "      <td>0.0</td>\n",
       "      <td>1.0</td>\n",
       "    </tr>\n",
       "  </tbody>\n",
       "</table>\n",
       "<p>5 rows × 216 columns</p>\n",
       "</div>"
      ],
      "text/plain": [
       "        Date  Store Number         City Zip Code  County Number      County  \\\n",
       "0 2015-11-04          3717       SUMNER    50674            9.0      Bremer   \n",
       "1 2016-03-02          2614    DAVENPORT    52807           82.0       Scott   \n",
       "2 2016-02-11          2106  CEDAR FALLS    50613            7.0  Black Hawk   \n",
       "3 2016-02-03          2501         AMES    50010           85.0       Story   \n",
       "4 2015-08-18          3654      BELMOND    50421           99.0      Wright   \n",
       "\n",
       "    Category              Category Name  Vendor Number  Item Number  \\\n",
       "0  1051100.0           APRICOT BRANDIES             55        54436   \n",
       "1  1011100.0           BLENDED WHISKIES            395        27605   \n",
       "2  1011200.0  STRAIGHT BOURBON WHISKIES             65        19067   \n",
       "3  1071100.0         AMERICAN COCKTAILS            395        59154   \n",
       "4  1031080.0             VODKA 80 PROOF            297        35918   \n",
       "\n",
       "       ...       County_Wapello  County_Warren  County_Washington  \\\n",
       "0      ...                  0.0            0.0                0.0   \n",
       "1      ...                  0.0            0.0                0.0   \n",
       "2      ...                  0.0            0.0                0.0   \n",
       "3      ...                  0.0            0.0                0.0   \n",
       "4      ...                  0.0            0.0                0.0   \n",
       "\n",
       "   County_Wayne  County_Webster  County_Winnebago  County_Winneshiek  \\\n",
       "0           0.0             0.0               0.0                0.0   \n",
       "1           0.0             0.0               0.0                0.0   \n",
       "2           0.0             0.0               0.0                0.0   \n",
       "3           0.0             0.0               0.0                0.0   \n",
       "4           0.0             0.0               0.0                0.0   \n",
       "\n",
       "   County_Woodbury  County_Worth  County_Wright  \n",
       "0              0.0           0.0            0.0  \n",
       "1              0.0           0.0            0.0  \n",
       "2              0.0           0.0            0.0  \n",
       "3              0.0           0.0            0.0  \n",
       "4              0.0           0.0            1.0  \n",
       "\n",
       "[5 rows x 216 columns]"
      ]
     },
     "execution_count": 12,
     "metadata": {},
     "output_type": "execute_result"
    }
   ],
   "source": [
    "categories = [\"County\"]\n",
    "for category in categories:\n",
    "    series = df[category]\n",
    "    dummies = pd.get_dummies(series, prefix=category) #MG Nice.\n",
    "    df = pd.concat([df, dummies], axis=1)\n",
    "df.head()"
   ]
  },
  {
   "cell_type": "markdown",
   "metadata": {},
   "source": [
    "# Build your models\n",
    "\n",
    "Using scikit-learn or statsmodels, build the necessary models for your scenario. Evaluate model fit."
   ]
  },
  {
   "cell_type": "code",
   "execution_count": 13,
   "metadata": {
    "collapsed": false,
    "scrolled": true
   },
   "outputs": [
    {
     "name": "stdout",
     "output_type": "stream",
     "text": [
      "0.716347791216\n"
     ]
    }
   ],
   "source": [
    "#import statsmodels.formula.api as smf\n",
    "\n",
    "#statsModelLM = smf.ols(formula='Sale ~ Volume', data=df).fit()\n",
    "#print statsModelLM.summary()\n",
    "\n",
    "from sklearn import linear_model\n",
    "\n",
    "baselist = [\"Volume Sold (Liters)\"]\n",
    "X = df[baselist]\n",
    "y = df[\"Sale (Dollars)\"]\n",
    "lm = linear_model.LinearRegression()\n",
    "model = lm.fit(X,y)\n",
    "predictions = model.predict(X)\n",
    "\n",
    "print lm.score(X,y)"
   ]
  },
  {
   "cell_type": "code",
   "execution_count": 14,
   "metadata": {
    "collapsed": false
   },
   "outputs": [
    {
     "name": "stdout",
     "output_type": "stream",
     "text": [
      "0.717623955756\n"
     ]
    }
   ],
   "source": [
    "#print df.columns.values[18:].tolist()\n",
    "\n",
    "X = df[baselist + df.columns.values[18:].tolist()]\n",
    "y = df[\"Sale (Dollars)\"]\n",
    "lm = linear_model.LinearRegression()\n",
    "model = lm.fit(X,y)\n",
    "predictions = model.predict(X)\n",
    "\n",
    "print lm.score(X,y)"
   ]
  },
  {
   "cell_type": "code",
   "execution_count": 15,
   "metadata": {
    "collapsed": false
   },
   "outputs": [],
   "source": [
    "geographyTypes = [\"County\",\"City\",\"Zip Code\"]\n",
    "dataframes = []\n",
    "\n",
    "for geoType in geographyTypes:\n",
    "\n",
    "    itemList = []\n",
    "    scoreList = []\n",
    "    totalSales = []\n",
    "    totalBottlesSold = []\n",
    "    pricePerBottle = []\n",
    "    margin = []\n",
    "    pricePerLiter = []\n",
    "    \n",
    "    \n",
    "    geographic = sorted(set(df[geoType]))\n",
    "\n",
    "    for g in geographic:\n",
    "        mask = df[geoType] == g\n",
    "        itemList.append(g)\n",
    "        \n",
    "        tempdf = df[mask]\n",
    "        \n",
    "        totalSales.append(sum(tempdf[\"Sale (Dollars)\"]))\n",
    "        totalBottlesSold.append(tempdf[\"Bottles Sold\"].sum())\n",
    "        pricePerBottle.append(np.mean(tempdf[\"State Bottle Retail\"]))\n",
    "        margin.append(np.mean(tempdf[\"State Bottle Retail\"] - tempdf[\"State Bottle Cost\"]))\n",
    "        pricePerLiter.append(sum(tempdf[\"Sale (Dollars)\"]) / sum(tempdf[\"Volume Sold (Liters)\"]))\n",
    "        \n",
    "        if(geoType == \"County\"):\n",
    "            X = df[mask][[\"Bottles Sold\",\"State Bottle Retail\", geoType + \"_\" + g]]\n",
    "        else:\n",
    "            X = df[mask][[\"Bottles Sold\",\"State Bottle Retail\"]] \n",
    "\n",
    "        y = df[mask][\"Sale (Dollars)\"]\n",
    "\n",
    "        lm = linear_model.LinearRegression()\n",
    "\n",
    "        model = lm.fit(X,y)\n",
    "        predictions = model.predict(X)\n",
    "        \n",
    "        scoreList.append(lm.score(X,y))\n",
    "\n",
    "\n",
    "    output = pd.DataFrame(\n",
    "        {geoType:itemList,\"R^2Score\": scoreList,\n",
    "            \"TotalSales\": totalSales,\n",
    "            \"TotalBottlesSold\": totalBottlesSold,\n",
    "            \"AvgPriceperBottle\": pricePerBottle,\n",
    "            \"MarginPerBottle\": margin,\n",
    "            \"PricePerLiter\": pricePerLiter\n",
    "        })\n",
    "\n",
    "    output.to_csv('../assets/formattedIowaAlcoholSalesBy'+ geoType + '.csv')\n",
    "    \n",
    "    dataframes.append(output)\n",
    "#MG Very nice!"
   ]
  },
  {
   "cell_type": "code",
   "execution_count": 17,
   "metadata": {
    "collapsed": false,
    "scrolled": true
   },
   "outputs": [],
   "source": [
    "countyDataFrame = dataframes[0]\n",
    "cityDataFrame = dataframes[1]\n",
    "zipcodeDataFrame = dataframes[2]"
   ]
  },
  {
   "cell_type": "code",
   "execution_count": 19,
   "metadata": {
    "collapsed": false
   },
   "outputs": [
    {
     "data": {
      "text/html": [
       "<div>\n",
       "<table border=\"1\" class=\"dataframe\">\n",
       "  <thead>\n",
       "    <tr style=\"text-align: right;\">\n",
       "      <th></th>\n",
       "      <th>AvgPriceperBottle</th>\n",
       "      <th>County</th>\n",
       "      <th>MarginPerBottle</th>\n",
       "      <th>PricePerLiter</th>\n",
       "      <th>R^2Score</th>\n",
       "      <th>TotalBottlesSold</th>\n",
       "      <th>TotalSales</th>\n",
       "    </tr>\n",
       "  </thead>\n",
       "  <tbody>\n",
       "    <tr>\n",
       "      <th>76</th>\n",
       "      <td>15.202882</td>\n",
       "      <td>Polk</td>\n",
       "      <td>5.077717</td>\n",
       "      <td>15.419951</td>\n",
       "      <td>0.745034</td>\n",
       "      <td>579677</td>\n",
       "      <td>7.747219e+06</td>\n",
       "    </tr>\n",
       "    <tr>\n",
       "      <th>56</th>\n",
       "      <td>14.233033</td>\n",
       "      <td>Linn</td>\n",
       "      <td>4.754082</td>\n",
       "      <td>14.326814</td>\n",
       "      <td>0.695870</td>\n",
       "      <td>245771</td>\n",
       "      <td>3.139999e+06</td>\n",
       "    </tr>\n",
       "    <tr>\n",
       "      <th>81</th>\n",
       "      <td>14.437241</td>\n",
       "      <td>Scott</td>\n",
       "      <td>4.821982</td>\n",
       "      <td>15.139441</td>\n",
       "      <td>0.686150</td>\n",
       "      <td>204915</td>\n",
       "      <td>2.457277e+06</td>\n",
       "    </tr>\n",
       "    <tr>\n",
       "      <th>51</th>\n",
       "      <td>15.377705</td>\n",
       "      <td>Johnson</td>\n",
       "      <td>5.136183</td>\n",
       "      <td>16.029407</td>\n",
       "      <td>0.598849</td>\n",
       "      <td>147638</td>\n",
       "      <td>2.077858e+06</td>\n",
       "    </tr>\n",
       "    <tr>\n",
       "      <th>6</th>\n",
       "      <td>14.038912</td>\n",
       "      <td>Black Hawk</td>\n",
       "      <td>4.689621</td>\n",
       "      <td>14.611529</td>\n",
       "      <td>0.541959</td>\n",
       "      <td>172713</td>\n",
       "      <td>1.928017e+06</td>\n",
       "    </tr>\n",
       "  </tbody>\n",
       "</table>\n",
       "</div>"
      ],
      "text/plain": [
       "    AvgPriceperBottle      County  MarginPerBottle  PricePerLiter  R^2Score  \\\n",
       "76          15.202882        Polk         5.077717      15.419951  0.745034   \n",
       "56          14.233033        Linn         4.754082      14.326814  0.695870   \n",
       "81          14.437241       Scott         4.821982      15.139441  0.686150   \n",
       "51          15.377705     Johnson         5.136183      16.029407  0.598849   \n",
       "6           14.038912  Black Hawk         4.689621      14.611529  0.541959   \n",
       "\n",
       "    TotalBottlesSold    TotalSales  \n",
       "76            579677  7.747219e+06  \n",
       "56            245771  3.139999e+06  \n",
       "81            204915  2.457277e+06  \n",
       "51            147638  2.077858e+06  \n",
       "6             172713  1.928017e+06  "
      ]
     },
     "execution_count": 19,
     "metadata": {},
     "output_type": "execute_result"
    }
   ],
   "source": [
    "countyDataFrame.sort_values(\"TotalSales\",ascending=False,inplace=True)\n",
    "countyDataFrame.head(5)"
   ]
  },
  {
   "cell_type": "code",
   "execution_count": 20,
   "metadata": {
    "collapsed": false
   },
   "outputs": [
    {
     "data": {
      "text/html": [
       "<div>\n",
       "<table border=\"1\" class=\"dataframe\">\n",
       "  <thead>\n",
       "    <tr style=\"text-align: right;\">\n",
       "      <th></th>\n",
       "      <th>AvgPriceperBottle</th>\n",
       "      <th>City</th>\n",
       "      <th>MarginPerBottle</th>\n",
       "      <th>PricePerLiter</th>\n",
       "      <th>R^2Score</th>\n",
       "      <th>TotalBottlesSold</th>\n",
       "      <th>TotalSales</th>\n",
       "    </tr>\n",
       "  </thead>\n",
       "  <tbody>\n",
       "    <tr>\n",
       "      <th>90</th>\n",
       "      <td>14.981637</td>\n",
       "      <td>DES MOINES</td>\n",
       "      <td>5.002371</td>\n",
       "      <td>15.865613</td>\n",
       "      <td>0.736643</td>\n",
       "      <td>344151</td>\n",
       "      <td>4380886.26</td>\n",
       "    </tr>\n",
       "    <tr>\n",
       "      <th>51</th>\n",
       "      <td>14.202422</td>\n",
       "      <td>CEDAR RAPIDS</td>\n",
       "      <td>4.743563</td>\n",
       "      <td>14.531323</td>\n",
       "      <td>0.694650</td>\n",
       "      <td>194525</td>\n",
       "      <td>2486949.08</td>\n",
       "    </tr>\n",
       "    <tr>\n",
       "      <th>81</th>\n",
       "      <td>13.706269</td>\n",
       "      <td>DAVENPORT</td>\n",
       "      <td>4.578247</td>\n",
       "      <td>14.642437</td>\n",
       "      <td>0.685822</td>\n",
       "      <td>153200</td>\n",
       "      <td>1697702.84</td>\n",
       "    </tr>\n",
       "    <tr>\n",
       "      <th>175</th>\n",
       "      <td>15.024816</td>\n",
       "      <td>IOWA CITY</td>\n",
       "      <td>5.018575</td>\n",
       "      <td>15.502986</td>\n",
       "      <td>0.644152</td>\n",
       "      <td>93923</td>\n",
       "      <td>1250666.19</td>\n",
       "    </tr>\n",
       "    <tr>\n",
       "      <th>358</th>\n",
       "      <td>13.462237</td>\n",
       "      <td>WATERLOO</td>\n",
       "      <td>4.495614</td>\n",
       "      <td>14.927784</td>\n",
       "      <td>0.531354</td>\n",
       "      <td>117206</td>\n",
       "      <td>1211603.55</td>\n",
       "    </tr>\n",
       "  </tbody>\n",
       "</table>\n",
       "</div>"
      ],
      "text/plain": [
       "     AvgPriceperBottle          City  MarginPerBottle  PricePerLiter  \\\n",
       "90           14.981637    DES MOINES         5.002371      15.865613   \n",
       "51           14.202422  CEDAR RAPIDS         4.743563      14.531323   \n",
       "81           13.706269     DAVENPORT         4.578247      14.642437   \n",
       "175          15.024816     IOWA CITY         5.018575      15.502986   \n",
       "358          13.462237      WATERLOO         4.495614      14.927784   \n",
       "\n",
       "     R^2Score  TotalBottlesSold  TotalSales  \n",
       "90   0.736643            344151  4380886.26  \n",
       "51   0.694650            194525  2486949.08  \n",
       "81   0.685822            153200  1697702.84  \n",
       "175  0.644152             93923  1250666.19  \n",
       "358  0.531354            117206  1211603.55  "
      ]
     },
     "execution_count": 20,
     "metadata": {},
     "output_type": "execute_result"
    }
   ],
   "source": [
    "cityDataFrame.sort_values(\"TotalSales\",ascending=False,inplace=True)\n",
    "cityDataFrame.head(5)"
   ]
  },
  {
   "cell_type": "code",
   "execution_count": 21,
   "metadata": {
    "collapsed": false
   },
   "outputs": [
    {
     "data": {
      "text/html": [
       "<div>\n",
       "<table border=\"1\" class=\"dataframe\">\n",
       "  <thead>\n",
       "    <tr style=\"text-align: right;\">\n",
       "      <th></th>\n",
       "      <th>AvgPriceperBottle</th>\n",
       "      <th>MarginPerBottle</th>\n",
       "      <th>PricePerLiter</th>\n",
       "      <th>R^2Score</th>\n",
       "      <th>TotalBottlesSold</th>\n",
       "      <th>TotalSales</th>\n",
       "      <th>Zip Code</th>\n",
       "    </tr>\n",
       "  </thead>\n",
       "  <tbody>\n",
       "    <tr>\n",
       "      <th>90</th>\n",
       "      <td>17.650358</td>\n",
       "      <td>5.891215</td>\n",
       "      <td>17.621886</td>\n",
       "      <td>0.686394</td>\n",
       "      <td>89891</td>\n",
       "      <td>1325170.74</td>\n",
       "      <td>50314</td>\n",
       "    </tr>\n",
       "    <tr>\n",
       "      <th>94</th>\n",
       "      <td>17.226750</td>\n",
       "      <td>5.749438</td>\n",
       "      <td>15.997775</td>\n",
       "      <td>0.770759</td>\n",
       "      <td>84708</td>\n",
       "      <td>1300498.14</td>\n",
       "      <td>50320</td>\n",
       "    </tr>\n",
       "    <tr>\n",
       "      <th>358</th>\n",
       "      <td>14.187930</td>\n",
       "      <td>4.739043</td>\n",
       "      <td>14.082607</td>\n",
       "      <td>0.699809</td>\n",
       "      <td>89329</td>\n",
       "      <td>1154143.14</td>\n",
       "      <td>52402</td>\n",
       "    </tr>\n",
       "    <tr>\n",
       "      <th>323</th>\n",
       "      <td>15.106018</td>\n",
       "      <td>5.045029</td>\n",
       "      <td>15.665350</td>\n",
       "      <td>0.639417</td>\n",
       "      <td>81693</td>\n",
       "      <td>1080449.51</td>\n",
       "      <td>52240</td>\n",
       "    </tr>\n",
       "    <tr>\n",
       "      <th>4</th>\n",
       "      <td>15.724516</td>\n",
       "      <td>5.252892</td>\n",
       "      <td>14.706226</td>\n",
       "      <td>0.854616</td>\n",
       "      <td>64738</td>\n",
       "      <td>931101.58</td>\n",
       "      <td>50010</td>\n",
       "    </tr>\n",
       "  </tbody>\n",
       "</table>\n",
       "</div>"
      ],
      "text/plain": [
       "     AvgPriceperBottle  MarginPerBottle  PricePerLiter  R^2Score  \\\n",
       "90           17.650358         5.891215      17.621886  0.686394   \n",
       "94           17.226750         5.749438      15.997775  0.770759   \n",
       "358          14.187930         4.739043      14.082607  0.699809   \n",
       "323          15.106018         5.045029      15.665350  0.639417   \n",
       "4            15.724516         5.252892      14.706226  0.854616   \n",
       "\n",
       "     TotalBottlesSold  TotalSales Zip Code  \n",
       "90              89891  1325170.74    50314  \n",
       "94              84708  1300498.14    50320  \n",
       "358             89329  1154143.14    52402  \n",
       "323             81693  1080449.51    52240  \n",
       "4               64738   931101.58    50010  "
      ]
     },
     "execution_count": 21,
     "metadata": {},
     "output_type": "execute_result"
    }
   ],
   "source": [
    "zipcodeDataFrame.sort_values(\"TotalSales\",ascending=False,inplace=True)\n",
    "zipcodeDataFrame.head(5)"
   ]
  },
  {
   "cell_type": "code",
   "execution_count": 22,
   "metadata": {
    "collapsed": false
   },
   "outputs": [
    {
     "name": "stdout",
     "output_type": "stream",
     "text": [
      "Average of County R^2 Scores:  0.791390541369\n",
      "Average of City R^2 Scores:  0.781958153293\n",
      "Average of Zipcode R^2 Scores:  0.7725564866\n"
     ]
    }
   ],
   "source": [
    "print \"Average of County R^2 Scores: \", np.mean(dataframes[0][\"R^2Score\"])\n",
    "print \"Average of City R^2 Scores: \", np.mean(dataframes[1][\"R^2Score\"])\n",
    "print \"Average of Zipcode R^2 Scores: \", np.mean(dataframes[2][\"R^2Score\"])"
   ]
  },
  {
   "cell_type": "markdown",
   "metadata": {},
   "source": [
    "## Plot your results\n",
    "\n",
    "Again make sure that you record any valuable information. For example, in the tax scenario, did you find the sales from the first three months of the year to be a good predictor of the total sales for the year? Plot the predictions versus the true values and discuss the successes and limitations of your models"
   ]
  },
  {
   "cell_type": "code",
   "execution_count": 24,
   "metadata": {
    "collapsed": false
   },
   "outputs": [
    {
     "data": {
      "text/plain": [
       "<matplotlib.axes._subplots.AxesSubplot at 0x119532750>"
      ]
     },
     "execution_count": 24,
     "metadata": {},
     "output_type": "execute_result"
    },
    {
     "data": {
      "image/png": "[encoded data removed]",
      "text/plain": [
       "<matplotlib.figure.Figure at 0x123595b90>"
      ]
     },
     "metadata": {},
     "output_type": "display_data"
    }
   ],
   "source": [
    "sns.heatmap(dataframes[0].corr())"
   ]
  },
  {
   "cell_type": "code",
   "execution_count": 25,
   "metadata": {
    "collapsed": false,
    "scrolled": true
   },
   "outputs": [
    {
     "data": {
      "text/plain": [
       "<matplotlib.axes._subplots.AxesSubplot at 0x115ee5750>"
      ]
     },
     "execution_count": 25,
     "metadata": {},
     "output_type": "execute_result"
    },
    {
     "data": {
      "image/png": "[encoded data removed]",
      "text/plain": [
       "<matplotlib.figure.Figure at 0x112dfda10>"
      ]
     },
     "metadata": {},
     "output_type": "display_data"
    }
   ],
   "source": [
    "fig, axs = plt.subplots(2,2)\n",
    "dataframes[0].plot(kind=\"scatter\", y=\"TotalSales\", x=\"TotalBottlesSold\", ax=axs[0,0], figsize=(16,8))\n",
    "dataframes[0].plot(kind=\"scatter\", y=\"TotalSales\", x=\"AvgPriceperBottle\", ax=axs[0,1], figsize=(16,8))\n",
    "dataframes[0].plot(kind=\"scatter\", y=\"TotalSales\", x=\"MarginPerBottle\", ax=axs[1,0], figsize=(16,8))\n",
    "dataframes[0].plot(kind=\"scatter\", y=\"TotalSales\", x=\"PricePerLiter\", ax=axs[1,1], figsize=(16,8))\n",
    "\n"
   ]
  },
  {
   "cell_type": "code",
   "execution_count": 26,
   "metadata": {
    "collapsed": false
   },
   "outputs": [
    {
     "name": "stdout",
     "output_type": "stream",
     "text": [
      "Cross-validated Scores: [ 0.99513305  0.95971779  0.63701959 -0.28890424  0.15892351 -6.34191698]\n",
      "Cross-Predicted Accuracy: 0.996633093263\n"
     ]
    },
    {
     "data": {
      "image/png": "[encoded data removed]",
      "text/plain": [
       "<matplotlib.figure.Figure at 0x112d4c1d0>"
      ]
     },
     "metadata": {},
     "output_type": "display_data"
    }
   ],
   "source": [
    "from sklearn.cross_validation import cross_val_score, cross_val_predict\n",
    "from sklearn import metrics\n",
    "\n",
    "#dataframes[0] is county\n",
    "X = dataframes[0][[\"TotalBottlesSold\",\"AvgPriceperBottle\",\"MarginPerBottle\",\"PricePerLiter\"]]\n",
    "y = dataframes[0][\"TotalSales\"]\n",
    "\n",
    "model = lm.fit(X,y)\n",
    "\n",
    "# Perform 6-fold cross validation\n",
    "scores = cross_val_score(model, X, y, cv=6)\n",
    "print \"Cross-validated Scores:\", scores\n",
    "# Make cross validated predictions\n",
    "predictions = cross_val_predict(model, X, y, cv=6)\n",
    "plt.scatter(y, predictions)\n",
    "accuracy = metrics.r2_score(y, predictions)\n",
    "print \"Cross-Predicted Accuracy:\", accuracy"
   ]
  },
  {
   "cell_type": "code",
   "execution_count": 29,
   "metadata": {
    "collapsed": false
   },
   "outputs": [
    {
     "name": "stdout",
     "output_type": "stream",
     "text": [
      "Cross-validated Scores: [   0.98976608    0.92175691   -1.23911295  -13.88832383  -27.64864644\n",
      " -233.68104566]\n",
      "Cross-Predicted Accuracy: 0.991989055951\n"
     ]
    },
    {
     "data": {
      "image/png": "[encoded data removed]",
      "text/plain": [
       "<matplotlib.figure.Figure at 0x112d56e10>"
      ]
     },
     "metadata": {},
     "output_type": "display_data"
    }
   ],
   "source": [
    "#dataframes[1] is City\n",
    "X = dataframes[1][[\"TotalBottlesSold\",\"AvgPriceperBottle\",\"MarginPerBottle\",\"PricePerLiter\"]]\n",
    "y = dataframes[1][\"TotalSales\"]\n",
    "\n",
    "model = lm.fit(X,y)\n",
    "\n",
    "# Perform 6-fold cross validation\n",
    "scores = cross_val_score(model, X, y, cv=6)\n",
    "print \"Cross-validated Scores:\", scores\n",
    "# Make cross validated predictions\n",
    "predictions = cross_val_predict(model, X, y, cv=6)\n",
    "plt.scatter(y, predictions) #MG Add labels to your x and y axes.\n",
    "accuracy = metrics.r2_score(y, predictions)\n",
    "print \"Cross-Predicted Accuracy:\", accuracy"
   ]
  },
  {
   "cell_type": "code",
   "execution_count": 30,
   "metadata": {
    "collapsed": false
   },
   "outputs": [
    {
     "name": "stdout",
     "output_type": "stream",
     "text": [
      "Cross-validated Scores: [  8.70608261e-01   3.97557879e-01   5.50724434e-01  -1.71793048e+01\n",
      "  -5.03835384e+01  -5.31428933e+02]\n",
      "Cross-Predicted Accuracy: 0.94147951884\n"
     ]
    },
    {
     "data": {
      "image/png": "[encoded data removed]",
      "text/plain": [
       "<matplotlib.figure.Figure at 0x112ea3ed0>"
      ]
     },
     "metadata": {},
     "output_type": "display_data"
    }
   ],
   "source": [
    "#dataframes[2] is Zip code\n",
    "X = dataframes[2][[\"TotalBottlesSold\",\"AvgPriceperBottle\",\"MarginPerBottle\",\"PricePerLiter\"]]\n",
    "y = dataframes[2][\"TotalSales\"]\n",
    "\n",
    "model = lm.fit(X,y)\n",
    "\n",
    "# Perform 6-fold cross validation\n",
    "scores = cross_val_score(model, X, y, cv=6)\n",
    "print \"Cross-validated Scores:\", scores\n",
    "# Make cross validated predictions\n",
    "predictions = cross_val_predict(model, X, y, cv=6)\n",
    "plt.scatter(y, predictions)\n",
    "accuracy = metrics.r2_score(y, predictions)\n",
    "print \"Cross-Predicted Accuracy:\", accuracy"
   ]
  },
  {
   "cell_type": "markdown",
   "metadata": {},
   "source": [
    "# Present the Results\n",
    "\n",
    "Present your conclusions and results. If you have more than one interesting model feel free to include more than one along with a discussion. Use your work in this notebook to prepare your write-up."
   ]
  },
  {
   "cell_type": "markdown",
   "metadata": {
    "collapsed": false
   },
   "source": [
    "[Alex's Project 3 Blog Post](https://tamisalex.wordpress.com/)"
   ]
  },
  {
   "cell_type": "markdown",
   "metadata": {},
   "source": [
    "Score | 19/21\n",
    "----|----\n",
    "Identify: Write a detailed problem statement + Describe Goals & Criteria for Success | 2\n",
    "Acquire: Import with Pandas & create at least one exploratory plot| 3\n",
    "Parse: State risks & assumptions of your data| 3\n",
    "Mine: Create necessary columns + Clean/format/process data| 3\n",
    "Refine: Determine outliers + distribution, correlation, & statistical analysis| 2\n",
    "Model: Create linear models; calculate probabilities, evaluate model, perform CV| 3\n",
    "Present: Create executive summary, present findings, summarize, tailored for your audience (based on your scenario)| 3\n",
    "Bonus: perform Ridge and Lasso regularization and explain what they do | 0\n",
    "\n",
    "MG Very good!  Blog post is good!  I'm a little unsure of the conclusions you drew with regards to R^2 being a good indicator of where to put up shop.  Your conclusion about less competition in rural areas is reasonable, but with lower populations, can the stores be supported?"
   ]
  },
  {
   "cell_type": "code",
   "execution_count": null,
   "metadata": {
    "collapsed": true
   },
   "outputs": [],
   "source": []
  }
 ],
 "metadata": {
  "kernelspec": {
   "display_name": "Python 2",
   "language": "python",
   "name": "python2"
  },
  "language_info": {
   "codemirror_mode": {
    "name": "ipython",
    "version": 2
   },
   "file_extension": ".py",
   "mimetype": "text/x-python",
   "name": "python",
   "nbconvert_exporter": "python",
   "pygments_lexer": "ipython2",
   "version": "2.7.11"
  }
 },
 "nbformat": 4,
 "nbformat_minor": 0
}
