{
 "cells": [
  {
   "cell_type": "markdown",
   "metadata": {
    "focus": true,
    "id": "d21ca30e-294e-4146-8e4f-a5c331f7a36e"
   },
   "source": [
    "### Project 7 \n",
    "\n",
    "In this project, you will implement the the clustering techniques that you've learned this week. \n",
    "\n",
    "#### Step 1: Load the python libraries that you will need for this project "
   ]
  },
  {
   "cell_type": "code",
   "execution_count": 83,
   "metadata": {
    "collapsed": true,
    "focus": false,
    "id": "78c3bb3f-f513-437b-94f8-bc363b6e7a8b"
   },
   "outputs": [],
   "source": [
    "import pandas as pd \n",
    "import matplotlib as plt\n",
    "import numpy as np\n",
    "import sklearn as sk \n",
    "import sqlalchemy\n",
    "import patsy\n",
    "import sklearn.pipeline as pipeline\n",
    "import seaborn as sns\n",
    "\n",
    "%matplotlib inline"
   ]
  },
  {
   "cell_type": "markdown",
   "metadata": {
    "focus": false,
    "id": "2c6f52ae-e694-463c-87d8-1974726c2e7a"
   },
   "source": [
    "#### Step 2: Examine your data "
   ]
  },
  {
   "cell_type": "code",
   "execution_count": 84,
   "metadata": {
    "collapsed": false,
    "focus": false,
    "id": "0f64db5a-e176-46a1-a10b-8c7db09437bc"
   },
   "outputs": [
    {
     "name": "stdout",
     "output_type": "stream",
     "text": [
      "  Airport    Year  Departure Cancellations  Arrival Cancellations  \\\n",
      "0     ABQ  2004.0                    242.0                  235.0   \n",
      "1     ABQ  2005.0                    221.0                  190.0   \n",
      "2     ABQ  2006.0                    392.0                  329.0   \n",
      "3     ABQ  2007.0                    366.0                  304.0   \n",
      "4     ABQ  2008.0                    333.0                  300.0   \n",
      "\n",
      "   Departure Diversions  Arrival Diversions  \n",
      "0                  71.0                46.0  \n",
      "1                  61.0                33.0  \n",
      "2                  71.0               124.0  \n",
      "3                 107.0                45.0  \n",
      "4                  79.0                42.0  \n"
     ]
    }
   ],
   "source": [
    "df_raw = pd.read_csv(\"../assets/airport_cancellations.csv\")\n",
    "df = df_raw.dropna() \n",
    "print df.head()"
   ]
  },
  {
   "cell_type": "code",
   "execution_count": 85,
   "metadata": {
    "collapsed": false
   },
   "outputs": [
    {
     "name": "stdout",
     "output_type": "stream",
     "text": [
      "<class 'pandas.core.frame.DataFrame'>\n",
      "Int64Index: 3498 entries, 0 to 5163\n",
      "Data columns (total 13 columns):\n",
      "Key                        3498 non-null float64\n",
      "LocID                      3498 non-null object\n",
      "AP_NAME                    3498 non-null object\n",
      "ALIAS                      3498 non-null object\n",
      "Facility Type              3498 non-null object\n",
      "FAA REGION                 3498 non-null object\n",
      "COUNTY                     3498 non-null object\n",
      "CITY                       3498 non-null object\n",
      "STATE                      3498 non-null object\n",
      "AP Type                    3498 non-null object\n",
      "Latitude                   3498 non-null float64\n",
      "Longitude                  3498 non-null float64\n",
      "Boundary Data Available    3498 non-null object\n",
      "dtypes: float64(3), object(10)\n",
      "memory usage: 382.6+ KB\n",
      "None\n"
     ]
    }
   ],
   "source": [
    "df_raw2 = pd.read_csv(\"../assets/airports.csv\")\n",
    "df2 = df_raw2.dropna() \n",
    "print df2.info()"
   ]
  },
  {
   "cell_type": "markdown",
   "metadata": {
    "focus": false,
    "id": "3690c265-ac0f-484d-ac79-f42da341e4cd"
   },
   "source": [
    "### Intro: Write a problem statement / aim for this project"
   ]
  },
  {
   "cell_type": "markdown",
   "metadata": {
    "focus": false,
    "id": "58297e17-aa21-4d1d-a46b-a36a4b92aac7"
   },
   "source": [
    "We want to understand the behavior of flight cancellations\n",
    "Answer: "
   ]
  },
  {
   "cell_type": "markdown",
   "metadata": {
    "focus": false,
    "id": "a3cccc0e-8531-4dfe-bb23-8c632aa7404e"
   },
   "source": [
    "### Part 1: Create a PostgreSQL database "
   ]
  },
  {
   "cell_type": "markdown",
   "metadata": {
    "focus": false,
    "id": "b51ca850-aa85-43e1-b7cd-627af62f5fe8"
   },
   "source": [
    "#### 1. Let's create a database where we can house our airport data"
   ]
  },
  {
   "cell_type": "code",
   "execution_count": 86,
   "metadata": {
    "collapsed": false,
    "focus": false,
    "id": "5d1b5e84-b49a-4bad-b961-abcb8e6f2751"
   },
   "outputs": [
    {
     "name": "stdout",
     "output_type": "stream",
     "text": [
      "\u001b[1;34m==>\u001b[1;39m Successfully started `postgresql` (label: homebrew.mxcl.postgresql)\u001b[0m\r\n"
     ]
    }
   ],
   "source": [
    "user = !id -un\n",
    "!brew services start postgresql\n",
    "engine = sqlalchemy.create_engine('postgresql://' + user[0] + '@localhost:5432/postgres')"
   ]
  },
  {
   "cell_type": "code",
   "execution_count": 87,
   "metadata": {
    "collapsed": false
   },
   "outputs": [],
   "source": [
    "df.columns = map(str.lower, df.columns)\n",
    "df2.columns = map(str.lower, df2.columns)"
   ]
  },
  {
   "cell_type": "code",
   "execution_count": 88,
   "metadata": {
    "collapsed": true
   },
   "outputs": [],
   "source": [
    "df.to_sql(\"airport_cancellations\",con = engine, if_exists = \"replace\")"
   ]
  },
  {
   "cell_type": "code",
   "execution_count": 89,
   "metadata": {
    "collapsed": true
   },
   "outputs": [],
   "source": [
    "df2.to_sql(\"airports\", con = engine, if_exists = \"replace\")"
   ]
  },
  {
   "cell_type": "code",
   "execution_count": 90,
   "metadata": {
    "collapsed": false,
    "scrolled": true
   },
   "outputs": [],
   "source": [
    "joined = pd.read_sql(\"SELECT * FROM airports as a JOIN airport_cancellations as ac ON a.locid=ac.airport;\",con = engine)"
   ]
  },
  {
   "cell_type": "code",
   "execution_count": 91,
   "metadata": {
    "collapsed": false
   },
   "outputs": [
    {
     "name": "stdout",
     "output_type": "stream",
     "text": [
      "Stopping `postgresql`... (might take a while)\r\n",
      "\u001b[1;34m==>\u001b[1;39m Successfully stopped `postgresql` (label: homebrew.mxcl.postgresql)\u001b[0m\r\n"
     ]
    }
   ],
   "source": [
    "!brew services stop postgresql"
   ]
  },
  {
   "cell_type": "markdown",
   "metadata": {
    "focus": false,
    "id": "0b511b59-41ea-478f-bf2d-7e392dc9edaa"
   },
   "source": [
    "#### 1.2 What are the risks and assumptions of our data? "
   ]
  },
  {
   "cell_type": "markdown",
   "metadata": {
    "focus": false,
    "id": "0936ff6a-6919-4436-9fc1-d6ef90d5ba9e"
   },
   "source": []
  },
  {
   "cell_type": "markdown",
   "metadata": {
    "focus": false,
    "id": "e97b4707-0f0e-4f6a-90ab-fbb634c2305d"
   },
   "source": [
    "### Part 2: Exploratory Data Analysis"
   ]
  },
  {
   "cell_type": "markdown",
   "metadata": {
    "focus": false,
    "id": "6be9cf88-1b92-4360-b424-a495d5e2d4ba"
   },
   "source": [
    "#### 2.1 Plot and Describe the Data"
   ]
  },
  {
   "cell_type": "code",
   "execution_count": 92,
   "metadata": {
    "collapsed": false,
    "focus": false,
    "id": "41ff90a9-0d50-4a8e-97c4-fe429fffc1f7",
    "scrolled": false
   },
   "outputs": [
    {
     "data": {
      "text/html": [
       "<div>\n",
       "<table border=\"1\" class=\"dataframe\">\n",
       "  <thead>\n",
       "    <tr style=\"text-align: right;\">\n",
       "      <th></th>\n",
       "      <th>index</th>\n",
       "      <th>key</th>\n",
       "      <th>locid</th>\n",
       "      <th>ap_name</th>\n",
       "      <th>alias</th>\n",
       "      <th>facility type</th>\n",
       "      <th>faa region</th>\n",
       "      <th>county</th>\n",
       "      <th>city</th>\n",
       "      <th>state</th>\n",
       "      <th>...</th>\n",
       "      <th>latitude</th>\n",
       "      <th>longitude</th>\n",
       "      <th>boundary data available</th>\n",
       "      <th>index</th>\n",
       "      <th>airport</th>\n",
       "      <th>year</th>\n",
       "      <th>departure cancellations</th>\n",
       "      <th>arrival cancellations</th>\n",
       "      <th>departure diversions</th>\n",
       "      <th>arrival diversions</th>\n",
       "    </tr>\n",
       "  </thead>\n",
       "  <tbody>\n",
       "    <tr>\n",
       "      <th>0</th>\n",
       "      <td>1223</td>\n",
       "      <td>2348.0</td>\n",
       "      <td>ABQ</td>\n",
       "      <td>ALBUQUERQUE INTL SUNPORT</td>\n",
       "      <td>Albuquerque Int'l Sunport</td>\n",
       "      <td>Airport</td>\n",
       "      <td>ASW</td>\n",
       "      <td>BERNALILLO</td>\n",
       "      <td>ALBUQUERQUE</td>\n",
       "      <td>NM</td>\n",
       "      <td>...</td>\n",
       "      <td>35.040194</td>\n",
       "      <td>-106.609194</td>\n",
       "      <td>Yes</td>\n",
       "      <td>0</td>\n",
       "      <td>ABQ</td>\n",
       "      <td>2004.0</td>\n",
       "      <td>242.0</td>\n",
       "      <td>235.0</td>\n",
       "      <td>71.0</td>\n",
       "      <td>46.0</td>\n",
       "    </tr>\n",
       "    <tr>\n",
       "      <th>1</th>\n",
       "      <td>1223</td>\n",
       "      <td>2348.0</td>\n",
       "      <td>ABQ</td>\n",
       "      <td>ALBUQUERQUE INTL SUNPORT</td>\n",
       "      <td>Albuquerque Int'l Sunport</td>\n",
       "      <td>Airport</td>\n",
       "      <td>ASW</td>\n",
       "      <td>BERNALILLO</td>\n",
       "      <td>ALBUQUERQUE</td>\n",
       "      <td>NM</td>\n",
       "      <td>...</td>\n",
       "      <td>35.040194</td>\n",
       "      <td>-106.609194</td>\n",
       "      <td>Yes</td>\n",
       "      <td>1</td>\n",
       "      <td>ABQ</td>\n",
       "      <td>2005.0</td>\n",
       "      <td>221.0</td>\n",
       "      <td>190.0</td>\n",
       "      <td>61.0</td>\n",
       "      <td>33.0</td>\n",
       "    </tr>\n",
       "    <tr>\n",
       "      <th>2</th>\n",
       "      <td>1223</td>\n",
       "      <td>2348.0</td>\n",
       "      <td>ABQ</td>\n",
       "      <td>ALBUQUERQUE INTL SUNPORT</td>\n",
       "      <td>Albuquerque Int'l Sunport</td>\n",
       "      <td>Airport</td>\n",
       "      <td>ASW</td>\n",
       "      <td>BERNALILLO</td>\n",
       "      <td>ALBUQUERQUE</td>\n",
       "      <td>NM</td>\n",
       "      <td>...</td>\n",
       "      <td>35.040194</td>\n",
       "      <td>-106.609194</td>\n",
       "      <td>Yes</td>\n",
       "      <td>2</td>\n",
       "      <td>ABQ</td>\n",
       "      <td>2006.0</td>\n",
       "      <td>392.0</td>\n",
       "      <td>329.0</td>\n",
       "      <td>71.0</td>\n",
       "      <td>124.0</td>\n",
       "    </tr>\n",
       "    <tr>\n",
       "      <th>3</th>\n",
       "      <td>1223</td>\n",
       "      <td>2348.0</td>\n",
       "      <td>ABQ</td>\n",
       "      <td>ALBUQUERQUE INTL SUNPORT</td>\n",
       "      <td>Albuquerque Int'l Sunport</td>\n",
       "      <td>Airport</td>\n",
       "      <td>ASW</td>\n",
       "      <td>BERNALILLO</td>\n",
       "      <td>ALBUQUERQUE</td>\n",
       "      <td>NM</td>\n",
       "      <td>...</td>\n",
       "      <td>35.040194</td>\n",
       "      <td>-106.609194</td>\n",
       "      <td>Yes</td>\n",
       "      <td>3</td>\n",
       "      <td>ABQ</td>\n",
       "      <td>2007.0</td>\n",
       "      <td>366.0</td>\n",
       "      <td>304.0</td>\n",
       "      <td>107.0</td>\n",
       "      <td>45.0</td>\n",
       "    </tr>\n",
       "    <tr>\n",
       "      <th>4</th>\n",
       "      <td>1223</td>\n",
       "      <td>2348.0</td>\n",
       "      <td>ABQ</td>\n",
       "      <td>ALBUQUERQUE INTL SUNPORT</td>\n",
       "      <td>Albuquerque Int'l Sunport</td>\n",
       "      <td>Airport</td>\n",
       "      <td>ASW</td>\n",
       "      <td>BERNALILLO</td>\n",
       "      <td>ALBUQUERQUE</td>\n",
       "      <td>NM</td>\n",
       "      <td>...</td>\n",
       "      <td>35.040194</td>\n",
       "      <td>-106.609194</td>\n",
       "      <td>Yes</td>\n",
       "      <td>4</td>\n",
       "      <td>ABQ</td>\n",
       "      <td>2008.0</td>\n",
       "      <td>333.0</td>\n",
       "      <td>300.0</td>\n",
       "      <td>79.0</td>\n",
       "      <td>42.0</td>\n",
       "    </tr>\n",
       "  </tbody>\n",
       "</table>\n",
       "<p>5 rows × 21 columns</p>\n",
       "</div>"
      ],
      "text/plain": [
       "  index     key locid                   ap_name                      alias  \\\n",
       "0  1223  2348.0   ABQ  ALBUQUERQUE INTL SUNPORT  Albuquerque Int'l Sunport   \n",
       "1  1223  2348.0   ABQ  ALBUQUERQUE INTL SUNPORT  Albuquerque Int'l Sunport   \n",
       "2  1223  2348.0   ABQ  ALBUQUERQUE INTL SUNPORT  Albuquerque Int'l Sunport   \n",
       "3  1223  2348.0   ABQ  ALBUQUERQUE INTL SUNPORT  Albuquerque Int'l Sunport   \n",
       "4  1223  2348.0   ABQ  ALBUQUERQUE INTL SUNPORT  Albuquerque Int'l Sunport   \n",
       "\n",
       "  facility type faa region      county         city state         ...          \\\n",
       "0       Airport        ASW  BERNALILLO  ALBUQUERQUE    NM         ...           \n",
       "1       Airport        ASW  BERNALILLO  ALBUQUERQUE    NM         ...           \n",
       "2       Airport        ASW  BERNALILLO  ALBUQUERQUE    NM         ...           \n",
       "3       Airport        ASW  BERNALILLO  ALBUQUERQUE    NM         ...           \n",
       "4       Airport        ASW  BERNALILLO  ALBUQUERQUE    NM         ...           \n",
       "\n",
       "    latitude   longitude  boundary data available index  airport    year  \\\n",
       "0  35.040194 -106.609194                      Yes     0      ABQ  2004.0   \n",
       "1  35.040194 -106.609194                      Yes     1      ABQ  2005.0   \n",
       "2  35.040194 -106.609194                      Yes     2      ABQ  2006.0   \n",
       "3  35.040194 -106.609194                      Yes     3      ABQ  2007.0   \n",
       "4  35.040194 -106.609194                      Yes     4      ABQ  2008.0   \n",
       "\n",
       "   departure cancellations  arrival cancellations  departure diversions  \\\n",
       "0                    242.0                  235.0                  71.0   \n",
       "1                    221.0                  190.0                  61.0   \n",
       "2                    392.0                  329.0                  71.0   \n",
       "3                    366.0                  304.0                 107.0   \n",
       "4                    333.0                  300.0                  79.0   \n",
       "\n",
       "   arrival diversions  \n",
       "0                46.0  \n",
       "1                33.0  \n",
       "2               124.0  \n",
       "3                45.0  \n",
       "4                42.0  \n",
       "\n",
       "[5 rows x 21 columns]"
      ]
     },
     "execution_count": 92,
     "metadata": {},
     "output_type": "execute_result"
    }
   ],
   "source": [
    "joined.head()"
   ]
  },
  {
   "cell_type": "code",
   "execution_count": 93,
   "metadata": {
    "collapsed": false
   },
   "outputs": [
    {
     "data": {
      "text/html": [
       "<div>\n",
       "<table border=\"1\" class=\"dataframe\">\n",
       "  <thead>\n",
       "    <tr style=\"text-align: right;\">\n",
       "      <th></th>\n",
       "      <th>index</th>\n",
       "      <th>key</th>\n",
       "      <th>latitude</th>\n",
       "      <th>longitude</th>\n",
       "      <th>index</th>\n",
       "      <th>year</th>\n",
       "      <th>departure cancellations</th>\n",
       "      <th>arrival cancellations</th>\n",
       "      <th>departure diversions</th>\n",
       "      <th>arrival diversions</th>\n",
       "    </tr>\n",
       "  </thead>\n",
       "  <tbody>\n",
       "    <tr>\n",
       "      <th>count</th>\n",
       "      <td>805.000000</td>\n",
       "      <td>805.000000</td>\n",
       "      <td>805.000000</td>\n",
       "      <td>805.000000</td>\n",
       "      <td>805.000000</td>\n",
       "      <td>805.000000</td>\n",
       "      <td>805.000000</td>\n",
       "      <td>805.000000</td>\n",
       "      <td>805.000000</td>\n",
       "      <td>805.000000</td>\n",
       "    </tr>\n",
       "    <tr>\n",
       "      <th>mean</th>\n",
       "      <td>1815.838509</td>\n",
       "      <td>1706.408696</td>\n",
       "      <td>36.447419</td>\n",
       "      <td>-95.079989</td>\n",
       "      <td>402.000000</td>\n",
       "      <td>2008.986335</td>\n",
       "      <td>1292.038509</td>\n",
       "      <td>1333.124224</td>\n",
       "      <td>173.315528</td>\n",
       "      <td>169.413665</td>\n",
       "    </tr>\n",
       "    <tr>\n",
       "      <th>std</th>\n",
       "      <td>1289.890209</td>\n",
       "      <td>1005.635275</td>\n",
       "      <td>6.665118</td>\n",
       "      <td>20.673725</td>\n",
       "      <td>232.527776</td>\n",
       "      <td>3.158116</td>\n",
       "      <td>1835.961943</td>\n",
       "      <td>1975.224868</td>\n",
       "      <td>172.345539</td>\n",
       "      <td>228.521615</td>\n",
       "    </tr>\n",
       "    <tr>\n",
       "      <th>min</th>\n",
       "      <td>10.000000</td>\n",
       "      <td>246.000000</td>\n",
       "      <td>18.439295</td>\n",
       "      <td>-157.922429</td>\n",
       "      <td>0.000000</td>\n",
       "      <td>2004.000000</td>\n",
       "      <td>0.000000</td>\n",
       "      <td>0.000000</td>\n",
       "      <td>0.000000</td>\n",
       "      <td>0.000000</td>\n",
       "    </tr>\n",
       "    <tr>\n",
       "      <th>25%</th>\n",
       "      <td>696.000000</td>\n",
       "      <td>769.000000</td>\n",
       "      <td>32.896828</td>\n",
       "      <td>-112.011583</td>\n",
       "      <td>201.000000</td>\n",
       "      <td>2006.000000</td>\n",
       "      <td>349.000000</td>\n",
       "      <td>314.000000</td>\n",
       "      <td>62.000000</td>\n",
       "      <td>41.000000</td>\n",
       "    </tr>\n",
       "    <tr>\n",
       "      <th>50%</th>\n",
       "      <td>1881.000000</td>\n",
       "      <td>1531.000000</td>\n",
       "      <td>37.618972</td>\n",
       "      <td>-87.897068</td>\n",
       "      <td>402.000000</td>\n",
       "      <td>2009.000000</td>\n",
       "      <td>663.000000</td>\n",
       "      <td>642.000000</td>\n",
       "      <td>110.000000</td>\n",
       "      <td>84.000000</td>\n",
       "    </tr>\n",
       "    <tr>\n",
       "      <th>75%</th>\n",
       "      <td>2805.000000</td>\n",
       "      <td>2502.000000</td>\n",
       "      <td>40.795250</td>\n",
       "      <td>-80.152741</td>\n",
       "      <td>603.000000</td>\n",
       "      <td>2012.000000</td>\n",
       "      <td>1472.000000</td>\n",
       "      <td>1523.000000</td>\n",
       "      <td>236.000000</td>\n",
       "      <td>190.000000</td>\n",
       "    </tr>\n",
       "    <tr>\n",
       "      <th>max</th>\n",
       "      <td>4966.000000</td>\n",
       "      <td>3575.000000</td>\n",
       "      <td>61.174083</td>\n",
       "      <td>-66.002004</td>\n",
       "      <td>804.000000</td>\n",
       "      <td>2014.000000</td>\n",
       "      <td>16618.000000</td>\n",
       "      <td>17571.000000</td>\n",
       "      <td>1064.000000</td>\n",
       "      <td>1948.000000</td>\n",
       "    </tr>\n",
       "  </tbody>\n",
       "</table>\n",
       "</div>"
      ],
      "text/plain": [
       "             index          key    latitude   longitude       index  \\\n",
       "count   805.000000   805.000000  805.000000  805.000000  805.000000   \n",
       "mean   1815.838509  1706.408696   36.447419  -95.079989  402.000000   \n",
       "std    1289.890209  1005.635275    6.665118   20.673725  232.527776   \n",
       "min      10.000000   246.000000   18.439295 -157.922429    0.000000   \n",
       "25%     696.000000   769.000000   32.896828 -112.011583  201.000000   \n",
       "50%    1881.000000  1531.000000   37.618972  -87.897068  402.000000   \n",
       "75%    2805.000000  2502.000000   40.795250  -80.152741  603.000000   \n",
       "max    4966.000000  3575.000000   61.174083  -66.002004  804.000000   \n",
       "\n",
       "              year  departure cancellations  arrival cancellations  \\\n",
       "count   805.000000               805.000000             805.000000   \n",
       "mean   2008.986335              1292.038509            1333.124224   \n",
       "std       3.158116              1835.961943            1975.224868   \n",
       "min    2004.000000                 0.000000               0.000000   \n",
       "25%    2006.000000               349.000000             314.000000   \n",
       "50%    2009.000000               663.000000             642.000000   \n",
       "75%    2012.000000              1472.000000            1523.000000   \n",
       "max    2014.000000             16618.000000           17571.000000   \n",
       "\n",
       "       departure diversions  arrival diversions  \n",
       "count            805.000000          805.000000  \n",
       "mean             173.315528          169.413665  \n",
       "std              172.345539          228.521615  \n",
       "min                0.000000            0.000000  \n",
       "25%               62.000000           41.000000  \n",
       "50%              110.000000           84.000000  \n",
       "75%              236.000000          190.000000  \n",
       "max             1064.000000         1948.000000  "
      ]
     },
     "execution_count": 93,
     "metadata": {},
     "output_type": "execute_result"
    }
   ],
   "source": [
    "joined.describe()"
   ]
  },
  {
   "cell_type": "markdown",
   "metadata": {
    "focus": false,
    "id": "3d12188d-3aa9-4d47-a0e8-b5d6e8f071de"
   },
   "source": [
    "#### Are there any unique values? "
   ]
  },
  {
   "cell_type": "code",
   "execution_count": null,
   "metadata": {
    "collapsed": true,
    "focus": false,
    "id": "d76cfc84-4d16-4f6f-aca8-3dc77d3b8f5c"
   },
   "outputs": [],
   "source": []
  },
  {
   "cell_type": "markdown",
   "metadata": {
    "focus": false,
    "id": "e2ddc27c-94d6-4ab1-95ef-1093bb2726b0"
   },
   "source": [
    "### Part 3: Data Mining"
   ]
  },
  {
   "cell_type": "markdown",
   "metadata": {
    "focus": false,
    "id": "c9b12f39-5410-42d7-aff9-859c0b2ccb70"
   },
   "source": [
    "#### 3.1 Format and Clean the Data"
   ]
  },
  {
   "cell_type": "code",
   "execution_count": 94,
   "metadata": {
    "collapsed": false,
    "focus": false,
    "id": "c2f083d5-edf1-4380-a245-13c77315daa7"
   },
   "outputs": [
    {
     "data": {
      "text/html": [
       "<div>\n",
       "<table border=\"1\" class=\"dataframe\">\n",
       "  <thead>\n",
       "    <tr style=\"text-align: right;\">\n",
       "      <th></th>\n",
       "      <th>ap_name</th>\n",
       "      <th>alias</th>\n",
       "      <th>facility type</th>\n",
       "      <th>faa region</th>\n",
       "      <th>county</th>\n",
       "      <th>city</th>\n",
       "      <th>state</th>\n",
       "      <th>ap type</th>\n",
       "      <th>latitude</th>\n",
       "      <th>longitude</th>\n",
       "      <th>boundary data available</th>\n",
       "      <th>airport</th>\n",
       "      <th>year</th>\n",
       "      <th>departure cancellations</th>\n",
       "      <th>arrival cancellations</th>\n",
       "      <th>departure diversions</th>\n",
       "      <th>arrival diversions</th>\n",
       "    </tr>\n",
       "  </thead>\n",
       "  <tbody>\n",
       "    <tr>\n",
       "      <th>0</th>\n",
       "      <td>ALBUQUERQUE INTL SUNPORT</td>\n",
       "      <td>Albuquerque Int'l Sunport</td>\n",
       "      <td>Airport</td>\n",
       "      <td>ASW</td>\n",
       "      <td>BERNALILLO</td>\n",
       "      <td>ALBUQUERQUE</td>\n",
       "      <td>NM</td>\n",
       "      <td>Federalized/Commercial</td>\n",
       "      <td>35.040194</td>\n",
       "      <td>-106.609194</td>\n",
       "      <td>Yes</td>\n",
       "      <td>ABQ</td>\n",
       "      <td>2004.0</td>\n",
       "      <td>242.0</td>\n",
       "      <td>235.0</td>\n",
       "      <td>71.0</td>\n",
       "      <td>46.0</td>\n",
       "    </tr>\n",
       "    <tr>\n",
       "      <th>1</th>\n",
       "      <td>ALBUQUERQUE INTL SUNPORT</td>\n",
       "      <td>Albuquerque Int'l Sunport</td>\n",
       "      <td>Airport</td>\n",
       "      <td>ASW</td>\n",
       "      <td>BERNALILLO</td>\n",
       "      <td>ALBUQUERQUE</td>\n",
       "      <td>NM</td>\n",
       "      <td>Federalized/Commercial</td>\n",
       "      <td>35.040194</td>\n",
       "      <td>-106.609194</td>\n",
       "      <td>Yes</td>\n",
       "      <td>ABQ</td>\n",
       "      <td>2005.0</td>\n",
       "      <td>221.0</td>\n",
       "      <td>190.0</td>\n",
       "      <td>61.0</td>\n",
       "      <td>33.0</td>\n",
       "    </tr>\n",
       "    <tr>\n",
       "      <th>2</th>\n",
       "      <td>ALBUQUERQUE INTL SUNPORT</td>\n",
       "      <td>Albuquerque Int'l Sunport</td>\n",
       "      <td>Airport</td>\n",
       "      <td>ASW</td>\n",
       "      <td>BERNALILLO</td>\n",
       "      <td>ALBUQUERQUE</td>\n",
       "      <td>NM</td>\n",
       "      <td>Federalized/Commercial</td>\n",
       "      <td>35.040194</td>\n",
       "      <td>-106.609194</td>\n",
       "      <td>Yes</td>\n",
       "      <td>ABQ</td>\n",
       "      <td>2006.0</td>\n",
       "      <td>392.0</td>\n",
       "      <td>329.0</td>\n",
       "      <td>71.0</td>\n",
       "      <td>124.0</td>\n",
       "    </tr>\n",
       "    <tr>\n",
       "      <th>3</th>\n",
       "      <td>ALBUQUERQUE INTL SUNPORT</td>\n",
       "      <td>Albuquerque Int'l Sunport</td>\n",
       "      <td>Airport</td>\n",
       "      <td>ASW</td>\n",
       "      <td>BERNALILLO</td>\n",
       "      <td>ALBUQUERQUE</td>\n",
       "      <td>NM</td>\n",
       "      <td>Federalized/Commercial</td>\n",
       "      <td>35.040194</td>\n",
       "      <td>-106.609194</td>\n",
       "      <td>Yes</td>\n",
       "      <td>ABQ</td>\n",
       "      <td>2007.0</td>\n",
       "      <td>366.0</td>\n",
       "      <td>304.0</td>\n",
       "      <td>107.0</td>\n",
       "      <td>45.0</td>\n",
       "    </tr>\n",
       "    <tr>\n",
       "      <th>4</th>\n",
       "      <td>ALBUQUERQUE INTL SUNPORT</td>\n",
       "      <td>Albuquerque Int'l Sunport</td>\n",
       "      <td>Airport</td>\n",
       "      <td>ASW</td>\n",
       "      <td>BERNALILLO</td>\n",
       "      <td>ALBUQUERQUE</td>\n",
       "      <td>NM</td>\n",
       "      <td>Federalized/Commercial</td>\n",
       "      <td>35.040194</td>\n",
       "      <td>-106.609194</td>\n",
       "      <td>Yes</td>\n",
       "      <td>ABQ</td>\n",
       "      <td>2008.0</td>\n",
       "      <td>333.0</td>\n",
       "      <td>300.0</td>\n",
       "      <td>79.0</td>\n",
       "      <td>42.0</td>\n",
       "    </tr>\n",
       "  </tbody>\n",
       "</table>\n",
       "</div>"
      ],
      "text/plain": [
       "                    ap_name                      alias facility type  \\\n",
       "0  ALBUQUERQUE INTL SUNPORT  Albuquerque Int'l Sunport       Airport   \n",
       "1  ALBUQUERQUE INTL SUNPORT  Albuquerque Int'l Sunport       Airport   \n",
       "2  ALBUQUERQUE INTL SUNPORT  Albuquerque Int'l Sunport       Airport   \n",
       "3  ALBUQUERQUE INTL SUNPORT  Albuquerque Int'l Sunport       Airport   \n",
       "4  ALBUQUERQUE INTL SUNPORT  Albuquerque Int'l Sunport       Airport   \n",
       "\n",
       "  faa region      county         city state                 ap type  \\\n",
       "0        ASW  BERNALILLO  ALBUQUERQUE    NM  Federalized/Commercial   \n",
       "1        ASW  BERNALILLO  ALBUQUERQUE    NM  Federalized/Commercial   \n",
       "2        ASW  BERNALILLO  ALBUQUERQUE    NM  Federalized/Commercial   \n",
       "3        ASW  BERNALILLO  ALBUQUERQUE    NM  Federalized/Commercial   \n",
       "4        ASW  BERNALILLO  ALBUQUERQUE    NM  Federalized/Commercial   \n",
       "\n",
       "    latitude   longitude boundary data available airport    year  \\\n",
       "0  35.040194 -106.609194                     Yes     ABQ  2004.0   \n",
       "1  35.040194 -106.609194                     Yes     ABQ  2005.0   \n",
       "2  35.040194 -106.609194                     Yes     ABQ  2006.0   \n",
       "3  35.040194 -106.609194                     Yes     ABQ  2007.0   \n",
       "4  35.040194 -106.609194                     Yes     ABQ  2008.0   \n",
       "\n",
       "   departure cancellations  arrival cancellations  departure diversions  \\\n",
       "0                    242.0                  235.0                  71.0   \n",
       "1                    221.0                  190.0                  61.0   \n",
       "2                    392.0                  329.0                  71.0   \n",
       "3                    366.0                  304.0                 107.0   \n",
       "4                    333.0                  300.0                  79.0   \n",
       "\n",
       "   arrival diversions  \n",
       "0                46.0  \n",
       "1                33.0  \n",
       "2               124.0  \n",
       "3                45.0  \n",
       "4                42.0  "
      ]
     },
     "execution_count": 94,
     "metadata": {},
     "output_type": "execute_result"
    }
   ],
   "source": [
    "def RemoveUnneededColumns(df):\n",
    "    try:\n",
    "        del df[\"locid\"]\n",
    "        del df[\"index\"] #identifier\n",
    "        del df[\"key\"]  #identifier\n",
    "    except:\n",
    "        print \"Probably already deleted.\"\n",
    "    \n",
    "    return df\n",
    "\n",
    "joined = RemoveUnneededColumns(joined)\n",
    "joined.head()"
   ]
  },
  {
   "cell_type": "markdown",
   "metadata": {
    "focus": false,
    "id": "a746fd8c-fdb0-45c3-9e17-ad4c89360055"
   },
   "source": [
    "#### 3.2 Create Dummy Variables"
   ]
  },
  {
   "cell_type": "code",
   "execution_count": 95,
   "metadata": {
    "collapsed": false,
    "focus": false,
    "id": "eae97f78-3695-4777-91c5-f282dfd26e96"
   },
   "outputs": [],
   "source": [
    "# def CreateDummyVariables(df, categories):\n",
    "#     categoryList = categories\n",
    "#     for category in categoryList:\n",
    "#         series = df[category]\n",
    "#         dummies = pd.get_dummies(series, prefix=category)\n",
    "#         df = pd.concat([df, dummies], axis=1)\n",
    "#     return df\n",
    "\n",
    "# joined = CreateDummyVariables(joined,['airport'])\n",
    "# joined"
   ]
  },
  {
   "cell_type": "markdown",
   "metadata": {
    "focus": false,
    "id": "27db8e3b-27d2-4420-bbab-1ddbba3dc3e5"
   },
   "source": [
    "### Part 4: Define the Data"
   ]
  },
  {
   "cell_type": "markdown",
   "metadata": {
    "focus": false,
    "id": "9bcb3ba6-8c35-470c-a821-47d7ba6a32f2"
   },
   "source": [
    "#### 4.1 Confirm that the dataset has a normal distribution. How can you tell? "
   ]
  },
  {
   "cell_type": "code",
   "execution_count": 96,
   "metadata": {
    "collapsed": false,
    "focus": false,
    "id": "9c365cbd-7b6d-46bf-b4e4-b0e2e7bd5ff6"
   },
   "outputs": [
    {
     "data": {
      "text/plain": [
       "<matplotlib.axes._subplots.AxesSubplot at 0x11d5da4d0>"
      ]
     },
     "execution_count": 96,
     "metadata": {},
     "output_type": "execute_result"
    },
    {
     "data": {
      "image/png": "[encoded data removed]",
      "text/plain": [
       "<matplotlib.figure.Figure at 0x11c3b25d0>"
      ]
     },
     "metadata": {},
     "output_type": "display_data"
    }
   ],
   "source": [
    "joined[\"departure cancellations\"].plot.density()"
   ]
  },
  {
   "cell_type": "code",
   "execution_count": 97,
   "metadata": {
    "collapsed": false,
    "scrolled": true
   },
   "outputs": [
    {
     "data": {
      "text/plain": [
       "<matplotlib.axes._subplots.AxesSubplot at 0x11cd44850>"
      ]
     },
     "execution_count": 97,
     "metadata": {},
     "output_type": "execute_result"
    },
    {
     "data": {
      "image/png": "[encoded data removed]",
      "text/plain": [
       "<matplotlib.figure.Figure at 0x11cc9a950>"
      ]
     },
     "metadata": {},
     "output_type": "display_data"
    }
   ],
   "source": [
    "joined[\"departure diversions\"].plot.density()"
   ]
  },
  {
   "cell_type": "code",
   "execution_count": 98,
   "metadata": {
    "collapsed": false
   },
   "outputs": [
    {
     "data": {
      "text/plain": [
       "<matplotlib.axes._subplots.AxesSubplot at 0x11cca0050>"
      ]
     },
     "execution_count": 98,
     "metadata": {},
     "output_type": "execute_result"
    },
    {
     "data": {
      "image/png": "[encoded data removed]",
      "text/plain": [
       "<matplotlib.figure.Figure at 0x11cd1aa10>"
      ]
     },
     "metadata": {},
     "output_type": "display_data"
    }
   ],
   "source": [
    "joined[\"arrival cancellations\"].plot.density()"
   ]
  },
  {
   "cell_type": "code",
   "execution_count": 99,
   "metadata": {
    "collapsed": false
   },
   "outputs": [
    {
     "data": {
      "text/plain": [
       "<matplotlib.axes._subplots.AxesSubplot at 0x11c35c5d0>"
      ]
     },
     "execution_count": 99,
     "metadata": {},
     "output_type": "execute_result"
    },
    {
     "data": {
      "image/png": "[encoded data removed]",
      "text/plain": [
       "<matplotlib.figure.Figure at 0x11c1d6950>"
      ]
     },
     "metadata": {},
     "output_type": "display_data"
    }
   ],
   "source": [
    "joined[\"arrival diversions\"].plot.density()"
   ]
  },
  {
   "cell_type": "markdown",
   "metadata": {
    "focus": false,
    "id": "17457da4-1175-4348-b10a-99f41f7a24dd"
   },
   "source": [
    "#### 4.2 Find correlations in the data"
   ]
  },
  {
   "cell_type": "code",
   "execution_count": 100,
   "metadata": {
    "collapsed": false,
    "focus": false,
    "id": "78003f34-c0d8-40f6-bafe-e0892df3f1ca"
   },
   "outputs": [
    {
     "data": {
      "text/plain": [
       "<matplotlib.axes._subplots.AxesSubplot at 0x11c4cb5d0>"
      ]
     },
     "execution_count": 100,
     "metadata": {},
     "output_type": "execute_result"
    },
    {
     "data": {
      "image/png": "[encoded data removed]",
      "text/plain": [
       "<matplotlib.figure.Figure at 0x11d224c90>"
      ]
     },
     "metadata": {},
     "output_type": "display_data"
    }
   ],
   "source": [
    "sns.heatmap(joined.corr())"
   ]
  },
  {
   "cell_type": "markdown",
   "metadata": {
    "focus": false,
    "id": "886b49bf-d7fa-41b0-b94c-740345580d88"
   },
   "source": [
    "#### 4.3 What is the value of understanding correlations before PCA? "
   ]
  },
  {
   "cell_type": "markdown",
   "metadata": {
    "focus": false,
    "id": "192df272-c2b1-46da-bcfa-c2b02d7445a8"
   },
   "source": [
    "Answer: "
   ]
  },
  {
   "cell_type": "markdown",
   "metadata": {
    "focus": false,
    "id": "904cda18-4a60-4b05-8502-139beb44c1f0"
   },
   "source": [
    "#### 4.4 Validate your findings using statistical analysis"
   ]
  },
  {
   "cell_type": "code",
   "execution_count": null,
   "metadata": {
    "collapsed": true,
    "focus": false,
    "id": "d2f5bd48-a2c8-4511-b3c6-fcb4889db4a7"
   },
   "outputs": [],
   "source": []
  },
  {
   "cell_type": "markdown",
   "metadata": {
    "focus": false,
    "id": "87689b59-fda0-4a07-a9d3-95936deaf8ee"
   },
   "source": [
    "#### 4.5 How can you improve your overall analysis? "
   ]
  },
  {
   "cell_type": "markdown",
   "metadata": {
    "focus": false,
    "id": "000bc40d-e033-4621-82a4-e09717947fb3"
   },
   "source": [
    "Answer: "
   ]
  },
  {
   "cell_type": "markdown",
   "metadata": {
    "focus": false,
    "id": "cea5d879-f180-448a-bd50-b30b2b7d6d28"
   },
   "source": [
    "### Part 5: Perform a PCA and Present Findings"
   ]
  },
  {
   "cell_type": "markdown",
   "metadata": {
    "focus": false,
    "id": "27c1212c-3490-45ff-a6da-501075f3eee5"
   },
   "source": [
    "#### 5.1 Conduct the PCA"
   ]
  },
  {
   "cell_type": "code",
   "execution_count": 101,
   "metadata": {
    "collapsed": false,
    "focus": false,
    "id": "a8e7ac46-ba4f-47a8-99f8-b67a7f7e108e"
   },
   "outputs": [
    {
     "ename": "NameError",
     "evalue": "name 'ap' is not defined",
     "output_type": "error",
     "traceback": [
      "\u001b[0;31m---------------------------------------------------------------------------\u001b[0m",
      "\u001b[0;31mNameError\u001b[0m                                 Traceback (most recent call last)",
      "\u001b[0;32m<ipython-input-101-c6ca2a2f7d59>\u001b[0m in \u001b[0;36m<module>\u001b[0;34m()\u001b[0m\n\u001b[1;32m      1\u001b[0m \u001b[0;31m# Create a clean data frame\u001b[0m\u001b[0;34m\u001b[0m\u001b[0;34m\u001b[0m\u001b[0m\n\u001b[0;32m----> 2\u001b[0;31m \u001b[0map1\u001b[0m \u001b[0;34m=\u001b[0m \u001b[0map\u001b[0m\u001b[0;34m[\u001b[0m\u001b[0;34m[\u001b[0m\u001b[0;34m'airport'\u001b[0m\u001b[0;34m,\u001b[0m\u001b[0;34m'year'\u001b[0m\u001b[0;34m,\u001b[0m\u001b[0;34m'departure cancellations'\u001b[0m\u001b[0;34m,\u001b[0m\u001b[0;34m'arrival cancellations'\u001b[0m\u001b[0;34m]\u001b[0m\u001b[0;34m]\u001b[0m\u001b[0;34m\u001b[0m\u001b[0m\n\u001b[0m\u001b[1;32m      3\u001b[0m \u001b[0;32mprint\u001b[0m \u001b[0map1\u001b[0m\u001b[0;34m.\u001b[0m\u001b[0mhead\u001b[0m\u001b[0;34m(\u001b[0m\u001b[0;34m)\u001b[0m\u001b[0;34m\u001b[0m\u001b[0m\n",
      "\u001b[0;31mNameError\u001b[0m: name 'ap' is not defined"
     ]
    }
   ],
   "source": [
    "# Create a clean data frame \n",
    "ap1 = ap[['airport','year','departure cancellations','arrival cancellations']]\n",
    "print ap1.head()"
   ]
  },
  {
   "cell_type": "code",
   "execution_count": null,
   "metadata": {
    "collapsed": true,
    "focus": false,
    "id": "98fd6a42-89e0-4621-a70d-1e2c8c4bb975"
   },
   "outputs": [],
   "source": []
  },
  {
   "cell_type": "markdown",
   "metadata": {
    "focus": false,
    "id": "023d9120-1eb3-4f20-b083-5a8fa1605f06"
   },
   "source": [
    "#### 5.2 Write an analysis plan of your findings "
   ]
  },
  {
   "cell_type": "markdown",
   "metadata": {
    "focus": false,
    "id": "dc0ce0b7-c246-4d76-a01d-88fa0d37fe95"
   },
   "source": [
    "Create a writeup on the interpretation of findings including an executive summary with conclusions and next steps"
   ]
  },
  {
   "cell_type": "markdown",
   "metadata": {
    "focus": false,
    "id": "140af42e-0757-400e-ae39-0410a54d2581"
   },
   "source": []
  },
  {
   "cell_type": "markdown",
   "metadata": {
    "focus": false,
    "id": "8e08640c-4901-4724-9805-32c518521b2f"
   },
   "source": [
    "### Part 6: Copy your Database to AWS "
   ]
  },
  {
   "cell_type": "markdown",
   "metadata": {
    "focus": false,
    "id": "bf5d7088-46cd-4c47-9fcc-c1fd200cd164"
   },
   "source": [
    "Make sure to properly document all of the features of your dataset"
   ]
  },
  {
   "cell_type": "code",
   "execution_count": null,
   "metadata": {
    "collapsed": true,
    "focus": false,
    "id": "d181acff-8a70-40e9-8e39-fdc2b95550a2"
   },
   "outputs": [],
   "source": []
  },
  {
   "cell_type": "markdown",
   "metadata": {
    "focus": false,
    "id": "63387c7b-3c90-4732-808c-298225e1c0fb"
   },
   "source": [
    "### Bonus: Create a 3-Dimensional Plot of your new dataset with PCA applied"
   ]
  },
  {
   "cell_type": "code",
   "execution_count": null,
   "metadata": {
    "collapsed": true,
    "focus": false,
    "id": "b6fece51-aa23-4572-8d1d-c9c83701899d"
   },
   "outputs": [],
   "source": []
  }
 ],
 "metadata": {
  "anaconda-cloud": {},
  "kernelspec": {
   "display_name": "Python [Root]",
   "language": "python",
   "name": "Python [Root]"
  },
  "language_info": {
   "codemirror_mode": {
    "name": "ipython",
    "version": 2
   },
   "file_extension": ".py",
   "mimetype": "text/x-python",
   "name": "python",
   "nbconvert_exporter": "python",
   "pygments_lexer": "ipython2",
   "version": "2.7.12"
  }
 },
 "nbformat": 4,
 "nbformat_minor": 0
}
