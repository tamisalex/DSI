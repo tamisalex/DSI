{
 "cells": [
  {
   "cell_type": "markdown",
   "metadata": {
    "focus": true,
    "id": "d21ca30e-294e-4146-8e4f-a5c331f7a36e"
   },
   "source": [
    "### Project 7 \n",
    "\n",
    "In this project, you will implement the the clustering techniques that you've learned this week. \n",
    "\n",
    "#### Step 1: Load the python libraries that you will need for this project "
   ]
  },
  {
   "cell_type": "code",
   "execution_count": 414,
   "metadata": {
    "collapsed": false,
    "focus": false,
    "id": "78c3bb3f-f513-437b-94f8-bc363b6e7a8b"
   },
   "outputs": [],
   "source": [
    "import pandas as pd \n",
    "import matplotlib.pyplot as plt\n",
    "import numpy as np\n",
    "import sklearn as sk \n",
    "import sqlalchemy\n",
    "import patsy\n",
    "import seaborn as sns\n",
    "from sklearn.pipeline import make_pipeline\n",
    "from sklearn.preprocessing import FunctionTransformer, LabelEncoder, MinMaxScaler, StandardScaler\n",
    "from sklearn.decomposition import PCA\n",
    "from sklearn.base import TransformerMixin\n",
    "from sklearn.grid_search import GridSearchCV\n",
    "\n",
    "%matplotlib inline"
   ]
  },
  {
   "cell_type": "markdown",
   "metadata": {
    "focus": false,
    "id": "2c6f52ae-e694-463c-87d8-1974726c2e7a"
   },
   "source": [
    "#### Step 2: Examine your data "
   ]
  },
  {
   "cell_type": "code",
   "execution_count": 415,
   "metadata": {
    "collapsed": false,
    "focus": false,
    "id": "0f64db5a-e176-46a1-a10b-8c7db09437bc"
   },
   "outputs": [
    {
     "name": "stdout",
     "output_type": "stream",
     "text": [
      "  Airport    Year  Departure Cancellations  Arrival Cancellations  \\\n",
      "0     ABQ  2004.0                    242.0                  235.0   \n",
      "1     ABQ  2005.0                    221.0                  190.0   \n",
      "2     ABQ  2006.0                    392.0                  329.0   \n",
      "3     ABQ  2007.0                    366.0                  304.0   \n",
      "4     ABQ  2008.0                    333.0                  300.0   \n",
      "\n",
      "   Departure Diversions  Arrival Diversions  \n",
      "0                  71.0                46.0  \n",
      "1                  61.0                33.0  \n",
      "2                  71.0               124.0  \n",
      "3                 107.0                45.0  \n",
      "4                  79.0                42.0  \n"
     ]
    }
   ],
   "source": [
    "df_raw = pd.read_csv(\"../assets/airport_cancellations.csv\")\n",
    "df = df_raw.dropna() \n",
    "print df.head()"
   ]
  },
  {
   "cell_type": "code",
   "execution_count": 416,
   "metadata": {
    "collapsed": false
   },
   "outputs": [
    {
     "name": "stdout",
     "output_type": "stream",
     "text": [
      "<class 'pandas.core.frame.DataFrame'>\n",
      "Int64Index: 3498 entries, 0 to 5163\n",
      "Data columns (total 13 columns):\n",
      "Key                        3498 non-null float64\n",
      "LocID                      3498 non-null object\n",
      "AP_NAME                    3498 non-null object\n",
      "ALIAS                      3498 non-null object\n",
      "Facility Type              3498 non-null object\n",
      "FAA REGION                 3498 non-null object\n",
      "COUNTY                     3498 non-null object\n",
      "CITY                       3498 non-null object\n",
      "STATE                      3498 non-null object\n",
      "AP Type                    3498 non-null object\n",
      "Latitude                   3498 non-null float64\n",
      "Longitude                  3498 non-null float64\n",
      "Boundary Data Available    3498 non-null object\n",
      "dtypes: float64(3), object(10)\n",
      "memory usage: 382.6+ KB\n",
      "None\n"
     ]
    }
   ],
   "source": [
    "df_raw2 = pd.read_csv(\"../assets/airports.csv\")\n",
    "df2 = df_raw2.dropna() \n",
    "print df2.info()"
   ]
  },
  {
   "cell_type": "markdown",
   "metadata": {
    "focus": false,
    "id": "3690c265-ac0f-484d-ac79-f42da341e4cd"
   },
   "source": [
    "### Intro: Write a problem statement / aim for this project"
   ]
  },
  {
   "cell_type": "markdown",
   "metadata": {
    "focus": false,
    "id": "58297e17-aa21-4d1d-a46b-a36a4b92aac7"
   },
   "source": [
    "We want to understand the behavior of flight cancellations\n",
    "Answer: "
   ]
  },
  {
   "cell_type": "markdown",
   "metadata": {
    "focus": false,
    "id": "a3cccc0e-8531-4dfe-bb23-8c632aa7404e"
   },
   "source": [
    "### Part 1: Create a PostgreSQL database "
   ]
  },
  {
   "cell_type": "markdown",
   "metadata": {
    "focus": false,
    "id": "b51ca850-aa85-43e1-b7cd-627af62f5fe8"
   },
   "source": [
    "#### 1. Let's create a database where we can house our airport data"
   ]
  },
  {
   "cell_type": "code",
   "execution_count": 489,
   "metadata": {
    "collapsed": false,
    "focus": false,
    "id": "5d1b5e84-b49a-4bad-b961-abcb8e6f2751"
   },
   "outputs": [
    {
     "name": "stdout",
     "output_type": "stream",
     "text": [
      "['alexandertam']\n",
      "\u001b[1;34m==>\u001b[1;39m Successfully started `postgresql` (label: homebrew.mxcl.postgresql)\u001b[0m\n"
     ]
    }
   ],
   "source": [
    "user = !id -un\n",
    "print user\n",
    "!rm /usr/local/var/postgres/postmaster.pid\n",
    "!brew services restart postgresql\n",
    "engine = sqlalchemy.create_engine('postgresql://' + user[0] + '@localhost:5432/postgres')"
   ]
  },
  {
   "cell_type": "code",
   "execution_count": 490,
   "metadata": {
    "collapsed": false
   },
   "outputs": [],
   "source": [
    "df.columns = map(str.lower, df.columns)\n",
    "df2.columns = map(str.lower, df2.columns)"
   ]
  },
  {
   "cell_type": "code",
   "execution_count": 491,
   "metadata": {
    "collapsed": false
   },
   "outputs": [],
   "source": [
    "df.to_sql(\"airport_cancellations\",con = engine, if_exists = \"replace\")"
   ]
  },
  {
   "cell_type": "code",
   "execution_count": 492,
   "metadata": {
    "collapsed": false
   },
   "outputs": [],
   "source": [
    "df2.to_sql(\"airports\", con = engine, if_exists = \"replace\")"
   ]
  },
  {
   "cell_type": "code",
   "execution_count": 493,
   "metadata": {
    "collapsed": false,
    "scrolled": true
   },
   "outputs": [],
   "source": [
    "joined = pd.read_sql(\"SELECT * FROM airports as a JOIN airport_cancellations as ac ON a.locid=ac.airport;\",con = engine)"
   ]
  },
  {
   "cell_type": "code",
   "execution_count": 494,
   "metadata": {
    "collapsed": false
   },
   "outputs": [
    {
     "name": "stdout",
     "output_type": "stream",
     "text": [
      "Stopping `postgresql`... (might take a while)\n",
      "\u001b[1;34m==>\u001b[1;39m Successfully stopped `postgresql` (label: homebrew.mxcl.postgresql)\u001b[0m\n"
     ]
    }
   ],
   "source": [
    "!brew services stop postgresql"
   ]
  },
  {
   "cell_type": "markdown",
   "metadata": {
    "focus": false,
    "id": "0b511b59-41ea-478f-bf2d-7e392dc9edaa"
   },
   "source": [
    "#### 1.2 What are the risks and assumptions of our data? "
   ]
  },
  {
   "cell_type": "markdown",
   "metadata": {
    "focus": false,
    "id": "0936ff6a-6919-4436-9fc1-d6ef90d5ba9e"
   },
   "source": []
  },
  {
   "cell_type": "markdown",
   "metadata": {
    "focus": false,
    "id": "e97b4707-0f0e-4f6a-90ab-fbb634c2305d"
   },
   "source": [
    "### Part 2: Exploratory Data Analysis"
   ]
  },
  {
   "cell_type": "markdown",
   "metadata": {
    "focus": false,
    "id": "6be9cf88-1b92-4360-b424-a495d5e2d4ba"
   },
   "source": [
    "#### 2.1 Plot and Describe the Data"
   ]
  },
  {
   "cell_type": "code",
   "execution_count": 495,
   "metadata": {
    "collapsed": false,
    "focus": false,
    "id": "41ff90a9-0d50-4a8e-97c4-fe429fffc1f7",
    "scrolled": true
   },
   "outputs": [
    {
     "name": "stdout",
     "output_type": "stream",
     "text": [
      "<class 'pandas.core.frame.DataFrame'>\n",
      "Int64Index: 805 entries, 0 to 804\n",
      "Data columns (total 21 columns):\n",
      "index                      805 non-null int64\n",
      "key                        805 non-null float64\n",
      "locid                      805 non-null object\n",
      "ap_name                    805 non-null object\n",
      "alias                      805 non-null object\n",
      "facility type              805 non-null object\n",
      "faa region                 805 non-null object\n",
      "county                     805 non-null object\n",
      "city                       805 non-null object\n",
      "state                      805 non-null object\n",
      "ap type                    805 non-null object\n",
      "latitude                   805 non-null float64\n",
      "longitude                  805 non-null float64\n",
      "boundary data available    805 non-null object\n",
      "index                      805 non-null int64\n",
      "airport                    805 non-null object\n",
      "year                       805 non-null float64\n",
      "departure cancellations    805 non-null float64\n",
      "arrival cancellations      805 non-null float64\n",
      "departure diversions       805 non-null float64\n",
      "arrival diversions         805 non-null float64\n",
      "dtypes: float64(8), int64(2), object(11)\n",
      "memory usage: 138.4+ KB\n"
     ]
    }
   ],
   "source": [
    "data = joined.copy(deep=True)\n",
    "\n",
    "data[\"ap type\"].unique()\n",
    "data = joined.dropna()\n",
    "data.info()"
   ]
  },
  {
   "cell_type": "code",
   "execution_count": 496,
   "metadata": {
    "collapsed": false
   },
   "outputs": [
    {
     "data": {
      "text/html": [
       "<div>\n",
       "<table border=\"1\" class=\"dataframe\">\n",
       "  <thead>\n",
       "    <tr style=\"text-align: right;\">\n",
       "      <th></th>\n",
       "      <th>index</th>\n",
       "      <th>key</th>\n",
       "      <th>locid</th>\n",
       "      <th>ap_name</th>\n",
       "      <th>alias</th>\n",
       "      <th>facility type</th>\n",
       "      <th>faa region</th>\n",
       "      <th>county</th>\n",
       "      <th>city</th>\n",
       "      <th>state</th>\n",
       "      <th>...</th>\n",
       "      <th>latitude</th>\n",
       "      <th>longitude</th>\n",
       "      <th>boundary data available</th>\n",
       "      <th>index</th>\n",
       "      <th>airport</th>\n",
       "      <th>year</th>\n",
       "      <th>departure cancellations</th>\n",
       "      <th>arrival cancellations</th>\n",
       "      <th>departure diversions</th>\n",
       "      <th>arrival diversions</th>\n",
       "    </tr>\n",
       "  </thead>\n",
       "  <tbody>\n",
       "    <tr>\n",
       "      <th>0</th>\n",
       "      <td>1223</td>\n",
       "      <td>2348.0</td>\n",
       "      <td>ABQ</td>\n",
       "      <td>ALBUQUERQUE INTL SUNPORT</td>\n",
       "      <td>Albuquerque Int'l Sunport</td>\n",
       "      <td>Airport</td>\n",
       "      <td>ASW</td>\n",
       "      <td>BERNALILLO</td>\n",
       "      <td>ALBUQUERQUE</td>\n",
       "      <td>NM</td>\n",
       "      <td>...</td>\n",
       "      <td>35.040194</td>\n",
       "      <td>-106.609194</td>\n",
       "      <td>Yes</td>\n",
       "      <td>0</td>\n",
       "      <td>ABQ</td>\n",
       "      <td>2004.0</td>\n",
       "      <td>242.0</td>\n",
       "      <td>235.0</td>\n",
       "      <td>71.0</td>\n",
       "      <td>46.0</td>\n",
       "    </tr>\n",
       "    <tr>\n",
       "      <th>1</th>\n",
       "      <td>1223</td>\n",
       "      <td>2348.0</td>\n",
       "      <td>ABQ</td>\n",
       "      <td>ALBUQUERQUE INTL SUNPORT</td>\n",
       "      <td>Albuquerque Int'l Sunport</td>\n",
       "      <td>Airport</td>\n",
       "      <td>ASW</td>\n",
       "      <td>BERNALILLO</td>\n",
       "      <td>ALBUQUERQUE</td>\n",
       "      <td>NM</td>\n",
       "      <td>...</td>\n",
       "      <td>35.040194</td>\n",
       "      <td>-106.609194</td>\n",
       "      <td>Yes</td>\n",
       "      <td>1</td>\n",
       "      <td>ABQ</td>\n",
       "      <td>2005.0</td>\n",
       "      <td>221.0</td>\n",
       "      <td>190.0</td>\n",
       "      <td>61.0</td>\n",
       "      <td>33.0</td>\n",
       "    </tr>\n",
       "    <tr>\n",
       "      <th>2</th>\n",
       "      <td>1223</td>\n",
       "      <td>2348.0</td>\n",
       "      <td>ABQ</td>\n",
       "      <td>ALBUQUERQUE INTL SUNPORT</td>\n",
       "      <td>Albuquerque Int'l Sunport</td>\n",
       "      <td>Airport</td>\n",
       "      <td>ASW</td>\n",
       "      <td>BERNALILLO</td>\n",
       "      <td>ALBUQUERQUE</td>\n",
       "      <td>NM</td>\n",
       "      <td>...</td>\n",
       "      <td>35.040194</td>\n",
       "      <td>-106.609194</td>\n",
       "      <td>Yes</td>\n",
       "      <td>2</td>\n",
       "      <td>ABQ</td>\n",
       "      <td>2006.0</td>\n",
       "      <td>392.0</td>\n",
       "      <td>329.0</td>\n",
       "      <td>71.0</td>\n",
       "      <td>124.0</td>\n",
       "    </tr>\n",
       "    <tr>\n",
       "      <th>3</th>\n",
       "      <td>1223</td>\n",
       "      <td>2348.0</td>\n",
       "      <td>ABQ</td>\n",
       "      <td>ALBUQUERQUE INTL SUNPORT</td>\n",
       "      <td>Albuquerque Int'l Sunport</td>\n",
       "      <td>Airport</td>\n",
       "      <td>ASW</td>\n",
       "      <td>BERNALILLO</td>\n",
       "      <td>ALBUQUERQUE</td>\n",
       "      <td>NM</td>\n",
       "      <td>...</td>\n",
       "      <td>35.040194</td>\n",
       "      <td>-106.609194</td>\n",
       "      <td>Yes</td>\n",
       "      <td>3</td>\n",
       "      <td>ABQ</td>\n",
       "      <td>2007.0</td>\n",
       "      <td>366.0</td>\n",
       "      <td>304.0</td>\n",
       "      <td>107.0</td>\n",
       "      <td>45.0</td>\n",
       "    </tr>\n",
       "    <tr>\n",
       "      <th>4</th>\n",
       "      <td>1223</td>\n",
       "      <td>2348.0</td>\n",
       "      <td>ABQ</td>\n",
       "      <td>ALBUQUERQUE INTL SUNPORT</td>\n",
       "      <td>Albuquerque Int'l Sunport</td>\n",
       "      <td>Airport</td>\n",
       "      <td>ASW</td>\n",
       "      <td>BERNALILLO</td>\n",
       "      <td>ALBUQUERQUE</td>\n",
       "      <td>NM</td>\n",
       "      <td>...</td>\n",
       "      <td>35.040194</td>\n",
       "      <td>-106.609194</td>\n",
       "      <td>Yes</td>\n",
       "      <td>4</td>\n",
       "      <td>ABQ</td>\n",
       "      <td>2008.0</td>\n",
       "      <td>333.0</td>\n",
       "      <td>300.0</td>\n",
       "      <td>79.0</td>\n",
       "      <td>42.0</td>\n",
       "    </tr>\n",
       "  </tbody>\n",
       "</table>\n",
       "<p>5 rows × 21 columns</p>\n",
       "</div>"
      ],
      "text/plain": [
       "  index     key locid                   ap_name                      alias  \\\n",
       "0  1223  2348.0   ABQ  ALBUQUERQUE INTL SUNPORT  Albuquerque Int'l Sunport   \n",
       "1  1223  2348.0   ABQ  ALBUQUERQUE INTL SUNPORT  Albuquerque Int'l Sunport   \n",
       "2  1223  2348.0   ABQ  ALBUQUERQUE INTL SUNPORT  Albuquerque Int'l Sunport   \n",
       "3  1223  2348.0   ABQ  ALBUQUERQUE INTL SUNPORT  Albuquerque Int'l Sunport   \n",
       "4  1223  2348.0   ABQ  ALBUQUERQUE INTL SUNPORT  Albuquerque Int'l Sunport   \n",
       "\n",
       "  facility type faa region      county         city state         ...          \\\n",
       "0       Airport        ASW  BERNALILLO  ALBUQUERQUE    NM         ...           \n",
       "1       Airport        ASW  BERNALILLO  ALBUQUERQUE    NM         ...           \n",
       "2       Airport        ASW  BERNALILLO  ALBUQUERQUE    NM         ...           \n",
       "3       Airport        ASW  BERNALILLO  ALBUQUERQUE    NM         ...           \n",
       "4       Airport        ASW  BERNALILLO  ALBUQUERQUE    NM         ...           \n",
       "\n",
       "    latitude   longitude  boundary data available index  airport    year  \\\n",
       "0  35.040194 -106.609194                      Yes     0      ABQ  2004.0   \n",
       "1  35.040194 -106.609194                      Yes     1      ABQ  2005.0   \n",
       "2  35.040194 -106.609194                      Yes     2      ABQ  2006.0   \n",
       "3  35.040194 -106.609194                      Yes     3      ABQ  2007.0   \n",
       "4  35.040194 -106.609194                      Yes     4      ABQ  2008.0   \n",
       "\n",
       "   departure cancellations  arrival cancellations  departure diversions  \\\n",
       "0                    242.0                  235.0                  71.0   \n",
       "1                    221.0                  190.0                  61.0   \n",
       "2                    392.0                  329.0                  71.0   \n",
       "3                    366.0                  304.0                 107.0   \n",
       "4                    333.0                  300.0                  79.0   \n",
       "\n",
       "   arrival diversions  \n",
       "0                46.0  \n",
       "1                33.0  \n",
       "2               124.0  \n",
       "3                45.0  \n",
       "4                42.0  \n",
       "\n",
       "[5 rows x 21 columns]"
      ]
     },
     "execution_count": 496,
     "metadata": {},
     "output_type": "execute_result"
    }
   ],
   "source": [
    "data.head()"
   ]
  },
  {
   "cell_type": "markdown",
   "metadata": {
    "focus": false,
    "id": "3d12188d-3aa9-4d47-a0e8-b5d6e8f071de"
   },
   "source": [
    "#### Are there any unique values? "
   ]
  },
  {
   "cell_type": "code",
   "execution_count": null,
   "metadata": {
    "collapsed": true,
    "focus": false,
    "id": "d76cfc84-4d16-4f6f-aca8-3dc77d3b8f5c"
   },
   "outputs": [],
   "source": []
  },
  {
   "cell_type": "markdown",
   "metadata": {
    "focus": false,
    "id": "e2ddc27c-94d6-4ab1-95ef-1093bb2726b0"
   },
   "source": [
    "### Part 3: Data Mining"
   ]
  },
  {
   "cell_type": "markdown",
   "metadata": {
    "focus": false,
    "id": "c9b12f39-5410-42d7-aff9-859c0b2ccb70"
   },
   "source": [
    "#### 3.1 Format and Clean the Data"
   ]
  },
  {
   "cell_type": "code",
   "execution_count": 478,
   "metadata": {
    "collapsed": false
   },
   "outputs": [],
   "source": [
    "class MultiColumnLabelEncoder(TransformerMixin):\n",
    "    def __init__(self,columns = None):\n",
    "        self.columns = columns # array of column names to encode\n",
    "\n",
    "    def fit(self,X,y=None):\n",
    "        return self # not relevant here\n",
    "\n",
    "    def transform(self,X):\n",
    "        '''\n",
    "        Transforms columns of X specified in self.columns using\n",
    "        LabelEncoder(). If no columns specified, transforms all\n",
    "        columns in X.\n",
    "        '''\n",
    "        output = X.copy()\n",
    "        if self.columns is not None:\n",
    "            for col in self.columns:\n",
    "                output[col] = pre.LabelEncoder().fit_transform(output[col])\n",
    "        else:\n",
    "            for colname,col in output.iteritems():\n",
    "                output[colname] = pre.LabelEncoder().fit_transform(col)\n",
    "        return output\n",
    "\n",
    "    def fit_transform(self,X,y=None):\n",
    "        return self.fit(X,y).transform(X)"
   ]
  },
  {
   "cell_type": "code",
   "execution_count": 479,
   "metadata": {
    "collapsed": false
   },
   "outputs": [],
   "source": [
    "#test MultiColumnLabelEncoder class works\n",
    "\n",
    "#mcle = MultiColumnLabelEncoder(columns= columnsToLabelEncode)\n",
    "#mcle.fit_transform(joined)"
   ]
  },
  {
   "cell_type": "code",
   "execution_count": 480,
   "metadata": {
    "collapsed": false
   },
   "outputs": [],
   "source": [
    "class MultiColumnMinMaxScaler(TransformerMixin):\n",
    "    def __init__(self,columns = None):\n",
    "        self.columns = columns # array of column names to encode\n",
    "\n",
    "    def fit(self,X,y=None):\n",
    "        return self # not relevant here\n",
    "\n",
    "    def transform(self,X):\n",
    "        '''\n",
    "        Transforms columns of X specified in self.columns using\n",
    "        LabelEncoder(). If no columns specified, transforms all\n",
    "        columns in X.\n",
    "        '''\n",
    "        output = X.copy()\n",
    "        if self.columns is not None:\n",
    "            for col in self.columns:\n",
    "                output[col] = pre.MinMaxScaler().fit_transform(output[col].reshape(-1,1))\n",
    "        else:\n",
    "            for colname,col in output.iteritems():\n",
    "                output[colname] = pre.MinMaxScaler().fit_transform(col)\n",
    "        return output\n",
    "\n",
    "    def fit_transform(self,X,y=None):\n",
    "        return self.fit(X,y).transform(X)"
   ]
  },
  {
   "cell_type": "code",
   "execution_count": 481,
   "metadata": {
    "collapsed": false,
    "scrolled": false
   },
   "outputs": [],
   "source": [
    "#test MultiColumnMinMaxScaler class works\n",
    "#mcmms = MultiColumnMinMaxScaler(columns= columnsToScale)\n",
    "#mcmms.fit_transform(joined).head()"
   ]
  },
  {
   "cell_type": "code",
   "execution_count": 482,
   "metadata": {
    "collapsed": false
   },
   "outputs": [],
   "source": [
    "columnsToLabelEncode = [\"ap type\",\"ap_name\",\"alias\",\"facility type\",\"county\",\"city\",\"state\",\"airport\",\"faa region\"]\n",
    "columnsToRemove = [\"locid\",\"index\",\"key\",\"boundary data available\"]\n",
    "columnsToScale = [\"year\"]\n",
    "columnsToSelect = ['airport','year','departure cancellations','arrival cancellations']"
   ]
  },
  {
   "cell_type": "code",
   "execution_count": 497,
   "metadata": {
    "collapsed": false,
    "scrolled": true
   },
   "outputs": [
    {
     "data": {
      "text/html": [
       "<div>\n",
       "<table border=\"1\" class=\"dataframe\">\n",
       "  <thead>\n",
       "    <tr style=\"text-align: right;\">\n",
       "      <th></th>\n",
       "      <th>ap_name</th>\n",
       "      <th>alias</th>\n",
       "      <th>facility type</th>\n",
       "      <th>faa region</th>\n",
       "      <th>county</th>\n",
       "      <th>city</th>\n",
       "      <th>state</th>\n",
       "      <th>ap type</th>\n",
       "      <th>latitude</th>\n",
       "      <th>longitude</th>\n",
       "      <th>airport</th>\n",
       "      <th>year</th>\n",
       "      <th>departure cancellations</th>\n",
       "      <th>arrival cancellations</th>\n",
       "      <th>departure diversions</th>\n",
       "      <th>arrival diversions</th>\n",
       "    </tr>\n",
       "  </thead>\n",
       "  <tbody>\n",
       "    <tr>\n",
       "      <th>0</th>\n",
       "      <td>ALBUQUERQUE INTL SUNPORT</td>\n",
       "      <td>Albuquerque Int'l Sunport</td>\n",
       "      <td>Airport</td>\n",
       "      <td>ASW</td>\n",
       "      <td>BERNALILLO</td>\n",
       "      <td>ALBUQUERQUE</td>\n",
       "      <td>NM</td>\n",
       "      <td>Federalized/Commercial</td>\n",
       "      <td>35.040194</td>\n",
       "      <td>-106.609194</td>\n",
       "      <td>ABQ</td>\n",
       "      <td>2004.0</td>\n",
       "      <td>242.0</td>\n",
       "      <td>235.0</td>\n",
       "      <td>71.0</td>\n",
       "      <td>46.0</td>\n",
       "    </tr>\n",
       "    <tr>\n",
       "      <th>1</th>\n",
       "      <td>ALBUQUERQUE INTL SUNPORT</td>\n",
       "      <td>Albuquerque Int'l Sunport</td>\n",
       "      <td>Airport</td>\n",
       "      <td>ASW</td>\n",
       "      <td>BERNALILLO</td>\n",
       "      <td>ALBUQUERQUE</td>\n",
       "      <td>NM</td>\n",
       "      <td>Federalized/Commercial</td>\n",
       "      <td>35.040194</td>\n",
       "      <td>-106.609194</td>\n",
       "      <td>ABQ</td>\n",
       "      <td>2005.0</td>\n",
       "      <td>221.0</td>\n",
       "      <td>190.0</td>\n",
       "      <td>61.0</td>\n",
       "      <td>33.0</td>\n",
       "    </tr>\n",
       "    <tr>\n",
       "      <th>2</th>\n",
       "      <td>ALBUQUERQUE INTL SUNPORT</td>\n",
       "      <td>Albuquerque Int'l Sunport</td>\n",
       "      <td>Airport</td>\n",
       "      <td>ASW</td>\n",
       "      <td>BERNALILLO</td>\n",
       "      <td>ALBUQUERQUE</td>\n",
       "      <td>NM</td>\n",
       "      <td>Federalized/Commercial</td>\n",
       "      <td>35.040194</td>\n",
       "      <td>-106.609194</td>\n",
       "      <td>ABQ</td>\n",
       "      <td>2006.0</td>\n",
       "      <td>392.0</td>\n",
       "      <td>329.0</td>\n",
       "      <td>71.0</td>\n",
       "      <td>124.0</td>\n",
       "    </tr>\n",
       "    <tr>\n",
       "      <th>3</th>\n",
       "      <td>ALBUQUERQUE INTL SUNPORT</td>\n",
       "      <td>Albuquerque Int'l Sunport</td>\n",
       "      <td>Airport</td>\n",
       "      <td>ASW</td>\n",
       "      <td>BERNALILLO</td>\n",
       "      <td>ALBUQUERQUE</td>\n",
       "      <td>NM</td>\n",
       "      <td>Federalized/Commercial</td>\n",
       "      <td>35.040194</td>\n",
       "      <td>-106.609194</td>\n",
       "      <td>ABQ</td>\n",
       "      <td>2007.0</td>\n",
       "      <td>366.0</td>\n",
       "      <td>304.0</td>\n",
       "      <td>107.0</td>\n",
       "      <td>45.0</td>\n",
       "    </tr>\n",
       "    <tr>\n",
       "      <th>4</th>\n",
       "      <td>ALBUQUERQUE INTL SUNPORT</td>\n",
       "      <td>Albuquerque Int'l Sunport</td>\n",
       "      <td>Airport</td>\n",
       "      <td>ASW</td>\n",
       "      <td>BERNALILLO</td>\n",
       "      <td>ALBUQUERQUE</td>\n",
       "      <td>NM</td>\n",
       "      <td>Federalized/Commercial</td>\n",
       "      <td>35.040194</td>\n",
       "      <td>-106.609194</td>\n",
       "      <td>ABQ</td>\n",
       "      <td>2008.0</td>\n",
       "      <td>333.0</td>\n",
       "      <td>300.0</td>\n",
       "      <td>79.0</td>\n",
       "      <td>42.0</td>\n",
       "    </tr>\n",
       "  </tbody>\n",
       "</table>\n",
       "</div>"
      ],
      "text/plain": [
       "                    ap_name                      alias facility type  \\\n",
       "0  ALBUQUERQUE INTL SUNPORT  Albuquerque Int'l Sunport       Airport   \n",
       "1  ALBUQUERQUE INTL SUNPORT  Albuquerque Int'l Sunport       Airport   \n",
       "2  ALBUQUERQUE INTL SUNPORT  Albuquerque Int'l Sunport       Airport   \n",
       "3  ALBUQUERQUE INTL SUNPORT  Albuquerque Int'l Sunport       Airport   \n",
       "4  ALBUQUERQUE INTL SUNPORT  Albuquerque Int'l Sunport       Airport   \n",
       "\n",
       "  faa region      county         city state                 ap type  \\\n",
       "0        ASW  BERNALILLO  ALBUQUERQUE    NM  Federalized/Commercial   \n",
       "1        ASW  BERNALILLO  ALBUQUERQUE    NM  Federalized/Commercial   \n",
       "2        ASW  BERNALILLO  ALBUQUERQUE    NM  Federalized/Commercial   \n",
       "3        ASW  BERNALILLO  ALBUQUERQUE    NM  Federalized/Commercial   \n",
       "4        ASW  BERNALILLO  ALBUQUERQUE    NM  Federalized/Commercial   \n",
       "\n",
       "    latitude   longitude airport    year  departure cancellations  \\\n",
       "0  35.040194 -106.609194     ABQ  2004.0                    242.0   \n",
       "1  35.040194 -106.609194     ABQ  2005.0                    221.0   \n",
       "2  35.040194 -106.609194     ABQ  2006.0                    392.0   \n",
       "3  35.040194 -106.609194     ABQ  2007.0                    366.0   \n",
       "4  35.040194 -106.609194     ABQ  2008.0                    333.0   \n",
       "\n",
       "   arrival cancellations  departure diversions  arrival diversions  \n",
       "0                  235.0                  71.0                46.0  \n",
       "1                  190.0                  61.0                33.0  \n",
       "2                  329.0                  71.0               124.0  \n",
       "3                  304.0                 107.0                45.0  \n",
       "4                  300.0                  79.0                42.0  "
      ]
     },
     "execution_count": 497,
     "metadata": {},
     "output_type": "execute_result"
    }
   ],
   "source": [
    "data = data[[x for x in joined.columns.values.tolist() if x not in columnsToRemove]]\n",
    "#joined = joined[columnsToSelect].copy(deep=True)\n",
    "data.head()"
   ]
  },
  {
   "cell_type": "code",
   "execution_count": 465,
   "metadata": {
    "collapsed": true
   },
   "outputs": [],
   "source": [
    "saveColumns = joined.columns.values.tolist()"
   ]
  },
  {
   "cell_type": "code",
   "execution_count": 498,
   "metadata": {
    "collapsed": false,
    "focus": false,
    "id": "c2f083d5-edf1-4380-a245-13c77315daa7",
    "scrolled": false
   },
   "outputs": [
    {
     "data": {
      "text/html": [
       "<div>\n",
       "<table border=\"1\" class=\"dataframe\">\n",
       "  <thead>\n",
       "    <tr style=\"text-align: right;\">\n",
       "      <th></th>\n",
       "      <th>ap_name</th>\n",
       "      <th>alias</th>\n",
       "      <th>facility type</th>\n",
       "      <th>faa region</th>\n",
       "      <th>county</th>\n",
       "      <th>city</th>\n",
       "      <th>state</th>\n",
       "      <th>ap type</th>\n",
       "      <th>latitude</th>\n",
       "      <th>longitude</th>\n",
       "      <th>airport</th>\n",
       "      <th>year</th>\n",
       "      <th>departure cancellations</th>\n",
       "      <th>arrival cancellations</th>\n",
       "      <th>departure diversions</th>\n",
       "      <th>arrival diversions</th>\n",
       "    </tr>\n",
       "  </thead>\n",
       "  <tbody>\n",
       "    <tr>\n",
       "      <th>0</th>\n",
       "      <td>-1.713697</td>\n",
       "      <td>-1.665129</td>\n",
       "      <td>0.0</td>\n",
       "      <td>0.793973</td>\n",
       "      <td>-1.446113</td>\n",
       "      <td>-1.720488</td>\n",
       "      <td>0.656607</td>\n",
       "      <td>-0.260075</td>\n",
       "      <td>-0.211264</td>\n",
       "      <td>-0.558021</td>\n",
       "      <td>-1.697011</td>\n",
       "      <td>-1.579877</td>\n",
       "      <td>-0.572284</td>\n",
       "      <td>-0.556295</td>\n",
       "      <td>-0.594034</td>\n",
       "      <td>-0.540388</td>\n",
       "    </tr>\n",
       "    <tr>\n",
       "      <th>1</th>\n",
       "      <td>-1.713697</td>\n",
       "      <td>-1.665129</td>\n",
       "      <td>0.0</td>\n",
       "      <td>0.793973</td>\n",
       "      <td>-1.446113</td>\n",
       "      <td>-1.720488</td>\n",
       "      <td>0.656607</td>\n",
       "      <td>-0.260075</td>\n",
       "      <td>-0.211264</td>\n",
       "      <td>-0.558021</td>\n",
       "      <td>-1.697011</td>\n",
       "      <td>-1.263036</td>\n",
       "      <td>-0.583729</td>\n",
       "      <td>-0.579091</td>\n",
       "      <td>-0.652093</td>\n",
       "      <td>-0.597311</td>\n",
       "    </tr>\n",
       "    <tr>\n",
       "      <th>2</th>\n",
       "      <td>-1.713697</td>\n",
       "      <td>-1.665129</td>\n",
       "      <td>0.0</td>\n",
       "      <td>0.793973</td>\n",
       "      <td>-1.446113</td>\n",
       "      <td>-1.720488</td>\n",
       "      <td>0.656607</td>\n",
       "      <td>-0.260075</td>\n",
       "      <td>-0.211264</td>\n",
       "      <td>-0.558021</td>\n",
       "      <td>-1.697011</td>\n",
       "      <td>-0.946195</td>\n",
       "      <td>-0.490532</td>\n",
       "      <td>-0.508675</td>\n",
       "      <td>-0.594034</td>\n",
       "      <td>-0.198852</td>\n",
       "    </tr>\n",
       "    <tr>\n",
       "      <th>3</th>\n",
       "      <td>-1.713697</td>\n",
       "      <td>-1.665129</td>\n",
       "      <td>0.0</td>\n",
       "      <td>0.793973</td>\n",
       "      <td>-1.446113</td>\n",
       "      <td>-1.720488</td>\n",
       "      <td>0.656607</td>\n",
       "      <td>-0.260075</td>\n",
       "      <td>-0.211264</td>\n",
       "      <td>-0.558021</td>\n",
       "      <td>-1.697011</td>\n",
       "      <td>-0.629353</td>\n",
       "      <td>-0.504702</td>\n",
       "      <td>-0.521340</td>\n",
       "      <td>-0.385022</td>\n",
       "      <td>-0.544767</td>\n",
       "    </tr>\n",
       "    <tr>\n",
       "      <th>4</th>\n",
       "      <td>-1.713697</td>\n",
       "      <td>-1.665129</td>\n",
       "      <td>0.0</td>\n",
       "      <td>0.793973</td>\n",
       "      <td>-1.446113</td>\n",
       "      <td>-1.720488</td>\n",
       "      <td>0.656607</td>\n",
       "      <td>-0.260075</td>\n",
       "      <td>-0.211264</td>\n",
       "      <td>-0.558021</td>\n",
       "      <td>-1.697011</td>\n",
       "      <td>-0.312512</td>\n",
       "      <td>-0.522688</td>\n",
       "      <td>-0.523366</td>\n",
       "      <td>-0.547587</td>\n",
       "      <td>-0.557903</td>\n",
       "    </tr>\n",
       "  </tbody>\n",
       "</table>\n",
       "</div>"
      ],
      "text/plain": [
       "    ap_name     alias  facility type  faa region    county      city  \\\n",
       "0 -1.713697 -1.665129            0.0    0.793973 -1.446113 -1.720488   \n",
       "1 -1.713697 -1.665129            0.0    0.793973 -1.446113 -1.720488   \n",
       "2 -1.713697 -1.665129            0.0    0.793973 -1.446113 -1.720488   \n",
       "3 -1.713697 -1.665129            0.0    0.793973 -1.446113 -1.720488   \n",
       "4 -1.713697 -1.665129            0.0    0.793973 -1.446113 -1.720488   \n",
       "\n",
       "      state   ap type  latitude  longitude   airport      year  \\\n",
       "0  0.656607 -0.260075 -0.211264  -0.558021 -1.697011 -1.579877   \n",
       "1  0.656607 -0.260075 -0.211264  -0.558021 -1.697011 -1.263036   \n",
       "2  0.656607 -0.260075 -0.211264  -0.558021 -1.697011 -0.946195   \n",
       "3  0.656607 -0.260075 -0.211264  -0.558021 -1.697011 -0.629353   \n",
       "4  0.656607 -0.260075 -0.211264  -0.558021 -1.697011 -0.312512   \n",
       "\n",
       "   departure cancellations  arrival cancellations  departure diversions  \\\n",
       "0                -0.572284              -0.556295             -0.594034   \n",
       "1                -0.583729              -0.579091             -0.652093   \n",
       "2                -0.490532              -0.508675             -0.594034   \n",
       "3                -0.504702              -0.521340             -0.385022   \n",
       "4                -0.522688              -0.523366             -0.547587   \n",
       "\n",
       "   arrival diversions  \n",
       "0           -0.540388  \n",
       "1           -0.597311  \n",
       "2           -0.198852  \n",
       "3           -0.544767  \n",
       "4           -0.557903  "
      ]
     },
     "execution_count": 498,
     "metadata": {},
     "output_type": "execute_result"
    }
   ],
   "source": [
    "pipe = make_pipeline(\n",
    "    MultiColumnLabelEncoder(columns = columnsToLabelEncode),\n",
    "    MultiColumnMinMaxScaler(columns = columnsToScale))\n",
    "result1 = pipe.fit_transform(data)\n",
    "\n",
    "result1 = pd.DataFrame(result,columns=saveColumns)\n",
    "result1.head()\n",
    "\n"
   ]
  },
  {
   "cell_type": "code",
   "execution_count": 526,
   "metadata": {
    "collapsed": false,
    "scrolled": false
   },
   "outputs": [
    {
     "name": "stdout",
     "output_type": "stream",
     "text": [
      "[  4.18758595e+00   2.59306093e+00   2.02022104e+00   1.16928649e+00\n",
      "   1.04258289e+00   9.94726040e-01   9.21294682e-01   6.83785971e-01\n",
      "   4.77657025e-01   2.93746962e-01   2.51969217e-01   2.04438917e-01\n",
      "   1.36674213e-01   2.11894817e-02   1.78019310e-03   7.59162060e-33]\n"
     ]
    }
   ],
   "source": [
    "pca = PCA()\n",
    "\n",
    "tmp = np.array(result1) #df is a Pandas DataFrame\n",
    "proj1 = pca.fit_transform(tmp)\n",
    "proj1 = pd.DataFrame(proj1,columns=saveColumns)\n",
    "\n",
    "print pca.explained_variance_"
   ]
  },
  {
   "cell_type": "code",
   "execution_count": 527,
   "metadata": {
    "collapsed": false
   },
   "outputs": [
    {
     "name": "stdout",
     "output_type": "stream",
     "text": [
      "[  4.18758595e+00   2.59306093e+00   2.02022104e+00   1.16928649e+00\n",
      "   1.04258289e+00   9.94726040e-01   9.21294682e-01   6.83785971e-01\n",
      "   4.77657025e-01   2.93746962e-01   2.51969217e-01   2.04438917e-01\n",
      "   1.36674213e-01   2.11894817e-02   1.78019310e-03   7.59162060e-33]\n"
     ]
    },
    {
     "data": {
      "text/plain": [
       "<seaborn.axisgrid.JointGrid at 0x1350dbb50>"
      ]
     },
     "execution_count": 527,
     "metadata": {},
     "output_type": "execute_result"
    },
    {
     "data": {
      "image/png": "[encoded data removed]",
      "text/plain": [
       "<matplotlib.figure.Figure at 0x135224310>"
      ]
     },
     "metadata": {},
     "output_type": "display_data"
    }
   ],
   "source": [
    "sns.set_style(\"white\")\n",
    "sns.set_context('talk')\n",
    "\n",
    "PC1 = \"airport\"\n",
    "PC2 = \"departure cancellations\"\n",
    "\n",
    "g = sns.JointGrid(proj1.loc[:,PC1], proj1.loc[:,PC2], space=0, size=8)\n",
    "g.plot_marginals(sns.distplot, kde=False, color=\".7\", bins=30)\n",
    "g.plot_joint(plt.scatter, color=\".5\", edgecolor=\"none\", alpha=1)\n",
    "g.set_axis_labels(xlabel=\"PC1: \" + PC1 , ylabel=\"PC2: \" +  PC2)"
   ]
  },
  {
   "cell_type": "code",
   "execution_count": 504,
   "metadata": {
    "collapsed": false,
    "focus": false,
    "id": "c2f083d5-edf1-4380-a245-13c77315daa7",
    "scrolled": false
   },
   "outputs": [
    {
     "data": {
      "text/html": [
       "<div>\n",
       "<table border=\"1\" class=\"dataframe\">\n",
       "  <thead>\n",
       "    <tr style=\"text-align: right;\">\n",
       "      <th></th>\n",
       "      <th>ap_name</th>\n",
       "      <th>alias</th>\n",
       "      <th>facility type</th>\n",
       "      <th>faa region</th>\n",
       "      <th>county</th>\n",
       "      <th>city</th>\n",
       "      <th>state</th>\n",
       "      <th>ap type</th>\n",
       "      <th>latitude</th>\n",
       "      <th>longitude</th>\n",
       "      <th>airport</th>\n",
       "      <th>year</th>\n",
       "      <th>departure cancellations</th>\n",
       "      <th>arrival cancellations</th>\n",
       "      <th>departure diversions</th>\n",
       "      <th>arrival diversions</th>\n",
       "    </tr>\n",
       "  </thead>\n",
       "  <tbody>\n",
       "    <tr>\n",
       "      <th>0</th>\n",
       "      <td>-1.713697</td>\n",
       "      <td>-1.665129</td>\n",
       "      <td>0.0</td>\n",
       "      <td>0.793973</td>\n",
       "      <td>-1.446113</td>\n",
       "      <td>-1.720488</td>\n",
       "      <td>0.656607</td>\n",
       "      <td>-0.260075</td>\n",
       "      <td>-0.211264</td>\n",
       "      <td>-0.558021</td>\n",
       "      <td>-1.697011</td>\n",
       "      <td>-1.579877</td>\n",
       "      <td>-0.572284</td>\n",
       "      <td>-0.556295</td>\n",
       "      <td>-0.594034</td>\n",
       "      <td>-0.540388</td>\n",
       "    </tr>\n",
       "    <tr>\n",
       "      <th>1</th>\n",
       "      <td>-1.713697</td>\n",
       "      <td>-1.665129</td>\n",
       "      <td>0.0</td>\n",
       "      <td>0.793973</td>\n",
       "      <td>-1.446113</td>\n",
       "      <td>-1.720488</td>\n",
       "      <td>0.656607</td>\n",
       "      <td>-0.260075</td>\n",
       "      <td>-0.211264</td>\n",
       "      <td>-0.558021</td>\n",
       "      <td>-1.697011</td>\n",
       "      <td>-1.263036</td>\n",
       "      <td>-0.583729</td>\n",
       "      <td>-0.579091</td>\n",
       "      <td>-0.652093</td>\n",
       "      <td>-0.597311</td>\n",
       "    </tr>\n",
       "    <tr>\n",
       "      <th>2</th>\n",
       "      <td>-1.713697</td>\n",
       "      <td>-1.665129</td>\n",
       "      <td>0.0</td>\n",
       "      <td>0.793973</td>\n",
       "      <td>-1.446113</td>\n",
       "      <td>-1.720488</td>\n",
       "      <td>0.656607</td>\n",
       "      <td>-0.260075</td>\n",
       "      <td>-0.211264</td>\n",
       "      <td>-0.558021</td>\n",
       "      <td>-1.697011</td>\n",
       "      <td>-0.946195</td>\n",
       "      <td>-0.490532</td>\n",
       "      <td>-0.508675</td>\n",
       "      <td>-0.594034</td>\n",
       "      <td>-0.198852</td>\n",
       "    </tr>\n",
       "    <tr>\n",
       "      <th>3</th>\n",
       "      <td>-1.713697</td>\n",
       "      <td>-1.665129</td>\n",
       "      <td>0.0</td>\n",
       "      <td>0.793973</td>\n",
       "      <td>-1.446113</td>\n",
       "      <td>-1.720488</td>\n",
       "      <td>0.656607</td>\n",
       "      <td>-0.260075</td>\n",
       "      <td>-0.211264</td>\n",
       "      <td>-0.558021</td>\n",
       "      <td>-1.697011</td>\n",
       "      <td>-0.629353</td>\n",
       "      <td>-0.504702</td>\n",
       "      <td>-0.521340</td>\n",
       "      <td>-0.385022</td>\n",
       "      <td>-0.544767</td>\n",
       "    </tr>\n",
       "    <tr>\n",
       "      <th>4</th>\n",
       "      <td>-1.713697</td>\n",
       "      <td>-1.665129</td>\n",
       "      <td>0.0</td>\n",
       "      <td>0.793973</td>\n",
       "      <td>-1.446113</td>\n",
       "      <td>-1.720488</td>\n",
       "      <td>0.656607</td>\n",
       "      <td>-0.260075</td>\n",
       "      <td>-0.211264</td>\n",
       "      <td>-0.558021</td>\n",
       "      <td>-1.697011</td>\n",
       "      <td>-0.312512</td>\n",
       "      <td>-0.522688</td>\n",
       "      <td>-0.523366</td>\n",
       "      <td>-0.547587</td>\n",
       "      <td>-0.557903</td>\n",
       "    </tr>\n",
       "  </tbody>\n",
       "</table>\n",
       "</div>"
      ],
      "text/plain": [
       "    ap_name     alias  facility type  faa region    county      city  \\\n",
       "0 -1.713697 -1.665129            0.0    0.793973 -1.446113 -1.720488   \n",
       "1 -1.713697 -1.665129            0.0    0.793973 -1.446113 -1.720488   \n",
       "2 -1.713697 -1.665129            0.0    0.793973 -1.446113 -1.720488   \n",
       "3 -1.713697 -1.665129            0.0    0.793973 -1.446113 -1.720488   \n",
       "4 -1.713697 -1.665129            0.0    0.793973 -1.446113 -1.720488   \n",
       "\n",
       "      state   ap type  latitude  longitude   airport      year  \\\n",
       "0  0.656607 -0.260075 -0.211264  -0.558021 -1.697011 -1.579877   \n",
       "1  0.656607 -0.260075 -0.211264  -0.558021 -1.697011 -1.263036   \n",
       "2  0.656607 -0.260075 -0.211264  -0.558021 -1.697011 -0.946195   \n",
       "3  0.656607 -0.260075 -0.211264  -0.558021 -1.697011 -0.629353   \n",
       "4  0.656607 -0.260075 -0.211264  -0.558021 -1.697011 -0.312512   \n",
       "\n",
       "   departure cancellations  arrival cancellations  departure diversions  \\\n",
       "0                -0.572284              -0.556295             -0.594034   \n",
       "1                -0.583729              -0.579091             -0.652093   \n",
       "2                -0.490532              -0.508675             -0.594034   \n",
       "3                -0.504702              -0.521340             -0.385022   \n",
       "4                -0.522688              -0.523366             -0.547587   \n",
       "\n",
       "   arrival diversions  \n",
       "0           -0.540388  \n",
       "1           -0.597311  \n",
       "2           -0.198852  \n",
       "3           -0.544767  \n",
       "4           -0.557903  "
      ]
     },
     "execution_count": 504,
     "metadata": {},
     "output_type": "execute_result"
    }
   ],
   "source": [
    "pipe = make_pipeline(\n",
    "    MultiColumnLabelEncoder(columns = columnsToLabelEncode),\n",
    "    StandardScaler(),\n",
    ")\n",
    "\n",
    "result2 = pipe.fit_transform(data)\n",
    "\n",
    "result2 = pd.DataFrame(result,columns=saveColumns)\n",
    "result2.head()\n",
    "\n"
   ]
  },
  {
   "cell_type": "code",
   "execution_count": 524,
   "metadata": {
    "collapsed": false
   },
   "outputs": [],
   "source": [
    "pca = PCA()\n",
    "\n",
    "tmp = np.array(result2) #df is a Pandas DataFrame\n",
    "proj2 = pca.fit_transform(tmp)\n",
    "proj2 = pd.DataFrame(proj1,columns=saveColumns)"
   ]
  },
  {
   "cell_type": "code",
   "execution_count": 525,
   "metadata": {
    "collapsed": false
   },
   "outputs": [
    {
     "data": {
      "text/plain": [
       "<seaborn.axisgrid.JointGrid at 0x13305fa50>"
      ]
     },
     "execution_count": 525,
     "metadata": {},
     "output_type": "execute_result"
    },
    {
     "data": {
      "image/png": "[encoded data removed]",
      "text/plain": [
       "<matplotlib.figure.Figure at 0x134c06b90>"
      ]
     },
     "metadata": {},
     "output_type": "display_data"
    }
   ],
   "source": [
    "sns.set_style(\"white\")\n",
    "sns.set_context('talk')\n",
    "\n",
    "PC1 = \"airport\"\n",
    "PC2 = \"departure cancellations\"\n",
    "\n",
    "g = sns.JointGrid(proj2.loc[:,PC1], proj1.loc[:,PC2], space=0, size=8)\n",
    "g.plot_marginals(sns.distplot, kde=False, color=\".7\", bins=30)\n",
    "g.plot_joint(plt.scatter, color=\".5\", edgecolor=\"none\", alpha=1)\n",
    "g.set_axis_labels(xlabel='PC1', ylabel='PC2')"
   ]
  },
  {
   "cell_type": "markdown",
   "metadata": {
    "focus": false,
    "id": "a746fd8c-fdb0-45c3-9e17-ad4c89360055"
   },
   "source": [
    "#### 3.2 Create Dummy Variables"
   ]
  },
  {
   "cell_type": "code",
   "execution_count": 367,
   "metadata": {
    "collapsed": false,
    "focus": false,
    "id": "eae97f78-3695-4777-91c5-f282dfd26e96"
   },
   "outputs": [],
   "source": [
    "# def CreateDummyVariables(df, categories):\n",
    "#     categoryList = categories\n",
    "#     for category in categoryList:\n",
    "#         series = df[category]\n",
    "#         dummies = pd.get_dummies(series, prefix=category)\n",
    "#         df = pd.concat([df, dummies], axis=1)\n",
    "#     return df\n",
    "\n",
    "# joined = CreateDummyVariables(joined,['airport'])\n",
    "# joined"
   ]
  },
  {
   "cell_type": "markdown",
   "metadata": {
    "focus": false,
    "id": "27db8e3b-27d2-4420-bbab-1ddbba3dc3e5"
   },
   "source": [
    "### Part 4: Define the Data"
   ]
  },
  {
   "cell_type": "markdown",
   "metadata": {
    "focus": false,
    "id": "9bcb3ba6-8c35-470c-a821-47d7ba6a32f2"
   },
   "source": [
    "#### 4.1 Confirm that the dataset has a normal distribution. How can you tell? "
   ]
  },
  {
   "cell_type": "code",
   "execution_count": null,
   "metadata": {
    "collapsed": false,
    "focus": false,
    "id": "9c365cbd-7b6d-46bf-b4e4-b0e2e7bd5ff6"
   },
   "outputs": [],
   "source": [
    "joined[\"departure cancellations\"].plot.density()"
   ]
  },
  {
   "cell_type": "code",
   "execution_count": null,
   "metadata": {
    "collapsed": false,
    "scrolled": true
   },
   "outputs": [],
   "source": [
    "joined[\"departure diversions\"].plot.density()"
   ]
  },
  {
   "cell_type": "code",
   "execution_count": null,
   "metadata": {
    "collapsed": false
   },
   "outputs": [],
   "source": [
    "joined[\"arrival cancellations\"].plot.density()"
   ]
  },
  {
   "cell_type": "code",
   "execution_count": null,
   "metadata": {
    "collapsed": false
   },
   "outputs": [],
   "source": [
    "joined[\"arrival diversions\"].plot.density()"
   ]
  },
  {
   "cell_type": "markdown",
   "metadata": {
    "focus": false,
    "id": "17457da4-1175-4348-b10a-99f41f7a24dd"
   },
   "source": [
    "#### 4.2 Find correlations in the data"
   ]
  },
  {
   "cell_type": "code",
   "execution_count": 505,
   "metadata": {
    "collapsed": false,
    "focus": false,
    "id": "78003f34-c0d8-40f6-bafe-e0892df3f1ca"
   },
   "outputs": [
    {
     "data": {
      "text/plain": [
       "<matplotlib.axes._subplots.AxesSubplot at 0x12d4a3410>"
      ]
     },
     "execution_count": 505,
     "metadata": {},
     "output_type": "execute_result"
    },
    {
     "data": {
      "image/png": "[encoded data removed]",
      "text/plain": [
       "<matplotlib.figure.Figure at 0x12c924290>"
      ]
     },
     "metadata": {},
     "output_type": "display_data"
    }
   ],
   "source": [
    "sns.heatmap(data.corr())"
   ]
  },
  {
   "cell_type": "markdown",
   "metadata": {
    "focus": false,
    "id": "886b49bf-d7fa-41b0-b94c-740345580d88"
   },
   "source": [
    "#### 4.3 What is the value of understanding correlations before PCA? "
   ]
  },
  {
   "cell_type": "markdown",
   "metadata": {
    "focus": false,
    "id": "192df272-c2b1-46da-bcfa-c2b02d7445a8"
   },
   "source": [
    "Answer: "
   ]
  },
  {
   "cell_type": "markdown",
   "metadata": {
    "focus": false,
    "id": "904cda18-4a60-4b05-8502-139beb44c1f0"
   },
   "source": [
    "#### 4.4 Validate your findings using statistical analysis"
   ]
  },
  {
   "cell_type": "code",
   "execution_count": null,
   "metadata": {
    "collapsed": true,
    "focus": false,
    "id": "d2f5bd48-a2c8-4511-b3c6-fcb4889db4a7"
   },
   "outputs": [],
   "source": []
  },
  {
   "cell_type": "markdown",
   "metadata": {
    "focus": false,
    "id": "87689b59-fda0-4a07-a9d3-95936deaf8ee"
   },
   "source": [
    "#### 4.5 How can you improve your overall analysis? "
   ]
  },
  {
   "cell_type": "markdown",
   "metadata": {
    "focus": false,
    "id": "000bc40d-e033-4621-82a4-e09717947fb3"
   },
   "source": [
    "Answer: "
   ]
  },
  {
   "cell_type": "markdown",
   "metadata": {
    "focus": false,
    "id": "cea5d879-f180-448a-bd50-b30b2b7d6d28"
   },
   "source": [
    "### Part 5: Perform a PCA and Present Findings"
   ]
  },
  {
   "cell_type": "markdown",
   "metadata": {
    "focus": false,
    "id": "27c1212c-3490-45ff-a6da-501075f3eee5"
   },
   "source": [
    "#### 5.1 Conduct the PCA"
   ]
  },
  {
   "cell_type": "code",
   "execution_count": null,
   "metadata": {
    "collapsed": false,
    "focus": false,
    "id": "a8e7ac46-ba4f-47a8-99f8-b67a7f7e108e"
   },
   "outputs": [],
   "source": [
    "# Create a clean data frame \n",
    "ap1 = ap[['airport','year','departure cancellations','arrival cancellations']]\n",
    "print ap1.head()"
   ]
  },
  {
   "cell_type": "code",
   "execution_count": null,
   "metadata": {
    "collapsed": true,
    "focus": false,
    "id": "98fd6a42-89e0-4621-a70d-1e2c8c4bb975"
   },
   "outputs": [],
   "source": []
  },
  {
   "cell_type": "markdown",
   "metadata": {
    "focus": false,
    "id": "023d9120-1eb3-4f20-b083-5a8fa1605f06"
   },
   "source": [
    "#### 5.2 Write an analysis plan of your findings "
   ]
  },
  {
   "cell_type": "markdown",
   "metadata": {
    "focus": false,
    "id": "dc0ce0b7-c246-4d76-a01d-88fa0d37fe95"
   },
   "source": [
    "Create a writeup on the interpretation of findings including an executive summary with conclusions and next steps"
   ]
  },
  {
   "cell_type": "markdown",
   "metadata": {
    "focus": false,
    "id": "140af42e-0757-400e-ae39-0410a54d2581"
   },
   "source": []
  },
  {
   "cell_type": "markdown",
   "metadata": {
    "focus": false,
    "id": "8e08640c-4901-4724-9805-32c518521b2f"
   },
   "source": [
    "### Part 6: Copy your Database to AWS "
   ]
  },
  {
   "cell_type": "markdown",
   "metadata": {
    "focus": false,
    "id": "bf5d7088-46cd-4c47-9fcc-c1fd200cd164"
   },
   "source": [
    "Make sure to properly document all of the features of your dataset"
   ]
  },
  {
   "cell_type": "code",
   "execution_count": null,
   "metadata": {
    "collapsed": true,
    "focus": false,
    "id": "d181acff-8a70-40e9-8e39-fdc2b95550a2"
   },
   "outputs": [],
   "source": []
  },
  {
   "cell_type": "markdown",
   "metadata": {
    "focus": false,
    "id": "63387c7b-3c90-4732-808c-298225e1c0fb"
   },
   "source": [
    "### Bonus: Create a 3-Dimensional Plot of your new dataset with PCA applied"
   ]
  },
  {
   "cell_type": "code",
   "execution_count": null,
   "metadata": {
    "collapsed": true,
    "focus": false,
    "id": "b6fece51-aa23-4572-8d1d-c9c83701899d"
   },
   "outputs": [],
   "source": []
  }
 ],
 "metadata": {
  "anaconda-cloud": {},
  "kernelspec": {
   "display_name": "Python [Root]",
   "language": "python",
   "name": "Python [Root]"
  },
  "language_info": {
   "codemirror_mode": {
    "name": "ipython",
    "version": 2
   },
   "file_extension": ".py",
   "mimetype": "text/x-python",
   "name": "python",
   "nbconvert_exporter": "python",
   "pygments_lexer": "ipython2",
   "version": "2.7.12"
  }
 },
 "nbformat": 4,
 "nbformat_minor": 0
}
