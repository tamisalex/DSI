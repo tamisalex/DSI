{
 "cells": [
  {
   "cell_type": "markdown",
   "metadata": {
    "focus": true,
    "id": "d21ca30e-294e-4146-8e4f-a5c331f7a36e"
   },
   "source": [
    "# Project 7 \n",
    "\n",
    "In this project, you will implement the the clustering techniques that you've learned this week."
   ]
  },
  {
   "cell_type": "markdown",
   "metadata": {},
   "source": [
    "## Step 1: Load the python libraries that you will need for this project "
   ]
  },
  {
   "cell_type": "code",
   "execution_count": 818,
   "metadata": {
    "collapsed": false,
    "focus": false,
    "id": "78c3bb3f-f513-437b-94f8-bc363b6e7a8b"
   },
   "outputs": [],
   "source": [
    "import pandas as pd \n",
    "import matplotlib.pyplot as plt\n",
    "import numpy as np\n",
    "import sklearn as sk \n",
    "import sqlalchemy\n",
    "import patsy\n",
    "import seaborn as sns\n",
    "from sklearn.pipeline import make_pipeline, Pipeline\n",
    "from sklearn.preprocessing import FunctionTransformer, LabelEncoder, MinMaxScaler, StandardScaler\n",
    "from sklearn.decomposition import PCA\n",
    "from sklearn.base import TransformerMixin\n",
    "from sklearn.grid_search import GridSearchCV\n",
    "\n",
    "%matplotlib inline"
   ]
  },
  {
   "cell_type": "markdown",
   "metadata": {
    "focus": false,
    "id": "2c6f52ae-e694-463c-87d8-1974726c2e7a"
   },
   "source": [
    "## Step 2: Load/Examine your data "
   ]
  },
  {
   "cell_type": "code",
   "execution_count": 819,
   "metadata": {
    "collapsed": false,
    "focus": false,
    "id": "0f64db5a-e176-46a1-a10b-8c7db09437bc"
   },
   "outputs": [
    {
     "name": "stdout",
     "output_type": "stream",
     "text": [
      "  Airport    Year  Departure Cancellations  Arrival Cancellations  \\\n",
      "0     ABQ  2004.0                    242.0                  235.0   \n",
      "1     ABQ  2005.0                    221.0                  190.0   \n",
      "2     ABQ  2006.0                    392.0                  329.0   \n",
      "3     ABQ  2007.0                    366.0                  304.0   \n",
      "4     ABQ  2008.0                    333.0                  300.0   \n",
      "\n",
      "   Departure Diversions  Arrival Diversions  \n",
      "0                  71.0                46.0  \n",
      "1                  61.0                33.0  \n",
      "2                  71.0               124.0  \n",
      "3                 107.0                45.0  \n",
      "4                  79.0                42.0  \n"
     ]
    }
   ],
   "source": [
    "df_raw = pd.read_csv(\"../assets/airport_cancellations.csv\")\n",
    "df = df_raw.dropna() \n",
    "print df.head()"
   ]
  },
  {
   "cell_type": "code",
   "execution_count": 820,
   "metadata": {
    "collapsed": false,
    "scrolled": true
   },
   "outputs": [
    {
     "name": "stdout",
     "output_type": "stream",
     "text": [
      "<class 'pandas.core.frame.DataFrame'>\n",
      "Int64Index: 3498 entries, 0 to 5163\n",
      "Data columns (total 13 columns):\n",
      "Key                        3498 non-null float64\n",
      "LocID                      3498 non-null object\n",
      "AP_NAME                    3498 non-null object\n",
      "ALIAS                      3498 non-null object\n",
      "Facility Type              3498 non-null object\n",
      "FAA REGION                 3498 non-null object\n",
      "COUNTY                     3498 non-null object\n",
      "CITY                       3498 non-null object\n",
      "STATE                      3498 non-null object\n",
      "AP Type                    3498 non-null object\n",
      "Latitude                   3498 non-null float64\n",
      "Longitude                  3498 non-null float64\n",
      "Boundary Data Available    3498 non-null object\n",
      "dtypes: float64(3), object(10)\n",
      "memory usage: 382.6+ KB\n",
      "None\n"
     ]
    }
   ],
   "source": [
    "df_raw2 = pd.read_csv(\"../assets/airports.csv\")\n",
    "df2 = df_raw2.dropna() \n",
    "print df2.info()"
   ]
  },
  {
   "cell_type": "code",
   "execution_count": 821,
   "metadata": {
    "collapsed": false
   },
   "outputs": [
    {
     "name": "stdout",
     "output_type": "stream",
     "text": [
      "<class 'pandas.core.frame.DataFrame'>\n",
      "Int64Index: 841 entries, 0 to 840\n",
      "Data columns (total 15 columns):\n",
      "airport                               841 non-null object\n",
      "year                                  841 non-null int64\n",
      "departures for metric computation     841 non-null int64\n",
      "arrivals for metric computation       841 non-null int64\n",
      "percent on-time gate departures       841 non-null float64\n",
      "percent on-time airport departures    841 non-null float64\n",
      "percent on-time gate arrivals         841 non-null float64\n",
      "average_gate_departure_delay          841 non-null float64\n",
      "average_taxi_out_time                 841 non-null float64\n",
      "average taxi out delay                841 non-null float64\n",
      "average airport departure delay       841 non-null float64\n",
      "average airborne delay                841 non-null float64\n",
      "average taxi in delay                 841 non-null float64\n",
      "average block delay                   841 non-null float64\n",
      "average gate arrival delay            841 non-null float64\n",
      "dtypes: float64(11), int64(3), object(1)\n",
      "memory usage: 105.1+ KB\n",
      "None\n"
     ]
    }
   ],
   "source": [
    "df_raw3 = pd.read_csv(\"../assets/Airport_operations.csv\")\n",
    "df3 = df_raw3.dropna() \n",
    "print df3.info()"
   ]
  },
  {
   "cell_type": "markdown",
   "metadata": {
    "focus": false,
    "id": "3690c265-ac0f-484d-ac79-f42da341e4cd"
   },
   "source": [
    "## Step 3: Problem Statement"
   ]
  },
  {
   "cell_type": "markdown",
   "metadata": {
    "focus": false,
    "id": "a3cccc0e-8531-4dfe-bb23-8c632aa7404e"
   },
   "source": [
    "## Step 4: Store Data in PostGreSQL"
   ]
  },
  {
   "cell_type": "markdown",
   "metadata": {},
   "source": [
    "Get user logged in and connect to default postgres db using that user"
   ]
  },
  {
   "cell_type": "code",
   "execution_count": 822,
   "metadata": {
    "collapsed": false,
    "focus": false,
    "id": "5d1b5e84-b49a-4bad-b961-abcb8e6f2751"
   },
   "outputs": [
    {
     "name": "stdout",
     "output_type": "stream",
     "text": [
      "['alexandertam']\n",
      "\u001b[1;34m==>\u001b[1;39m Successfully started `postgresql` (label: homebrew.mxcl.postgresql)\u001b[0m\n"
     ]
    }
   ],
   "source": [
    "user = !id -un\n",
    "print user\n",
    "!rm /usr/local/var/postgres/postmaster.pid\n",
    "!brew services restart postgresql\n",
    "engine = sqlalchemy.create_engine('postgresql://' + user[0] + '@localhost:5432/postgres')"
   ]
  },
  {
   "cell_type": "markdown",
   "metadata": {},
   "source": [
    "convert columns to lowercase. Makes its easier to store dataframes in postgres"
   ]
  },
  {
   "cell_type": "code",
   "execution_count": 823,
   "metadata": {
    "collapsed": false
   },
   "outputs": [],
   "source": [
    "df.columns = map(str.lower, df.columns)\n",
    "df2.columns = map(str.lower, df2.columns)\n",
    "df3.columns = map(str.lower, df3.columns)"
   ]
  },
  {
   "cell_type": "markdown",
   "metadata": {},
   "source": [
    "add dataframes as table to database, replace if they already exist"
   ]
  },
  {
   "cell_type": "code",
   "execution_count": 824,
   "metadata": {
    "collapsed": false
   },
   "outputs": [],
   "source": [
    "df.to_sql(\"airport_cancellations\",con = engine, if_exists = \"replace\")"
   ]
  },
  {
   "cell_type": "code",
   "execution_count": 825,
   "metadata": {
    "collapsed": false
   },
   "outputs": [],
   "source": [
    "df2.to_sql(\"airports\", con = engine, if_exists = \"replace\")"
   ]
  },
  {
   "cell_type": "code",
   "execution_count": 826,
   "metadata": {
    "collapsed": true
   },
   "outputs": [],
   "source": [
    "df3.to_sql(\"airport_operations\", con = engine, if_exists=\"replace\")"
   ]
  },
  {
   "cell_type": "markdown",
   "metadata": {},
   "source": [
    "get the data expect to use for Principal Component Analysis"
   ]
  },
  {
   "cell_type": "code",
   "execution_count": 827,
   "metadata": {
    "collapsed": true
   },
   "outputs": [],
   "source": [
    "joined = pd.read_sql('SELECT o.*  FROM airports as a JOIN airport_cancellations as ac ON a.locid=ac.airport JOIN airport_operations as o ON a.locid=o.airport;',con = engine)"
   ]
  },
  {
   "cell_type": "markdown",
   "metadata": {},
   "source": [
    "get all the data"
   ]
  },
  {
   "cell_type": "code",
   "execution_count": 828,
   "metadata": {
    "collapsed": true
   },
   "outputs": [],
   "source": [
    "everything = pd.read_sql('SELECT * FROM airports as a INNER JOIN airport_cancellations as ac ON a.locid=ac.airport INNER JOIN airport_operations as o ON a.locid=o.airport;',con = engine)"
   ]
  },
  {
   "cell_type": "markdown",
   "metadata": {},
   "source": [
    "close the db connection"
   ]
  },
  {
   "cell_type": "code",
   "execution_count": 829,
   "metadata": {
    "collapsed": false
   },
   "outputs": [
    {
     "name": "stdout",
     "output_type": "stream",
     "text": [
      "Stopping `postgresql`... (might take a while)\n",
      "\u001b[1;34m==>\u001b[1;39m Successfully stopped `postgresql` (label: homebrew.mxcl.postgresql)\u001b[0m\n"
     ]
    }
   ],
   "source": [
    "!brew services stop postgresql"
   ]
  },
  {
   "cell_type": "markdown",
   "metadata": {},
   "source": [
    "save \"everything\" as a csv for use in Tableau later"
   ]
  },
  {
   "cell_type": "code",
   "execution_count": 830,
   "metadata": {
    "collapsed": false
   },
   "outputs": [],
   "source": [
    "everything.to_csv(\"../assets/everything.csv\",encoding=\"utf-8\")"
   ]
  },
  {
   "cell_type": "markdown",
   "metadata": {
    "focus": false,
    "id": "0b511b59-41ea-478f-bf2d-7e392dc9edaa"
   },
   "source": [
    "#### 1.2 What are the risks and assumptions of our data? "
   ]
  },
  {
   "cell_type": "markdown",
   "metadata": {
    "focus": false,
    "id": "0936ff6a-6919-4436-9fc1-d6ef90d5ba9e"
   },
   "source": []
  },
  {
   "cell_type": "markdown",
   "metadata": {
    "focus": false,
    "id": "e97b4707-0f0e-4f6a-90ab-fbb634c2305d"
   },
   "source": [
    "## Step 5: Clean the Data"
   ]
  },
  {
   "cell_type": "markdown",
   "metadata": {},
   "source": [
    "copy data to new var, so I don't have to rerun the whole file. dropna() and index column"
   ]
  },
  {
   "cell_type": "code",
   "execution_count": 831,
   "metadata": {
    "collapsed": false,
    "focus": false,
    "id": "41ff90a9-0d50-4a8e-97c4-fe429fffc1f7",
    "scrolled": true
   },
   "outputs": [
    {
     "name": "stdout",
     "output_type": "stream",
     "text": [
      "<class 'pandas.core.frame.DataFrame'>\n",
      "Int64Index: 8789 entries, 0 to 8788\n",
      "Data columns (total 15 columns):\n",
      "airport                               8789 non-null object\n",
      "year                                  8789 non-null int64\n",
      "departures for metric computation     8789 non-null int64\n",
      "arrivals for metric computation       8789 non-null int64\n",
      "percent on-time gate departures       8789 non-null float64\n",
      "percent on-time airport departures    8789 non-null float64\n",
      "percent on-time gate arrivals         8789 non-null float64\n",
      "average_gate_departure_delay          8789 non-null float64\n",
      "average_taxi_out_time                 8789 non-null float64\n",
      "average taxi out delay                8789 non-null float64\n",
      "average airport departure delay       8789 non-null float64\n",
      "average airborne delay                8789 non-null float64\n",
      "average taxi in delay                 8789 non-null float64\n",
      "average block delay                   8789 non-null float64\n",
      "average gate arrival delay            8789 non-null float64\n",
      "dtypes: float64(11), int64(3), object(1)\n",
      "memory usage: 1.1+ MB\n"
     ]
    }
   ],
   "source": [
    "data = joined.copy(deep=True)\n",
    "data = joined.dropna()\n",
    "del data[\"index\"]\n",
    "data.info()"
   ]
  },
  {
   "cell_type": "markdown",
   "metadata": {},
   "source": [
    "generate dummy variables for airports and generate new dataframe for dummis"
   ]
  },
  {
   "cell_type": "code",
   "execution_count": 832,
   "metadata": {
    "collapsed": false
   },
   "outputs": [],
   "source": [
    "df = data\n",
    "categories = [\"airport\"]\n",
    "for category in categories:\n",
    "    series = df[category]\n",
    "    dummies = pd.get_dummies(series, prefix=category)\n",
    "    df = pd.concat([df, dummies], axis=1)\n",
    "dataWithDummies = df.copy(deep=True)\n",
    "\n",
    "del dataWithDummies[\"airport\"]\n",
    "del data[\"airport\"]"
   ]
  },
  {
   "cell_type": "markdown",
   "metadata": {},
   "source": [
    "## Step 6: Run PCA"
   ]
  },
  {
   "cell_type": "markdown",
   "metadata": {},
   "source": [
    "##### Defining custom transformers for Sklearn pipeline, ended up not using them. Keep for later use"
   ]
  },
  {
   "cell_type": "code",
   "execution_count": 859,
   "metadata": {
    "collapsed": false
   },
   "outputs": [],
   "source": [
    "class MultiColumnLabelEncoder(TransformerMixin):\n",
    "    def __init__(self,columns = None):\n",
    "        self.columns = columns # array of column names to encode\n",
    "\n",
    "    def fit(self,X,y=None):\n",
    "        return self # not relevant here\n",
    "\n",
    "    def transform(self,X):\n",
    "        '''\n",
    "        Transforms columns of X specified in self.columns using\n",
    "        LabelEncoder(). If no columns specified, transforms all\n",
    "        columns in X.\n",
    "        '''\n",
    "        output = pd.DataFrame(X,columns=self.columns)\n",
    "        #print output.head()\n",
    "        if self.columns is not None:\n",
    "            for col in self.columns:\n",
    "                output[col] = LabelEncoder().fit_transform(output[col])\n",
    "        else:\n",
    "            for colname,col in output.iteritems():\n",
    "                output[colname] = LabelEncoder().fit_transform(col)\n",
    "        return output\n",
    "\n",
    "    def fit_transform(self,X,y=None):\n",
    "        return self.fit(X,y).transform(X)"
   ]
  },
  {
   "cell_type": "code",
   "execution_count": 834,
   "metadata": {
    "collapsed": false
   },
   "outputs": [],
   "source": [
    "#test MultiColumnLabelEncoder class works\n",
    "\n",
    "#mcle = MultiColumnLabelEncoder(columns= columnsToLabelEncode)\n",
    "#mcle.fit_transform(joined)"
   ]
  },
  {
   "cell_type": "code",
   "execution_count": 835,
   "metadata": {
    "collapsed": false
   },
   "outputs": [],
   "source": [
    "# class MultiColumnMinMaxScaler(TransformerMixin):\n",
    "#     def __init__(self,columns = None):\n",
    "#         self.columns = columns # array of column names to encode\n",
    "\n",
    "#     def fit(self,X,y=None):\n",
    "#         return self # not relevant here\n",
    "\n",
    "#     def transform(self,X):\n",
    "#         '''\n",
    "#         Transforms columns of X specified in self.columns using\n",
    "#         LabelEncoder(). If no columns specified, transforms all\n",
    "#         columns in X.\n",
    "#         '''\n",
    "#         output = X.copy()\n",
    "#         if self.columns is not None:\n",
    "#             for col in self.columns:\n",
    "#                 output[col] = pre.MinMaxScaler().fit_transform(output[col].reshape(-1,1))\n",
    "#         else:\n",
    "#             for colname,col in output.iteritems():\n",
    "#                 output[colname] = pre.MinMaxScaler().fit_transform(col)\n",
    "#         return output\n",
    "\n",
    "#     def fit_transform(self,X,y=None):\n",
    "#         return self.fit(X,y).transform(X)"
   ]
  },
  {
   "cell_type": "code",
   "execution_count": 836,
   "metadata": {
    "collapsed": false,
    "scrolled": false
   },
   "outputs": [],
   "source": [
    "#test MultiColumnMinMaxScaler class works\n",
    "#mcmms = MultiColumnMinMaxScaler(columns= columnsToScale)\n",
    "#mcmms.fit_transform(joined).head()"
   ]
  },
  {
   "cell_type": "code",
   "execution_count": 837,
   "metadata": {
    "collapsed": false
   },
   "outputs": [],
   "source": [
    "# columnsToLabelEncode = [\"airport\"]\n",
    "# columnsToRemove = [\"locid\",\"index\",\"key\",\"boundary data available\"]\n",
    "# columnsToScale = [\"year\"]\n",
    "# columnsToSelect = ['airport','year','departure cancellations','arrival cancellations']"
   ]
  },
  {
   "cell_type": "code",
   "execution_count": 838,
   "metadata": {
    "collapsed": false,
    "scrolled": true
   },
   "outputs": [],
   "source": [
    "#data = data[[x for x in data.columns.values.tolist() if x not in columnsToRemove]]\n",
    "#joined = joined[columnsToSelect].copy(deep=True)"
   ]
  },
  {
   "cell_type": "code",
   "execution_count": 839,
   "metadata": {
    "collapsed": false,
    "focus": false,
    "id": "c2f083d5-edf1-4380-a245-13c77315daa7",
    "scrolled": false
   },
   "outputs": [],
   "source": [
    "# pipe = make_pipeline(\n",
    "#     MultiColumnLabelEncoder(columns = columnsToLabelEncode),\n",
    "#     MultiColumnMinMaxScaler(columns = columnsToScale))\n",
    "# result1 = pipe.fit_transform(data)"
   ]
  },
  {
   "cell_type": "markdown",
   "metadata": {},
   "source": [
    "#### Run PCA"
   ]
  },
  {
   "cell_type": "markdown",
   "metadata": {},
   "source": [
    "This set of data contains all the columns from the operations table + the airports as dummies"
   ]
  },
  {
   "cell_type": "code",
   "execution_count": 840,
   "metadata": {
    "collapsed": false,
    "scrolled": true
   },
   "outputs": [
    {
     "data": {
      "text/html": [
       "<div>\n",
       "<table border=\"1\" class=\"dataframe\">\n",
       "  <thead>\n",
       "    <tr style=\"text-align: right;\">\n",
       "      <th></th>\n",
       "      <th>year</th>\n",
       "      <th>departures for metric computation</th>\n",
       "      <th>arrivals for metric computation</th>\n",
       "      <th>percent on-time gate departures</th>\n",
       "      <th>percent on-time airport departures</th>\n",
       "      <th>percent on-time gate arrivals</th>\n",
       "      <th>average_gate_departure_delay</th>\n",
       "      <th>average_taxi_out_time</th>\n",
       "      <th>average taxi out delay</th>\n",
       "      <th>average airport departure delay</th>\n",
       "      <th>...</th>\n",
       "      <th>airport_SFO</th>\n",
       "      <th>airport_SJC</th>\n",
       "      <th>airport_SJU</th>\n",
       "      <th>airport_SLC</th>\n",
       "      <th>airport_SMF</th>\n",
       "      <th>airport_SNA</th>\n",
       "      <th>airport_STL</th>\n",
       "      <th>airport_SWF</th>\n",
       "      <th>airport_TPA</th>\n",
       "      <th>airport_TUS</th>\n",
       "    </tr>\n",
       "  </thead>\n",
       "  <tbody>\n",
       "    <tr>\n",
       "      <th>0</th>\n",
       "      <td>83911.691513</td>\n",
       "      <td>-70.213016</td>\n",
       "      <td>-4.649349</td>\n",
       "      <td>4.951224</td>\n",
       "      <td>1.811950</td>\n",
       "      <td>0.854728</td>\n",
       "      <td>-0.378470</td>\n",
       "      <td>-0.701735</td>\n",
       "      <td>-0.210493</td>\n",
       "      <td>0.038660</td>\n",
       "      <td>...</td>\n",
       "      <td>0.009102</td>\n",
       "      <td>0.005251</td>\n",
       "      <td>0.026531</td>\n",
       "      <td>-0.019879</td>\n",
       "      <td>-0.010008</td>\n",
       "      <td>0.002062</td>\n",
       "      <td>0.002999</td>\n",
       "      <td>0.004427</td>\n",
       "      <td>-0.002847</td>\n",
       "      <td>-5.238288e-15</td>\n",
       "    </tr>\n",
       "    <tr>\n",
       "      <th>1</th>\n",
       "      <td>86799.061101</td>\n",
       "      <td>-207.114916</td>\n",
       "      <td>-5.870731</td>\n",
       "      <td>4.145722</td>\n",
       "      <td>1.120552</td>\n",
       "      <td>0.690475</td>\n",
       "      <td>-0.401350</td>\n",
       "      <td>-0.777936</td>\n",
       "      <td>-0.225447</td>\n",
       "      <td>0.126866</td>\n",
       "      <td>...</td>\n",
       "      <td>0.017122</td>\n",
       "      <td>0.024540</td>\n",
       "      <td>0.004525</td>\n",
       "      <td>-0.007613</td>\n",
       "      <td>-0.015892</td>\n",
       "      <td>0.001120</td>\n",
       "      <td>-0.001101</td>\n",
       "      <td>0.003245</td>\n",
       "      <td>-0.002261</td>\n",
       "      <td>-9.386819e-15</td>\n",
       "    </tr>\n",
       "    <tr>\n",
       "      <th>2</th>\n",
       "      <td>88798.515025</td>\n",
       "      <td>-1242.235830</td>\n",
       "      <td>-3.366770</td>\n",
       "      <td>3.074479</td>\n",
       "      <td>1.641045</td>\n",
       "      <td>0.074002</td>\n",
       "      <td>-0.417327</td>\n",
       "      <td>-0.526339</td>\n",
       "      <td>-0.120900</td>\n",
       "      <td>0.008117</td>\n",
       "      <td>...</td>\n",
       "      <td>-0.010165</td>\n",
       "      <td>-0.025269</td>\n",
       "      <td>-0.011938</td>\n",
       "      <td>-0.030223</td>\n",
       "      <td>-0.012347</td>\n",
       "      <td>0.000164</td>\n",
       "      <td>-0.001786</td>\n",
       "      <td>0.000535</td>\n",
       "      <td>0.000368</td>\n",
       "      <td>-7.366389e-15</td>\n",
       "    </tr>\n",
       "    <tr>\n",
       "      <th>3</th>\n",
       "      <td>84565.001583</td>\n",
       "      <td>-428.947670</td>\n",
       "      <td>-2.523626</td>\n",
       "      <td>2.033138</td>\n",
       "      <td>1.476709</td>\n",
       "      <td>-0.453662</td>\n",
       "      <td>-0.349287</td>\n",
       "      <td>-0.708434</td>\n",
       "      <td>0.187694</td>\n",
       "      <td>0.269402</td>\n",
       "      <td>...</td>\n",
       "      <td>-0.035472</td>\n",
       "      <td>-0.040785</td>\n",
       "      <td>-0.024050</td>\n",
       "      <td>-0.045301</td>\n",
       "      <td>-0.005106</td>\n",
       "      <td>-0.003326</td>\n",
       "      <td>0.007214</td>\n",
       "      <td>0.001151</td>\n",
       "      <td>0.002890</td>\n",
       "      <td>-2.194979e-14</td>\n",
       "    </tr>\n",
       "    <tr>\n",
       "      <th>4</th>\n",
       "      <td>90055.122443</td>\n",
       "      <td>-112.831021</td>\n",
       "      <td>-3.823615</td>\n",
       "      <td>1.136024</td>\n",
       "      <td>0.615505</td>\n",
       "      <td>0.074235</td>\n",
       "      <td>-0.567142</td>\n",
       "      <td>-0.687876</td>\n",
       "      <td>0.158743</td>\n",
       "      <td>0.011751</td>\n",
       "      <td>...</td>\n",
       "      <td>-0.048355</td>\n",
       "      <td>-0.013538</td>\n",
       "      <td>-0.017466</td>\n",
       "      <td>-0.059261</td>\n",
       "      <td>0.005612</td>\n",
       "      <td>-0.001326</td>\n",
       "      <td>0.012261</td>\n",
       "      <td>0.003350</td>\n",
       "      <td>0.000985</td>\n",
       "      <td>-6.089294e-15</td>\n",
       "    </tr>\n",
       "  </tbody>\n",
       "</table>\n",
       "<p>5 rows × 88 columns</p>\n",
       "</div>"
      ],
      "text/plain": [
       "           year  departures for metric computation  \\\n",
       "0  83911.691513                         -70.213016   \n",
       "1  86799.061101                        -207.114916   \n",
       "2  88798.515025                       -1242.235830   \n",
       "3  84565.001583                        -428.947670   \n",
       "4  90055.122443                        -112.831021   \n",
       "\n",
       "   arrivals for metric computation  percent on-time gate departures  \\\n",
       "0                        -4.649349                         4.951224   \n",
       "1                        -5.870731                         4.145722   \n",
       "2                        -3.366770                         3.074479   \n",
       "3                        -2.523626                         2.033138   \n",
       "4                        -3.823615                         1.136024   \n",
       "\n",
       "   percent on-time airport departures  percent on-time gate arrivals  \\\n",
       "0                            1.811950                       0.854728   \n",
       "1                            1.120552                       0.690475   \n",
       "2                            1.641045                       0.074002   \n",
       "3                            1.476709                      -0.453662   \n",
       "4                            0.615505                       0.074235   \n",
       "\n",
       "   average_gate_departure_delay  average_taxi_out_time  \\\n",
       "0                     -0.378470              -0.701735   \n",
       "1                     -0.401350              -0.777936   \n",
       "2                     -0.417327              -0.526339   \n",
       "3                     -0.349287              -0.708434   \n",
       "4                     -0.567142              -0.687876   \n",
       "\n",
       "   average taxi out delay  average airport departure delay      ...       \\\n",
       "0               -0.210493                         0.038660      ...        \n",
       "1               -0.225447                         0.126866      ...        \n",
       "2               -0.120900                         0.008117      ...        \n",
       "3                0.187694                         0.269402      ...        \n",
       "4                0.158743                         0.011751      ...        \n",
       "\n",
       "   airport_SFO  airport_SJC  airport_SJU  airport_SLC  airport_SMF  \\\n",
       "0     0.009102     0.005251     0.026531    -0.019879    -0.010008   \n",
       "1     0.017122     0.024540     0.004525    -0.007613    -0.015892   \n",
       "2    -0.010165    -0.025269    -0.011938    -0.030223    -0.012347   \n",
       "3    -0.035472    -0.040785    -0.024050    -0.045301    -0.005106   \n",
       "4    -0.048355    -0.013538    -0.017466    -0.059261     0.005612   \n",
       "\n",
       "   airport_SNA  airport_STL  airport_SWF  airport_TPA   airport_TUS  \n",
       "0     0.002062     0.002999     0.004427    -0.002847 -5.238288e-15  \n",
       "1     0.001120    -0.001101     0.003245    -0.002261 -9.386819e-15  \n",
       "2     0.000164    -0.001786     0.000535     0.000368 -7.366389e-15  \n",
       "3    -0.003326     0.007214     0.001151     0.002890 -2.194979e-14  \n",
       "4    -0.001326     0.012261     0.003350     0.000985 -6.089294e-15  \n",
       "\n",
       "[5 rows x 88 columns]"
      ]
     },
     "execution_count": 840,
     "metadata": {},
     "output_type": "execute_result"
    }
   ],
   "source": [
    "dummyColumns = dataWithDummies.columns\n",
    "\n",
    "pca = PCA()\n",
    "\n",
    "pipe = Pipeline([('pca', pca)])\n",
    "\n",
    "tmp = np.array(dataWithDummies)\n",
    "dataOriginal = pipe.fit_transform(tmp)\n",
    "dataOriginal = pd.DataFrame(dataOriginal,columns=dummyColumns)\n",
    "dataOriginal.head()"
   ]
  },
  {
   "cell_type": "markdown",
   "metadata": {},
   "source": [
    "The data set above is the PCA transformation of the original fields. We can see year is much larger that all other fields. The airports dummy columns also very very small. We may remove them, but lets try applying standard scaling first, to put the numbers across columns on the same scale."
   ]
  },
  {
   "cell_type": "markdown",
   "metadata": {},
   "source": [
    "Here we calculate the explained variance as a percentage to see which PCA has the greatest effect"
   ]
  },
  {
   "cell_type": "code",
   "execution_count": 841,
   "metadata": {
    "collapsed": false
   },
   "outputs": [],
   "source": [
    "sumExplainedVariance = sum(pca.explained_variance_)\n",
    "varianceExplained = [(i / sumExplainedVariance)*100 for i in sorted(pca.explained_variance_, reverse=True)]\n",
    "cumulativeVarianceexplained = np.cumsum(varianceExplained)"
   ]
  },
  {
   "cell_type": "code",
   "execution_count": 842,
   "metadata": {
    "collapsed": false
   },
   "outputs": [
    {
     "data": {
      "text/plain": [
       "[99.990354123878731,\n",
       " 0.0096455617420605939,\n",
       " 1.960411107919446e-07,\n",
       " 5.4350140117527057e-08,\n",
       " 4.0056860437285544e-08,\n",
       " 9.4849260988049852e-09,\n",
       " 3.5474113398346181e-09,\n",
       " 3.5375947025362688e-09,\n",
       " 1.721070621914049e-09,\n",
       " 8.4784670102669627e-10,\n",
       " 1.0511843260825852e-10,\n",
       " 7.510664195174607e-11,\n",
       " 7.2120850023789086e-11,\n",
       " 7.19613087086532e-11,\n",
       " 7.192206303948348e-11,\n",
       " 7.1922063039481567e-11,\n",
       " 7.1922063039481567e-11,\n",
       " 7.1922063039481554e-11,\n",
       " 7.1922063039481554e-11,\n",
       " 7.1922063039481554e-11,\n",
       " 7.1922063039481554e-11,\n",
       " 7.1922063039481528e-11,\n",
       " 7.1922063039481528e-11,\n",
       " 7.1922063039481528e-11,\n",
       " 7.1922063039481528e-11,\n",
       " 7.1922063039481528e-11,\n",
       " 7.1922063039481528e-11,\n",
       " 7.1922063039481528e-11,\n",
       " 7.1922063039481528e-11,\n",
       " 7.1922063039481528e-11,\n",
       " 7.1922063039481528e-11,\n",
       " 7.1922063039481528e-11,\n",
       " 7.1922063039481528e-11,\n",
       " 7.1922063039481528e-11,\n",
       " 7.1922063039481528e-11,\n",
       " 7.1922063039481528e-11,\n",
       " 7.1922063039481528e-11,\n",
       " 7.1922063039481528e-11,\n",
       " 7.1922063039481528e-11,\n",
       " 7.1922063039481528e-11,\n",
       " 7.1922063039481516e-11,\n",
       " 7.1922063039481516e-11,\n",
       " 7.1922063039481516e-11,\n",
       " 7.1922063039481516e-11,\n",
       " 7.1922063039481516e-11,\n",
       " 7.1922063039481516e-11,\n",
       " 7.1922063039481516e-11,\n",
       " 7.1922063039481516e-11,\n",
       " 7.1922063039481516e-11,\n",
       " 7.1922063039481516e-11,\n",
       " 7.1922063039481477e-11,\n",
       " 7.1922063039481477e-11,\n",
       " 7.1922063039481477e-11,\n",
       " 7.1922063039481477e-11,\n",
       " 7.1922063039481477e-11,\n",
       " 7.1922063039481477e-11,\n",
       " 7.1922063039481477e-11,\n",
       " 7.1922063039481477e-11,\n",
       " 7.1922063039481477e-11,\n",
       " 7.1922063039481477e-11,\n",
       " 7.1922063039481477e-11,\n",
       " 7.1922063039481477e-11,\n",
       " 7.1922063039481477e-11,\n",
       " 7.1922063039481464e-11,\n",
       " 7.1922063039481464e-11,\n",
       " 7.1922063039481464e-11,\n",
       " 7.1922063039481438e-11,\n",
       " 7.1922063039481438e-11,\n",
       " 7.1922063039481438e-11,\n",
       " 7.1922063039479629e-11,\n",
       " 5.5512742540509846e-11,\n",
       " 5.3360823634383152e-11,\n",
       " 4.954026009050013e-11,\n",
       " 4.5962086862143267e-11,\n",
       " 4.3439497422570988e-11,\n",
       " 4.1972872218013159e-11,\n",
       " 3.5578390713562414e-11,\n",
       " 3.0974289126135167e-11,\n",
       " 2.4707851791614458e-11,\n",
       " 2.1529651281819541e-11,\n",
       " 1.7671506435478532e-11,\n",
       " 1.2040571983248407e-11,\n",
       " 5.5816917667977902e-12,\n",
       " 1.2169981071543371e-12,\n",
       " 9.6566613640069257e-13,\n",
       " 1.9646820905628229e-13,\n",
       " 4.6720013171030187e-14,\n",
       " 2.33846023228273e-38]"
      ]
     },
     "execution_count": 842,
     "metadata": {},
     "output_type": "execute_result"
    }
   ],
   "source": [
    "varianceExplained"
   ]
  },
  {
   "cell_type": "code",
   "execution_count": 843,
   "metadata": {
    "collapsed": false,
    "scrolled": false
   },
   "outputs": [
    {
     "data": {
      "text/plain": [
       "array([ 99.99035412,  99.99999969,  99.99999988,  99.99999994,\n",
       "        99.99999998,  99.99999999,  99.99999999,  99.99999999,\n",
       "        99.99999999, 100.        , 100.        , 100.        ,\n",
       "       100.        , 100.        , 100.        , 100.        ,\n",
       "       100.        , 100.        , 100.        , 100.        ,\n",
       "       100.        , 100.        , 100.        , 100.        ,\n",
       "       100.        , 100.        , 100.        , 100.        ,\n",
       "       100.        , 100.        , 100.        , 100.        ,\n",
       "       100.        , 100.        , 100.        , 100.        ,\n",
       "       100.        , 100.        , 100.        , 100.        ,\n",
       "       100.        , 100.        , 100.        , 100.        ,\n",
       "       100.        , 100.        , 100.        , 100.        ,\n",
       "       100.        , 100.        , 100.        , 100.        ,\n",
       "       100.        , 100.        , 100.        , 100.        ,\n",
       "       100.        , 100.        , 100.        , 100.        ,\n",
       "       100.        , 100.        , 100.        , 100.        ,\n",
       "       100.        , 100.        , 100.        , 100.        ,\n",
       "       100.        , 100.        , 100.        , 100.        ,\n",
       "       100.        , 100.        , 100.        , 100.        ,\n",
       "       100.        , 100.        , 100.        , 100.        ,\n",
       "       100.        , 100.        , 100.        , 100.        ,\n",
       "       100.        , 100.        , 100.        , 100.        ])"
      ]
     },
     "execution_count": 843,
     "metadata": {},
     "output_type": "execute_result"
    }
   ],
   "source": [
    "cumulativeVarianceexplained"
   ]
  },
  {
   "cell_type": "markdown",
   "metadata": {},
   "source": [
    "Frame varianceExplained and cumulativeVarianceExplained we can see that 99.99 percent of the variance is explained by one eigenvalue. We want some variance to be spread across other eigenvalues, so we can identify the effects of dimensions on flight cancellations. The dummy airport variables may have very little effect."
   ]
  },
  {
   "cell_type": "markdown",
   "metadata": {},
   "source": [
    "### Lets try the same thing with Standard Scaling"
   ]
  },
  {
   "cell_type": "code",
   "execution_count": 844,
   "metadata": {
    "collapsed": false,
    "focus": false,
    "id": "c2f083d5-edf1-4380-a245-13c77315daa7",
    "scrolled": true
   },
   "outputs": [
    {
     "data": {
      "text/html": [
       "<div>\n",
       "<table border=\"1\" class=\"dataframe\">\n",
       "  <thead>\n",
       "    <tr style=\"text-align: right;\">\n",
       "      <th></th>\n",
       "      <th>year</th>\n",
       "      <th>departures for metric computation</th>\n",
       "      <th>arrivals for metric computation</th>\n",
       "      <th>percent on-time gate departures</th>\n",
       "      <th>percent on-time airport departures</th>\n",
       "      <th>percent on-time gate arrivals</th>\n",
       "      <th>average_gate_departure_delay</th>\n",
       "      <th>average_taxi_out_time</th>\n",
       "      <th>average taxi out delay</th>\n",
       "      <th>average airport departure delay</th>\n",
       "      <th>...</th>\n",
       "      <th>airport_SFO</th>\n",
       "      <th>airport_SJC</th>\n",
       "      <th>airport_SJU</th>\n",
       "      <th>airport_SLC</th>\n",
       "      <th>airport_SMF</th>\n",
       "      <th>airport_SNA</th>\n",
       "      <th>airport_STL</th>\n",
       "      <th>airport_SWF</th>\n",
       "      <th>airport_TPA</th>\n",
       "      <th>airport_TUS</th>\n",
       "    </tr>\n",
       "  </thead>\n",
       "  <tbody>\n",
       "    <tr>\n",
       "      <th>0</th>\n",
       "      <td>2.558976</td>\n",
       "      <td>-0.138574</td>\n",
       "      <td>-0.236248</td>\n",
       "      <td>-0.224405</td>\n",
       "      <td>-0.242590</td>\n",
       "      <td>0.198879</td>\n",
       "      <td>-1.459025</td>\n",
       "      <td>-0.176045</td>\n",
       "      <td>-1.357238</td>\n",
       "      <td>0.219374</td>\n",
       "      <td>...</td>\n",
       "      <td>-0.031757</td>\n",
       "      <td>0.073803</td>\n",
       "      <td>0.064583</td>\n",
       "      <td>-0.029618</td>\n",
       "      <td>0.009556</td>\n",
       "      <td>-0.050062</td>\n",
       "      <td>-0.010719</td>\n",
       "      <td>0.031347</td>\n",
       "      <td>-0.002511</td>\n",
       "      <td>9.531575e-16</td>\n",
       "    </tr>\n",
       "    <tr>\n",
       "      <th>1</th>\n",
       "      <td>3.010396</td>\n",
       "      <td>0.098281</td>\n",
       "      <td>-0.143537</td>\n",
       "      <td>-0.280649</td>\n",
       "      <td>-0.054926</td>\n",
       "      <td>0.199138</td>\n",
       "      <td>-1.382507</td>\n",
       "      <td>-0.203433</td>\n",
       "      <td>-1.235267</td>\n",
       "      <td>0.128743</td>\n",
       "      <td>...</td>\n",
       "      <td>-0.007957</td>\n",
       "      <td>0.045635</td>\n",
       "      <td>-0.028351</td>\n",
       "      <td>-0.023695</td>\n",
       "      <td>0.017146</td>\n",
       "      <td>-0.050291</td>\n",
       "      <td>-0.001016</td>\n",
       "      <td>0.031415</td>\n",
       "      <td>-0.001095</td>\n",
       "      <td>1.429035e-14</td>\n",
       "    </tr>\n",
       "    <tr>\n",
       "      <th>2</th>\n",
       "      <td>2.410114</td>\n",
       "      <td>-0.487076</td>\n",
       "      <td>0.023867</td>\n",
       "      <td>-0.114580</td>\n",
       "      <td>0.079128</td>\n",
       "      <td>0.212893</td>\n",
       "      <td>-1.260966</td>\n",
       "      <td>-0.179098</td>\n",
       "      <td>-1.119911</td>\n",
       "      <td>0.029757</td>\n",
       "      <td>...</td>\n",
       "      <td>0.197215</td>\n",
       "      <td>0.055606</td>\n",
       "      <td>-0.012920</td>\n",
       "      <td>-0.006648</td>\n",
       "      <td>-0.003542</td>\n",
       "      <td>-0.024286</td>\n",
       "      <td>0.022466</td>\n",
       "      <td>0.016447</td>\n",
       "      <td>0.010572</td>\n",
       "      <td>-5.719606e-15</td>\n",
       "    </tr>\n",
       "    <tr>\n",
       "      <th>3</th>\n",
       "      <td>1.888773</td>\n",
       "      <td>-0.459735</td>\n",
       "      <td>0.054660</td>\n",
       "      <td>0.092139</td>\n",
       "      <td>0.229733</td>\n",
       "      <td>0.202005</td>\n",
       "      <td>-1.161824</td>\n",
       "      <td>-0.299666</td>\n",
       "      <td>-1.012529</td>\n",
       "      <td>-0.077446</td>\n",
       "      <td>...</td>\n",
       "      <td>0.226854</td>\n",
       "      <td>0.009447</td>\n",
       "      <td>0.068300</td>\n",
       "      <td>-0.051998</td>\n",
       "      <td>-0.016803</td>\n",
       "      <td>-0.015503</td>\n",
       "      <td>0.047927</td>\n",
       "      <td>-0.005671</td>\n",
       "      <td>0.004349</td>\n",
       "      <td>-1.747577e-15</td>\n",
       "    </tr>\n",
       "    <tr>\n",
       "      <th>4</th>\n",
       "      <td>2.532461</td>\n",
       "      <td>-0.222875</td>\n",
       "      <td>0.145634</td>\n",
       "      <td>-0.099429</td>\n",
       "      <td>0.454834</td>\n",
       "      <td>0.129949</td>\n",
       "      <td>-1.009218</td>\n",
       "      <td>-0.236410</td>\n",
       "      <td>-0.921815</td>\n",
       "      <td>-0.169922</td>\n",
       "      <td>...</td>\n",
       "      <td>0.116325</td>\n",
       "      <td>0.079064</td>\n",
       "      <td>0.194088</td>\n",
       "      <td>-0.046852</td>\n",
       "      <td>-0.026748</td>\n",
       "      <td>-0.016120</td>\n",
       "      <td>0.003668</td>\n",
       "      <td>-0.013320</td>\n",
       "      <td>-0.000138</td>\n",
       "      <td>3.819945e-15</td>\n",
       "    </tr>\n",
       "  </tbody>\n",
       "</table>\n",
       "<p>5 rows × 88 columns</p>\n",
       "</div>"
      ],
      "text/plain": [
       "       year  departures for metric computation  \\\n",
       "0  2.558976                          -0.138574   \n",
       "1  3.010396                           0.098281   \n",
       "2  2.410114                          -0.487076   \n",
       "3  1.888773                          -0.459735   \n",
       "4  2.532461                          -0.222875   \n",
       "\n",
       "   arrivals for metric computation  percent on-time gate departures  \\\n",
       "0                        -0.236248                        -0.224405   \n",
       "1                        -0.143537                        -0.280649   \n",
       "2                         0.023867                        -0.114580   \n",
       "3                         0.054660                         0.092139   \n",
       "4                         0.145634                        -0.099429   \n",
       "\n",
       "   percent on-time airport departures  percent on-time gate arrivals  \\\n",
       "0                           -0.242590                       0.198879   \n",
       "1                           -0.054926                       0.199138   \n",
       "2                            0.079128                       0.212893   \n",
       "3                            0.229733                       0.202005   \n",
       "4                            0.454834                       0.129949   \n",
       "\n",
       "   average_gate_departure_delay  average_taxi_out_time  \\\n",
       "0                     -1.459025              -0.176045   \n",
       "1                     -1.382507              -0.203433   \n",
       "2                     -1.260966              -0.179098   \n",
       "3                     -1.161824              -0.299666   \n",
       "4                     -1.009218              -0.236410   \n",
       "\n",
       "   average taxi out delay  average airport departure delay      ...       \\\n",
       "0               -1.357238                         0.219374      ...        \n",
       "1               -1.235267                         0.128743      ...        \n",
       "2               -1.119911                         0.029757      ...        \n",
       "3               -1.012529                        -0.077446      ...        \n",
       "4               -0.921815                        -0.169922      ...        \n",
       "\n",
       "   airport_SFO  airport_SJC  airport_SJU  airport_SLC  airport_SMF  \\\n",
       "0    -0.031757     0.073803     0.064583    -0.029618     0.009556   \n",
       "1    -0.007957     0.045635    -0.028351    -0.023695     0.017146   \n",
       "2     0.197215     0.055606    -0.012920    -0.006648    -0.003542   \n",
       "3     0.226854     0.009447     0.068300    -0.051998    -0.016803   \n",
       "4     0.116325     0.079064     0.194088    -0.046852    -0.026748   \n",
       "\n",
       "   airport_SNA  airport_STL  airport_SWF  airport_TPA   airport_TUS  \n",
       "0    -0.050062    -0.010719     0.031347    -0.002511  9.531575e-16  \n",
       "1    -0.050291    -0.001016     0.031415    -0.001095  1.429035e-14  \n",
       "2    -0.024286     0.022466     0.016447     0.010572 -5.719606e-15  \n",
       "3    -0.015503     0.047927    -0.005671     0.004349 -1.747577e-15  \n",
       "4    -0.016120     0.003668    -0.013320    -0.000138  3.819945e-15  \n",
       "\n",
       "[5 rows x 88 columns]"
      ]
     },
     "execution_count": 844,
     "metadata": {},
     "output_type": "execute_result"
    }
   ],
   "source": [
    "dummyColumns = dataWithDummies.columns\n",
    "\n",
    "pca = PCA()\n",
    "ss = StandardScaler()\n",
    "\n",
    "pipe = Pipeline([('ss', ss),('pca', pca)])\n",
    "\n",
    "tmp = np.array(dataWithDummies)\n",
    "dataScaled = pipe.fit_transform(tmp)\n",
    "dataScaled = pd.DataFrame(dataScaled,columns=dummyColumns)\n",
    "dataScaled.head()"
   ]
  },
  {
   "cell_type": "markdown",
   "metadata": {},
   "source": [
    "The numbers are above are more relative to each other, but we still see that year is large, and airports comparatively small"
   ]
  },
  {
   "cell_type": "code",
   "execution_count": 845,
   "metadata": {
    "collapsed": false
   },
   "outputs": [],
   "source": [
    "sumExplainedVariance = sum(pca.explained_variance_)\n",
    "varianceExplained = [(i / sumExplainedVariance)*100 for i in sorted(pca.explained_variance_, reverse=True)]\n",
    "cumulativeVarianceexplained = np.cumsum(varianceExplained)"
   ]
  },
  {
   "cell_type": "code",
   "execution_count": 846,
   "metadata": {
    "collapsed": false
   },
   "outputs": [
    {
     "data": {
      "text/plain": [
       "[9.1793104159790371,\n",
       " 4.5826748168191793,\n",
       " 2.1218636620993561,\n",
       " 1.7123176337040837,\n",
       " 1.5695533451728261,\n",
       " 1.3231181225323163,\n",
       " 1.2753729294229348,\n",
       " 1.2512200550374795,\n",
       " 1.2087328176470435,\n",
       " 1.1938048450585947,\n",
       " 1.1606381007803546,\n",
       " 1.1540373444346652,\n",
       " 1.1524899430356821,\n",
       " 1.1523002451517879,\n",
       " 1.1522265805260756,\n",
       " 1.1522265805260747,\n",
       " 1.1522265805260743,\n",
       " 1.1522265805260743,\n",
       " 1.1522265805260734,\n",
       " 1.1522265805260734,\n",
       " 1.1522265805260734,\n",
       " 1.1522265805260734,\n",
       " 1.1522265805260734,\n",
       " 1.1522265805260734,\n",
       " 1.1522265805260734,\n",
       " 1.1522265805260734,\n",
       " 1.1522265805260734,\n",
       " 1.1522265805260734,\n",
       " 1.1522265805260734,\n",
       " 1.1522265805260734,\n",
       " 1.1522265805260734,\n",
       " 1.1522265805260734,\n",
       " 1.1522265805260734,\n",
       " 1.1522265805260734,\n",
       " 1.1522265805260734,\n",
       " 1.1522265805260734,\n",
       " 1.1522265805260734,\n",
       " 1.1522265805260734,\n",
       " 1.1522265805260734,\n",
       " 1.1522265805260734,\n",
       " 1.1522265805260727,\n",
       " 1.1522265805260727,\n",
       " 1.1522265805260727,\n",
       " 1.1522265805260727,\n",
       " 1.1522265805260727,\n",
       " 1.1522265805260727,\n",
       " 1.1522265805260727,\n",
       " 1.1522265805260727,\n",
       " 1.1522265805260727,\n",
       " 1.1522265805260727,\n",
       " 1.1522265805260727,\n",
       " 1.1522265805260727,\n",
       " 1.1522265805260727,\n",
       " 1.1522265805260727,\n",
       " 1.1522265805260727,\n",
       " 1.1522265805260727,\n",
       " 1.1522265805260727,\n",
       " 1.1522265805260727,\n",
       " 1.1522265805260727,\n",
       " 1.1522265805260727,\n",
       " 1.1522265805260727,\n",
       " 1.1522265805260727,\n",
       " 1.1522265805260723,\n",
       " 1.1522265805260723,\n",
       " 1.1522265805260723,\n",
       " 1.1522265805260723,\n",
       " 1.1522265805260716,\n",
       " 1.1522265805260716,\n",
       " 1.1522265805260712,\n",
       " 1.1522265805260701,\n",
       " 1.1480976512143211,\n",
       " 1.1472517492339962,\n",
       " 1.1456973483296451,\n",
       " 1.0893085708732468,\n",
       " 0.31147882633758212,\n",
       " 0.17591325163773319,\n",
       " 0.14146888192470897,\n",
       " 0.09008195898396025,\n",
       " 0.075355678269310583,\n",
       " 0.045609662563675005,\n",
       " 0.030184403661156281,\n",
       " 0.013859825280327004,\n",
       " 0.01239699094723053,\n",
       " 0.0075780490692062379,\n",
       " 0.0027745472661082041,\n",
       " 0.00070420117543541739,\n",
       " 0.00011561689692327014,\n",
       " 1.8102997810134714e-30]"
      ]
     },
     "execution_count": 846,
     "metadata": {},
     "output_type": "execute_result"
    }
   ],
   "source": [
    "varianceExplained"
   ]
  },
  {
   "cell_type": "code",
   "execution_count": 847,
   "metadata": {
    "collapsed": false,
    "scrolled": false
   },
   "outputs": [
    {
     "data": {
      "text/plain": [
       "array([   9.17931042,   13.76198523,   15.88384889,   17.59616653,\n",
       "         19.16571987,   20.488838  ,   21.76421093,   23.01543098,\n",
       "         24.2241638 ,   25.41796864,   26.57860674,   27.73264409,\n",
       "         28.88513403,   30.03743428,   31.18966086,   32.34188744,\n",
       "         33.49411402,   34.6463406 ,   35.79856718,   36.95079376,\n",
       "         38.10302034,   39.25524692,   40.4074735 ,   41.55970008,\n",
       "         42.71192666,   43.86415324,   45.01637982,   46.1686064 ,\n",
       "         47.32083298,   48.47305957,   49.62528615,   50.77751273,\n",
       "         51.92973931,   53.08196589,   54.23419247,   55.38641905,\n",
       "         56.53864563,   57.69087221,   58.84309879,   59.99532537,\n",
       "         61.14755195,   62.29977853,   63.45200511,   64.60423169,\n",
       "         65.75645827,   66.90868485,   68.06091143,   69.21313801,\n",
       "         70.3653646 ,   71.51759118,   72.66981776,   73.82204434,\n",
       "         74.97427092,   76.1264975 ,   77.27872408,   78.43095066,\n",
       "         79.58317724,   80.73540382,   81.8876304 ,   83.03985698,\n",
       "         84.19208356,   85.34431014,   86.49653672,   87.6487633 ,\n",
       "         88.80098988,   89.95321646,   91.10544304,   92.25766963,\n",
       "         93.40989621,   94.56212279,   95.71022044,   96.85747219,\n",
       "         98.00316954,   99.09247811,   99.40395693,   99.57987018,\n",
       "         99.72133907,   99.81142102,   99.8867767 ,   99.93238637,\n",
       "         99.96257077,   99.97643059,   99.98882759,   99.99640563,\n",
       "         99.99918018,   99.99988438,  100.        ,  100.        ])"
      ]
     },
     "execution_count": 847,
     "metadata": {},
     "output_type": "execute_result"
    }
   ],
   "source": [
    "cumulativeVarianceexplained"
   ]
  },
  {
   "cell_type": "markdown",
   "metadata": {},
   "source": [
    "This is a dramatic change from our previous explained variances. Year still provides the most significant explained variance at 9, and the rest of the fields contribute more significant portions. We will remove the airport dummy variables, year, and some summary metrics that dont tell us about what operation contribute to cancellations"
   ]
  },
  {
   "cell_type": "markdown",
   "metadata": {},
   "source": [
    "### Manual Reduction of Dimensions "
   ]
  },
  {
   "cell_type": "code",
   "execution_count": 848,
   "metadata": {
    "collapsed": false
   },
   "outputs": [
    {
     "data": {
      "text/html": [
       "<div>\n",
       "<table border=\"1\" class=\"dataframe\">\n",
       "  <thead>\n",
       "    <tr style=\"text-align: right;\">\n",
       "      <th></th>\n",
       "      <th>average_taxi_out_time</th>\n",
       "      <th>average taxi out delay</th>\n",
       "      <th>average airport departure delay</th>\n",
       "      <th>average airborne delay</th>\n",
       "      <th>average taxi in delay</th>\n",
       "      <th>average block delay</th>\n",
       "      <th>average gate arrival delay</th>\n",
       "    </tr>\n",
       "  </thead>\n",
       "  <tbody>\n",
       "    <tr>\n",
       "      <th>0</th>\n",
       "      <td>9.89</td>\n",
       "      <td>2.43</td>\n",
       "      <td>12.10</td>\n",
       "      <td>2.46</td>\n",
       "      <td>0.83</td>\n",
       "      <td>2.55</td>\n",
       "      <td>10.87</td>\n",
       "    </tr>\n",
       "    <tr>\n",
       "      <th>1</th>\n",
       "      <td>9.79</td>\n",
       "      <td>2.29</td>\n",
       "      <td>11.20</td>\n",
       "      <td>2.26</td>\n",
       "      <td>0.89</td>\n",
       "      <td>2.34</td>\n",
       "      <td>10.24</td>\n",
       "    </tr>\n",
       "    <tr>\n",
       "      <th>2</th>\n",
       "      <td>9.89</td>\n",
       "      <td>2.16</td>\n",
       "      <td>12.33</td>\n",
       "      <td>2.12</td>\n",
       "      <td>0.84</td>\n",
       "      <td>2.66</td>\n",
       "      <td>11.82</td>\n",
       "    </tr>\n",
       "    <tr>\n",
       "      <th>3</th>\n",
       "      <td>10.34</td>\n",
       "      <td>2.40</td>\n",
       "      <td>12.95</td>\n",
       "      <td>2.19</td>\n",
       "      <td>1.29</td>\n",
       "      <td>3.06</td>\n",
       "      <td>12.71</td>\n",
       "    </tr>\n",
       "    <tr>\n",
       "      <th>4</th>\n",
       "      <td>10.41</td>\n",
       "      <td>2.41</td>\n",
       "      <td>12.32</td>\n",
       "      <td>1.82</td>\n",
       "      <td>1.03</td>\n",
       "      <td>2.79</td>\n",
       "      <td>11.48</td>\n",
       "    </tr>\n",
       "  </tbody>\n",
       "</table>\n",
       "</div>"
      ],
      "text/plain": [
       "   average_taxi_out_time  average taxi out delay  \\\n",
       "0                   9.89                    2.43   \n",
       "1                   9.79                    2.29   \n",
       "2                   9.89                    2.16   \n",
       "3                  10.34                    2.40   \n",
       "4                  10.41                    2.41   \n",
       "\n",
       "   average airport departure delay  average airborne delay  \\\n",
       "0                            12.10                    2.46   \n",
       "1                            11.20                    2.26   \n",
       "2                            12.33                    2.12   \n",
       "3                            12.95                    2.19   \n",
       "4                            12.32                    1.82   \n",
       "\n",
       "   average taxi in delay  average block delay  average gate arrival delay  \n",
       "0                   0.83                 2.55                       10.87  \n",
       "1                   0.89                 2.34                       10.24  \n",
       "2                   0.84                 2.66                       11.82  \n",
       "3                   1.29                 3.06                       12.71  \n",
       "4                   1.03                 2.79                       11.48  "
      ]
     },
     "execution_count": 848,
     "metadata": {},
     "output_type": "execute_result"
    }
   ],
   "source": [
    "dataSubset = data.iloc[:,7:]\n",
    "dataSubset.head()"
   ]
  },
  {
   "cell_type": "code",
   "execution_count": 849,
   "metadata": {
    "collapsed": false
   },
   "outputs": [
    {
     "data": {
      "text/html": [
       "<div>\n",
       "<table border=\"1\" class=\"dataframe\">\n",
       "  <thead>\n",
       "    <tr style=\"text-align: right;\">\n",
       "      <th></th>\n",
       "      <th>average_taxi_out_time</th>\n",
       "      <th>average taxi out delay</th>\n",
       "      <th>average airport departure delay</th>\n",
       "      <th>average airborne delay</th>\n",
       "      <th>average taxi in delay</th>\n",
       "      <th>average block delay</th>\n",
       "      <th>average gate arrival delay</th>\n",
       "    </tr>\n",
       "  </thead>\n",
       "  <tbody>\n",
       "    <tr>\n",
       "      <th>0</th>\n",
       "      <td>-1.898111</td>\n",
       "      <td>-0.109540</td>\n",
       "      <td>0.314515</td>\n",
       "      <td>-0.009415</td>\n",
       "      <td>-0.107235</td>\n",
       "      <td>0.287551</td>\n",
       "      <td>0.215349</td>\n",
       "    </tr>\n",
       "    <tr>\n",
       "      <th>1</th>\n",
       "      <td>-2.198705</td>\n",
       "      <td>-0.348177</td>\n",
       "      <td>0.214677</td>\n",
       "      <td>-0.061941</td>\n",
       "      <td>-0.103867</td>\n",
       "      <td>0.233349</td>\n",
       "      <td>0.252064</td>\n",
       "    </tr>\n",
       "    <tr>\n",
       "      <th>2</th>\n",
       "      <td>-1.880518</td>\n",
       "      <td>0.166867</td>\n",
       "      <td>-0.009625</td>\n",
       "      <td>0.017524</td>\n",
       "      <td>-0.033136</td>\n",
       "      <td>0.182616</td>\n",
       "      <td>0.225297</td>\n",
       "    </tr>\n",
       "    <tr>\n",
       "      <th>3</th>\n",
       "      <td>-1.293260</td>\n",
       "      <td>0.153883</td>\n",
       "      <td>-0.334754</td>\n",
       "      <td>0.285768</td>\n",
       "      <td>-0.228553</td>\n",
       "      <td>0.139093</td>\n",
       "      <td>0.273822</td>\n",
       "    </tr>\n",
       "    <tr>\n",
       "      <th>4</th>\n",
       "      <td>-1.779271</td>\n",
       "      <td>-0.043184</td>\n",
       "      <td>-0.313747</td>\n",
       "      <td>0.097101</td>\n",
       "      <td>0.096770</td>\n",
       "      <td>0.229006</td>\n",
       "      <td>0.185914</td>\n",
       "    </tr>\n",
       "  </tbody>\n",
       "</table>\n",
       "</div>"
      ],
      "text/plain": [
       "   average_taxi_out_time  average taxi out delay  \\\n",
       "0              -1.898111               -0.109540   \n",
       "1              -2.198705               -0.348177   \n",
       "2              -1.880518                0.166867   \n",
       "3              -1.293260                0.153883   \n",
       "4              -1.779271               -0.043184   \n",
       "\n",
       "   average airport departure delay  average airborne delay  \\\n",
       "0                         0.314515               -0.009415   \n",
       "1                         0.214677               -0.061941   \n",
       "2                        -0.009625                0.017524   \n",
       "3                        -0.334754                0.285768   \n",
       "4                        -0.313747                0.097101   \n",
       "\n",
       "   average taxi in delay  average block delay  average gate arrival delay  \n",
       "0              -0.107235             0.287551                    0.215349  \n",
       "1              -0.103867             0.233349                    0.252064  \n",
       "2              -0.033136             0.182616                    0.225297  \n",
       "3              -0.228553             0.139093                    0.273822  \n",
       "4               0.096770             0.229006                    0.185914  "
      ]
     },
     "execution_count": 849,
     "metadata": {},
     "output_type": "execute_result"
    }
   ],
   "source": [
    "dummyColumns = dataSubset.columns\n",
    "\n",
    "pca = PCA()\n",
    "ss = StandardScaler()\n",
    "\n",
    "pipe = Pipeline([('ss', ss),('pca', pca)])\n",
    "\n",
    "tmp = np.array(dataSubset)\n",
    "dataReduced = pipe.fit_transform(tmp)\n",
    "dataReduced = pd.DataFrame(dataReduced,columns=dummyColumns)\n",
    "dataReduced.head()"
   ]
  },
  {
   "cell_type": "code",
   "execution_count": 850,
   "metadata": {
    "collapsed": false
   },
   "outputs": [],
   "source": [
    "sumExplainedVariance = sum(pca.explained_variance_)\n",
    "varianceExplained = [(i / sumExplainedVariance)*100 for i in sorted(pca.explained_variance_, reverse=True)]\n",
    "cumulativeVarianceexplained = np.cumsum(varianceExplained)"
   ]
  },
  {
   "cell_type": "code",
   "execution_count": 851,
   "metadata": {
    "collapsed": false
   },
   "outputs": [
    {
     "data": {
      "text/plain": [
       "[64.559131590159708,\n",
       " 13.733913274574883,\n",
       " 9.0431398653155597,\n",
       " 6.6200959274033382,\n",
       " 4.0089750291073418,\n",
       " 1.1124563534676228,\n",
       " 0.92228795997155633]"
      ]
     },
     "execution_count": 851,
     "metadata": {},
     "output_type": "execute_result"
    }
   ],
   "source": [
    "varianceExplained"
   ]
  },
  {
   "cell_type": "code",
   "execution_count": 852,
   "metadata": {
    "collapsed": false,
    "scrolled": true
   },
   "outputs": [
    {
     "data": {
      "text/plain": [
       "array([  64.55913159,   78.29304486,   87.33618473,   93.95628066,\n",
       "         97.96525569,   99.07771204,  100.        ])"
      ]
     },
     "execution_count": 852,
     "metadata": {},
     "output_type": "execute_result"
    }
   ],
   "source": [
    "cumulativeVarianceexplained"
   ]
  },
  {
   "cell_type": "markdown",
   "metadata": {},
   "source": [
    "### Maximum Likelyhood Estimation"
   ]
  },
  {
   "cell_type": "code",
   "execution_count": 853,
   "metadata": {
    "collapsed": false
   },
   "outputs": [
    {
     "data": {
      "text/html": [
       "<div>\n",
       "<table border=\"1\" class=\"dataframe\">\n",
       "  <thead>\n",
       "    <tr style=\"text-align: right;\">\n",
       "      <th></th>\n",
       "      <th>year</th>\n",
       "      <th>year</th>\n",
       "    </tr>\n",
       "  </thead>\n",
       "  <tbody>\n",
       "    <tr>\n",
       "      <th>0</th>\n",
       "      <td>2004.0</td>\n",
       "      <td>2004</td>\n",
       "    </tr>\n",
       "    <tr>\n",
       "      <th>1</th>\n",
       "      <td>2004.0</td>\n",
       "      <td>2005</td>\n",
       "    </tr>\n",
       "    <tr>\n",
       "      <th>2</th>\n",
       "      <td>2004.0</td>\n",
       "      <td>2006</td>\n",
       "    </tr>\n",
       "    <tr>\n",
       "      <th>3</th>\n",
       "      <td>2004.0</td>\n",
       "      <td>2007</td>\n",
       "    </tr>\n",
       "    <tr>\n",
       "      <th>4</th>\n",
       "      <td>2004.0</td>\n",
       "      <td>2008</td>\n",
       "    </tr>\n",
       "    <tr>\n",
       "      <th>5</th>\n",
       "      <td>2004.0</td>\n",
       "      <td>2009</td>\n",
       "    </tr>\n",
       "    <tr>\n",
       "      <th>6</th>\n",
       "      <td>2004.0</td>\n",
       "      <td>2010</td>\n",
       "    </tr>\n",
       "    <tr>\n",
       "      <th>7</th>\n",
       "      <td>2004.0</td>\n",
       "      <td>2011</td>\n",
       "    </tr>\n",
       "    <tr>\n",
       "      <th>8</th>\n",
       "      <td>2004.0</td>\n",
       "      <td>2012</td>\n",
       "    </tr>\n",
       "    <tr>\n",
       "      <th>9</th>\n",
       "      <td>2004.0</td>\n",
       "      <td>2013</td>\n",
       "    </tr>\n",
       "    <tr>\n",
       "      <th>10</th>\n",
       "      <td>2004.0</td>\n",
       "      <td>2014</td>\n",
       "    </tr>\n",
       "    <tr>\n",
       "      <th>11</th>\n",
       "      <td>2005.0</td>\n",
       "      <td>2004</td>\n",
       "    </tr>\n",
       "    <tr>\n",
       "      <th>12</th>\n",
       "      <td>2005.0</td>\n",
       "      <td>2005</td>\n",
       "    </tr>\n",
       "    <tr>\n",
       "      <th>13</th>\n",
       "      <td>2005.0</td>\n",
       "      <td>2006</td>\n",
       "    </tr>\n",
       "    <tr>\n",
       "      <th>14</th>\n",
       "      <td>2005.0</td>\n",
       "      <td>2007</td>\n",
       "    </tr>\n",
       "    <tr>\n",
       "      <th>15</th>\n",
       "      <td>2005.0</td>\n",
       "      <td>2008</td>\n",
       "    </tr>\n",
       "    <tr>\n",
       "      <th>16</th>\n",
       "      <td>2005.0</td>\n",
       "      <td>2009</td>\n",
       "    </tr>\n",
       "    <tr>\n",
       "      <th>17</th>\n",
       "      <td>2005.0</td>\n",
       "      <td>2010</td>\n",
       "    </tr>\n",
       "    <tr>\n",
       "      <th>18</th>\n",
       "      <td>2005.0</td>\n",
       "      <td>2011</td>\n",
       "    </tr>\n",
       "    <tr>\n",
       "      <th>19</th>\n",
       "      <td>2005.0</td>\n",
       "      <td>2012</td>\n",
       "    </tr>\n",
       "    <tr>\n",
       "      <th>20</th>\n",
       "      <td>2005.0</td>\n",
       "      <td>2013</td>\n",
       "    </tr>\n",
       "    <tr>\n",
       "      <th>21</th>\n",
       "      <td>2005.0</td>\n",
       "      <td>2014</td>\n",
       "    </tr>\n",
       "    <tr>\n",
       "      <th>22</th>\n",
       "      <td>2006.0</td>\n",
       "      <td>2004</td>\n",
       "    </tr>\n",
       "    <tr>\n",
       "      <th>23</th>\n",
       "      <td>2006.0</td>\n",
       "      <td>2005</td>\n",
       "    </tr>\n",
       "    <tr>\n",
       "      <th>24</th>\n",
       "      <td>2006.0</td>\n",
       "      <td>2006</td>\n",
       "    </tr>\n",
       "    <tr>\n",
       "      <th>25</th>\n",
       "      <td>2006.0</td>\n",
       "      <td>2007</td>\n",
       "    </tr>\n",
       "    <tr>\n",
       "      <th>26</th>\n",
       "      <td>2006.0</td>\n",
       "      <td>2008</td>\n",
       "    </tr>\n",
       "    <tr>\n",
       "      <th>27</th>\n",
       "      <td>2006.0</td>\n",
       "      <td>2009</td>\n",
       "    </tr>\n",
       "    <tr>\n",
       "      <th>28</th>\n",
       "      <td>2006.0</td>\n",
       "      <td>2010</td>\n",
       "    </tr>\n",
       "    <tr>\n",
       "      <th>29</th>\n",
       "      <td>2006.0</td>\n",
       "      <td>2011</td>\n",
       "    </tr>\n",
       "    <tr>\n",
       "      <th>...</th>\n",
       "      <td>...</td>\n",
       "      <td>...</td>\n",
       "    </tr>\n",
       "    <tr>\n",
       "      <th>8759</th>\n",
       "      <td>2012.0</td>\n",
       "      <td>2007</td>\n",
       "    </tr>\n",
       "    <tr>\n",
       "      <th>8760</th>\n",
       "      <td>2012.0</td>\n",
       "      <td>2008</td>\n",
       "    </tr>\n",
       "    <tr>\n",
       "      <th>8761</th>\n",
       "      <td>2012.0</td>\n",
       "      <td>2009</td>\n",
       "    </tr>\n",
       "    <tr>\n",
       "      <th>8762</th>\n",
       "      <td>2012.0</td>\n",
       "      <td>2010</td>\n",
       "    </tr>\n",
       "    <tr>\n",
       "      <th>8763</th>\n",
       "      <td>2012.0</td>\n",
       "      <td>2011</td>\n",
       "    </tr>\n",
       "    <tr>\n",
       "      <th>8764</th>\n",
       "      <td>2012.0</td>\n",
       "      <td>2012</td>\n",
       "    </tr>\n",
       "    <tr>\n",
       "      <th>8765</th>\n",
       "      <td>2012.0</td>\n",
       "      <td>2013</td>\n",
       "    </tr>\n",
       "    <tr>\n",
       "      <th>8766</th>\n",
       "      <td>2012.0</td>\n",
       "      <td>2014</td>\n",
       "    </tr>\n",
       "    <tr>\n",
       "      <th>8767</th>\n",
       "      <td>2013.0</td>\n",
       "      <td>2004</td>\n",
       "    </tr>\n",
       "    <tr>\n",
       "      <th>8768</th>\n",
       "      <td>2013.0</td>\n",
       "      <td>2005</td>\n",
       "    </tr>\n",
       "    <tr>\n",
       "      <th>8769</th>\n",
       "      <td>2013.0</td>\n",
       "      <td>2006</td>\n",
       "    </tr>\n",
       "    <tr>\n",
       "      <th>8770</th>\n",
       "      <td>2013.0</td>\n",
       "      <td>2007</td>\n",
       "    </tr>\n",
       "    <tr>\n",
       "      <th>8771</th>\n",
       "      <td>2013.0</td>\n",
       "      <td>2008</td>\n",
       "    </tr>\n",
       "    <tr>\n",
       "      <th>8772</th>\n",
       "      <td>2013.0</td>\n",
       "      <td>2009</td>\n",
       "    </tr>\n",
       "    <tr>\n",
       "      <th>8773</th>\n",
       "      <td>2013.0</td>\n",
       "      <td>2010</td>\n",
       "    </tr>\n",
       "    <tr>\n",
       "      <th>8774</th>\n",
       "      <td>2013.0</td>\n",
       "      <td>2011</td>\n",
       "    </tr>\n",
       "    <tr>\n",
       "      <th>8775</th>\n",
       "      <td>2013.0</td>\n",
       "      <td>2012</td>\n",
       "    </tr>\n",
       "    <tr>\n",
       "      <th>8776</th>\n",
       "      <td>2013.0</td>\n",
       "      <td>2013</td>\n",
       "    </tr>\n",
       "    <tr>\n",
       "      <th>8777</th>\n",
       "      <td>2013.0</td>\n",
       "      <td>2014</td>\n",
       "    </tr>\n",
       "    <tr>\n",
       "      <th>8778</th>\n",
       "      <td>2014.0</td>\n",
       "      <td>2004</td>\n",
       "    </tr>\n",
       "    <tr>\n",
       "      <th>8779</th>\n",
       "      <td>2014.0</td>\n",
       "      <td>2005</td>\n",
       "    </tr>\n",
       "    <tr>\n",
       "      <th>8780</th>\n",
       "      <td>2014.0</td>\n",
       "      <td>2006</td>\n",
       "    </tr>\n",
       "    <tr>\n",
       "      <th>8781</th>\n",
       "      <td>2014.0</td>\n",
       "      <td>2007</td>\n",
       "    </tr>\n",
       "    <tr>\n",
       "      <th>8782</th>\n",
       "      <td>2014.0</td>\n",
       "      <td>2008</td>\n",
       "    </tr>\n",
       "    <tr>\n",
       "      <th>8783</th>\n",
       "      <td>2014.0</td>\n",
       "      <td>2009</td>\n",
       "    </tr>\n",
       "    <tr>\n",
       "      <th>8784</th>\n",
       "      <td>2014.0</td>\n",
       "      <td>2010</td>\n",
       "    </tr>\n",
       "    <tr>\n",
       "      <th>8785</th>\n",
       "      <td>2014.0</td>\n",
       "      <td>2011</td>\n",
       "    </tr>\n",
       "    <tr>\n",
       "      <th>8786</th>\n",
       "      <td>2014.0</td>\n",
       "      <td>2012</td>\n",
       "    </tr>\n",
       "    <tr>\n",
       "      <th>8787</th>\n",
       "      <td>2014.0</td>\n",
       "      <td>2013</td>\n",
       "    </tr>\n",
       "    <tr>\n",
       "      <th>8788</th>\n",
       "      <td>2014.0</td>\n",
       "      <td>2014</td>\n",
       "    </tr>\n",
       "  </tbody>\n",
       "</table>\n",
       "<p>8789 rows × 2 columns</p>\n",
       "</div>"
      ],
      "text/plain": [
       "        year  year\n",
       "0     2004.0  2004\n",
       "1     2004.0  2005\n",
       "2     2004.0  2006\n",
       "3     2004.0  2007\n",
       "4     2004.0  2008\n",
       "5     2004.0  2009\n",
       "6     2004.0  2010\n",
       "7     2004.0  2011\n",
       "8     2004.0  2012\n",
       "9     2004.0  2013\n",
       "10    2004.0  2014\n",
       "11    2005.0  2004\n",
       "12    2005.0  2005\n",
       "13    2005.0  2006\n",
       "14    2005.0  2007\n",
       "15    2005.0  2008\n",
       "16    2005.0  2009\n",
       "17    2005.0  2010\n",
       "18    2005.0  2011\n",
       "19    2005.0  2012\n",
       "20    2005.0  2013\n",
       "21    2005.0  2014\n",
       "22    2006.0  2004\n",
       "23    2006.0  2005\n",
       "24    2006.0  2006\n",
       "25    2006.0  2007\n",
       "26    2006.0  2008\n",
       "27    2006.0  2009\n",
       "28    2006.0  2010\n",
       "29    2006.0  2011\n",
       "...      ...   ...\n",
       "8759  2012.0  2007\n",
       "8760  2012.0  2008\n",
       "8761  2012.0  2009\n",
       "8762  2012.0  2010\n",
       "8763  2012.0  2011\n",
       "8764  2012.0  2012\n",
       "8765  2012.0  2013\n",
       "8766  2012.0  2014\n",
       "8767  2013.0  2004\n",
       "8768  2013.0  2005\n",
       "8769  2013.0  2006\n",
       "8770  2013.0  2007\n",
       "8771  2013.0  2008\n",
       "8772  2013.0  2009\n",
       "8773  2013.0  2010\n",
       "8774  2013.0  2011\n",
       "8775  2013.0  2012\n",
       "8776  2013.0  2013\n",
       "8777  2013.0  2014\n",
       "8778  2014.0  2004\n",
       "8779  2014.0  2005\n",
       "8780  2014.0  2006\n",
       "8781  2014.0  2007\n",
       "8782  2014.0  2008\n",
       "8783  2014.0  2009\n",
       "8784  2014.0  2010\n",
       "8785  2014.0  2011\n",
       "8786  2014.0  2012\n",
       "8787  2014.0  2013\n",
       "8788  2014.0  2014\n",
       "\n",
       "[8789 rows x 2 columns]"
      ]
     },
     "execution_count": 853,
     "metadata": {},
     "output_type": "execute_result"
    }
   ],
   "source": [
    "everything[\"year\"]"
   ]
  },
  {
   "cell_type": "code",
   "execution_count": 855,
   "metadata": {
    "collapsed": false
   },
   "outputs": [
    {
     "name": "stdout",
     "output_type": "stream",
     "text": [
      "0       2004.0\n",
      "1       2004.0\n",
      "2       2004.0\n",
      "3       2004.0\n",
      "4       2004.0\n",
      "5       2004.0\n",
      "6       2004.0\n",
      "7       2004.0\n",
      "8       2004.0\n",
      "9       2004.0\n",
      "10      2004.0\n",
      "11      2005.0\n",
      "12      2005.0\n",
      "13      2005.0\n",
      "14      2005.0\n",
      "15      2005.0\n",
      "16      2005.0\n",
      "17      2005.0\n",
      "18      2005.0\n",
      "19      2005.0\n",
      "20      2005.0\n",
      "21      2005.0\n",
      "22      2006.0\n",
      "23      2006.0\n",
      "24      2006.0\n",
      "25      2006.0\n",
      "26      2006.0\n",
      "27      2006.0\n",
      "28      2006.0\n",
      "29      2006.0\n",
      "         ...  \n",
      "8759    2012.0\n",
      "8760    2012.0\n",
      "8761    2012.0\n",
      "8762    2012.0\n",
      "8763    2012.0\n",
      "8764    2012.0\n",
      "8765    2012.0\n",
      "8766    2012.0\n",
      "8767    2013.0\n",
      "8768    2013.0\n",
      "8769    2013.0\n",
      "8770    2013.0\n",
      "8771    2013.0\n",
      "8772    2013.0\n",
      "8773    2013.0\n",
      "8774    2013.0\n",
      "8775    2013.0\n",
      "8776    2013.0\n",
      "8777    2013.0\n",
      "8778    2014.0\n",
      "8779    2014.0\n",
      "8780    2014.0\n",
      "8781    2014.0\n",
      "8782    2014.0\n",
      "8783    2014.0\n",
      "8784    2014.0\n",
      "8785    2014.0\n",
      "8786    2014.0\n",
      "8787    2014.0\n",
      "8788    2014.0\n",
      "Name: year, dtype: float64\n",
      "33\n"
     ]
    }
   ],
   "source": [
    "tempYear = everything[\"year\"].iloc[:,0]\n",
    "print tempYear\n",
    "del everything[\"year\"]\n",
    "everything[\"year\"] = tempYear\n",
    "print len(everything.columns.unique())"
   ]
  },
  {
   "cell_type": "code",
   "execution_count": 856,
   "metadata": {
    "collapsed": true
   },
   "outputs": [],
   "source": [
    "try:\n",
    "    del everything[\"index\"]\n",
    "    del everything[\"airport\"]\n",
    "except:\n",
    "    \"Failed to delete something\""
   ]
  },
  {
   "cell_type": "code",
   "execution_count": 857,
   "metadata": {
    "collapsed": false
   },
   "outputs": [
    {
     "name": "stdout",
     "output_type": "stream",
     "text": [
      "31\n"
     ]
    }
   ],
   "source": [
    "print len(everything.columns.unique())"
   ]
  },
  {
   "cell_type": "code",
   "execution_count": 872,
   "metadata": {
    "collapsed": false
   },
   "outputs": [
    {
     "data": {
      "text/html": [
       "<div>\n",
       "<table border=\"1\" class=\"dataframe\">\n",
       "  <thead>\n",
       "    <tr style=\"text-align: right;\">\n",
       "      <th></th>\n",
       "      <th>key</th>\n",
       "      <th>locid</th>\n",
       "      <th>ap_name</th>\n",
       "      <th>alias</th>\n",
       "      <th>facility type</th>\n",
       "      <th>faa region</th>\n",
       "      <th>county</th>\n",
       "      <th>city</th>\n",
       "      <th>state</th>\n",
       "      <th>ap type</th>\n",
       "      <th>...</th>\n",
       "      <th>percent on-time gate arrivals</th>\n",
       "      <th>average_gate_departure_delay</th>\n",
       "      <th>average_taxi_out_time</th>\n",
       "      <th>average taxi out delay</th>\n",
       "      <th>average airport departure delay</th>\n",
       "      <th>average airborne delay</th>\n",
       "      <th>average taxi in delay</th>\n",
       "      <th>average block delay</th>\n",
       "      <th>average gate arrival delay</th>\n",
       "      <th>year</th>\n",
       "    </tr>\n",
       "  </thead>\n",
       "  <tbody>\n",
       "    <tr>\n",
       "      <th>0</th>\n",
       "      <td>3.064296</td>\n",
       "      <td>-1.101848</td>\n",
       "      <td>-3.848937</td>\n",
       "      <td>0.081657</td>\n",
       "      <td>-0.851945</td>\n",
       "      <td>0.656718</td>\n",
       "      <td>0.083009</td>\n",
       "      <td>-0.735949</td>\n",
       "      <td>-1.537336</td>\n",
       "      <td>0.721051</td>\n",
       "      <td>...</td>\n",
       "      <td>0.188846</td>\n",
       "      <td>-0.192990</td>\n",
       "      <td>0.043383</td>\n",
       "      <td>-0.048268</td>\n",
       "      <td>-0.022724</td>\n",
       "      <td>0.006009</td>\n",
       "      <td>0.047566</td>\n",
       "      <td>0.007845</td>\n",
       "      <td>-2.083476e-16</td>\n",
       "      <td>-8.710208e-17</td>\n",
       "    </tr>\n",
       "    <tr>\n",
       "      <th>1</th>\n",
       "      <td>3.512118</td>\n",
       "      <td>-1.545834</td>\n",
       "      <td>-3.900367</td>\n",
       "      <td>0.272072</td>\n",
       "      <td>-0.843743</td>\n",
       "      <td>0.697293</td>\n",
       "      <td>0.031349</td>\n",
       "      <td>-0.736768</td>\n",
       "      <td>-1.493581</td>\n",
       "      <td>0.535685</td>\n",
       "      <td>...</td>\n",
       "      <td>0.113389</td>\n",
       "      <td>-0.121689</td>\n",
       "      <td>-0.003340</td>\n",
       "      <td>-0.015137</td>\n",
       "      <td>-0.011755</td>\n",
       "      <td>0.021656</td>\n",
       "      <td>0.038747</td>\n",
       "      <td>0.002478</td>\n",
       "      <td>-5.480884e-16</td>\n",
       "      <td>-2.262505e-16</td>\n",
       "    </tr>\n",
       "    <tr>\n",
       "      <th>2</th>\n",
       "      <td>2.994270</td>\n",
       "      <td>-0.528058</td>\n",
       "      <td>-3.866233</td>\n",
       "      <td>-0.221542</td>\n",
       "      <td>-1.026009</td>\n",
       "      <td>0.703887</td>\n",
       "      <td>-0.003501</td>\n",
       "      <td>-0.784161</td>\n",
       "      <td>-1.517212</td>\n",
       "      <td>0.683000</td>\n",
       "      <td>...</td>\n",
       "      <td>0.043902</td>\n",
       "      <td>-0.078040</td>\n",
       "      <td>-0.018404</td>\n",
       "      <td>-0.006932</td>\n",
       "      <td>-0.025790</td>\n",
       "      <td>0.026291</td>\n",
       "      <td>0.044562</td>\n",
       "      <td>-0.019920</td>\n",
       "      <td>-3.119792e-16</td>\n",
       "      <td>-1.257198e-16</td>\n",
       "    </tr>\n",
       "    <tr>\n",
       "      <th>3</th>\n",
       "      <td>2.351169</td>\n",
       "      <td>-0.280773</td>\n",
       "      <td>-3.754183</td>\n",
       "      <td>-0.453003</td>\n",
       "      <td>-1.021198</td>\n",
       "      <td>0.314354</td>\n",
       "      <td>-0.261301</td>\n",
       "      <td>-0.900769</td>\n",
       "      <td>-1.779625</td>\n",
       "      <td>0.759633</td>\n",
       "      <td>...</td>\n",
       "      <td>0.168812</td>\n",
       "      <td>-0.024352</td>\n",
       "      <td>-0.062377</td>\n",
       "      <td>0.034935</td>\n",
       "      <td>-0.022339</td>\n",
       "      <td>0.062898</td>\n",
       "      <td>0.028575</td>\n",
       "      <td>-0.008857</td>\n",
       "      <td>-6.907407e-17</td>\n",
       "      <td>-2.375561e-17</td>\n",
       "    </tr>\n",
       "    <tr>\n",
       "      <th>4</th>\n",
       "      <td>3.039419</td>\n",
       "      <td>-0.931685</td>\n",
       "      <td>-3.840908</td>\n",
       "      <td>-0.130075</td>\n",
       "      <td>-0.984583</td>\n",
       "      <td>0.517530</td>\n",
       "      <td>-0.218182</td>\n",
       "      <td>-0.827039</td>\n",
       "      <td>-1.618441</td>\n",
       "      <td>0.477366</td>\n",
       "      <td>...</td>\n",
       "      <td>0.282284</td>\n",
       "      <td>-0.147836</td>\n",
       "      <td>-0.031048</td>\n",
       "      <td>-0.023312</td>\n",
       "      <td>-0.036213</td>\n",
       "      <td>0.080742</td>\n",
       "      <td>0.022825</td>\n",
       "      <td>-0.003507</td>\n",
       "      <td>2.082547e-14</td>\n",
       "      <td>-8.203750e-15</td>\n",
       "    </tr>\n",
       "  </tbody>\n",
       "</table>\n",
       "<p>5 rows × 31 columns</p>\n",
       "</div>"
      ],
      "text/plain": [
       "        key     locid   ap_name     alias  facility type  faa region  \\\n",
       "0  3.064296 -1.101848 -3.848937  0.081657      -0.851945    0.656718   \n",
       "1  3.512118 -1.545834 -3.900367  0.272072      -0.843743    0.697293   \n",
       "2  2.994270 -0.528058 -3.866233 -0.221542      -1.026009    0.703887   \n",
       "3  2.351169 -0.280773 -3.754183 -0.453003      -1.021198    0.314354   \n",
       "4  3.039419 -0.931685 -3.840908 -0.130075      -0.984583    0.517530   \n",
       "\n",
       "     county      city     state   ap type      ...       \\\n",
       "0  0.083009 -0.735949 -1.537336  0.721051      ...        \n",
       "1  0.031349 -0.736768 -1.493581  0.535685      ...        \n",
       "2 -0.003501 -0.784161 -1.517212  0.683000      ...        \n",
       "3 -0.261301 -0.900769 -1.779625  0.759633      ...        \n",
       "4 -0.218182 -0.827039 -1.618441  0.477366      ...        \n",
       "\n",
       "   percent on-time gate arrivals  average_gate_departure_delay  \\\n",
       "0                       0.188846                     -0.192990   \n",
       "1                       0.113389                     -0.121689   \n",
       "2                       0.043902                     -0.078040   \n",
       "3                       0.168812                     -0.024352   \n",
       "4                       0.282284                     -0.147836   \n",
       "\n",
       "   average_taxi_out_time  average taxi out delay  \\\n",
       "0               0.043383               -0.048268   \n",
       "1              -0.003340               -0.015137   \n",
       "2              -0.018404               -0.006932   \n",
       "3              -0.062377                0.034935   \n",
       "4              -0.031048               -0.023312   \n",
       "\n",
       "   average airport departure delay  average airborne delay  \\\n",
       "0                        -0.022724                0.006009   \n",
       "1                        -0.011755                0.021656   \n",
       "2                        -0.025790                0.026291   \n",
       "3                        -0.022339                0.062898   \n",
       "4                        -0.036213                0.080742   \n",
       "\n",
       "   average taxi in delay  average block delay  average gate arrival delay  \\\n",
       "0               0.047566             0.007845               -2.083476e-16   \n",
       "1               0.038747             0.002478               -5.480884e-16   \n",
       "2               0.044562            -0.019920               -3.119792e-16   \n",
       "3               0.028575            -0.008857               -6.907407e-17   \n",
       "4               0.022825            -0.003507                2.082547e-14   \n",
       "\n",
       "           year  \n",
       "0 -8.710208e-17  \n",
       "1 -2.262505e-16  \n",
       "2 -1.257198e-16  \n",
       "3 -2.375561e-17  \n",
       "4 -8.203750e-15  \n",
       "\n",
       "[5 rows x 31 columns]"
      ]
     },
     "execution_count": 872,
     "metadata": {},
     "output_type": "execute_result"
    }
   ],
   "source": [
    "dummyColumns = everything.columns\n",
    "\n",
    "pca = PCA()\n",
    "ss = StandardScaler()\n",
    "mcle = MultiColumnLabelEncoder(columns=dummyColumns)\n",
    "\n",
    "pipe = Pipeline([('mcle',mcle),('ss', ss),('pca', pca)])\n",
    "#pipe = Pipeline([('mcle',mcle)])\n",
    "\n",
    "tmp = np.array(everything)\n",
    "dataEverything = pipe.fit_transform(tmp)\n",
    "dataEverything = pd.DataFrame(dataEverything,columns=dummyColumns)\n",
    "dataEverything.head()"
   ]
  },
  {
   "cell_type": "code",
   "execution_count": 868,
   "metadata": {
    "collapsed": false
   },
   "outputs": [],
   "source": [
    "sumExplainedVariance = sum(pca.explained_variance_)\n",
    "varianceExplained = [(i / sumExplainedVariance)*100 for i in sorted(pca.explained_variance_, reverse=True)]\n",
    "cumulativeVarianceexplained = np.cumsum(varianceExplained)"
   ]
  },
  {
   "cell_type": "code",
   "execution_count": 869,
   "metadata": {
    "collapsed": false
   },
   "outputs": [
    {
     "data": {
      "text/plain": [
       "[32.537917218108532,\n",
       " 16.92957747984855,\n",
       " 10.739803809890281,\n",
       " 7.6425619126835542,\n",
       " 5.2949688373111004,\n",
       " 3.8082033557981778,\n",
       " 3.5178481542039779,\n",
       " 3.4578889091336431,\n",
       " 3.1391799890048548,\n",
       " 2.6353550128743177,\n",
       " 1.7599827647757929,\n",
       " 1.5918971126084784,\n",
       " 1.4162175750964634,\n",
       " 1.1608024342124033,\n",
       " 0.88261666433517472,\n",
       " 0.76735607744023004,\n",
       " 0.61013957364105997,\n",
       " 0.47761645580650997,\n",
       " 0.47021809957795518,\n",
       " 0.41898143609600735,\n",
       " 0.25153755974898384,\n",
       " 0.21335538554974154,\n",
       " 0.11044730761626445,\n",
       " 0.065003774072622977,\n",
       " 0.048108308150873268,\n",
       " 0.030389159692540409,\n",
       " 0.012848646382506015,\n",
       " 0.0086010812088917737,\n",
       " 0.00057590513051826041,\n",
       " 1.9706297009934084e-31,\n",
       " 1.9706297009934084e-31]"
      ]
     },
     "execution_count": 869,
     "metadata": {},
     "output_type": "execute_result"
    }
   ],
   "source": [
    "varianceExplained"
   ]
  },
  {
   "cell_type": "code",
   "execution_count": 870,
   "metadata": {
    "collapsed": false,
    "scrolled": false
   },
   "outputs": [
    {
     "data": {
      "text/plain": [
       "array([  32.53791722,   49.4674947 ,   60.20729851,   67.84986042,\n",
       "         73.14482926,   76.95303261,   80.47088077,   83.92876968,\n",
       "         87.06794967,   89.70330468,   91.46328744,   93.05518456,\n",
       "         94.47140213,   95.63220457,   96.51482123,   97.28217731,\n",
       "         97.89231688,   98.36993334,   98.84015144,   99.25913287,\n",
       "         99.51067043,   99.72402582,   99.83447313,   99.8994769 ,\n",
       "         99.94758521,   99.97797437,   99.99082301,   99.99942409,\n",
       "        100.        ,  100.        ,  100.        ])"
      ]
     },
     "execution_count": 870,
     "metadata": {},
     "output_type": "execute_result"
    }
   ],
   "source": [
    "cumulativeVarianceexplained"
   ]
  },
  {
   "cell_type": "markdown",
   "metadata": {},
   "source": [
    "These explained variances have a better spread. With three principle components, we can cover 87.3 percent of the explained variance. Picking 3 also because we can plot 3 dimension, not 4."
   ]
  },
  {
   "cell_type": "markdown",
   "metadata": {},
   "source": [
    "### Lets Start Visualing Our New Data"
   ]
  },
  {
   "cell_type": "code",
   "execution_count": null,
   "metadata": {
    "collapsed": false
   },
   "outputs": [],
   "source": [
    "# sns.set_style(\"white\")\n",
    "# sns.set_context('talk')\n",
    "\n",
    "g = sns.JointGrid(proj2.iloc[:,0], proj2.iloc[:,1], space=0, size=8)\n",
    "g.plot_marginals(sns.distplot, kde=False, color=\".7\", bins=30)\n",
    "g.plot_joint(plt.scatter, color=\".5\", edgecolor=\"none\", alpha=1)\n",
    "g.set_axis_labels(xlabel='PC1', ylabel='PC2')"
   ]
  },
  {
   "cell_type": "code",
   "execution_count": null,
   "metadata": {
    "collapsed": false
   },
   "outputs": [],
   "source": [
    "df = pd.DataFrame(pca2.components_,columns=saveColumns)\n",
    "sns.heatmap(df.iloc[:,:14])\n"
   ]
  },
  {
   "cell_type": "code",
   "execution_count": null,
   "metadata": {
    "collapsed": false
   },
   "outputs": [],
   "source": [
    "joined.iloc[:,0:4].plot.density()"
   ]
  },
  {
   "cell_type": "code",
   "execution_count": null,
   "metadata": {
    "collapsed": false,
    "focus": false,
    "id": "9c365cbd-7b6d-46bf-b4e4-b0e2e7bd5ff6"
   },
   "outputs": [],
   "source": [
    "data.iloc[:,4:8].plot.density()"
   ]
  },
  {
   "cell_type": "markdown",
   "metadata": {
    "focus": false,
    "id": "17457da4-1175-4348-b10a-99f41f7a24dd"
   },
   "source": [
    "#### 4.2 Find correlations in the data"
   ]
  },
  {
   "cell_type": "code",
   "execution_count": null,
   "metadata": {
    "collapsed": false,
    "focus": false,
    "id": "78003f34-c0d8-40f6-bafe-e0892df3f1ca"
   },
   "outputs": [],
   "source": [
    "sns.heatmap(data.corr())"
   ]
  },
  {
   "cell_type": "markdown",
   "metadata": {
    "focus": false,
    "id": "886b49bf-d7fa-41b0-b94c-740345580d88"
   },
   "source": [
    "#### 4.3 What is the value of understanding correlations before PCA? "
   ]
  },
  {
   "cell_type": "markdown",
   "metadata": {
    "focus": false,
    "id": "192df272-c2b1-46da-bcfa-c2b02d7445a8"
   },
   "source": [
    "Answer: You can see the correlations between predictors before they get obfuscated by the PCA algorithm"
   ]
  },
  {
   "cell_type": "markdown",
   "metadata": {
    "focus": false,
    "id": "904cda18-4a60-4b05-8502-139beb44c1f0"
   },
   "source": [
    "#### 4.4 Validate your findings using statistical analysis"
   ]
  },
  {
   "cell_type": "code",
   "execution_count": null,
   "metadata": {
    "collapsed": true,
    "focus": false,
    "id": "d2f5bd48-a2c8-4511-b3c6-fcb4889db4a7"
   },
   "outputs": [],
   "source": []
  },
  {
   "cell_type": "markdown",
   "metadata": {
    "focus": false,
    "id": "87689b59-fda0-4a07-a9d3-95936deaf8ee"
   },
   "source": [
    "#### 4.5 How can you improve your overall analysis? "
   ]
  },
  {
   "cell_type": "markdown",
   "metadata": {
    "focus": false,
    "id": "000bc40d-e033-4621-82a4-e09717947fb3"
   },
   "source": [
    "Answer: "
   ]
  },
  {
   "cell_type": "markdown",
   "metadata": {
    "focus": false,
    "id": "8e08640c-4901-4724-9805-32c518521b2f"
   },
   "source": [
    "### Part 6: Copy your Database to AWS "
   ]
  },
  {
   "cell_type": "markdown",
   "metadata": {
    "focus": false,
    "id": "bf5d7088-46cd-4c47-9fcc-c1fd200cd164"
   },
   "source": [
    "Make sure to properly document all of the features of your dataset"
   ]
  },
  {
   "cell_type": "markdown",
   "metadata": {
    "focus": false,
    "id": "63387c7b-3c90-4732-808c-298225e1c0fb"
   },
   "source": [
    "### Bonus: Create a 3-Dimensional Plot of your new dataset with PCA applied"
   ]
  },
  {
   "cell_type": "code",
   "execution_count": null,
   "metadata": {
    "collapsed": false
   },
   "outputs": [],
   "source": [
    "proj2.head()"
   ]
  },
  {
   "cell_type": "code",
   "execution_count": null,
   "metadata": {
    "collapsed": false,
    "focus": false,
    "id": "b6fece51-aa23-4572-8d1d-c9c83701899d",
    "scrolled": false
   },
   "outputs": [],
   "source": [
    "%pylab inline\n",
    "from matplotlib import pyplot as plt\n",
    "from mpl_toolkits.mplot3d import Axes3D\n",
    "from mpl_toolkits.mplot3d import proj3d\n",
    "\n",
    "fig = plt.figure(figsize=(16,16))\n",
    "ax = fig.add_subplot(111, projection='3d')\n",
    "plt.rcParams['legend.fontsize'] = 10   \n",
    "ax.plot(proj2.ix[30:50,0], proj2.ix[30:50,1], proj2.ix[30:50,2], 'o', markersize=8, color='blue', alpha=0.5, label='class1')\n",
    "#ax.plot(proj2.ix[10:50,0], proj2.ix[10:50,1], proj2.ix[10:50,2], '^', markersize=8, alpha=0.5, color='red', label='class2')\n",
    "\n",
    "plt.title('Samples for class 1 and class 2')\n",
    "ax.legend(loc='upper right')\n",
    "\n",
    "plt.show()"
   ]
  },
  {
   "cell_type": "code",
   "execution_count": null,
   "metadata": {
    "collapsed": true
   },
   "outputs": [],
   "source": []
  },
  {
   "cell_type": "code",
   "execution_count": null,
   "metadata": {
    "collapsed": true
   },
   "outputs": [],
   "source": []
  }
 ],
 "metadata": {
  "anaconda-cloud": {},
  "kernelspec": {
   "display_name": "Python [Root]",
   "language": "python",
   "name": "Python [Root]"
  },
  "language_info": {
   "codemirror_mode": {
    "name": "ipython",
    "version": 2
   },
   "file_extension": ".py",
   "mimetype": "text/x-python",
   "name": "python",
   "nbconvert_exporter": "python",
   "pygments_lexer": "ipython2",
   "version": "2.7.12"
  }
 },
 "nbformat": 4,
 "nbformat_minor": 0
}
