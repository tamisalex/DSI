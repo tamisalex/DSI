{
 "cells": [
  {
   "cell_type": "markdown",
   "metadata": {
    "focus": true,
    "id": "d21ca30e-294e-4146-8e4f-a5c331f7a36e"
   },
   "source": [
    "### Project 7 \n",
    "\n",
    "In this project, you will implement the the clustering techniques that you've learned this week. \n",
    "\n",
    "#### Step 1: Load the python libraries that you will need for this project "
   ]
  },
  {
   "cell_type": "code",
   "execution_count": 319,
   "metadata": {
    "collapsed": false,
    "focus": false,
    "id": "78c3bb3f-f513-437b-94f8-bc363b6e7a8b"
   },
   "outputs": [],
   "source": [
    "import pandas as pd \n",
    "import matplotlib as plt\n",
    "import numpy as np\n",
    "import sklearn as sk \n",
    "import sqlalchemy\n",
    "import patsy\n",
    "from sklearn.pipeline import make_pipeline\n",
    "from sklearn.preprocessing import FunctionTransformer, LabelEncoder, MinMaxScaler\n",
    "from sklearn.decomposition import PCA\n",
    "import seaborn as sns\n",
    "from sklearn.base import TransformerMixin\n",
    "\n",
    "%matplotlib inline"
   ]
  },
  {
   "cell_type": "markdown",
   "metadata": {
    "focus": false,
    "id": "2c6f52ae-e694-463c-87d8-1974726c2e7a"
   },
   "source": [
    "#### Step 2: Examine your data "
   ]
  },
  {
   "cell_type": "code",
   "execution_count": 185,
   "metadata": {
    "collapsed": false,
    "focus": false,
    "id": "0f64db5a-e176-46a1-a10b-8c7db09437bc"
   },
   "outputs": [
    {
     "name": "stdout",
     "output_type": "stream",
     "text": [
      "  Airport    Year  Departure Cancellations  Arrival Cancellations  \\\n",
      "0     ABQ  2004.0                    242.0                  235.0   \n",
      "1     ABQ  2005.0                    221.0                  190.0   \n",
      "2     ABQ  2006.0                    392.0                  329.0   \n",
      "3     ABQ  2007.0                    366.0                  304.0   \n",
      "4     ABQ  2008.0                    333.0                  300.0   \n",
      "\n",
      "   Departure Diversions  Arrival Diversions  \n",
      "0                  71.0                46.0  \n",
      "1                  61.0                33.0  \n",
      "2                  71.0               124.0  \n",
      "3                 107.0                45.0  \n",
      "4                  79.0                42.0  \n"
     ]
    }
   ],
   "source": [
    "df_raw = pd.read_csv(\"../assets/airport_cancellations.csv\")\n",
    "df = df_raw.dropna() \n",
    "print df.head()"
   ]
  },
  {
   "cell_type": "code",
   "execution_count": 186,
   "metadata": {
    "collapsed": false
   },
   "outputs": [
    {
     "name": "stdout",
     "output_type": "stream",
     "text": [
      "<class 'pandas.core.frame.DataFrame'>\n",
      "Int64Index: 3498 entries, 0 to 5163\n",
      "Data columns (total 13 columns):\n",
      "Key                        3498 non-null float64\n",
      "LocID                      3498 non-null object\n",
      "AP_NAME                    3498 non-null object\n",
      "ALIAS                      3498 non-null object\n",
      "Facility Type              3498 non-null object\n",
      "FAA REGION                 3498 non-null object\n",
      "COUNTY                     3498 non-null object\n",
      "CITY                       3498 non-null object\n",
      "STATE                      3498 non-null object\n",
      "AP Type                    3498 non-null object\n",
      "Latitude                   3498 non-null float64\n",
      "Longitude                  3498 non-null float64\n",
      "Boundary Data Available    3498 non-null object\n",
      "dtypes: float64(3), object(10)\n",
      "memory usage: 382.6+ KB\n",
      "None\n"
     ]
    }
   ],
   "source": [
    "df_raw2 = pd.read_csv(\"../assets/airports.csv\")\n",
    "df2 = df_raw2.dropna() \n",
    "print df2.info()"
   ]
  },
  {
   "cell_type": "markdown",
   "metadata": {
    "focus": false,
    "id": "3690c265-ac0f-484d-ac79-f42da341e4cd"
   },
   "source": [
    "### Intro: Write a problem statement / aim for this project"
   ]
  },
  {
   "cell_type": "markdown",
   "metadata": {
    "focus": false,
    "id": "58297e17-aa21-4d1d-a46b-a36a4b92aac7"
   },
   "source": [
    "We want to understand the behavior of flight cancellations\n",
    "Answer: "
   ]
  },
  {
   "cell_type": "markdown",
   "metadata": {
    "focus": false,
    "id": "a3cccc0e-8531-4dfe-bb23-8c632aa7404e"
   },
   "source": [
    "### Part 1: Create a PostgreSQL database "
   ]
  },
  {
   "cell_type": "markdown",
   "metadata": {
    "focus": false,
    "id": "b51ca850-aa85-43e1-b7cd-627af62f5fe8"
   },
   "source": [
    "#### 1. Let's create a database where we can house our airport data"
   ]
  },
  {
   "cell_type": "code",
   "execution_count": 190,
   "metadata": {
    "collapsed": false,
    "focus": false,
    "id": "5d1b5e84-b49a-4bad-b961-abcb8e6f2751"
   },
   "outputs": [
    {
     "name": "stdout",
     "output_type": "stream",
     "text": [
      "['alexandertam']\n",
      "Stopping `postgresql`... (might take a while)\n",
      "\u001b[1;34m==>\u001b[1;39m Successfully stopped `postgresql` (label: homebrew.mxcl.postgresql)\u001b[0m\n",
      "\u001b[1;34m==>\u001b[1;39m Successfully started `postgresql` (label: homebrew.mxcl.postgresql)\u001b[0m\n"
     ]
    }
   ],
   "source": [
    "user = !id -un\n",
    "print user\n",
    "!rm /usr/local/var/postgres/postmaster.pid\n",
    "!brew services restart postgresql\n",
    "engine = sqlalchemy.create_engine('postgresql://' + user[0] + '@localhost:5432/postgres')"
   ]
  },
  {
   "cell_type": "code",
   "execution_count": 191,
   "metadata": {
    "collapsed": false
   },
   "outputs": [],
   "source": [
    "df.columns = map(str.lower, df.columns)\n",
    "df2.columns = map(str.lower, df2.columns)"
   ]
  },
  {
   "cell_type": "code",
   "execution_count": 192,
   "metadata": {
    "collapsed": false
   },
   "outputs": [],
   "source": [
    "df.to_sql(\"airport_cancellations\",con = engine, if_exists = \"replace\")"
   ]
  },
  {
   "cell_type": "code",
   "execution_count": 193,
   "metadata": {
    "collapsed": false
   },
   "outputs": [],
   "source": [
    "df2.to_sql(\"airports\", con = engine, if_exists = \"replace\")"
   ]
  },
  {
   "cell_type": "code",
   "execution_count": 194,
   "metadata": {
    "collapsed": false,
    "scrolled": true
   },
   "outputs": [],
   "source": [
    "joined = pd.read_sql(\"SELECT * FROM airports as a JOIN airport_cancellations as ac ON a.locid=ac.airport;\",con = engine)"
   ]
  },
  {
   "cell_type": "code",
   "execution_count": 195,
   "metadata": {
    "collapsed": false
   },
   "outputs": [
    {
     "name": "stdout",
     "output_type": "stream",
     "text": [
      "Stopping `postgresql`... (might take a while)\n",
      "\u001b[1;34m==>\u001b[1;39m Successfully stopped `postgresql` (label: homebrew.mxcl.postgresql)\u001b[0m\n"
     ]
    }
   ],
   "source": [
    "!brew services stop postgresql"
   ]
  },
  {
   "cell_type": "markdown",
   "metadata": {
    "focus": false,
    "id": "0b511b59-41ea-478f-bf2d-7e392dc9edaa"
   },
   "source": [
    "#### 1.2 What are the risks and assumptions of our data? "
   ]
  },
  {
   "cell_type": "markdown",
   "metadata": {
    "focus": false,
    "id": "0936ff6a-6919-4436-9fc1-d6ef90d5ba9e"
   },
   "source": []
  },
  {
   "cell_type": "markdown",
   "metadata": {
    "focus": false,
    "id": "e97b4707-0f0e-4f6a-90ab-fbb634c2305d"
   },
   "source": [
    "### Part 2: Exploratory Data Analysis"
   ]
  },
  {
   "cell_type": "markdown",
   "metadata": {
    "focus": false,
    "id": "6be9cf88-1b92-4360-b424-a495d5e2d4ba"
   },
   "source": [
    "#### 2.1 Plot and Describe the Data"
   ]
  },
  {
   "cell_type": "code",
   "execution_count": 196,
   "metadata": {
    "collapsed": false,
    "focus": false,
    "id": "41ff90a9-0d50-4a8e-97c4-fe429fffc1f7",
    "scrolled": true
   },
   "outputs": [
    {
     "name": "stdout",
     "output_type": "stream",
     "text": [
      "<class 'pandas.core.frame.DataFrame'>\n",
      "Int64Index: 805 entries, 0 to 804\n",
      "Data columns (total 21 columns):\n",
      "index                      805 non-null int64\n",
      "key                        805 non-null float64\n",
      "locid                      805 non-null object\n",
      "ap_name                    805 non-null object\n",
      "alias                      805 non-null object\n",
      "facility type              805 non-null object\n",
      "faa region                 805 non-null object\n",
      "county                     805 non-null object\n",
      "city                       805 non-null object\n",
      "state                      805 non-null object\n",
      "ap type                    805 non-null object\n",
      "latitude                   805 non-null float64\n",
      "longitude                  805 non-null float64\n",
      "boundary data available    805 non-null object\n",
      "index                      805 non-null int64\n",
      "airport                    805 non-null object\n",
      "year                       805 non-null float64\n",
      "departure cancellations    805 non-null float64\n",
      "arrival cancellations      805 non-null float64\n",
      "departure diversions       805 non-null float64\n",
      "arrival diversions         805 non-null float64\n",
      "dtypes: float64(8), int64(2), object(11)\n",
      "memory usage: 138.4+ KB\n"
     ]
    }
   ],
   "source": [
    "joined[\"ap type\"].unique()\n",
    "joined = joined.dropna()\n",
    "joined.info()"
   ]
  },
  {
   "cell_type": "code",
   "execution_count": 197,
   "metadata": {
    "collapsed": false
   },
   "outputs": [
    {
     "data": {
      "text/html": [
       "<div>\n",
       "<table border=\"1\" class=\"dataframe\">\n",
       "  <thead>\n",
       "    <tr style=\"text-align: right;\">\n",
       "      <th></th>\n",
       "      <th>index</th>\n",
       "      <th>key</th>\n",
       "      <th>locid</th>\n",
       "      <th>ap_name</th>\n",
       "      <th>alias</th>\n",
       "      <th>facility type</th>\n",
       "      <th>faa region</th>\n",
       "      <th>county</th>\n",
       "      <th>city</th>\n",
       "      <th>state</th>\n",
       "      <th>...</th>\n",
       "      <th>latitude</th>\n",
       "      <th>longitude</th>\n",
       "      <th>boundary data available</th>\n",
       "      <th>index</th>\n",
       "      <th>airport</th>\n",
       "      <th>year</th>\n",
       "      <th>departure cancellations</th>\n",
       "      <th>arrival cancellations</th>\n",
       "      <th>departure diversions</th>\n",
       "      <th>arrival diversions</th>\n",
       "    </tr>\n",
       "  </thead>\n",
       "  <tbody>\n",
       "    <tr>\n",
       "      <th>0</th>\n",
       "      <td>1223</td>\n",
       "      <td>2348.0</td>\n",
       "      <td>ABQ</td>\n",
       "      <td>ALBUQUERQUE INTL SUNPORT</td>\n",
       "      <td>Albuquerque Int'l Sunport</td>\n",
       "      <td>Airport</td>\n",
       "      <td>ASW</td>\n",
       "      <td>BERNALILLO</td>\n",
       "      <td>ALBUQUERQUE</td>\n",
       "      <td>NM</td>\n",
       "      <td>...</td>\n",
       "      <td>35.040194</td>\n",
       "      <td>-106.609194</td>\n",
       "      <td>Yes</td>\n",
       "      <td>0</td>\n",
       "      <td>ABQ</td>\n",
       "      <td>2004.0</td>\n",
       "      <td>242.0</td>\n",
       "      <td>235.0</td>\n",
       "      <td>71.0</td>\n",
       "      <td>46.0</td>\n",
       "    </tr>\n",
       "    <tr>\n",
       "      <th>1</th>\n",
       "      <td>1223</td>\n",
       "      <td>2348.0</td>\n",
       "      <td>ABQ</td>\n",
       "      <td>ALBUQUERQUE INTL SUNPORT</td>\n",
       "      <td>Albuquerque Int'l Sunport</td>\n",
       "      <td>Airport</td>\n",
       "      <td>ASW</td>\n",
       "      <td>BERNALILLO</td>\n",
       "      <td>ALBUQUERQUE</td>\n",
       "      <td>NM</td>\n",
       "      <td>...</td>\n",
       "      <td>35.040194</td>\n",
       "      <td>-106.609194</td>\n",
       "      <td>Yes</td>\n",
       "      <td>1</td>\n",
       "      <td>ABQ</td>\n",
       "      <td>2005.0</td>\n",
       "      <td>221.0</td>\n",
       "      <td>190.0</td>\n",
       "      <td>61.0</td>\n",
       "      <td>33.0</td>\n",
       "    </tr>\n",
       "    <tr>\n",
       "      <th>2</th>\n",
       "      <td>1223</td>\n",
       "      <td>2348.0</td>\n",
       "      <td>ABQ</td>\n",
       "      <td>ALBUQUERQUE INTL SUNPORT</td>\n",
       "      <td>Albuquerque Int'l Sunport</td>\n",
       "      <td>Airport</td>\n",
       "      <td>ASW</td>\n",
       "      <td>BERNALILLO</td>\n",
       "      <td>ALBUQUERQUE</td>\n",
       "      <td>NM</td>\n",
       "      <td>...</td>\n",
       "      <td>35.040194</td>\n",
       "      <td>-106.609194</td>\n",
       "      <td>Yes</td>\n",
       "      <td>2</td>\n",
       "      <td>ABQ</td>\n",
       "      <td>2006.0</td>\n",
       "      <td>392.0</td>\n",
       "      <td>329.0</td>\n",
       "      <td>71.0</td>\n",
       "      <td>124.0</td>\n",
       "    </tr>\n",
       "    <tr>\n",
       "      <th>3</th>\n",
       "      <td>1223</td>\n",
       "      <td>2348.0</td>\n",
       "      <td>ABQ</td>\n",
       "      <td>ALBUQUERQUE INTL SUNPORT</td>\n",
       "      <td>Albuquerque Int'l Sunport</td>\n",
       "      <td>Airport</td>\n",
       "      <td>ASW</td>\n",
       "      <td>BERNALILLO</td>\n",
       "      <td>ALBUQUERQUE</td>\n",
       "      <td>NM</td>\n",
       "      <td>...</td>\n",
       "      <td>35.040194</td>\n",
       "      <td>-106.609194</td>\n",
       "      <td>Yes</td>\n",
       "      <td>3</td>\n",
       "      <td>ABQ</td>\n",
       "      <td>2007.0</td>\n",
       "      <td>366.0</td>\n",
       "      <td>304.0</td>\n",
       "      <td>107.0</td>\n",
       "      <td>45.0</td>\n",
       "    </tr>\n",
       "    <tr>\n",
       "      <th>4</th>\n",
       "      <td>1223</td>\n",
       "      <td>2348.0</td>\n",
       "      <td>ABQ</td>\n",
       "      <td>ALBUQUERQUE INTL SUNPORT</td>\n",
       "      <td>Albuquerque Int'l Sunport</td>\n",
       "      <td>Airport</td>\n",
       "      <td>ASW</td>\n",
       "      <td>BERNALILLO</td>\n",
       "      <td>ALBUQUERQUE</td>\n",
       "      <td>NM</td>\n",
       "      <td>...</td>\n",
       "      <td>35.040194</td>\n",
       "      <td>-106.609194</td>\n",
       "      <td>Yes</td>\n",
       "      <td>4</td>\n",
       "      <td>ABQ</td>\n",
       "      <td>2008.0</td>\n",
       "      <td>333.0</td>\n",
       "      <td>300.0</td>\n",
       "      <td>79.0</td>\n",
       "      <td>42.0</td>\n",
       "    </tr>\n",
       "  </tbody>\n",
       "</table>\n",
       "<p>5 rows × 21 columns</p>\n",
       "</div>"
      ],
      "text/plain": [
       "  index     key locid                   ap_name                      alias  \\\n",
       "0  1223  2348.0   ABQ  ALBUQUERQUE INTL SUNPORT  Albuquerque Int'l Sunport   \n",
       "1  1223  2348.0   ABQ  ALBUQUERQUE INTL SUNPORT  Albuquerque Int'l Sunport   \n",
       "2  1223  2348.0   ABQ  ALBUQUERQUE INTL SUNPORT  Albuquerque Int'l Sunport   \n",
       "3  1223  2348.0   ABQ  ALBUQUERQUE INTL SUNPORT  Albuquerque Int'l Sunport   \n",
       "4  1223  2348.0   ABQ  ALBUQUERQUE INTL SUNPORT  Albuquerque Int'l Sunport   \n",
       "\n",
       "  facility type faa region      county         city state         ...          \\\n",
       "0       Airport        ASW  BERNALILLO  ALBUQUERQUE    NM         ...           \n",
       "1       Airport        ASW  BERNALILLO  ALBUQUERQUE    NM         ...           \n",
       "2       Airport        ASW  BERNALILLO  ALBUQUERQUE    NM         ...           \n",
       "3       Airport        ASW  BERNALILLO  ALBUQUERQUE    NM         ...           \n",
       "4       Airport        ASW  BERNALILLO  ALBUQUERQUE    NM         ...           \n",
       "\n",
       "    latitude   longitude  boundary data available index  airport    year  \\\n",
       "0  35.040194 -106.609194                      Yes     0      ABQ  2004.0   \n",
       "1  35.040194 -106.609194                      Yes     1      ABQ  2005.0   \n",
       "2  35.040194 -106.609194                      Yes     2      ABQ  2006.0   \n",
       "3  35.040194 -106.609194                      Yes     3      ABQ  2007.0   \n",
       "4  35.040194 -106.609194                      Yes     4      ABQ  2008.0   \n",
       "\n",
       "   departure cancellations  arrival cancellations  departure diversions  \\\n",
       "0                    242.0                  235.0                  71.0   \n",
       "1                    221.0                  190.0                  61.0   \n",
       "2                    392.0                  329.0                  71.0   \n",
       "3                    366.0                  304.0                 107.0   \n",
       "4                    333.0                  300.0                  79.0   \n",
       "\n",
       "   arrival diversions  \n",
       "0                46.0  \n",
       "1                33.0  \n",
       "2               124.0  \n",
       "3                45.0  \n",
       "4                42.0  \n",
       "\n",
       "[5 rows x 21 columns]"
      ]
     },
     "execution_count": 197,
     "metadata": {},
     "output_type": "execute_result"
    }
   ],
   "source": [
    "joined.head()"
   ]
  },
  {
   "cell_type": "markdown",
   "metadata": {
    "focus": false,
    "id": "3d12188d-3aa9-4d47-a0e8-b5d6e8f071de"
   },
   "source": [
    "#### Are there any unique values? "
   ]
  },
  {
   "cell_type": "code",
   "execution_count": null,
   "metadata": {
    "collapsed": true,
    "focus": false,
    "id": "d76cfc84-4d16-4f6f-aca8-3dc77d3b8f5c"
   },
   "outputs": [],
   "source": []
  },
  {
   "cell_type": "markdown",
   "metadata": {
    "focus": false,
    "id": "e2ddc27c-94d6-4ab1-95ef-1093bb2726b0"
   },
   "source": [
    "### Part 3: Data Mining"
   ]
  },
  {
   "cell_type": "markdown",
   "metadata": {
    "focus": false,
    "id": "c9b12f39-5410-42d7-aff9-859c0b2ccb70"
   },
   "source": [
    "#### 3.1 Format and Clean the Data"
   ]
  },
  {
   "cell_type": "code",
   "execution_count": 316,
   "metadata": {
    "collapsed": false
   },
   "outputs": [],
   "source": [
    "class MultiColumnLabelEncoder(TransformerMixin):\n",
    "    def __init__(self,columns = None):\n",
    "        self.columns = columns # array of column names to encode\n",
    "\n",
    "    def fit(self,X,y=None):\n",
    "        return self # not relevant here\n",
    "\n",
    "    def transform(self,X):\n",
    "        '''\n",
    "        Transforms columns of X specified in self.columns using\n",
    "        LabelEncoder(). If no columns specified, transforms all\n",
    "        columns in X.\n",
    "        '''\n",
    "        output = X.copy()\n",
    "        if self.columns is not None:\n",
    "            for col in self.columns:\n",
    "                output[col] = pre.LabelEncoder().fit_transform(output[col])\n",
    "        else:\n",
    "            for colname,col in output.iteritems():\n",
    "                output[colname] = pre.LabelEncoder().fit_transform(col)\n",
    "        return output\n",
    "\n",
    "    def fit_transform(self,X,y=None):\n",
    "        return self.fit(X,y).transform(X)"
   ]
  },
  {
   "cell_type": "code",
   "execution_count": 287,
   "metadata": {
    "collapsed": false
   },
   "outputs": [],
   "source": [
    "#test MultiColumnLabelEncoder class works\n",
    "\n",
    "#mcle = MultiColumnLabelEncoder(columns= columnsToLabelEncode)\n",
    "#mcle.fit_transform(joined)"
   ]
  },
  {
   "cell_type": "code",
   "execution_count": 315,
   "metadata": {
    "collapsed": false
   },
   "outputs": [],
   "source": [
    "class MultiColumnMinMaxScaler(TransformerMixin):\n",
    "    def __init__(self,columns = None):\n",
    "        self.columns = columns # array of column names to encode\n",
    "\n",
    "    def fit(self,X,y=None):\n",
    "        return self # not relevant here\n",
    "\n",
    "    def transform(self,X):\n",
    "        '''\n",
    "        Transforms columns of X specified in self.columns using\n",
    "        LabelEncoder(). If no columns specified, transforms all\n",
    "        columns in X.\n",
    "        '''\n",
    "        output = X.copy()\n",
    "        if self.columns is not None:\n",
    "            for col in self.columns:\n",
    "                output[col] = pre.MinMaxScaler().fit_transform(output[col].reshape(-1,1))\n",
    "        else:\n",
    "            for colname,col in output.iteritems():\n",
    "                output[colname] = pre.MinMaxScaler().fit_transform(col)\n",
    "        return output\n",
    "\n",
    "    def fit_transform(self,X,y=None):\n",
    "        return self.fit(X,y).transform(X)"
   ]
  },
  {
   "cell_type": "code",
   "execution_count": 289,
   "metadata": {
    "collapsed": false,
    "scrolled": false
   },
   "outputs": [],
   "source": [
    "#test MultiColumnMinMaxScaler class works\n",
    "#mcmms = MultiColumnMinMaxScaler(columns= columnsToScale)\n",
    "#mcmms.fit_transform(joined).head()"
   ]
  },
  {
   "cell_type": "code",
   "execution_count": 311,
   "metadata": {
    "collapsed": false
   },
   "outputs": [],
   "source": [
    "columnsToLabelEncode = [\"ap type\",\"ap_name\",\"alias\",\"facility type\",\"county\",\"city\",\"state\",\"airport\",\"faa region\"]\n",
    "columnsToRemove = [\"locid\",\"index\",\"key\",\"boundary data available\"]\n",
    "columnsToScale = [\"year\"]"
   ]
  },
  {
   "cell_type": "code",
   "execution_count": 312,
   "metadata": {
    "collapsed": false
   },
   "outputs": [
    {
     "data": {
      "text/html": [
       "<div>\n",
       "<table border=\"1\" class=\"dataframe\">\n",
       "  <thead>\n",
       "    <tr style=\"text-align: right;\">\n",
       "      <th></th>\n",
       "      <th>ap_name</th>\n",
       "      <th>alias</th>\n",
       "      <th>facility type</th>\n",
       "      <th>faa region</th>\n",
       "      <th>county</th>\n",
       "      <th>city</th>\n",
       "      <th>state</th>\n",
       "      <th>ap type</th>\n",
       "      <th>latitude</th>\n",
       "      <th>longitude</th>\n",
       "      <th>airport</th>\n",
       "      <th>year</th>\n",
       "      <th>departure cancellations</th>\n",
       "      <th>arrival cancellations</th>\n",
       "      <th>departure diversions</th>\n",
       "      <th>arrival diversions</th>\n",
       "    </tr>\n",
       "  </thead>\n",
       "  <tbody>\n",
       "    <tr>\n",
       "      <th>0</th>\n",
       "      <td>ALBUQUERQUE INTL SUNPORT</td>\n",
       "      <td>Albuquerque Int'l Sunport</td>\n",
       "      <td>Airport</td>\n",
       "      <td>ASW</td>\n",
       "      <td>BERNALILLO</td>\n",
       "      <td>ALBUQUERQUE</td>\n",
       "      <td>NM</td>\n",
       "      <td>Federalized/Commercial</td>\n",
       "      <td>35.040194</td>\n",
       "      <td>-106.609194</td>\n",
       "      <td>ABQ</td>\n",
       "      <td>2004.0</td>\n",
       "      <td>242.0</td>\n",
       "      <td>235.0</td>\n",
       "      <td>71.0</td>\n",
       "      <td>46.0</td>\n",
       "    </tr>\n",
       "    <tr>\n",
       "      <th>1</th>\n",
       "      <td>ALBUQUERQUE INTL SUNPORT</td>\n",
       "      <td>Albuquerque Int'l Sunport</td>\n",
       "      <td>Airport</td>\n",
       "      <td>ASW</td>\n",
       "      <td>BERNALILLO</td>\n",
       "      <td>ALBUQUERQUE</td>\n",
       "      <td>NM</td>\n",
       "      <td>Federalized/Commercial</td>\n",
       "      <td>35.040194</td>\n",
       "      <td>-106.609194</td>\n",
       "      <td>ABQ</td>\n",
       "      <td>2005.0</td>\n",
       "      <td>221.0</td>\n",
       "      <td>190.0</td>\n",
       "      <td>61.0</td>\n",
       "      <td>33.0</td>\n",
       "    </tr>\n",
       "    <tr>\n",
       "      <th>2</th>\n",
       "      <td>ALBUQUERQUE INTL SUNPORT</td>\n",
       "      <td>Albuquerque Int'l Sunport</td>\n",
       "      <td>Airport</td>\n",
       "      <td>ASW</td>\n",
       "      <td>BERNALILLO</td>\n",
       "      <td>ALBUQUERQUE</td>\n",
       "      <td>NM</td>\n",
       "      <td>Federalized/Commercial</td>\n",
       "      <td>35.040194</td>\n",
       "      <td>-106.609194</td>\n",
       "      <td>ABQ</td>\n",
       "      <td>2006.0</td>\n",
       "      <td>392.0</td>\n",
       "      <td>329.0</td>\n",
       "      <td>71.0</td>\n",
       "      <td>124.0</td>\n",
       "    </tr>\n",
       "    <tr>\n",
       "      <th>3</th>\n",
       "      <td>ALBUQUERQUE INTL SUNPORT</td>\n",
       "      <td>Albuquerque Int'l Sunport</td>\n",
       "      <td>Airport</td>\n",
       "      <td>ASW</td>\n",
       "      <td>BERNALILLO</td>\n",
       "      <td>ALBUQUERQUE</td>\n",
       "      <td>NM</td>\n",
       "      <td>Federalized/Commercial</td>\n",
       "      <td>35.040194</td>\n",
       "      <td>-106.609194</td>\n",
       "      <td>ABQ</td>\n",
       "      <td>2007.0</td>\n",
       "      <td>366.0</td>\n",
       "      <td>304.0</td>\n",
       "      <td>107.0</td>\n",
       "      <td>45.0</td>\n",
       "    </tr>\n",
       "    <tr>\n",
       "      <th>4</th>\n",
       "      <td>ALBUQUERQUE INTL SUNPORT</td>\n",
       "      <td>Albuquerque Int'l Sunport</td>\n",
       "      <td>Airport</td>\n",
       "      <td>ASW</td>\n",
       "      <td>BERNALILLO</td>\n",
       "      <td>ALBUQUERQUE</td>\n",
       "      <td>NM</td>\n",
       "      <td>Federalized/Commercial</td>\n",
       "      <td>35.040194</td>\n",
       "      <td>-106.609194</td>\n",
       "      <td>ABQ</td>\n",
       "      <td>2008.0</td>\n",
       "      <td>333.0</td>\n",
       "      <td>300.0</td>\n",
       "      <td>79.0</td>\n",
       "      <td>42.0</td>\n",
       "    </tr>\n",
       "  </tbody>\n",
       "</table>\n",
       "</div>"
      ],
      "text/plain": [
       "                    ap_name                      alias facility type  \\\n",
       "0  ALBUQUERQUE INTL SUNPORT  Albuquerque Int'l Sunport       Airport   \n",
       "1  ALBUQUERQUE INTL SUNPORT  Albuquerque Int'l Sunport       Airport   \n",
       "2  ALBUQUERQUE INTL SUNPORT  Albuquerque Int'l Sunport       Airport   \n",
       "3  ALBUQUERQUE INTL SUNPORT  Albuquerque Int'l Sunport       Airport   \n",
       "4  ALBUQUERQUE INTL SUNPORT  Albuquerque Int'l Sunport       Airport   \n",
       "\n",
       "  faa region      county         city state                 ap type  \\\n",
       "0        ASW  BERNALILLO  ALBUQUERQUE    NM  Federalized/Commercial   \n",
       "1        ASW  BERNALILLO  ALBUQUERQUE    NM  Federalized/Commercial   \n",
       "2        ASW  BERNALILLO  ALBUQUERQUE    NM  Federalized/Commercial   \n",
       "3        ASW  BERNALILLO  ALBUQUERQUE    NM  Federalized/Commercial   \n",
       "4        ASW  BERNALILLO  ALBUQUERQUE    NM  Federalized/Commercial   \n",
       "\n",
       "    latitude   longitude airport    year  departure cancellations  \\\n",
       "0  35.040194 -106.609194     ABQ  2004.0                    242.0   \n",
       "1  35.040194 -106.609194     ABQ  2005.0                    221.0   \n",
       "2  35.040194 -106.609194     ABQ  2006.0                    392.0   \n",
       "3  35.040194 -106.609194     ABQ  2007.0                    366.0   \n",
       "4  35.040194 -106.609194     ABQ  2008.0                    333.0   \n",
       "\n",
       "   arrival cancellations  departure diversions  arrival diversions  \n",
       "0                  235.0                  71.0                46.0  \n",
       "1                  190.0                  61.0                33.0  \n",
       "2                  329.0                  71.0               124.0  \n",
       "3                  304.0                 107.0                45.0  \n",
       "4                  300.0                  79.0                42.0  "
      ]
     },
     "execution_count": 312,
     "metadata": {},
     "output_type": "execute_result"
    }
   ],
   "source": [
    "joined = joined[[x for x in joined.columns.values.tolist() if x not in columnsToRemove]]\n",
    "joined.head()"
   ]
  },
  {
   "cell_type": "code",
   "execution_count": 320,
   "metadata": {
    "collapsed": false,
    "focus": false,
    "id": "c2f083d5-edf1-4380-a245-13c77315daa7"
   },
   "outputs": [
    {
     "data": {
      "text/html": [
       "<div>\n",
       "<table border=\"1\" class=\"dataframe\">\n",
       "  <thead>\n",
       "    <tr style=\"text-align: right;\">\n",
       "      <th></th>\n",
       "      <th>0</th>\n",
       "      <th>1</th>\n",
       "      <th>2</th>\n",
       "      <th>3</th>\n",
       "      <th>4</th>\n",
       "      <th>5</th>\n",
       "      <th>6</th>\n",
       "      <th>7</th>\n",
       "      <th>8</th>\n",
       "      <th>9</th>\n",
       "      <th>10</th>\n",
       "      <th>11</th>\n",
       "      <th>12</th>\n",
       "      <th>13</th>\n",
       "      <th>14</th>\n",
       "      <th>15</th>\n",
       "    </tr>\n",
       "  </thead>\n",
       "  <tbody>\n",
       "    <tr>\n",
       "      <th>0</th>\n",
       "      <td>1527.112390</td>\n",
       "      <td>-24.298344</td>\n",
       "      <td>-16.965760</td>\n",
       "      <td>25.215039</td>\n",
       "      <td>-77.213215</td>\n",
       "      <td>-13.866005</td>\n",
       "      <td>-13.712336</td>\n",
       "      <td>5.539652</td>\n",
       "      <td>2.397985</td>\n",
       "      <td>8.824875</td>\n",
       "      <td>-2.478856</td>\n",
       "      <td>-1.742636</td>\n",
       "      <td>-1.286847</td>\n",
       "      <td>-0.505033</td>\n",
       "      <td>-0.112863</td>\n",
       "      <td>-7.559635e-16</td>\n",
       "    </tr>\n",
       "    <tr>\n",
       "      <th>1</th>\n",
       "      <td>1575.592222</td>\n",
       "      <td>-38.936172</td>\n",
       "      <td>-5.425608</td>\n",
       "      <td>19.188929</td>\n",
       "      <td>-77.746703</td>\n",
       "      <td>-14.614383</td>\n",
       "      <td>-13.661812</td>\n",
       "      <td>5.494073</td>\n",
       "      <td>2.702562</td>\n",
       "      <td>8.862859</td>\n",
       "      <td>-2.544194</td>\n",
       "      <td>-1.710426</td>\n",
       "      <td>-1.323098</td>\n",
       "      <td>-0.402181</td>\n",
       "      <td>-0.115123</td>\n",
       "      <td>-1.383558e-16</td>\n",
       "    </tr>\n",
       "    <tr>\n",
       "      <th>2</th>\n",
       "      <td>1351.511271</td>\n",
       "      <td>18.856052</td>\n",
       "      <td>51.357751</td>\n",
       "      <td>31.521135</td>\n",
       "      <td>-74.848603</td>\n",
       "      <td>-16.168743</td>\n",
       "      <td>-14.751531</td>\n",
       "      <td>6.116467</td>\n",
       "      <td>2.516117</td>\n",
       "      <td>7.659689</td>\n",
       "      <td>-1.874031</td>\n",
       "      <td>-1.863606</td>\n",
       "      <td>-1.407831</td>\n",
       "      <td>-0.298885</td>\n",
       "      <td>-0.105246</td>\n",
       "      <td>1.087320e-14</td>\n",
       "    </tr>\n",
       "    <tr>\n",
       "      <th>3</th>\n",
       "      <td>1390.855103</td>\n",
       "      <td>-24.991287</td>\n",
       "      <td>3.825915</td>\n",
       "      <td>-24.025835</td>\n",
       "      <td>-78.487402</td>\n",
       "      <td>-16.259611</td>\n",
       "      <td>-12.531668</td>\n",
       "      <td>5.621942</td>\n",
       "      <td>3.609829</td>\n",
       "      <td>9.308564</td>\n",
       "      <td>-2.390805</td>\n",
       "      <td>-1.520696</td>\n",
       "      <td>-1.297151</td>\n",
       "      <td>-0.203701</td>\n",
       "      <td>-0.105833</td>\n",
       "      <td>-1.157476e-16</td>\n",
       "    </tr>\n",
       "    <tr>\n",
       "      <th>4</th>\n",
       "      <td>1417.803322</td>\n",
       "      <td>-36.336851</td>\n",
       "      <td>-4.015473</td>\n",
       "      <td>7.253555</td>\n",
       "      <td>-77.670980</td>\n",
       "      <td>-15.123426</td>\n",
       "      <td>-13.329647</td>\n",
       "      <td>5.553801</td>\n",
       "      <td>2.920616</td>\n",
       "      <td>9.048486</td>\n",
       "      <td>-2.548828</td>\n",
       "      <td>-1.650853</td>\n",
       "      <td>-1.311670</td>\n",
       "      <td>-0.101662</td>\n",
       "      <td>-0.109330</td>\n",
       "      <td>-1.143931e-16</td>\n",
       "    </tr>\n",
       "  </tbody>\n",
       "</table>\n",
       "</div>"
      ],
      "text/plain": [
       "            0          1          2          3          4          5   \\\n",
       "0  1527.112390 -24.298344 -16.965760  25.215039 -77.213215 -13.866005   \n",
       "1  1575.592222 -38.936172  -5.425608  19.188929 -77.746703 -14.614383   \n",
       "2  1351.511271  18.856052  51.357751  31.521135 -74.848603 -16.168743   \n",
       "3  1390.855103 -24.991287   3.825915 -24.025835 -78.487402 -16.259611   \n",
       "4  1417.803322 -36.336851  -4.015473   7.253555 -77.670980 -15.123426   \n",
       "\n",
       "          6         7         8         9         10        11        12  \\\n",
       "0 -13.712336  5.539652  2.397985  8.824875 -2.478856 -1.742636 -1.286847   \n",
       "1 -13.661812  5.494073  2.702562  8.862859 -2.544194 -1.710426 -1.323098   \n",
       "2 -14.751531  6.116467  2.516117  7.659689 -1.874031 -1.863606 -1.407831   \n",
       "3 -12.531668  5.621942  3.609829  9.308564 -2.390805 -1.520696 -1.297151   \n",
       "4 -13.329647  5.553801  2.920616  9.048486 -2.548828 -1.650853 -1.311670   \n",
       "\n",
       "         13        14            15  \n",
       "0 -0.505033 -0.112863 -7.559635e-16  \n",
       "1 -0.402181 -0.115123 -1.383558e-16  \n",
       "2 -0.298885 -0.105246  1.087320e-14  \n",
       "3 -0.203701 -0.105833 -1.157476e-16  \n",
       "4 -0.101662 -0.109330 -1.143931e-16  "
      ]
     },
     "execution_count": 320,
     "metadata": {},
     "output_type": "execute_result"
    }
   ],
   "source": [
    "pipe = make_pipeline(\n",
    "    MultiColumnLabelEncoder(columns = columnsToLabelEncode),\n",
    "    MultiColumnMinMaxScaler(columns = columnsToScale),\n",
    "    PCA())\n",
    "result = pipe.fit_transform(joined)\n",
    "\n",
    "result = pd.DataFrame(result)\n",
    "result.head()"
   ]
  },
  {
   "cell_type": "markdown",
   "metadata": {
    "focus": false,
    "id": "a746fd8c-fdb0-45c3-9e17-ad4c89360055"
   },
   "source": [
    "#### 3.2 Create Dummy Variables"
   ]
  },
  {
   "cell_type": "code",
   "execution_count": 183,
   "metadata": {
    "collapsed": false,
    "focus": false,
    "id": "eae97f78-3695-4777-91c5-f282dfd26e96"
   },
   "outputs": [],
   "source": [
    "# def CreateDummyVariables(df, categories):\n",
    "#     categoryList = categories\n",
    "#     for category in categoryList:\n",
    "#         series = df[category]\n",
    "#         dummies = pd.get_dummies(series, prefix=category)\n",
    "#         df = pd.concat([df, dummies], axis=1)\n",
    "#     return df\n",
    "\n",
    "# joined = CreateDummyVariables(joined,['airport'])\n",
    "# joined"
   ]
  },
  {
   "cell_type": "markdown",
   "metadata": {
    "focus": false,
    "id": "27db8e3b-27d2-4420-bbab-1ddbba3dc3e5"
   },
   "source": [
    "### Part 4: Define the Data"
   ]
  },
  {
   "cell_type": "markdown",
   "metadata": {
    "focus": false,
    "id": "9bcb3ba6-8c35-470c-a821-47d7ba6a32f2"
   },
   "source": [
    "#### 4.1 Confirm that the dataset has a normal distribution. How can you tell? "
   ]
  },
  {
   "cell_type": "code",
   "execution_count": null,
   "metadata": {
    "collapsed": false,
    "focus": false,
    "id": "9c365cbd-7b6d-46bf-b4e4-b0e2e7bd5ff6"
   },
   "outputs": [],
   "source": [
    "joined[\"departure cancellations\"].plot.density()"
   ]
  },
  {
   "cell_type": "code",
   "execution_count": null,
   "metadata": {
    "collapsed": false,
    "scrolled": true
   },
   "outputs": [],
   "source": [
    "joined[\"departure diversions\"].plot.density()"
   ]
  },
  {
   "cell_type": "code",
   "execution_count": null,
   "metadata": {
    "collapsed": false
   },
   "outputs": [],
   "source": [
    "joined[\"arrival cancellations\"].plot.density()"
   ]
  },
  {
   "cell_type": "code",
   "execution_count": null,
   "metadata": {
    "collapsed": false
   },
   "outputs": [],
   "source": [
    "joined[\"arrival diversions\"].plot.density()"
   ]
  },
  {
   "cell_type": "markdown",
   "metadata": {
    "focus": false,
    "id": "17457da4-1175-4348-b10a-99f41f7a24dd"
   },
   "source": [
    "#### 4.2 Find correlations in the data"
   ]
  },
  {
   "cell_type": "code",
   "execution_count": null,
   "metadata": {
    "collapsed": false,
    "focus": false,
    "id": "78003f34-c0d8-40f6-bafe-e0892df3f1ca"
   },
   "outputs": [],
   "source": [
    "sns.heatmap(joined.corr())"
   ]
  },
  {
   "cell_type": "markdown",
   "metadata": {
    "focus": false,
    "id": "886b49bf-d7fa-41b0-b94c-740345580d88"
   },
   "source": [
    "#### 4.3 What is the value of understanding correlations before PCA? "
   ]
  },
  {
   "cell_type": "markdown",
   "metadata": {
    "focus": false,
    "id": "192df272-c2b1-46da-bcfa-c2b02d7445a8"
   },
   "source": [
    "Answer: "
   ]
  },
  {
   "cell_type": "markdown",
   "metadata": {
    "focus": false,
    "id": "904cda18-4a60-4b05-8502-139beb44c1f0"
   },
   "source": [
    "#### 4.4 Validate your findings using statistical analysis"
   ]
  },
  {
   "cell_type": "code",
   "execution_count": null,
   "metadata": {
    "collapsed": true,
    "focus": false,
    "id": "d2f5bd48-a2c8-4511-b3c6-fcb4889db4a7"
   },
   "outputs": [],
   "source": []
  },
  {
   "cell_type": "markdown",
   "metadata": {
    "focus": false,
    "id": "87689b59-fda0-4a07-a9d3-95936deaf8ee"
   },
   "source": [
    "#### 4.5 How can you improve your overall analysis? "
   ]
  },
  {
   "cell_type": "markdown",
   "metadata": {
    "focus": false,
    "id": "000bc40d-e033-4621-82a4-e09717947fb3"
   },
   "source": [
    "Answer: "
   ]
  },
  {
   "cell_type": "markdown",
   "metadata": {
    "focus": false,
    "id": "cea5d879-f180-448a-bd50-b30b2b7d6d28"
   },
   "source": [
    "### Part 5: Perform a PCA and Present Findings"
   ]
  },
  {
   "cell_type": "markdown",
   "metadata": {
    "focus": false,
    "id": "27c1212c-3490-45ff-a6da-501075f3eee5"
   },
   "source": [
    "#### 5.1 Conduct the PCA"
   ]
  },
  {
   "cell_type": "code",
   "execution_count": null,
   "metadata": {
    "collapsed": false,
    "focus": false,
    "id": "a8e7ac46-ba4f-47a8-99f8-b67a7f7e108e"
   },
   "outputs": [],
   "source": [
    "# Create a clean data frame \n",
    "ap1 = ap[['airport','year','departure cancellations','arrival cancellations']]\n",
    "print ap1.head()"
   ]
  },
  {
   "cell_type": "code",
   "execution_count": null,
   "metadata": {
    "collapsed": true,
    "focus": false,
    "id": "98fd6a42-89e0-4621-a70d-1e2c8c4bb975"
   },
   "outputs": [],
   "source": []
  },
  {
   "cell_type": "markdown",
   "metadata": {
    "focus": false,
    "id": "023d9120-1eb3-4f20-b083-5a8fa1605f06"
   },
   "source": [
    "#### 5.2 Write an analysis plan of your findings "
   ]
  },
  {
   "cell_type": "markdown",
   "metadata": {
    "focus": false,
    "id": "dc0ce0b7-c246-4d76-a01d-88fa0d37fe95"
   },
   "source": [
    "Create a writeup on the interpretation of findings including an executive summary with conclusions and next steps"
   ]
  },
  {
   "cell_type": "markdown",
   "metadata": {
    "focus": false,
    "id": "140af42e-0757-400e-ae39-0410a54d2581"
   },
   "source": []
  },
  {
   "cell_type": "markdown",
   "metadata": {
    "focus": false,
    "id": "8e08640c-4901-4724-9805-32c518521b2f"
   },
   "source": [
    "### Part 6: Copy your Database to AWS "
   ]
  },
  {
   "cell_type": "markdown",
   "metadata": {
    "focus": false,
    "id": "bf5d7088-46cd-4c47-9fcc-c1fd200cd164"
   },
   "source": [
    "Make sure to properly document all of the features of your dataset"
   ]
  },
  {
   "cell_type": "code",
   "execution_count": null,
   "metadata": {
    "collapsed": true,
    "focus": false,
    "id": "d181acff-8a70-40e9-8e39-fdc2b95550a2"
   },
   "outputs": [],
   "source": []
  },
  {
   "cell_type": "markdown",
   "metadata": {
    "focus": false,
    "id": "63387c7b-3c90-4732-808c-298225e1c0fb"
   },
   "source": [
    "### Bonus: Create a 3-Dimensional Plot of your new dataset with PCA applied"
   ]
  },
  {
   "cell_type": "code",
   "execution_count": null,
   "metadata": {
    "collapsed": true,
    "focus": false,
    "id": "b6fece51-aa23-4572-8d1d-c9c83701899d"
   },
   "outputs": [],
   "source": []
  }
 ],
 "metadata": {
  "anaconda-cloud": {},
  "kernelspec": {
   "display_name": "Python [Root]",
   "language": "python",
   "name": "Python [Root]"
  },
  "language_info": {
   "codemirror_mode": {
    "name": "ipython",
    "version": 2
   },
   "file_extension": ".py",
   "mimetype": "text/x-python",
   "name": "python",
   "nbconvert_exporter": "python",
   "pygments_lexer": "ipython2",
   "version": "2.7.12"
  }
 },
 "nbformat": 4,
 "nbformat_minor": 0
}
